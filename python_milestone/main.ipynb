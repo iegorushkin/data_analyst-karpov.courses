{
 "cells": [
  {
   "cell_type": "markdown",
   "id": "b03ce808-a72b-427f-b28b-88084a4e5244",
   "metadata": {
    "tags": []
   },
   "source": [
    "# http://karpov.courses"
   ]
  },
  {
   "cell_type": "markdown",
   "id": "65789885-7780-48f1-930c-df35ab735551",
   "metadata": {
    "tags": []
   },
   "source": [
    "# Midterm project: e-commerce"
   ]
  },
  {
   "cell_type": "markdown",
   "id": "f1dbacf1-f57d-43e1-8ecb-ecf6ff2fd8f3",
   "metadata": {
    "tags": []
   },
   "source": [
    "## Data description\n",
    "### olist_customers_datase.csv - table with information about customers\n",
    "* customer_id - customer identifier in the system.\n",
    "* customer_unique_id - unique identifier of the customer (analog of passport number).\n",
    "* customer_zip_code_prefix - customer's zip code.\n",
    "* customer_city - customer's delivery city.\n",
    "* customer_state - customer's delivery state.\n",
    "### olist_orders_dataset.csv - table with information about orders\n",
    "* order_id - unique order identifier (check number).\n",
    "* customer_id - customer identifier in the system.\n",
    "* order_status - order status; one of _**created, approved, invoiced, processing, shipped, delivered, unavailable, canceled**_.\n",
    "* order_purchase_timestamp - order generation time.\n",
    "* order_approved_at - time of order payment confirmation.\n",
    "* order_delivered_carrier_date - time of order transfer to the logistics service.\n",
    "* order_delivered_customer_date - time of order delivery.\n",
    "* order_estimated_delivery_date - declared delivery date.\n",
    "### olist_order_items_dataset.csv - table with information about products included in orders\n",
    "* order_id - unique order identifier (check number).\n",
    "* order_item_id - product identifier within one order.\n",
    "* product_id - product id (barcode analog).\n",
    "* seller_id - product manufacturer's ID.\n",
    "* shipping_limit_date - latest date of delivery by the seller for transferring the order to the logistics partner.\n",
    "* price - price per unit.\n",
    "* freight_value - weight of the product."
   ]
  },
  {
   "cell_type": "markdown",
   "id": "6b0b9d7b-7226-4740-bc2c-aa97dc6af975",
   "metadata": {},
   "source": [
    "## Imports"
   ]
  },
  {
   "cell_type": "code",
   "execution_count": 3,
   "id": "78da08d9-4bb5-4ec9-98da-861b8ddf8c6a",
   "metadata": {},
   "outputs": [],
   "source": [
    "import pandas as pd\n",
    "import numpy as np\n",
    "import matplotlib.pyplot as plt\n",
    "import seaborn as sns\n",
    "\n",
    "import requests"
   ]
  },
  {
   "cell_type": "markdown",
   "id": "99d1d482-5224-4984-8618-a30388cd70e2",
   "metadata": {},
   "source": [
    "## Reading data"
   ]
  },
  {
   "cell_type": "code",
   "execution_count": 4,
   "id": "80a2c21f-4332-4a3f-8e59-fd2947aea4fa",
   "metadata": {},
   "outputs": [],
   "source": [
    "api_url = r'https://cloud-api.yandex.net/v1/disk/public/resources/download?'\n",
    "customers_url = r'https://disk.yandex.ru/d/QXrVDUoQvFhIcg'\n",
    "orders_url = r'https://disk.yandex.ru/d/0zWmh1bYP6REbw'\n",
    "items_url = r'https://disk.yandex.ru/d/xCsQ0FiC-Ue4Lg'"
   ]
  },
  {
   "cell_type": "markdown",
   "id": "2e63e491-dd74-42fe-9940-0f3ce5098648",
   "metadata": {},
   "source": [
    "### Customers"
   ]
  },
  {
   "cell_type": "code",
   "execution_count": 5,
   "id": "dd17b92d-7c82-4e28-b896-f0d3142ade87",
   "metadata": {},
   "outputs": [
    {
     "name": "stdout",
     "output_type": "stream",
     "text": [
      "Status code: 200\n",
      "Download link: https://downloader.disk.yandex.ru/disk/52cbce3e666a4675286beb83f3a0a0ddb69177cc03ad3ee13f68925f00fec589/657afa73/l9rUW5QCYE1v_Vb85lc2_FJfwWdgMJ5VjRECL1sslDo-ICZm75VRCKxmbjQzyPRm81ySmP0WwqOBn9lSniY-Lg%3D%3D?uid=0&filename=olist_customers_dataset.csv&disposition=attachment&hash=s4lUpgJ0SPJ1ON4cVah4tVvdiHo%2B%2B3rzOaw5q4yyC8iBoMstcdyRfe0vbQs5cbwxq/J6bpmRyOJonT3VoXnDag%3D%3D%3A&limit=0&content_type=text%2Fplain&owner_uid=1676086898&fsize=9033957&hid=b675f8ba78c13d600facc03ba2033f9f&media_type=spreadsheet&tknv=v2\n"
     ]
    }
   ],
   "source": [
    "# Get the download link\n",
    "response = requests.get(api_url, params={'public_key': customers_url})\n",
    "print(f'Status code: {response.status_code}')\n",
    "print(f\"Download link: {response.json()['href']}\")"
   ]
  },
  {
   "cell_type": "code",
   "execution_count": 6,
   "id": "87a6e7c9-8e4b-4dc6-924f-1ed13fec457b",
   "metadata": {
    "scrolled": true
   },
   "outputs": [
    {
     "data": {
      "text/html": [
       "<div>\n",
       "<style scoped>\n",
       "    .dataframe tbody tr th:only-of-type {\n",
       "        vertical-align: middle;\n",
       "    }\n",
       "\n",
       "    .dataframe tbody tr th {\n",
       "        vertical-align: top;\n",
       "    }\n",
       "\n",
       "    .dataframe thead th {\n",
       "        text-align: right;\n",
       "    }\n",
       "</style>\n",
       "<table border=\"1\" class=\"dataframe\">\n",
       "  <thead>\n",
       "    <tr style=\"text-align: right;\">\n",
       "      <th></th>\n",
       "      <th>customer_id</th>\n",
       "      <th>customer_unique_id</th>\n",
       "      <th>customer_zip_code_prefix</th>\n",
       "      <th>customer_city</th>\n",
       "      <th>customer_state</th>\n",
       "    </tr>\n",
       "  </thead>\n",
       "  <tbody>\n",
       "    <tr>\n",
       "      <th>0</th>\n",
       "      <td>06b8999e2fba1a1fbc88172c00ba8bc7</td>\n",
       "      <td>861eff4711a542e4b93843c6dd7febb0</td>\n",
       "      <td>14409</td>\n",
       "      <td>franca</td>\n",
       "      <td>SP</td>\n",
       "    </tr>\n",
       "    <tr>\n",
       "      <th>1</th>\n",
       "      <td>18955e83d337fd6b2def6b18a428ac77</td>\n",
       "      <td>290c77bc529b7ac935b93aa66c333dc3</td>\n",
       "      <td>9790</td>\n",
       "      <td>sao bernardo do campo</td>\n",
       "      <td>SP</td>\n",
       "    </tr>\n",
       "    <tr>\n",
       "      <th>2</th>\n",
       "      <td>4e7b3e00288586ebd08712fdd0374a03</td>\n",
       "      <td>060e732b5b29e8181a18229c7b0b2b5e</td>\n",
       "      <td>1151</td>\n",
       "      <td>sao paulo</td>\n",
       "      <td>SP</td>\n",
       "    </tr>\n",
       "    <tr>\n",
       "      <th>3</th>\n",
       "      <td>b2b6027bc5c5109e529d4dc6358b12c3</td>\n",
       "      <td>259dac757896d24d7702b9acbbff3f3c</td>\n",
       "      <td>8775</td>\n",
       "      <td>mogi das cruzes</td>\n",
       "      <td>SP</td>\n",
       "    </tr>\n",
       "    <tr>\n",
       "      <th>4</th>\n",
       "      <td>4f2d8ab171c80ec8364f7c12e35b23ad</td>\n",
       "      <td>345ecd01c38d18a9036ed96c73b8d066</td>\n",
       "      <td>13056</td>\n",
       "      <td>campinas</td>\n",
       "      <td>SP</td>\n",
       "    </tr>\n",
       "  </tbody>\n",
       "</table>\n",
       "</div>"
      ],
      "text/plain": [
       "                        customer_id                customer_unique_id  \\\n",
       "0  06b8999e2fba1a1fbc88172c00ba8bc7  861eff4711a542e4b93843c6dd7febb0   \n",
       "1  18955e83d337fd6b2def6b18a428ac77  290c77bc529b7ac935b93aa66c333dc3   \n",
       "2  4e7b3e00288586ebd08712fdd0374a03  060e732b5b29e8181a18229c7b0b2b5e   \n",
       "3  b2b6027bc5c5109e529d4dc6358b12c3  259dac757896d24d7702b9acbbff3f3c   \n",
       "4  4f2d8ab171c80ec8364f7c12e35b23ad  345ecd01c38d18a9036ed96c73b8d066   \n",
       "\n",
       "   customer_zip_code_prefix          customer_city customer_state  \n",
       "0                     14409                 franca             SP  \n",
       "1                      9790  sao bernardo do campo             SP  \n",
       "2                      1151              sao paulo             SP  \n",
       "3                      8775        mogi das cruzes             SP  \n",
       "4                     13056               campinas             SP  "
      ]
     },
     "execution_count": 6,
     "metadata": {},
     "output_type": "execute_result"
    }
   ],
   "source": [
    "# Load data directily into pd DataFrame\n",
    "customers_df = pd.read_csv(response.json()['href'])\n",
    "customers_df.head()"
   ]
  },
  {
   "cell_type": "code",
   "execution_count": 7,
   "id": "f6e1f247-d425-4e37-aa8b-a75b3cff8c35",
   "metadata": {},
   "outputs": [
    {
     "name": "stdout",
     "output_type": "stream",
     "text": [
      "<class 'pandas.core.frame.DataFrame'>\n",
      "RangeIndex: 99441 entries, 0 to 99440\n",
      "Data columns (total 5 columns):\n",
      " #   Column                    Non-Null Count  Dtype \n",
      "---  ------                    --------------  ----- \n",
      " 0   customer_id               99441 non-null  object\n",
      " 1   customer_unique_id        99441 non-null  object\n",
      " 2   customer_zip_code_prefix  99441 non-null  int64 \n",
      " 3   customer_city             99441 non-null  object\n",
      " 4   customer_state            99441 non-null  object\n",
      "dtypes: int64(1), object(4)\n",
      "memory usage: 3.8+ MB\n"
     ]
    }
   ],
   "source": [
    "# Are there missing values?\n",
    "customers_df.info()"
   ]
  },
  {
   "cell_type": "markdown",
   "id": "cd5e3e63-1486-4a81-bac7-83f855a03ec9",
   "metadata": {},
   "source": [
    "### Orders"
   ]
  },
  {
   "cell_type": "code",
   "execution_count": 8,
   "id": "1d9f30cd-fe25-4131-817f-4939dfe0f05d",
   "metadata": {},
   "outputs": [
    {
     "name": "stdout",
     "output_type": "stream",
     "text": [
      "Status code: 200\n",
      "Download link: https://downloader.disk.yandex.ru/disk/57e67afbcfc54bb6bfad4bd8b0e17b479592d820f919e4b1946543c62ec6c789/657afa79/l9rUW5QCYE1v_Vb85lc2_FMCwvSWHpAnIgUxRQB6t1NE-kaLb2q1lfdqmkuuvbZRx6gQSQCHgBk324u3rpDj0Q%3D%3D?uid=0&filename=olist_orders_dataset.csv&disposition=attachment&hash=Oyo0QHlCDI8w3ue9MPByRJBzEgLum/ZNMmXWTNQWXG8TQs6QIMnsobdGPfplDa90q/J6bpmRyOJonT3VoXnDag%3D%3D%3A&limit=0&content_type=text%2Fplain&owner_uid=1676086898&fsize=17654914&hid=87c93f55b161ccff733960c7e368d4e8&media_type=spreadsheet&tknv=v2\n"
     ]
    }
   ],
   "source": [
    "# Get the download link\n",
    "response = requests.get(api_url, params={'public_key': orders_url})\n",
    "print(f'Status code: {response.status_code}')\n",
    "print(f\"Download link: {response.json()['href']}\")"
   ]
  },
  {
   "cell_type": "code",
   "execution_count": 9,
   "id": "326b1ff7-8c3e-4be7-abfb-ab3a5d59aeac",
   "metadata": {},
   "outputs": [
    {
     "data": {
      "text/html": [
       "<div>\n",
       "<style scoped>\n",
       "    .dataframe tbody tr th:only-of-type {\n",
       "        vertical-align: middle;\n",
       "    }\n",
       "\n",
       "    .dataframe tbody tr th {\n",
       "        vertical-align: top;\n",
       "    }\n",
       "\n",
       "    .dataframe thead th {\n",
       "        text-align: right;\n",
       "    }\n",
       "</style>\n",
       "<table border=\"1\" class=\"dataframe\">\n",
       "  <thead>\n",
       "    <tr style=\"text-align: right;\">\n",
       "      <th></th>\n",
       "      <th>order_id</th>\n",
       "      <th>customer_id</th>\n",
       "      <th>order_status</th>\n",
       "      <th>order_purchase_timestamp</th>\n",
       "      <th>order_approved_at</th>\n",
       "      <th>order_delivered_carrier_date</th>\n",
       "      <th>order_delivered_customer_date</th>\n",
       "      <th>order_estimated_delivery_date</th>\n",
       "    </tr>\n",
       "  </thead>\n",
       "  <tbody>\n",
       "    <tr>\n",
       "      <th>0</th>\n",
       "      <td>e481f51cbdc54678b7cc49136f2d6af7</td>\n",
       "      <td>9ef432eb6251297304e76186b10a928d</td>\n",
       "      <td>delivered</td>\n",
       "      <td>2017-10-02 10:56:33</td>\n",
       "      <td>2017-10-02 11:07:15</td>\n",
       "      <td>2017-10-04 19:55:00</td>\n",
       "      <td>2017-10-10 21:25:13</td>\n",
       "      <td>2017-10-18 00:00:00</td>\n",
       "    </tr>\n",
       "    <tr>\n",
       "      <th>1</th>\n",
       "      <td>53cdb2fc8bc7dce0b6741e2150273451</td>\n",
       "      <td>b0830fb4747a6c6d20dea0b8c802d7ef</td>\n",
       "      <td>delivered</td>\n",
       "      <td>2018-07-24 20:41:37</td>\n",
       "      <td>2018-07-26 03:24:27</td>\n",
       "      <td>2018-07-26 14:31:00</td>\n",
       "      <td>2018-08-07 15:27:45</td>\n",
       "      <td>2018-08-13 00:00:00</td>\n",
       "    </tr>\n",
       "    <tr>\n",
       "      <th>2</th>\n",
       "      <td>47770eb9100c2d0c44946d9cf07ec65d</td>\n",
       "      <td>41ce2a54c0b03bf3443c3d931a367089</td>\n",
       "      <td>delivered</td>\n",
       "      <td>2018-08-08 08:38:49</td>\n",
       "      <td>2018-08-08 08:55:23</td>\n",
       "      <td>2018-08-08 13:50:00</td>\n",
       "      <td>2018-08-17 18:06:29</td>\n",
       "      <td>2018-09-04 00:00:00</td>\n",
       "    </tr>\n",
       "    <tr>\n",
       "      <th>3</th>\n",
       "      <td>949d5b44dbf5de918fe9c16f97b45f8a</td>\n",
       "      <td>f88197465ea7920adcdbec7375364d82</td>\n",
       "      <td>delivered</td>\n",
       "      <td>2017-11-18 19:28:06</td>\n",
       "      <td>2017-11-18 19:45:59</td>\n",
       "      <td>2017-11-22 13:39:59</td>\n",
       "      <td>2017-12-02 00:28:42</td>\n",
       "      <td>2017-12-15 00:00:00</td>\n",
       "    </tr>\n",
       "    <tr>\n",
       "      <th>4</th>\n",
       "      <td>ad21c59c0840e6cb83a9ceb5573f8159</td>\n",
       "      <td>8ab97904e6daea8866dbdbc4fb7aad2c</td>\n",
       "      <td>delivered</td>\n",
       "      <td>2018-02-13 21:18:39</td>\n",
       "      <td>2018-02-13 22:20:29</td>\n",
       "      <td>2018-02-14 19:46:34</td>\n",
       "      <td>2018-02-16 18:17:02</td>\n",
       "      <td>2018-02-26 00:00:00</td>\n",
       "    </tr>\n",
       "  </tbody>\n",
       "</table>\n",
       "</div>"
      ],
      "text/plain": [
       "                           order_id                       customer_id  \\\n",
       "0  e481f51cbdc54678b7cc49136f2d6af7  9ef432eb6251297304e76186b10a928d   \n",
       "1  53cdb2fc8bc7dce0b6741e2150273451  b0830fb4747a6c6d20dea0b8c802d7ef   \n",
       "2  47770eb9100c2d0c44946d9cf07ec65d  41ce2a54c0b03bf3443c3d931a367089   \n",
       "3  949d5b44dbf5de918fe9c16f97b45f8a  f88197465ea7920adcdbec7375364d82   \n",
       "4  ad21c59c0840e6cb83a9ceb5573f8159  8ab97904e6daea8866dbdbc4fb7aad2c   \n",
       "\n",
       "  order_status order_purchase_timestamp    order_approved_at  \\\n",
       "0    delivered      2017-10-02 10:56:33  2017-10-02 11:07:15   \n",
       "1    delivered      2018-07-24 20:41:37  2018-07-26 03:24:27   \n",
       "2    delivered      2018-08-08 08:38:49  2018-08-08 08:55:23   \n",
       "3    delivered      2017-11-18 19:28:06  2017-11-18 19:45:59   \n",
       "4    delivered      2018-02-13 21:18:39  2018-02-13 22:20:29   \n",
       "\n",
       "  order_delivered_carrier_date order_delivered_customer_date  \\\n",
       "0          2017-10-04 19:55:00           2017-10-10 21:25:13   \n",
       "1          2018-07-26 14:31:00           2018-08-07 15:27:45   \n",
       "2          2018-08-08 13:50:00           2018-08-17 18:06:29   \n",
       "3          2017-11-22 13:39:59           2017-12-02 00:28:42   \n",
       "4          2018-02-14 19:46:34           2018-02-16 18:17:02   \n",
       "\n",
       "  order_estimated_delivery_date  \n",
       "0           2017-10-18 00:00:00  \n",
       "1           2018-08-13 00:00:00  \n",
       "2           2018-09-04 00:00:00  \n",
       "3           2017-12-15 00:00:00  \n",
       "4           2018-02-26 00:00:00  "
      ]
     },
     "execution_count": 9,
     "metadata": {},
     "output_type": "execute_result"
    }
   ],
   "source": [
    "# Load data directily into pd DataFrame\n",
    "orders_df = pd.read_csv(response.json()['href'])\n",
    "orders_df.head()"
   ]
  },
  {
   "cell_type": "code",
   "execution_count": 10,
   "id": "bdd971ad-7810-4b7b-8fe2-ee39746e1d8d",
   "metadata": {},
   "outputs": [
    {
     "name": "stdout",
     "output_type": "stream",
     "text": [
      "<class 'pandas.core.frame.DataFrame'>\n",
      "RangeIndex: 99441 entries, 0 to 99440\n",
      "Data columns (total 8 columns):\n",
      " #   Column                         Non-Null Count  Dtype \n",
      "---  ------                         --------------  ----- \n",
      " 0   order_id                       99441 non-null  object\n",
      " 1   customer_id                    99441 non-null  object\n",
      " 2   order_status                   99441 non-null  object\n",
      " 3   order_purchase_timestamp       99441 non-null  object\n",
      " 4   order_approved_at              99281 non-null  object\n",
      " 5   order_delivered_carrier_date   97658 non-null  object\n",
      " 6   order_delivered_customer_date  96476 non-null  object\n",
      " 7   order_estimated_delivery_date  99441 non-null  object\n",
      "dtypes: object(8)\n",
      "memory usage: 6.1+ MB\n"
     ]
    }
   ],
   "source": [
    "# Are there missing values?\n",
    "orders_df.info()"
   ]
  },
  {
   "cell_type": "code",
   "execution_count": 11,
   "id": "d5cf5cb0-344a-4364-bc96-0814962ecdb1",
   "metadata": {},
   "outputs": [
    {
     "data": {
      "text/plain": [
       "order_id                            0\n",
       "customer_id                         0\n",
       "order_status                        0\n",
       "order_purchase_timestamp            0\n",
       "order_approved_at                 160\n",
       "order_delivered_carrier_date     1783\n",
       "order_delivered_customer_date    2965\n",
       "order_estimated_delivery_date       0\n",
       "dtype: int64"
      ]
     },
     "execution_count": 11,
     "metadata": {},
     "output_type": "execute_result"
    }
   ],
   "source": [
    "# Let's count them\n",
    "orders_df.isna().sum()"
   ]
  },
  {
   "cell_type": "markdown",
   "id": "911de9b3-daca-4460-8f41-7520c16fbc29",
   "metadata": {},
   "source": [
    "### Items"
   ]
  },
  {
   "cell_type": "code",
   "execution_count": 12,
   "id": "4e0b3d19-a5d3-4ed8-aa99-e4cf7a98736f",
   "metadata": {},
   "outputs": [
    {
     "name": "stdout",
     "output_type": "stream",
     "text": [
      "Status code: 200\n",
      "Download link: https://downloader.disk.yandex.ru/disk/ad8cd9829e952d2cc96a1119883755d7948bd9ed6a0309ac773f8a8eb20e907a/657afa89/l9rUW5QCYE1v_Vb85lc2_BLqOxxhJrJbn52AF-XmD50NEbdTd8gXMRrqNXCXacfnpPZo6WuHinNd24yXhjMTJQ%3D%3D?uid=0&filename=olist_order_items_dataset.csv&disposition=attachment&hash=GOrR6hhegX%2B1xKqOtZgmA%2BI90i%2BAiYjmpnekGChzcjuNJpvFd6XAN2bd9pLlim9cq/J6bpmRyOJonT3VoXnDag%3D%3D%3A&limit=0&content_type=text%2Fplain&owner_uid=1676086898&fsize=15438671&hid=86fa0ab2956a1f56a0c01e930a44f547&media_type=spreadsheet&tknv=v2\n"
     ]
    }
   ],
   "source": [
    "# Get the download link\n",
    "response = requests.get(api_url, params={'public_key': items_url})\n",
    "print(f'Status code: {response.status_code}')\n",
    "print(f\"Download link: {response.json()['href']}\")"
   ]
  },
  {
   "cell_type": "code",
   "execution_count": 13,
   "id": "6d3b90d3-29a7-4c12-b636-a9c5519d6f73",
   "metadata": {},
   "outputs": [
    {
     "data": {
      "text/html": [
       "<div>\n",
       "<style scoped>\n",
       "    .dataframe tbody tr th:only-of-type {\n",
       "        vertical-align: middle;\n",
       "    }\n",
       "\n",
       "    .dataframe tbody tr th {\n",
       "        vertical-align: top;\n",
       "    }\n",
       "\n",
       "    .dataframe thead th {\n",
       "        text-align: right;\n",
       "    }\n",
       "</style>\n",
       "<table border=\"1\" class=\"dataframe\">\n",
       "  <thead>\n",
       "    <tr style=\"text-align: right;\">\n",
       "      <th></th>\n",
       "      <th>order_id</th>\n",
       "      <th>order_item_id</th>\n",
       "      <th>product_id</th>\n",
       "      <th>seller_id</th>\n",
       "      <th>shipping_limit_date</th>\n",
       "      <th>price</th>\n",
       "      <th>freight_value</th>\n",
       "    </tr>\n",
       "  </thead>\n",
       "  <tbody>\n",
       "    <tr>\n",
       "      <th>0</th>\n",
       "      <td>00010242fe8c5a6d1ba2dd792cb16214</td>\n",
       "      <td>1</td>\n",
       "      <td>4244733e06e7ecb4970a6e2683c13e61</td>\n",
       "      <td>48436dade18ac8b2bce089ec2a041202</td>\n",
       "      <td>2017-09-19 09:45:35</td>\n",
       "      <td>58.90</td>\n",
       "      <td>13.29</td>\n",
       "    </tr>\n",
       "    <tr>\n",
       "      <th>1</th>\n",
       "      <td>00018f77f2f0320c557190d7a144bdd3</td>\n",
       "      <td>1</td>\n",
       "      <td>e5f2d52b802189ee658865ca93d83a8f</td>\n",
       "      <td>dd7ddc04e1b6c2c614352b383efe2d36</td>\n",
       "      <td>2017-05-03 11:05:13</td>\n",
       "      <td>239.90</td>\n",
       "      <td>19.93</td>\n",
       "    </tr>\n",
       "    <tr>\n",
       "      <th>2</th>\n",
       "      <td>000229ec398224ef6ca0657da4fc703e</td>\n",
       "      <td>1</td>\n",
       "      <td>c777355d18b72b67abbeef9df44fd0fd</td>\n",
       "      <td>5b51032eddd242adc84c38acab88f23d</td>\n",
       "      <td>2018-01-18 14:48:30</td>\n",
       "      <td>199.00</td>\n",
       "      <td>17.87</td>\n",
       "    </tr>\n",
       "    <tr>\n",
       "      <th>3</th>\n",
       "      <td>00024acbcdf0a6daa1e931b038114c75</td>\n",
       "      <td>1</td>\n",
       "      <td>7634da152a4610f1595efa32f14722fc</td>\n",
       "      <td>9d7a1d34a5052409006425275ba1c2b4</td>\n",
       "      <td>2018-08-15 10:10:18</td>\n",
       "      <td>12.99</td>\n",
       "      <td>12.79</td>\n",
       "    </tr>\n",
       "    <tr>\n",
       "      <th>4</th>\n",
       "      <td>00042b26cf59d7ce69dfabb4e55b4fd9</td>\n",
       "      <td>1</td>\n",
       "      <td>ac6c3623068f30de03045865e4e10089</td>\n",
       "      <td>df560393f3a51e74553ab94004ba5c87</td>\n",
       "      <td>2017-02-13 13:57:51</td>\n",
       "      <td>199.90</td>\n",
       "      <td>18.14</td>\n",
       "    </tr>\n",
       "  </tbody>\n",
       "</table>\n",
       "</div>"
      ],
      "text/plain": [
       "                           order_id  order_item_id  \\\n",
       "0  00010242fe8c5a6d1ba2dd792cb16214              1   \n",
       "1  00018f77f2f0320c557190d7a144bdd3              1   \n",
       "2  000229ec398224ef6ca0657da4fc703e              1   \n",
       "3  00024acbcdf0a6daa1e931b038114c75              1   \n",
       "4  00042b26cf59d7ce69dfabb4e55b4fd9              1   \n",
       "\n",
       "                         product_id                         seller_id  \\\n",
       "0  4244733e06e7ecb4970a6e2683c13e61  48436dade18ac8b2bce089ec2a041202   \n",
       "1  e5f2d52b802189ee658865ca93d83a8f  dd7ddc04e1b6c2c614352b383efe2d36   \n",
       "2  c777355d18b72b67abbeef9df44fd0fd  5b51032eddd242adc84c38acab88f23d   \n",
       "3  7634da152a4610f1595efa32f14722fc  9d7a1d34a5052409006425275ba1c2b4   \n",
       "4  ac6c3623068f30de03045865e4e10089  df560393f3a51e74553ab94004ba5c87   \n",
       "\n",
       "   shipping_limit_date   price  freight_value  \n",
       "0  2017-09-19 09:45:35   58.90          13.29  \n",
       "1  2017-05-03 11:05:13  239.90          19.93  \n",
       "2  2018-01-18 14:48:30  199.00          17.87  \n",
       "3  2018-08-15 10:10:18   12.99          12.79  \n",
       "4  2017-02-13 13:57:51  199.90          18.14  "
      ]
     },
     "execution_count": 13,
     "metadata": {},
     "output_type": "execute_result"
    }
   ],
   "source": [
    "# Load data directily into pd DataFrame\n",
    "items_df = pd.read_csv(response.json()['href'])\n",
    "items_df.head()"
   ]
  },
  {
   "cell_type": "code",
   "execution_count": 14,
   "id": "ad7ad9ee-72d2-4e99-afe1-39f727f784ff",
   "metadata": {
    "scrolled": true
   },
   "outputs": [
    {
     "name": "stdout",
     "output_type": "stream",
     "text": [
      "<class 'pandas.core.frame.DataFrame'>\n",
      "RangeIndex: 112650 entries, 0 to 112649\n",
      "Data columns (total 7 columns):\n",
      " #   Column               Non-Null Count   Dtype  \n",
      "---  ------               --------------   -----  \n",
      " 0   order_id             112650 non-null  object \n",
      " 1   order_item_id        112650 non-null  int64  \n",
      " 2   product_id           112650 non-null  object \n",
      " 3   seller_id            112650 non-null  object \n",
      " 4   shipping_limit_date  112650 non-null  object \n",
      " 5   price                112650 non-null  float64\n",
      " 6   freight_value        112650 non-null  float64\n",
      "dtypes: float64(2), int64(1), object(4)\n",
      "memory usage: 6.0+ MB\n"
     ]
    }
   ],
   "source": [
    "# Are there missing values?\n",
    "items_df.info()"
   ]
  },
  {
   "cell_type": "code",
   "execution_count": 15,
   "id": "0d8bce52-c123-41b7-997a-420f9bfda001",
   "metadata": {},
   "outputs": [],
   "source": [
    "# Clean-up\n",
    "del api_url, customers_url, items_url, orders_url "
   ]
  },
  {
   "cell_type": "markdown",
   "id": "cb230b69-eb7e-4b46-89d2-056e29c9cb64",
   "metadata": {},
   "source": [
    "## Task 1\n",
    "How many users made only one purchase?"
   ]
  },
  {
   "cell_type": "code",
   "execution_count": 14,
   "id": "7efb34ad-6972-450c-8289-ddc3ddaca2b3",
   "metadata": {},
   "outputs": [
    {
     "name": "stdout",
     "output_type": "stream",
     "text": [
      "\n",
      "customers_df:\n",
      "customer_id           99441\n",
      "customer_unique_id    96096\n",
      "dtype: int64\n"
     ]
    }
   ],
   "source": [
    "# There are customer_unique_id that correspond to more than one customer_id.\n",
    "print('\\ncustomers_df:')\n",
    "print(customers_df[['customer_id', 'customer_unique_id']].nunique())"
   ]
  },
  {
   "cell_type": "markdown",
   "id": "baee4648-b0a4-4b27-8e7e-f25edc3131a2",
   "metadata": {},
   "source": [
    "What I would consider a successful purchase:\n",
    "* order_status - delivered\n",
    "* order_approved_at is not **NaN** (there is information about order payment)\n",
    "* order_delivered_customer_date not **NaN** (there is information about order delivery)"
   ]
  },
  {
   "cell_type": "code",
   "execution_count": 15,
   "id": "71c3255d-8a23-49f0-8928-e1f539bfca62",
   "metadata": {},
   "outputs": [],
   "source": [
    "filtered_orders_df = orders_df.query(\n",
    "    \"order_status=='delivered' & order_approved_at.notna()\" \n",
    "    + \"& order_delivered_customer_date.notna()\"\n",
    ")"
   ]
  },
  {
   "cell_type": "markdown",
   "id": "e9fe6c0d-580f-46b7-9d28-c6b115b1d13f",
   "metadata": {},
   "source": [
    "Merging filtered_orders_df with customers_df and selecting only the required columns."
   ]
  },
  {
   "cell_type": "code",
   "execution_count": 16,
   "id": "07030c24-8cec-4e6e-b236-6c2fee9481fa",
   "metadata": {},
   "outputs": [
    {
     "data": {
      "text/html": [
       "<div>\n",
       "<style scoped>\n",
       "    .dataframe tbody tr th:only-of-type {\n",
       "        vertical-align: middle;\n",
       "    }\n",
       "\n",
       "    .dataframe tbody tr th {\n",
       "        vertical-align: top;\n",
       "    }\n",
       "\n",
       "    .dataframe thead th {\n",
       "        text-align: right;\n",
       "    }\n",
       "</style>\n",
       "<table border=\"1\" class=\"dataframe\">\n",
       "  <thead>\n",
       "    <tr style=\"text-align: right;\">\n",
       "      <th></th>\n",
       "      <th>customer_id</th>\n",
       "      <th>customer_unique_id</th>\n",
       "    </tr>\n",
       "  </thead>\n",
       "  <tbody>\n",
       "    <tr>\n",
       "      <th>0</th>\n",
       "      <td>9ef432eb6251297304e76186b10a928d</td>\n",
       "      <td>7c396fd4830fd04220f754e42b4e5bff</td>\n",
       "    </tr>\n",
       "    <tr>\n",
       "      <th>1</th>\n",
       "      <td>b0830fb4747a6c6d20dea0b8c802d7ef</td>\n",
       "      <td>af07308b275d755c9edb36a90c618231</td>\n",
       "    </tr>\n",
       "    <tr>\n",
       "      <th>2</th>\n",
       "      <td>41ce2a54c0b03bf3443c3d931a367089</td>\n",
       "      <td>3a653a41f6f9fc3d2a113cf8398680e8</td>\n",
       "    </tr>\n",
       "    <tr>\n",
       "      <th>3</th>\n",
       "      <td>f88197465ea7920adcdbec7375364d82</td>\n",
       "      <td>7c142cf63193a1473d2e66489a9ae977</td>\n",
       "    </tr>\n",
       "    <tr>\n",
       "      <th>4</th>\n",
       "      <td>8ab97904e6daea8866dbdbc4fb7aad2c</td>\n",
       "      <td>72632f0f9dd73dfee390c9b22eb56dd6</td>\n",
       "    </tr>\n",
       "  </tbody>\n",
       "</table>\n",
       "</div>"
      ],
      "text/plain": [
       "                        customer_id                customer_unique_id\n",
       "0  9ef432eb6251297304e76186b10a928d  7c396fd4830fd04220f754e42b4e5bff\n",
       "1  b0830fb4747a6c6d20dea0b8c802d7ef  af07308b275d755c9edb36a90c618231\n",
       "2  41ce2a54c0b03bf3443c3d931a367089  3a653a41f6f9fc3d2a113cf8398680e8\n",
       "3  f88197465ea7920adcdbec7375364d82  7c142cf63193a1473d2e66489a9ae977\n",
       "4  8ab97904e6daea8866dbdbc4fb7aad2c  72632f0f9dd73dfee390c9b22eb56dd6"
      ]
     },
     "execution_count": 16,
     "metadata": {},
     "output_type": "execute_result"
    }
   ],
   "source": [
    "merged_df = pd.merge(\n",
    "    left=filtered_orders_df, right=customers_df, how=\"inner\", on=\"customer_id\"\n",
    ")[[\"customer_id\", \"customer_unique_id\"]]\n",
    "merged_df.head()"
   ]
  },
  {
   "cell_type": "markdown",
   "id": "3ea006d5-f2e4-45b6-ab42-4709c20503be",
   "metadata": {},
   "source": [
    "Search for those customer_unique_ids that match exactly 1 customer_id (that is, given the above code, look for people who have made exactly 1 successful purchase)."
   ]
  },
  {
   "cell_type": "code",
   "execution_count": 17,
   "id": "18cc4e33-4fda-4c19-a536-83936678675c",
   "metadata": {},
   "outputs": [
    {
     "data": {
      "text/html": [
       "<div>\n",
       "<style scoped>\n",
       "    .dataframe tbody tr th:only-of-type {\n",
       "        vertical-align: middle;\n",
       "    }\n",
       "\n",
       "    .dataframe tbody tr th {\n",
       "        vertical-align: top;\n",
       "    }\n",
       "\n",
       "    .dataframe thead th {\n",
       "        text-align: right;\n",
       "    }\n",
       "</style>\n",
       "<table border=\"1\" class=\"dataframe\">\n",
       "  <thead>\n",
       "    <tr style=\"text-align: right;\">\n",
       "      <th></th>\n",
       "      <th>customer_unique_id</th>\n",
       "      <th>N</th>\n",
       "    </tr>\n",
       "  </thead>\n",
       "  <tbody>\n",
       "    <tr>\n",
       "      <th>0</th>\n",
       "      <td>0000366f3b9a7992bf8c76cfdf3221e2</td>\n",
       "      <td>1</td>\n",
       "    </tr>\n",
       "    <tr>\n",
       "      <th>1</th>\n",
       "      <td>0000b849f77a49e4a4ce2b2a4ca5be3f</td>\n",
       "      <td>1</td>\n",
       "    </tr>\n",
       "    <tr>\n",
       "      <th>2</th>\n",
       "      <td>0000f46a3911fa3c0805444483337064</td>\n",
       "      <td>1</td>\n",
       "    </tr>\n",
       "    <tr>\n",
       "      <th>3</th>\n",
       "      <td>0000f6ccb0745a6a4b88665a16c9f078</td>\n",
       "      <td>1</td>\n",
       "    </tr>\n",
       "    <tr>\n",
       "      <th>4</th>\n",
       "      <td>0004aac84e0df4da2b147fca70cf8255</td>\n",
       "      <td>1</td>\n",
       "    </tr>\n",
       "  </tbody>\n",
       "</table>\n",
       "</div>"
      ],
      "text/plain": [
       "                 customer_unique_id  N\n",
       "0  0000366f3b9a7992bf8c76cfdf3221e2  1\n",
       "1  0000b849f77a49e4a4ce2b2a4ca5be3f  1\n",
       "2  0000f46a3911fa3c0805444483337064  1\n",
       "3  0000f6ccb0745a6a4b88665a16c9f078  1\n",
       "4  0004aac84e0df4da2b147fca70cf8255  1"
      ]
     },
     "execution_count": 17,
     "metadata": {},
     "output_type": "execute_result"
    }
   ],
   "source": [
    "final_df = merged_df.groupby(by='customer_unique_id', as_index=False) \\\n",
    "    .agg({'customer_id':'count'}) \\\n",
    "    .rename(columns={'customer_id': 'N'}) \\\n",
    "    .query('N==1')\n",
    "final_df.head()"
   ]
  },
  {
   "cell_type": "code",
   "execution_count": 18,
   "id": "4405f115-f4d6-4e9c-b39e-d0d2f151ec3a",
   "metadata": {
    "scrolled": true
   },
   "outputs": [
    {
     "name": "stdout",
     "output_type": "stream",
     "text": [
      "The number of customers who have made exactly one successful purchase is 90537\n"
     ]
    }
   ],
   "source": [
    "print('The number of customers who have made exactly one successful purchase is',\n",
    "      final_df.shape[0])"
   ]
  },
  {
   "cell_type": "code",
   "execution_count": 19,
   "id": "7252289e-5667-40d2-85a4-cfccc2bb4109",
   "metadata": {},
   "outputs": [],
   "source": [
    "# Clean-up\n",
    "del filtered_orders_df, final_df, merged_df "
   ]
  },
  {
   "cell_type": "markdown",
   "id": "cd8749d2-3f01-42a3-833a-beeaba44ed2c",
   "metadata": {},
   "source": [
    "## Task 2\n",
    "How many orders per month on average are not delivered for various reasons? Display information about these reasons."
   ]
  },
  {
   "cell_type": "markdown",
   "id": "53bbb023-c60f-4460-8b3b-3dc999d0a05e",
   "metadata": {},
   "source": [
    "I will consider all orders that don't have a **\"delivered\"** status. \n",
    "The **order_purchase_timestamp** column (of **orders_df**) containing creation dates of orders will be used as a basis for averaging orders by months."
   ]
  },
  {
   "cell_type": "code",
   "execution_count": 20,
   "id": "772f4a2f-235d-4e85-ae1d-ebb185681509",
   "metadata": {},
   "outputs": [
    {
     "name": "stdout",
     "output_type": "stream",
     "text": [
      "<class 'pandas.core.frame.DataFrame'>\n",
      "Index: 2963 entries, 6 to 99415\n",
      "Data columns (total 3 columns):\n",
      " #   Column                    Non-Null Count  Dtype \n",
      "---  ------                    --------------  ----- \n",
      " 0   order_id                  2963 non-null   object\n",
      " 1   order_status              2963 non-null   object\n",
      " 2   order_purchase_timestamp  2963 non-null   object\n",
      "dtypes: object(3)\n",
      "memory usage: 92.6+ KB\n"
     ]
    }
   ],
   "source": [
    "filtered_orders_df = orders_df.query('order_status!=\"delivered\"')[\n",
    "    [\"order_id\", \"order_status\", \"order_purchase_timestamp\"]\n",
    "]\n",
    "filtered_orders_df.info()  # no NaNs"
   ]
  },
  {
   "cell_type": "markdown",
   "id": "e4883b64-ab5a-464b-8dbe-c3bf2861a619",
   "metadata": {},
   "source": [
    "Need to convert order_purchase_timestamp to datetime and extract dates as strings in year / month format."
   ]
  },
  {
   "cell_type": "code",
   "execution_count": 21,
   "id": "4aa8661e-38bd-4c8b-9ba2-02443b336c2f",
   "metadata": {},
   "outputs": [],
   "source": [
    "filtered_orders_df[\"order_purchase_timestamp\"] = pd.to_datetime(\n",
    "    filtered_orders_df[\"order_purchase_timestamp\"]\n",
    ")\n",
    "filtered_orders_df[\"year_month\"] = filtered_orders_df[\n",
    "    \"order_purchase_timestamp\"\n",
    "].dt.strftime(\"%Y/%m\")"
   ]
  },
  {
   "cell_type": "markdown",
   "id": "ea9951d8-c7c3-4e20-9ef5-85a3f3c428d1",
   "metadata": {},
   "source": [
    "Checking the result."
   ]
  },
  {
   "cell_type": "code",
   "execution_count": 22,
   "id": "da84ea14-1f24-40ab-83de-f3f6eef5272e",
   "metadata": {},
   "outputs": [
    {
     "data": {
      "text/html": [
       "<div>\n",
       "<style scoped>\n",
       "    .dataframe tbody tr th:only-of-type {\n",
       "        vertical-align: middle;\n",
       "    }\n",
       "\n",
       "    .dataframe tbody tr th {\n",
       "        vertical-align: top;\n",
       "    }\n",
       "\n",
       "    .dataframe thead th {\n",
       "        text-align: right;\n",
       "    }\n",
       "</style>\n",
       "<table border=\"1\" class=\"dataframe\">\n",
       "  <thead>\n",
       "    <tr style=\"text-align: right;\">\n",
       "      <th></th>\n",
       "      <th>order_id</th>\n",
       "      <th>order_status</th>\n",
       "      <th>order_purchase_timestamp</th>\n",
       "      <th>year_month</th>\n",
       "    </tr>\n",
       "  </thead>\n",
       "  <tbody>\n",
       "    <tr>\n",
       "      <th>6</th>\n",
       "      <td>136cce7faa42fdb2cefd53fdc79a6098</td>\n",
       "      <td>invoiced</td>\n",
       "      <td>2017-04-11 12:22:08</td>\n",
       "      <td>2017/04</td>\n",
       "    </tr>\n",
       "    <tr>\n",
       "      <th>44</th>\n",
       "      <td>ee64d42b8cf066f35eac1cf57de1aa85</td>\n",
       "      <td>shipped</td>\n",
       "      <td>2018-06-04 16:44:48</td>\n",
       "      <td>2018/06</td>\n",
       "    </tr>\n",
       "    <tr>\n",
       "      <th>103</th>\n",
       "      <td>0760a852e4e9d89eb77bf631eaaf1c84</td>\n",
       "      <td>invoiced</td>\n",
       "      <td>2018-08-03 17:44:42</td>\n",
       "      <td>2018/08</td>\n",
       "    </tr>\n",
       "    <tr>\n",
       "      <th>128</th>\n",
       "      <td>15bed8e2fec7fdbadb186b57c46c92f2</td>\n",
       "      <td>processing</td>\n",
       "      <td>2017-09-03 14:22:03</td>\n",
       "      <td>2017/09</td>\n",
       "    </tr>\n",
       "    <tr>\n",
       "      <th>154</th>\n",
       "      <td>6942b8da583c2f9957e990d028607019</td>\n",
       "      <td>shipped</td>\n",
       "      <td>2018-01-10 11:33:07</td>\n",
       "      <td>2018/01</td>\n",
       "    </tr>\n",
       "  </tbody>\n",
       "</table>\n",
       "</div>"
      ],
      "text/plain": [
       "                             order_id order_status order_purchase_timestamp  \\\n",
       "6    136cce7faa42fdb2cefd53fdc79a6098     invoiced      2017-04-11 12:22:08   \n",
       "44   ee64d42b8cf066f35eac1cf57de1aa85      shipped      2018-06-04 16:44:48   \n",
       "103  0760a852e4e9d89eb77bf631eaaf1c84     invoiced      2018-08-03 17:44:42   \n",
       "128  15bed8e2fec7fdbadb186b57c46c92f2   processing      2017-09-03 14:22:03   \n",
       "154  6942b8da583c2f9957e990d028607019      shipped      2018-01-10 11:33:07   \n",
       "\n",
       "    year_month  \n",
       "6      2017/04  \n",
       "44     2018/06  \n",
       "103    2018/08  \n",
       "128    2017/09  \n",
       "154    2018/01  "
      ]
     },
     "execution_count": 22,
     "metadata": {},
     "output_type": "execute_result"
    }
   ],
   "source": [
    "filtered_orders_df.head()"
   ]
  },
  {
   "cell_type": "code",
   "execution_count": 23,
   "id": "bb1da1df-0b70-4013-b922-3930cd835f63",
   "metadata": {},
   "outputs": [
    {
     "name": "stdout",
     "output_type": "stream",
     "text": [
      "<class 'pandas.core.frame.DataFrame'>\n",
      "Index: 2963 entries, 6 to 99415\n",
      "Data columns (total 4 columns):\n",
      " #   Column                    Non-Null Count  Dtype         \n",
      "---  ------                    --------------  -----         \n",
      " 0   order_id                  2963 non-null   object        \n",
      " 1   order_status              2963 non-null   object        \n",
      " 2   order_purchase_timestamp  2963 non-null   datetime64[ns]\n",
      " 3   year_month                2963 non-null   object        \n",
      "dtypes: datetime64[ns](1), object(3)\n",
      "memory usage: 115.7+ KB\n"
     ]
    }
   ],
   "source": [
    "filtered_orders_df.info()"
   ]
  },
  {
   "cell_type": "markdown",
   "id": "42a6f343-daab-4c60-86ae-a7ccf74a76f0",
   "metadata": {},
   "source": [
    "Next, I count the number of orders with different statuses that were created in a given month. For convenience and clarity, the result was reshaped using the pivot function. \n",
    "Since NaN in this table is equal to 0 and mean values will be considered in the following cells, the fillna function was applied."
   ]
  },
  {
   "cell_type": "code",
   "execution_count": 24,
   "id": "cf785828-c17f-4c47-9a42-216faf7d441d",
   "metadata": {
    "scrolled": true
   },
   "outputs": [
    {
     "data": {
      "text/html": [
       "<div>\n",
       "<style scoped>\n",
       "    .dataframe tbody tr th:only-of-type {\n",
       "        vertical-align: middle;\n",
       "    }\n",
       "\n",
       "    .dataframe tbody tr th {\n",
       "        vertical-align: top;\n",
       "    }\n",
       "\n",
       "    .dataframe thead th {\n",
       "        text-align: right;\n",
       "    }\n",
       "</style>\n",
       "<table border=\"1\" class=\"dataframe\">\n",
       "  <thead>\n",
       "    <tr style=\"text-align: right;\">\n",
       "      <th>occurrences</th>\n",
       "      <th>approved</th>\n",
       "      <th>canceled</th>\n",
       "      <th>created</th>\n",
       "      <th>invoiced</th>\n",
       "      <th>processing</th>\n",
       "      <th>shipped</th>\n",
       "      <th>unavailable</th>\n",
       "    </tr>\n",
       "    <tr>\n",
       "      <th>year_month</th>\n",
       "      <th></th>\n",
       "      <th></th>\n",
       "      <th></th>\n",
       "      <th></th>\n",
       "      <th></th>\n",
       "      <th></th>\n",
       "      <th></th>\n",
       "    </tr>\n",
       "  </thead>\n",
       "  <tbody>\n",
       "    <tr>\n",
       "      <th>2016/09</th>\n",
       "      <td>0.0</td>\n",
       "      <td>2.0</td>\n",
       "      <td>0.0</td>\n",
       "      <td>0.0</td>\n",
       "      <td>0.0</td>\n",
       "      <td>1.0</td>\n",
       "      <td>0.0</td>\n",
       "    </tr>\n",
       "    <tr>\n",
       "      <th>2016/10</th>\n",
       "      <td>0.0</td>\n",
       "      <td>24.0</td>\n",
       "      <td>0.0</td>\n",
       "      <td>18.0</td>\n",
       "      <td>2.0</td>\n",
       "      <td>8.0</td>\n",
       "      <td>7.0</td>\n",
       "    </tr>\n",
       "    <tr>\n",
       "      <th>2017/01</th>\n",
       "      <td>0.0</td>\n",
       "      <td>3.0</td>\n",
       "      <td>0.0</td>\n",
       "      <td>12.0</td>\n",
       "      <td>9.0</td>\n",
       "      <td>16.0</td>\n",
       "      <td>10.0</td>\n",
       "    </tr>\n",
       "    <tr>\n",
       "      <th>2017/02</th>\n",
       "      <td>1.0</td>\n",
       "      <td>17.0</td>\n",
       "      <td>0.0</td>\n",
       "      <td>11.0</td>\n",
       "      <td>32.0</td>\n",
       "      <td>21.0</td>\n",
       "      <td>45.0</td>\n",
       "    </tr>\n",
       "    <tr>\n",
       "      <th>2017/03</th>\n",
       "      <td>0.0</td>\n",
       "      <td>33.0</td>\n",
       "      <td>0.0</td>\n",
       "      <td>3.0</td>\n",
       "      <td>23.0</td>\n",
       "      <td>45.0</td>\n",
       "      <td>32.0</td>\n",
       "    </tr>\n",
       "  </tbody>\n",
       "</table>\n",
       "</div>"
      ],
      "text/plain": [
       "occurrences  approved  canceled  created  invoiced  processing  shipped  \\\n",
       "year_month                                                                \n",
       "2016/09           0.0       2.0      0.0       0.0         0.0      1.0   \n",
       "2016/10           0.0      24.0      0.0      18.0         2.0      8.0   \n",
       "2017/01           0.0       3.0      0.0      12.0         9.0     16.0   \n",
       "2017/02           1.0      17.0      0.0      11.0        32.0     21.0   \n",
       "2017/03           0.0      33.0      0.0       3.0        23.0     45.0   \n",
       "\n",
       "occurrences  unavailable  \n",
       "year_month                \n",
       "2016/09              0.0  \n",
       "2016/10              7.0  \n",
       "2017/01             10.0  \n",
       "2017/02             45.0  \n",
       "2017/03             32.0  "
      ]
     },
     "execution_count": 24,
     "metadata": {},
     "output_type": "execute_result"
    }
   ],
   "source": [
    "date_status_n = (\n",
    "    filtered_orders_df.groupby(by=[\"year_month\", \"order_status\"], as_index=False)\n",
    "    .agg({\"order_id\": \"count\"})\n",
    "    .rename(columns={\"order_id\": \"n\"})\n",
    "    .pivot(columns='order_status', index='year_month', values='n')\n",
    "    .fillna(value=0,)\n",
    "    .sort_index()\n",
    ")\n",
    "date_status_n.columns.name = 'occurrences'\n",
    "date_status_n.head()"
   ]
  },
  {
   "cell_type": "code",
   "execution_count": 25,
   "id": "bd529157-e93d-4330-853e-ae3b7ff420dc",
   "metadata": {},
   "outputs": [
    {
     "data": {
      "text/html": [
       "<div>\n",
       "<style scoped>\n",
       "    .dataframe tbody tr th:only-of-type {\n",
       "        vertical-align: middle;\n",
       "    }\n",
       "\n",
       "    .dataframe tbody tr th {\n",
       "        vertical-align: top;\n",
       "    }\n",
       "\n",
       "    .dataframe thead th {\n",
       "        text-align: right;\n",
       "    }\n",
       "</style>\n",
       "<table border=\"1\" class=\"dataframe\">\n",
       "  <thead>\n",
       "    <tr style=\"text-align: right;\">\n",
       "      <th>occurrences</th>\n",
       "      <th>approved</th>\n",
       "      <th>canceled</th>\n",
       "      <th>created</th>\n",
       "      <th>invoiced</th>\n",
       "      <th>processing</th>\n",
       "      <th>shipped</th>\n",
       "      <th>unavailable</th>\n",
       "      <th>total</th>\n",
       "    </tr>\n",
       "    <tr>\n",
       "      <th>year_month</th>\n",
       "      <th></th>\n",
       "      <th></th>\n",
       "      <th></th>\n",
       "      <th></th>\n",
       "      <th></th>\n",
       "      <th></th>\n",
       "      <th></th>\n",
       "      <th></th>\n",
       "    </tr>\n",
       "  </thead>\n",
       "  <tbody>\n",
       "    <tr>\n",
       "      <th>2016/09</th>\n",
       "      <td>0.0</td>\n",
       "      <td>2.0</td>\n",
       "      <td>0.0</td>\n",
       "      <td>0.0</td>\n",
       "      <td>0.0</td>\n",
       "      <td>1.0</td>\n",
       "      <td>0.0</td>\n",
       "      <td>3.0</td>\n",
       "    </tr>\n",
       "    <tr>\n",
       "      <th>2016/10</th>\n",
       "      <td>0.0</td>\n",
       "      <td>24.0</td>\n",
       "      <td>0.0</td>\n",
       "      <td>18.0</td>\n",
       "      <td>2.0</td>\n",
       "      <td>8.0</td>\n",
       "      <td>7.0</td>\n",
       "      <td>59.0</td>\n",
       "    </tr>\n",
       "    <tr>\n",
       "      <th>2017/01</th>\n",
       "      <td>0.0</td>\n",
       "      <td>3.0</td>\n",
       "      <td>0.0</td>\n",
       "      <td>12.0</td>\n",
       "      <td>9.0</td>\n",
       "      <td>16.0</td>\n",
       "      <td>10.0</td>\n",
       "      <td>50.0</td>\n",
       "    </tr>\n",
       "    <tr>\n",
       "      <th>2017/02</th>\n",
       "      <td>1.0</td>\n",
       "      <td>17.0</td>\n",
       "      <td>0.0</td>\n",
       "      <td>11.0</td>\n",
       "      <td>32.0</td>\n",
       "      <td>21.0</td>\n",
       "      <td>45.0</td>\n",
       "      <td>127.0</td>\n",
       "    </tr>\n",
       "    <tr>\n",
       "      <th>2017/03</th>\n",
       "      <td>0.0</td>\n",
       "      <td>33.0</td>\n",
       "      <td>0.0</td>\n",
       "      <td>3.0</td>\n",
       "      <td>23.0</td>\n",
       "      <td>45.0</td>\n",
       "      <td>32.0</td>\n",
       "      <td>136.0</td>\n",
       "    </tr>\n",
       "  </tbody>\n",
       "</table>\n",
       "</div>"
      ],
      "text/plain": [
       "occurrences  approved  canceled  created  invoiced  processing  shipped  \\\n",
       "year_month                                                                \n",
       "2016/09           0.0       2.0      0.0       0.0         0.0      1.0   \n",
       "2016/10           0.0      24.0      0.0      18.0         2.0      8.0   \n",
       "2017/01           0.0       3.0      0.0      12.0         9.0     16.0   \n",
       "2017/02           1.0      17.0      0.0      11.0        32.0     21.0   \n",
       "2017/03           0.0      33.0      0.0       3.0        23.0     45.0   \n",
       "\n",
       "occurrences  unavailable  total  \n",
       "year_month                       \n",
       "2016/09              0.0    3.0  \n",
       "2016/10              7.0   59.0  \n",
       "2017/01             10.0   50.0  \n",
       "2017/02             45.0  127.0  \n",
       "2017/03             32.0  136.0  "
      ]
     },
     "execution_count": 25,
     "metadata": {},
     "output_type": "execute_result"
    }
   ],
   "source": [
    "# Total number of orders per month\n",
    "date_status_n['total'] = date_status_n.sum(axis=1)\n",
    "date_status_n.head()"
   ]
  },
  {
   "cell_type": "markdown",
   "id": "8aaf3b15-4c5f-4f13-aff8-82539a5529fc",
   "metadata": {},
   "source": [
    "First, let's visualize the number of unsuccessful orders for all months of observations. "
   ]
  },
  {
   "cell_type": "code",
   "execution_count": 26,
   "id": "e1a68d43-606e-4e8e-b9bc-ef31186c1caf",
   "metadata": {},
   "outputs": [
    {
     "data": {
      "image/png": "[encoded data removed]",
      "text/plain": [
       "<Figure size 2400x800 with 1 Axes>"
      ]
     },
     "metadata": {},
     "output_type": "display_data"
    }
   ],
   "source": [
    "fig, ax = plt.subplots(dpi=200, figsize=(12, 4))\n",
    "ax.axhline(date_status_n['total'].mean(), zorder=3,\n",
    "           linestyle='--', linewidth=2.5, color='magenta', \n",
    "           label=f\"mean ({np.round(date_status_n['total'].mean(), 2)})\")\n",
    "ax.axhline(date_status_n['total'].median(), zorder=3,\n",
    "           linestyle='-.', linewidth=2.5, color='darkorange',\n",
    "           label=f\"median ({np.round(date_status_n['total'].median(), 2)})\")\n",
    "sns.barplot(data=date_status_n, x=date_status_n.index, y='total',\n",
    "            color=\"royalblue\", edgecolor='black', linewidth=.75,\n",
    "            ax=ax, zorder=2)\n",
    "ax.set(xlabel='Month', ylabel='N', title='Number of undelivered orders by month')\n",
    "ax.tick_params(axis='x', rotation=45)\n",
    "ax.legend(title='Statistics', framealpha=1)\n",
    "ax.grid(zorder=1)\n",
    "plt.show();"
   ]
  },
  {
   "cell_type": "markdown",
   "id": "c7d6feea-3db8-4a5a-8738-f3a09d32bfe3",
   "metadata": {},
   "source": [
    "Now visualize monthly mean of undelivered orders with various statuses."
   ]
  },
  {
   "cell_type": "code",
   "execution_count": 27,
   "id": "75995d53-23e3-4df7-8ee2-62fbc8a3d67c",
   "metadata": {},
   "outputs": [
    {
     "data": {
      "image/png": "[encoded data removed]",
      "text/plain": [
       "<Figure size 2400x800 with 1 Axes>"
      ]
     },
     "metadata": {},
     "output_type": "display_data"
    }
   ],
   "source": [
    "mean_series = date_status_n.iloc[:, :-1].mean().sort_values()\n",
    "\n",
    "fig, ax = plt.subplots(dpi=200, figsize=(12, 4))\n",
    "sns.barplot(x=mean_series.index, y=mean_series,\n",
    "            color=\"royalblue\", edgecolor='black', linewidth=.75,\n",
    "            ax=ax, zorder=2)\n",
    "ax.set(xlabel='Order Status', ylabel='N',\n",
    "       title='Average number of undelivered orders per month categorized by order status')\n",
    "ax.grid(zorder=1)\n",
    "plt.show();"
   ]
  },
  {
   "cell_type": "code",
   "execution_count": 28,
   "id": "f3f8051b-6fe6-4679-a2fb-c87866d4101b",
   "metadata": {},
   "outputs": [],
   "source": [
    "# Clean-up\n",
    "del date_status_n, filtered_orders_df"
   ]
  },
  {
   "cell_type": "markdown",
   "id": "70a3c655-5415-4bd3-a70d-6d4b1bbf4e87",
   "metadata": {},
   "source": [
    "## Task 3\n",
    "Identify which day of the week each product is bought most often."
   ]
  },
  {
   "cell_type": "markdown",
   "id": "94d7d25e-0647-4816-b31b-d1968f144558",
   "metadata": {},
   "source": [
    "As in the first task, let's assume that a purchase is successful if:\n",
    "* order_status - delivered\n",
    "* order_approved_at is not **NaN** (there is information about order payment)\n",
    "* order_delivered_customer_date not **NaN** (there is information about order delivery)"
   ]
  },
  {
   "cell_type": "code",
   "execution_count": 16,
   "id": "62f5c544-9bb6-4ef0-b2f9-654732ac93cd",
   "metadata": {},
   "outputs": [],
   "source": [
    "filtered_orders_df = orders_df.query(\n",
    "    \"order_status=='delivered' & order_approved_at.notna()\" \n",
    "    + \"& order_delivered_customer_date.notna()\"\n",
    ")"
   ]
  },
  {
   "cell_type": "markdown",
   "id": "cb9a9237-3af2-4153-9c50-6744708eba8e",
   "metadata": {},
   "source": [
    "Merge the table with successful orders with the table containing information about the items in each order. Select only relevant columns."
   ]
  },
  {
   "cell_type": "code",
   "execution_count": 17,
   "id": "fbe8797a-37bc-48f9-bff8-dd348ef9a6a1",
   "metadata": {},
   "outputs": [],
   "source": [
    "merged_df=pd.merge(left=filtered_orders_df, right=items_df, how='inner',\n",
    "         on='order_id')[['order_id', 'order_purchase_timestamp', 'product_id']]"
   ]
  },
  {
   "cell_type": "markdown",
   "id": "54b1ced2-6973-46e1-a7c5-4335ed3c9142",
   "metadata": {},
   "source": [
    "Checking the result. "
   ]
  },
  {
   "cell_type": "code",
   "execution_count": 18,
   "id": "6418760a-8f35-4339-bbd6-af422e9694b2",
   "metadata": {},
   "outputs": [
    {
     "data": {
      "text/html": [
       "<div>\n",
       "<style scoped>\n",
       "    .dataframe tbody tr th:only-of-type {\n",
       "        vertical-align: middle;\n",
       "    }\n",
       "\n",
       "    .dataframe tbody tr th {\n",
       "        vertical-align: top;\n",
       "    }\n",
       "\n",
       "    .dataframe thead th {\n",
       "        text-align: right;\n",
       "    }\n",
       "</style>\n",
       "<table border=\"1\" class=\"dataframe\">\n",
       "  <thead>\n",
       "    <tr style=\"text-align: right;\">\n",
       "      <th></th>\n",
       "      <th>order_id</th>\n",
       "      <th>order_purchase_timestamp</th>\n",
       "      <th>product_id</th>\n",
       "    </tr>\n",
       "  </thead>\n",
       "  <tbody>\n",
       "    <tr>\n",
       "      <th>110169</th>\n",
       "      <td>63943bddc261676b46f01ca7ac2f7bd8</td>\n",
       "      <td>2018-02-06 12:58:58</td>\n",
       "      <td>f1d4ce8c6dd66c47bbaa8c6781c2a923</td>\n",
       "    </tr>\n",
       "    <tr>\n",
       "      <th>110170</th>\n",
       "      <td>83c1379a015df1e13d02aae0204711ab</td>\n",
       "      <td>2017-08-27 14:46:43</td>\n",
       "      <td>b80910977a37536adeddd63663f916ad</td>\n",
       "    </tr>\n",
       "    <tr>\n",
       "      <th>110171</th>\n",
       "      <td>11c177c8e97725db2631073c19f07b62</td>\n",
       "      <td>2018-01-08 21:28:27</td>\n",
       "      <td>d1c427060a0f73f6b889a5c7c61f2ac4</td>\n",
       "    </tr>\n",
       "    <tr>\n",
       "      <th>110172</th>\n",
       "      <td>11c177c8e97725db2631073c19f07b62</td>\n",
       "      <td>2018-01-08 21:28:27</td>\n",
       "      <td>d1c427060a0f73f6b889a5c7c61f2ac4</td>\n",
       "    </tr>\n",
       "    <tr>\n",
       "      <th>110173</th>\n",
       "      <td>66dea50a8b16d9b4dee7af250b4be1a5</td>\n",
       "      <td>2018-03-08 20:57:30</td>\n",
       "      <td>006619bbed68b000c8ba3f8725d5409e</td>\n",
       "    </tr>\n",
       "  </tbody>\n",
       "</table>\n",
       "</div>"
      ],
      "text/plain": [
       "                                order_id order_purchase_timestamp  \\\n",
       "110169  63943bddc261676b46f01ca7ac2f7bd8      2018-02-06 12:58:58   \n",
       "110170  83c1379a015df1e13d02aae0204711ab      2017-08-27 14:46:43   \n",
       "110171  11c177c8e97725db2631073c19f07b62      2018-01-08 21:28:27   \n",
       "110172  11c177c8e97725db2631073c19f07b62      2018-01-08 21:28:27   \n",
       "110173  66dea50a8b16d9b4dee7af250b4be1a5      2018-03-08 20:57:30   \n",
       "\n",
       "                              product_id  \n",
       "110169  f1d4ce8c6dd66c47bbaa8c6781c2a923  \n",
       "110170  b80910977a37536adeddd63663f916ad  \n",
       "110171  d1c427060a0f73f6b889a5c7c61f2ac4  \n",
       "110172  d1c427060a0f73f6b889a5c7c61f2ac4  \n",
       "110173  006619bbed68b000c8ba3f8725d5409e  "
      ]
     },
     "execution_count": 18,
     "metadata": {},
     "output_type": "execute_result"
    }
   ],
   "source": [
    "merged_df.tail()"
   ]
  },
  {
   "cell_type": "code",
   "execution_count": 173,
   "id": "9b9c2a0e-3d72-40f7-8caa-cfa46e2dca34",
   "metadata": {},
   "outputs": [
    {
     "name": "stdout",
     "output_type": "stream",
     "text": [
      "<class 'pandas.core.frame.DataFrame'>\n",
      "RangeIndex: 110174 entries, 0 to 110173\n",
      "Data columns (total 3 columns):\n",
      " #   Column                    Non-Null Count   Dtype \n",
      "---  ------                    --------------   ----- \n",
      " 0   order_id                  110174 non-null  object\n",
      " 1   order_purchase_timestamp  110174 non-null  object\n",
      " 2   product_id                110174 non-null  object\n",
      "dtypes: object(3)\n",
      "memory usage: 2.5+ MB\n"
     ]
    }
   ],
   "source": [
    "merged_df.info()"
   ]
  },
  {
   "cell_type": "markdown",
   "id": "b2d09af9-640c-4034-8727-bf9260416a47",
   "metadata": {},
   "source": [
    "Extract the day of the week from the order_purchase_timestamp column, save the result to weekday. Discard the order_purchase_timestamp column."
   ]
  },
  {
   "cell_type": "code",
   "execution_count": 19,
   "id": "c09bdd93-2363-4d73-ad83-d8551c359e5f",
   "metadata": {
    "scrolled": true
   },
   "outputs": [
    {
     "data": {
      "text/html": [
       "<div>\n",
       "<style scoped>\n",
       "    .dataframe tbody tr th:only-of-type {\n",
       "        vertical-align: middle;\n",
       "    }\n",
       "\n",
       "    .dataframe tbody tr th {\n",
       "        vertical-align: top;\n",
       "    }\n",
       "\n",
       "    .dataframe thead th {\n",
       "        text-align: right;\n",
       "    }\n",
       "</style>\n",
       "<table border=\"1\" class=\"dataframe\">\n",
       "  <thead>\n",
       "    <tr style=\"text-align: right;\">\n",
       "      <th></th>\n",
       "      <th>order_id</th>\n",
       "      <th>product_id</th>\n",
       "      <th>weekday</th>\n",
       "    </tr>\n",
       "  </thead>\n",
       "  <tbody>\n",
       "    <tr>\n",
       "      <th>0</th>\n",
       "      <td>e481f51cbdc54678b7cc49136f2d6af7</td>\n",
       "      <td>87285b34884572647811a353c7ac498a</td>\n",
       "      <td>Monday</td>\n",
       "    </tr>\n",
       "    <tr>\n",
       "      <th>1</th>\n",
       "      <td>53cdb2fc8bc7dce0b6741e2150273451</td>\n",
       "      <td>595fac2a385ac33a80bd5114aec74eb8</td>\n",
       "      <td>Tuesday</td>\n",
       "    </tr>\n",
       "    <tr>\n",
       "      <th>2</th>\n",
       "      <td>47770eb9100c2d0c44946d9cf07ec65d</td>\n",
       "      <td>aa4383b373c6aca5d8797843e5594415</td>\n",
       "      <td>Wednesday</td>\n",
       "    </tr>\n",
       "    <tr>\n",
       "      <th>3</th>\n",
       "      <td>949d5b44dbf5de918fe9c16f97b45f8a</td>\n",
       "      <td>d0b61bfb1de832b15ba9d266ca96e5b0</td>\n",
       "      <td>Saturday</td>\n",
       "    </tr>\n",
       "    <tr>\n",
       "      <th>4</th>\n",
       "      <td>ad21c59c0840e6cb83a9ceb5573f8159</td>\n",
       "      <td>65266b2da20d04dbe00c5c2d3bb7859e</td>\n",
       "      <td>Tuesday</td>\n",
       "    </tr>\n",
       "  </tbody>\n",
       "</table>\n",
       "</div>"
      ],
      "text/plain": [
       "                           order_id                        product_id  \\\n",
       "0  e481f51cbdc54678b7cc49136f2d6af7  87285b34884572647811a353c7ac498a   \n",
       "1  53cdb2fc8bc7dce0b6741e2150273451  595fac2a385ac33a80bd5114aec74eb8   \n",
       "2  47770eb9100c2d0c44946d9cf07ec65d  aa4383b373c6aca5d8797843e5594415   \n",
       "3  949d5b44dbf5de918fe9c16f97b45f8a  d0b61bfb1de832b15ba9d266ca96e5b0   \n",
       "4  ad21c59c0840e6cb83a9ceb5573f8159  65266b2da20d04dbe00c5c2d3bb7859e   \n",
       "\n",
       "     weekday  \n",
       "0     Monday  \n",
       "1    Tuesday  \n",
       "2  Wednesday  \n",
       "3   Saturday  \n",
       "4    Tuesday  "
      ]
     },
     "execution_count": 19,
     "metadata": {},
     "output_type": "execute_result"
    }
   ],
   "source": [
    "merged_df['weekday'] = pd.to_datetime(merged_df.order_purchase_timestamp) \\\n",
    "    .dt.strftime('%A')\n",
    "merged_df.drop(columns='order_purchase_timestamp', inplace=True)\n",
    "merged_df.head()"
   ]
  },
  {
   "cell_type": "markdown",
   "id": "26ea2b0a-97f6-4e4f-93bf-b1dca7558c1f",
   "metadata": {
    "scrolled": true
   },
   "source": [
    "Calculating the number of products purchases by day of the week and checking the resulting table."
   ]
  },
  {
   "cell_type": "code",
   "execution_count": 23,
   "id": "7908ca67-5486-49b4-ae65-4b241aa8e1ba",
   "metadata": {},
   "outputs": [
    {
     "data": {
      "text/html": [
       "<div>\n",
       "<style scoped>\n",
       "    .dataframe tbody tr th:only-of-type {\n",
       "        vertical-align: middle;\n",
       "    }\n",
       "\n",
       "    .dataframe tbody tr th {\n",
       "        vertical-align: top;\n",
       "    }\n",
       "\n",
       "    .dataframe thead th {\n",
       "        text-align: right;\n",
       "    }\n",
       "</style>\n",
       "<table border=\"1\" class=\"dataframe\">\n",
       "  <thead>\n",
       "    <tr style=\"text-align: right;\">\n",
       "      <th></th>\n",
       "      <th></th>\n",
       "      <th>purchases</th>\n",
       "    </tr>\n",
       "    <tr>\n",
       "      <th>product_id</th>\n",
       "      <th>weekday</th>\n",
       "      <th></th>\n",
       "    </tr>\n",
       "  </thead>\n",
       "  <tbody>\n",
       "    <tr>\n",
       "      <th>00066f42aeeb9f3007548bb9d3f33c38</th>\n",
       "      <th>Sunday</th>\n",
       "      <td>1</td>\n",
       "    </tr>\n",
       "    <tr>\n",
       "      <th>00088930e925c41fd95ebfe695fd2655</th>\n",
       "      <th>Tuesday</th>\n",
       "      <td>1</td>\n",
       "    </tr>\n",
       "    <tr>\n",
       "      <th>0009406fd7479715e4bef61dd91f2462</th>\n",
       "      <th>Thursday</th>\n",
       "      <td>1</td>\n",
       "    </tr>\n",
       "    <tr>\n",
       "      <th rowspan=\"2\" valign=\"top\">000b8f95fcb9e0096488278317764d19</th>\n",
       "      <th>Friday</th>\n",
       "      <td>1</td>\n",
       "    </tr>\n",
       "    <tr>\n",
       "      <th>Wednesday</th>\n",
       "      <td>1</td>\n",
       "    </tr>\n",
       "    <tr>\n",
       "      <th>000d9be29b5207b54e86aa1b1ac54872</th>\n",
       "      <th>Tuesday</th>\n",
       "      <td>1</td>\n",
       "    </tr>\n",
       "    <tr>\n",
       "      <th>0011c512eb256aa0dbbb544d8dffcf6e</th>\n",
       "      <th>Thursday</th>\n",
       "      <td>1</td>\n",
       "    </tr>\n",
       "    <tr>\n",
       "      <th>00126f27c813603687e6ce486d909d01</th>\n",
       "      <th>Sunday</th>\n",
       "      <td>2</td>\n",
       "    </tr>\n",
       "    <tr>\n",
       "      <th rowspan=\"2\" valign=\"top\">001795ec6f1b187d37335e1c4704762e</th>\n",
       "      <th>Monday</th>\n",
       "      <td>2</td>\n",
       "    </tr>\n",
       "    <tr>\n",
       "      <th>Saturday</th>\n",
       "      <td>3</td>\n",
       "    </tr>\n",
       "  </tbody>\n",
       "</table>\n",
       "</div>"
      ],
      "text/plain": [
       "                                            purchases\n",
       "product_id                       weekday             \n",
       "00066f42aeeb9f3007548bb9d3f33c38 Sunday             1\n",
       "00088930e925c41fd95ebfe695fd2655 Tuesday            1\n",
       "0009406fd7479715e4bef61dd91f2462 Thursday           1\n",
       "000b8f95fcb9e0096488278317764d19 Friday             1\n",
       "                                 Wednesday          1\n",
       "000d9be29b5207b54e86aa1b1ac54872 Tuesday            1\n",
       "0011c512eb256aa0dbbb544d8dffcf6e Thursday           1\n",
       "00126f27c813603687e6ce486d909d01 Sunday             2\n",
       "001795ec6f1b187d37335e1c4704762e Monday             2\n",
       "                                 Saturday           3"
      ]
     },
     "execution_count": 23,
     "metadata": {},
     "output_type": "execute_result"
    }
   ],
   "source": [
    "temp = merged_df.groupby(by=['product_id', 'weekday']).agg({'order_id':'count'}) \\\n",
    "    .rename(columns={'order_id':'purchases'})\n",
    "temp.head(10)"
   ]
  },
  {
   "cell_type": "code",
   "execution_count": 24,
   "id": "a1230443-ae15-4c09-85e3-a7218089bb5b",
   "metadata": {},
   "outputs": [
    {
     "name": "stdout",
     "output_type": "stream",
     "text": [
      "<class 'pandas.core.frame.DataFrame'>\n",
      "MultiIndex: 59940 entries, ('00066f42aeeb9f3007548bb9d3f33c38', 'Sunday') to ('fffe9eeff12fcbd74a2f2b007dde0c58', 'Wednesday')\n",
      "Data columns (total 1 columns):\n",
      " #   Column     Non-Null Count  Dtype\n",
      "---  ------     --------------  -----\n",
      " 0   purchases  59940 non-null  int64\n",
      "dtypes: int64(1)\n",
      "memory usage: 895.7+ KB\n"
     ]
    }
   ],
   "source": [
    "temp.info()"
   ]
  },
  {
   "cell_type": "markdown",
   "id": "bef1fe25-7487-410f-a713-2ca73d61aa59",
   "metadata": {},
   "source": [
    "Selecting for each product the day of the week with the maximum number of purchases (if the product was bought every day the same number of times, the first appearance is selected)."
   ]
  },
  {
   "cell_type": "code",
   "execution_count": 26,
   "id": "e7fd372b-a7ea-48b7-87d1-9aaaf412efc7",
   "metadata": {},
   "outputs": [
    {
     "data": {
      "text/html": [
       "<div>\n",
       "<style scoped>\n",
       "    .dataframe tbody tr th:only-of-type {\n",
       "        vertical-align: middle;\n",
       "    }\n",
       "\n",
       "    .dataframe tbody tr th {\n",
       "        vertical-align: top;\n",
       "    }\n",
       "\n",
       "    .dataframe thead th {\n",
       "        text-align: right;\n",
       "    }\n",
       "</style>\n",
       "<table border=\"1\" class=\"dataframe\">\n",
       "  <thead>\n",
       "    <tr style=\"text-align: right;\">\n",
       "      <th></th>\n",
       "      <th></th>\n",
       "      <th>purchases</th>\n",
       "    </tr>\n",
       "    <tr>\n",
       "      <th>product_id</th>\n",
       "      <th>weekday</th>\n",
       "      <th></th>\n",
       "    </tr>\n",
       "  </thead>\n",
       "  <tbody>\n",
       "    <tr>\n",
       "      <th>422879e10f46682990de24d770e7f83d</th>\n",
       "      <th>Wednesday</th>\n",
       "      <td>93</td>\n",
       "    </tr>\n",
       "    <tr>\n",
       "      <th>99a4788cb24856965c36a24e339b6058</th>\n",
       "      <th>Monday</th>\n",
       "      <td>91</td>\n",
       "    </tr>\n",
       "    <tr>\n",
       "      <th>aca2eb7d00ea1a7b8ebd4e68314663af</th>\n",
       "      <th>Thursday</th>\n",
       "      <td>89</td>\n",
       "    </tr>\n",
       "    <tr>\n",
       "      <th>53b36df67ebb7c41585e8d54d6772e08</th>\n",
       "      <th>Tuesday</th>\n",
       "      <td>76</td>\n",
       "    </tr>\n",
       "    <tr>\n",
       "      <th>368c6c730842d78016ad823897a372db</th>\n",
       "      <th>Friday</th>\n",
       "      <td>67</td>\n",
       "    </tr>\n",
       "    <tr>\n",
       "      <th>389d119b48cf3043d311335e499d9c6b</th>\n",
       "      <th>Thursday</th>\n",
       "      <td>67</td>\n",
       "    </tr>\n",
       "    <tr>\n",
       "      <th>53759a2ecddad2bb87a079a1f1519f73</th>\n",
       "      <th>Wednesday</th>\n",
       "      <td>66</td>\n",
       "    </tr>\n",
       "    <tr>\n",
       "      <th>d1c427060a0f73f6b889a5c7c61f2ac4</th>\n",
       "      <th>Monday</th>\n",
       "      <td>62</td>\n",
       "    </tr>\n",
       "    <tr>\n",
       "      <th>3dd2a17168ec895c781a9191c1e95ad7</th>\n",
       "      <th>Wednesday</th>\n",
       "      <td>53</td>\n",
       "    </tr>\n",
       "    <tr>\n",
       "      <th>a62e25e09e05e6faf31d90c6ec1aa3d1</th>\n",
       "      <th>Thursday</th>\n",
       "      <td>49</td>\n",
       "    </tr>\n",
       "  </tbody>\n",
       "</table>\n",
       "</div>"
      ],
      "text/plain": [
       "                                            purchases\n",
       "product_id                       weekday             \n",
       "422879e10f46682990de24d770e7f83d Wednesday         93\n",
       "99a4788cb24856965c36a24e339b6058 Monday            91\n",
       "aca2eb7d00ea1a7b8ebd4e68314663af Thursday          89\n",
       "53b36df67ebb7c41585e8d54d6772e08 Tuesday           76\n",
       "368c6c730842d78016ad823897a372db Friday            67\n",
       "389d119b48cf3043d311335e499d9c6b Thursday          67\n",
       "53759a2ecddad2bb87a079a1f1519f73 Wednesday         66\n",
       "d1c427060a0f73f6b889a5c7c61f2ac4 Monday            62\n",
       "3dd2a17168ec895c781a9191c1e95ad7 Wednesday         53\n",
       "a62e25e09e05e6faf31d90c6ec1aa3d1 Thursday          49"
      ]
     },
     "execution_count": 26,
     "metadata": {},
     "output_type": "execute_result"
    }
   ],
   "source": [
    "final_df = temp.loc[temp.groupby(level=0)['purchases'].idxmax()] \\\n",
    "    .sort_values(by='purchases', ascending=False)\n",
    "final_df.head(10)"
   ]
  },
  {
   "cell_type": "markdown",
   "id": "85c98e80-9330-4044-9994-3b24223696a3",
   "metadata": {},
   "source": [
    "Sanity checks:\n",
    "* each product_id corresponds to one value from the purchases column.\n",
    "* the final_df table is smaller than all previous tables."
   ]
  },
  {
   "cell_type": "code",
   "execution_count": 184,
   "id": "60228e67-9569-4271-a772-3b56ae171d4f",
   "metadata": {},
   "outputs": [
    {
     "data": {
      "text/plain": [
       "product_id    32211\n",
       "weekday           7\n",
       "order_id         50\n",
       "dtype: int64"
      ]
     },
     "execution_count": 184,
     "metadata": {},
     "output_type": "execute_result"
    }
   ],
   "source": [
    "final_df.reset_index().nunique()"
   ]
  },
  {
   "cell_type": "code",
   "execution_count": 185,
   "id": "377dfe29-b4a4-44dc-87c7-3128d7bc45d2",
   "metadata": {
    "scrolled": true
   },
   "outputs": [
    {
     "name": "stdout",
     "output_type": "stream",
     "text": [
      "<class 'pandas.core.frame.DataFrame'>\n",
      "MultiIndex: 32211 entries, ('422879e10f46682990de24d770e7f83d', 'Wednesday') to ('fffe9eeff12fcbd74a2f2b007dde0c58', 'Wednesday')\n",
      "Data columns (total 1 columns):\n",
      " #   Column    Non-Null Count  Dtype\n",
      "---  ------    --------------  -----\n",
      " 0   order_id  32211 non-null  int64\n",
      "dtypes: int64(1)\n",
      "memory usage: 597.8+ KB\n"
     ]
    }
   ],
   "source": [
    "final_df.info()"
   ]
  },
  {
   "cell_type": "code",
   "execution_count": 27,
   "id": "dc62e036-c6b9-4d62-b96b-4d7139afa020",
   "metadata": {},
   "outputs": [],
   "source": [
    "# Clean-up\n",
    "del filtered_orders_df, final_df, merged_df, temp "
   ]
  },
  {
   "cell_type": "code",
   "execution_count": null,
   "id": "bce3f95a-b7e9-47d0-aa30-e3087729351e",
   "metadata": {},
   "outputs": [],
   "source": []
  }
 ],
 "metadata": {
  "kernelspec": {
   "display_name": "Python [conda env:sandbox]",
   "language": "python",
   "name": "conda-env-sandbox-py"
  },
  "language_info": {
   "codemirror_mode": {
    "name": "ipython",
    "version": 3
   },
   "file_extension": ".py",
   "mimetype": "text/x-python",
   "name": "python",
   "nbconvert_exporter": "python",
   "pygments_lexer": "ipython3",
   "version": "3.10.13"
  }
 },
 "nbformat": 4,
 "nbformat_minor": 5
}
