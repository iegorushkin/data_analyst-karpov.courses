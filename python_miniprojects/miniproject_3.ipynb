{
 "cells": [
  {
   "cell_type": "markdown",
   "id": "6cfc47d8-3af7-4c8f-916c-1f09aa664abd",
   "metadata": {
    "tags": []
   },
   "source": [
    "# http://karpov.courses"
   ]
  },
  {
   "cell_type": "code",
   "execution_count": 1,
   "id": "f398efe7-11ee-459c-8ead-331d2b3c8c26",
   "metadata": {
    "tags": []
   },
   "outputs": [],
   "source": [
    "import pandas as pd\n",
    "import matplotlib.pyplot as plt\n",
    "import seaborn as sns"
   ]
  },
  {
   "cell_type": "markdown",
   "id": "b0c04451-e62f-4641-b0cd-2c641c954eb8",
   "metadata": {
    "tags": []
   },
   "source": [
    "### Описание данных\n",
    "Данные имеют следующую структуру:\n",
    "\n",
    "* запись происходит каждый день для каждого пользователя, совершившего покупки\n",
    "* для каждой даты есть своя папка, внутри неё – папки для каждого пользователя\n",
    "* внутри каждой папки есть файл data.csv, где и хранятся данные\n",
    "        \n",
    "Например, 30 декабря три покупателя сделали покупки, 31 – два (папки 2020-12-30 и 2020-12-31 соответственно). Поскольку клиент FirstName_LastName1 купил товары в оба дня, для него имеется папка в папке для каждой из дат. Для других клиентов – по одной.\n",
    "\n",
    "Note: данные в задании покрывают другой временной период, имена тоже другие. Подробности, примеры и возможные подсказки можно найти в текстах следующих шагов."
   ]
  },
  {
   "cell_type": "markdown",
   "id": "651e2a8a-6f96-44c1-b004-33b14274db99",
   "metadata": {},
   "source": [
    "### Задание 1\n",
    "💀 Сложное задание! 💀\n",
    "\n",
    "Соберите все данные из папки data в один датафрэйм, имеющий следующие столбцы: колонки из самих файлов (product_id, quantity), имя пользователя (name), и дату этих покупок (date) - пусть она соответствует названию папки, где размещается папка с пользователем).\n",
    "\n",
    "В качестве ответа укажите сумму по колонке quantity."
   ]
  },
  {
   "cell_type": "code",
   "execution_count": 2,
   "id": "1abd1782-8659-4410-a5e8-2446f3a35adf",
   "metadata": {
    "tags": []
   },
   "outputs": [],
   "source": [
    "from pathlib import Path\n",
    "from os import walk, path"
   ]
  },
  {
   "cell_type": "markdown",
   "id": "7ad877c9-3ea7-4a51-a247-35511394bbf3",
   "metadata": {},
   "source": [
    "#### os.walk"
   ]
  },
  {
   "cell_type": "code",
   "execution_count": 3,
   "id": "d012a76f-0122-4cde-b34b-668a4019091e",
   "metadata": {
    "scrolled": true,
    "tags": []
   },
   "outputs": [],
   "source": [
    "files_path = []\n",
    "\n",
    "# Create a path using os.path.join()\n",
    "top_path = path.join('Data', 'miniproject_3')\n",
    "# Undesired component\n",
    "undesired_component = \".ipynb_checkpoints\"\n",
    "\n",
    "for root, dirs, files in walk(top=top_path):\n",
    "    # print(files, dirs, root)\n",
    "    if files:\n",
    "        for file in files:\n",
    "            if (undesired_component not in root) and ('.csv' in file):\n",
    "                temp = path.join(root, file)\n",
    "                files_path.append(temp)"
   ]
  },
  {
   "cell_type": "code",
   "execution_count": 4,
   "id": "0d0d53dc-2754-44af-be9d-48a735087d5e",
   "metadata": {
    "scrolled": true
   },
   "outputs": [
    {
     "data": {
      "text/plain": [
       "['Data\\\\miniproject_3\\\\2020-12-03\\\\Alexey_Smirnov\\\\data.csv',\n",
       " 'Data\\\\miniproject_3\\\\2020-12-03\\\\Anton_Petrov\\\\data.csv',\n",
       " 'Data\\\\miniproject_3\\\\2020-12-03\\\\Kirill_Petrov\\\\data.csv',\n",
       " 'Data\\\\miniproject_3\\\\2020-12-03\\\\Petr_Fedorov\\\\data.csv',\n",
       " 'Data\\\\miniproject_3\\\\2020-12-03\\\\Vasiliy_Ivanov\\\\data.csv']"
      ]
     },
     "execution_count": 4,
     "metadata": {},
     "output_type": "execute_result"
    }
   ],
   "source": [
    "files_path[:5]"
   ]
  },
  {
   "cell_type": "markdown",
   "id": "de52026b-715d-46a6-90f1-b9a11d702a36",
   "metadata": {},
   "source": [
    "#### pathlib"
   ]
  },
  {
   "cell_type": "code",
   "execution_count": 5,
   "id": "eebcd8cf-8bde-48c4-a4af-8cbf308803e0",
   "metadata": {
    "tags": []
   },
   "outputs": [],
   "source": [
    "files_path = []\n",
    "\n",
    "# Create a Path object for the root directory\n",
    "root_directory = Path('Data/miniproject_3')\n",
    "# Undesired component\n",
    "undesired_components = [\".ipynb_checkpoints\"]\n",
    "\n",
    "# Use rglob to iterate through all files and directories recursively\n",
    "for file_path in root_directory.rglob('*.csv'):\n",
    "    # Check if any undesired component is in the path\n",
    "    if any(component in file_path.parts for component in undesired_components):\n",
    "        continue  # Skip this file\n",
    "    files_path.append(file_path)"
   ]
  },
  {
   "cell_type": "code",
   "execution_count": 6,
   "id": "f5eaedab-c6d3-4bf4-afd1-e4f29cd08514",
   "metadata": {
    "tags": []
   },
   "outputs": [
    {
     "data": {
      "text/plain": [
       "[WindowsPath('Data/miniproject_3/2020-12-03/Alexey_Smirnov/data.csv'),\n",
       " WindowsPath('Data/miniproject_3/2020-12-03/Anton_Petrov/data.csv'),\n",
       " WindowsPath('Data/miniproject_3/2020-12-03/Kirill_Petrov/data.csv'),\n",
       " WindowsPath('Data/miniproject_3/2020-12-03/Petr_Fedorov/data.csv'),\n",
       " WindowsPath('Data/miniproject_3/2020-12-03/Vasiliy_Ivanov/data.csv')]"
      ]
     },
     "execution_count": 6,
     "metadata": {},
     "output_type": "execute_result"
    }
   ],
   "source": [
    "files_path[:5]"
   ]
  },
  {
   "cell_type": "markdown",
   "id": "f6b77dce-6402-454b-856c-a0a2a22895ff",
   "metadata": {},
   "source": [
    "#### Creating DataFrame"
   ]
  },
  {
   "cell_type": "code",
   "execution_count": 7,
   "id": "e710edc0-f254-40a3-b410-94f149cff70b",
   "metadata": {
    "tags": []
   },
   "outputs": [
    {
     "name": "stdout",
     "output_type": "stream",
     "text": [
      "<class 'pandas.core.frame.DataFrame'>\n",
      "RangeIndex: 0 entries\n",
      "Data columns (total 4 columns):\n",
      " #   Column      Non-Null Count  Dtype \n",
      "---  ------      --------------  ----- \n",
      " 0   product_id  0 non-null      object\n",
      " 1   quantity    0 non-null      object\n",
      " 2   name        0 non-null      object\n",
      " 3   date        0 non-null      object\n",
      "dtypes: object(4)\n",
      "memory usage: 124.0+ bytes\n"
     ]
    }
   ],
   "source": [
    "# Create an empty DataFrame:\n",
    "column_names = ['product_id', 'quantity', 'name', 'date']\n",
    "df = pd.DataFrame(columns=column_names)\n",
    "df.info()"
   ]
  },
  {
   "cell_type": "code",
   "execution_count": 8,
   "id": "89464835-aa5d-48cc-99a1-c1c4f6b55e67",
   "metadata": {
    "tags": []
   },
   "outputs": [
    {
     "name": "stdout",
     "output_type": "stream",
     "text": [
      "<class 'pandas.core.frame.DataFrame'>\n",
      "RangeIndex: 0 entries\n",
      "Data columns (total 4 columns):\n",
      " #   Column      Non-Null Count  Dtype \n",
      "---  ------      --------------  ----- \n",
      " 0   product_id  0 non-null      int32 \n",
      " 1   quantity    0 non-null      int32 \n",
      " 2   name        0 non-null      object\n",
      " 3   date        0 non-null      object\n",
      "dtypes: int32(2), object(2)\n",
      "memory usage: 124.0+ bytes\n"
     ]
    }
   ],
   "source": [
    "# Change to appropriate dtype\n",
    "df = df.astype({'product_id': 'int', 'quantity': 'int',\n",
    "                'name': 'str', 'date': 'str'})\n",
    "df.info()"
   ]
  },
  {
   "cell_type": "code",
   "execution_count": 9,
   "id": "faa5ad87-588f-4cb2-908f-57140e797d70",
   "metadata": {
    "scrolled": true,
    "tags": []
   },
   "outputs": [
    {
     "data": {
      "text/html": [
       "<div>\n",
       "<style scoped>\n",
       "    .dataframe tbody tr th:only-of-type {\n",
       "        vertical-align: middle;\n",
       "    }\n",
       "\n",
       "    .dataframe tbody tr th {\n",
       "        vertical-align: top;\n",
       "    }\n",
       "\n",
       "    .dataframe thead th {\n",
       "        text-align: right;\n",
       "    }\n",
       "</style>\n",
       "<table border=\"1\" class=\"dataframe\">\n",
       "  <thead>\n",
       "    <tr style=\"text-align: right;\">\n",
       "      <th></th>\n",
       "      <th>product_id</th>\n",
       "      <th>quantity</th>\n",
       "      <th>name</th>\n",
       "      <th>date</th>\n",
       "    </tr>\n",
       "  </thead>\n",
       "  <tbody>\n",
       "    <tr>\n",
       "      <th>0</th>\n",
       "      <td>47</td>\n",
       "      <td>1</td>\n",
       "      <td>Alexey_Smirnov</td>\n",
       "      <td>2020-12-03</td>\n",
       "    </tr>\n",
       "    <tr>\n",
       "      <th>1</th>\n",
       "      <td>57</td>\n",
       "      <td>1</td>\n",
       "      <td>Alexey_Smirnov</td>\n",
       "      <td>2020-12-03</td>\n",
       "    </tr>\n",
       "    <tr>\n",
       "      <th>2</th>\n",
       "      <td>14</td>\n",
       "      <td>2</td>\n",
       "      <td>Alexey_Smirnov</td>\n",
       "      <td>2020-12-03</td>\n",
       "    </tr>\n",
       "    <tr>\n",
       "      <th>3</th>\n",
       "      <td>52</td>\n",
       "      <td>1</td>\n",
       "      <td>Alexey_Smirnov</td>\n",
       "      <td>2020-12-03</td>\n",
       "    </tr>\n",
       "    <tr>\n",
       "      <th>4</th>\n",
       "      <td>1</td>\n",
       "      <td>4</td>\n",
       "      <td>Alexey_Smirnov</td>\n",
       "      <td>2020-12-03</td>\n",
       "    </tr>\n",
       "  </tbody>\n",
       "</table>\n",
       "</div>"
      ],
      "text/plain": [
       "   product_id  quantity            name        date\n",
       "0          47         1  Alexey_Smirnov  2020-12-03\n",
       "1          57         1  Alexey_Smirnov  2020-12-03\n",
       "2          14         2  Alexey_Smirnov  2020-12-03\n",
       "3          52         1  Alexey_Smirnov  2020-12-03\n",
       "4           1         4  Alexey_Smirnov  2020-12-03"
      ]
     },
     "execution_count": 9,
     "metadata": {},
     "output_type": "execute_result"
    }
   ],
   "source": [
    "for file_path in files_path:\n",
    "    # read the current file     \n",
    "    temp_df = pd.read_csv(file_path, sep=',', index_col=0)\n",
    "    # create 'name' and 'date' columns\n",
    "    temp_df['name'] = file_path.parts[-2]\n",
    "    temp_df['date'] = file_path.parts[-3]\n",
    "    # concat to the main DataFrame\n",
    "    df = pd.concat([df, temp_df])\n",
    "\n",
    "df.head()"
   ]
  },
  {
   "cell_type": "markdown",
   "id": "a4d41df8-d532-41b8-9c79-4e8aa725f0b1",
   "metadata": {},
   "source": [
    "#### Sum of 'quantity'"
   ]
  },
  {
   "cell_type": "code",
   "execution_count": 10,
   "id": "262ed1e0-02c0-4821-b74a-26b359e6bc50",
   "metadata": {},
   "outputs": [
    {
     "name": "stdout",
     "output_type": "stream",
     "text": [
      "480\n"
     ]
    }
   ],
   "source": [
    "quantity_sum = df['quantity'].sum()\n",
    "print(quantity_sum)"
   ]
  },
  {
   "cell_type": "markdown",
   "id": "3e433af1-7607-409b-8684-774cb7ed3b24",
   "metadata": {},
   "source": [
    "### Задание 2\n",
    "Выясните, какой пользователь купил больше всего товаров. Если их несколько, то перечислите имена через запятую с пробелом и в алфавитном порядке. Например:\n",
    "\n",
    "Anatoly_Karpov, Nekto_Ktotovich, Lena_Uhanova, Ignat, Sasha_Tokarev"
   ]
  },
  {
   "cell_type": "code",
   "execution_count": 11,
   "id": "a3c45387-0a73-4156-b942-dc12127411ee",
   "metadata": {
    "tags": []
   },
   "outputs": [
    {
     "data": {
      "text/html": [
       "<div>\n",
       "<style scoped>\n",
       "    .dataframe tbody tr th:only-of-type {\n",
       "        vertical-align: middle;\n",
       "    }\n",
       "\n",
       "    .dataframe tbody tr th {\n",
       "        vertical-align: top;\n",
       "    }\n",
       "\n",
       "    .dataframe thead th {\n",
       "        text-align: right;\n",
       "    }\n",
       "</style>\n",
       "<table border=\"1\" class=\"dataframe\">\n",
       "  <thead>\n",
       "    <tr style=\"text-align: right;\">\n",
       "      <th></th>\n",
       "      <th>quantity</th>\n",
       "    </tr>\n",
       "    <tr>\n",
       "      <th>name</th>\n",
       "      <th></th>\n",
       "    </tr>\n",
       "  </thead>\n",
       "  <tbody>\n",
       "    <tr>\n",
       "      <th>Alexey_Smirnov</th>\n",
       "      <td>52</td>\n",
       "    </tr>\n",
       "    <tr>\n",
       "      <th>Petr_Smirnov</th>\n",
       "      <td>52</td>\n",
       "    </tr>\n",
       "    <tr>\n",
       "      <th>Anton_Smirnov</th>\n",
       "      <td>45</td>\n",
       "    </tr>\n",
       "    <tr>\n",
       "      <th>Petr_Fedorov</th>\n",
       "      <td>34</td>\n",
       "    </tr>\n",
       "    <tr>\n",
       "      <th>Kirill_Fedorov</th>\n",
       "      <td>28</td>\n",
       "    </tr>\n",
       "  </tbody>\n",
       "</table>\n",
       "</div>"
      ],
      "text/plain": [
       "                quantity\n",
       "name                    \n",
       "Alexey_Smirnov        52\n",
       "Petr_Smirnov          52\n",
       "Anton_Smirnov         45\n",
       "Petr_Fedorov          34\n",
       "Kirill_Fedorov        28"
      ]
     },
     "execution_count": 11,
     "metadata": {},
     "output_type": "execute_result"
    }
   ],
   "source": [
    "df.groupby('name').agg({'quantity': 'sum'}) \\\n",
    "    .sort_values(by='quantity', ascending=False).head()"
   ]
  },
  {
   "cell_type": "code",
   "execution_count": 12,
   "id": "c2734253-29c8-4f5d-9618-0a7b566df395",
   "metadata": {
    "tags": []
   },
   "outputs": [
    {
     "data": {
      "text/plain": [
       "'Alexey_Smirnov, Petr_Smirnov,'"
      ]
     },
     "execution_count": 12,
     "metadata": {},
     "output_type": "execute_result"
    }
   ],
   "source": [
    "temp = df.groupby('name').agg({'quantity': 'sum'}) \\\n",
    "    .sort_values(by='quantity', ascending=False)\n",
    "temp = temp.query('quantity == quantity.max()')\n",
    "\n",
    "answer=''\n",
    "for name in temp.index:\n",
    "    answer += name+', '\n",
    "\n",
    "answer.strip()"
   ]
  },
  {
   "cell_type": "markdown",
   "id": "a8df92ff-c549-4b75-9696-69477eac5090",
   "metadata": {},
   "source": [
    "### Задание 3\n",
    "Найдите топ-10 товаров по числу проданных единиц за всё время и постройте sns.barplot, где:\n",
    "* по оси x – идентификаторы товаров (product_id) \n",
    "* по оси y – суммарное число их покупок (сколько товаров с таким product_id было продано)"
   ]
  },
  {
   "cell_type": "code",
   "execution_count": 13,
   "id": "440cd9e5-e60b-41a8-ac42-0b79b1a9652d",
   "metadata": {
    "tags": []
   },
   "outputs": [
    {
     "data": {
      "text/html": [
       "<div>\n",
       "<style scoped>\n",
       "    .dataframe tbody tr th:only-of-type {\n",
       "        vertical-align: middle;\n",
       "    }\n",
       "\n",
       "    .dataframe tbody tr th {\n",
       "        vertical-align: top;\n",
       "    }\n",
       "\n",
       "    .dataframe thead th {\n",
       "        text-align: right;\n",
       "    }\n",
       "</style>\n",
       "<table border=\"1\" class=\"dataframe\">\n",
       "  <thead>\n",
       "    <tr style=\"text-align: right;\">\n",
       "      <th></th>\n",
       "      <th>quantity</th>\n",
       "    </tr>\n",
       "    <tr>\n",
       "      <th>product_id</th>\n",
       "      <th></th>\n",
       "    </tr>\n",
       "  </thead>\n",
       "  <tbody>\n",
       "    <tr>\n",
       "      <th>27</th>\n",
       "      <td>20</td>\n",
       "    </tr>\n",
       "    <tr>\n",
       "      <th>56</th>\n",
       "      <td>18</td>\n",
       "    </tr>\n",
       "    <tr>\n",
       "      <th>24</th>\n",
       "      <td>15</td>\n",
       "    </tr>\n",
       "    <tr>\n",
       "      <th>74</th>\n",
       "      <td>15</td>\n",
       "    </tr>\n",
       "    <tr>\n",
       "      <th>41</th>\n",
       "      <td>14</td>\n",
       "    </tr>\n",
       "    <tr>\n",
       "      <th>34</th>\n",
       "      <td>13</td>\n",
       "    </tr>\n",
       "    <tr>\n",
       "      <th>94</th>\n",
       "      <td>13</td>\n",
       "    </tr>\n",
       "    <tr>\n",
       "      <th>66</th>\n",
       "      <td>13</td>\n",
       "    </tr>\n",
       "    <tr>\n",
       "      <th>92</th>\n",
       "      <td>12</td>\n",
       "    </tr>\n",
       "    <tr>\n",
       "      <th>50</th>\n",
       "      <td>12</td>\n",
       "    </tr>\n",
       "  </tbody>\n",
       "</table>\n",
       "</div>"
      ],
      "text/plain": [
       "            quantity\n",
       "product_id          \n",
       "27                20\n",
       "56                18\n",
       "24                15\n",
       "74                15\n",
       "41                14\n",
       "34                13\n",
       "94                13\n",
       "66                13\n",
       "92                12\n",
       "50                12"
      ]
     },
     "execution_count": 13,
     "metadata": {},
     "output_type": "execute_result"
    }
   ],
   "source": [
    "temp = df.groupby(by='product_id').agg({'quantity': 'sum'}) \\\n",
    "    .sort_values('quantity', ascending=False)\n",
    "temp.head(10)"
   ]
  },
  {
   "cell_type": "code",
   "execution_count": 14,
   "id": "95e2febf-1d1e-481f-bab2-f8ffe01babec",
   "metadata": {
    "tags": []
   },
   "outputs": [
    {
     "data": {
      "image/png": "[encoded data removed]",
      "text/plain": [
       "<Figure size 1800x600 with 1 Axes>"
      ]
     },
     "metadata": {},
     "output_type": "display_data"
    }
   ],
   "source": [
    "fig, ax = plt.subplots(figsize=(12, 4), dpi=150)\n",
    "## Different colors for different bars\n",
    "# ax = sns.barplot(data=temp.head(10), x=temp.head(10).index, y='quantity',\n",
    "#                  hue=temp.head(10).index, palette='flare', legend=False,\n",
    "#                  zorder=2)\n",
    "ax = sns.barplot(data=temp.head(10), x=temp.head(10).index, y='quantity',\n",
    "                 color='blue', edgecolor='black', linewidth=1.5,\n",
    "                 zorder=2)\n",
    "ax.grid(zorder=1);"
   ]
  },
  {
   "cell_type": "markdown",
   "id": "e5293a8c-e28a-4e07-abea-e18c4c54019c",
   "metadata": {},
   "source": [
    "### Задание 4\n",
    "Посмотрим на продажи по дням! Для визуализации снова используйте барплот, только теперь по оси x будут дни, по которым у нас есть данные (date). "
   ]
  },
  {
   "cell_type": "code",
   "execution_count": 15,
   "id": "12db1323-652e-4c8e-a7a7-d7fd30ddad9a",
   "metadata": {
    "tags": []
   },
   "outputs": [
    {
     "data": {
      "text/html": [
       "<div>\n",
       "<style scoped>\n",
       "    .dataframe tbody tr th:only-of-type {\n",
       "        vertical-align: middle;\n",
       "    }\n",
       "\n",
       "    .dataframe tbody tr th {\n",
       "        vertical-align: top;\n",
       "    }\n",
       "\n",
       "    .dataframe thead th {\n",
       "        text-align: right;\n",
       "    }\n",
       "</style>\n",
       "<table border=\"1\" class=\"dataframe\">\n",
       "  <thead>\n",
       "    <tr style=\"text-align: right;\">\n",
       "      <th></th>\n",
       "      <th>quantity</th>\n",
       "    </tr>\n",
       "    <tr>\n",
       "      <th>date</th>\n",
       "      <th></th>\n",
       "    </tr>\n",
       "  </thead>\n",
       "  <tbody>\n",
       "    <tr>\n",
       "      <th>2020-12-04</th>\n",
       "      <td>113</td>\n",
       "    </tr>\n",
       "    <tr>\n",
       "      <th>2020-12-07</th>\n",
       "      <td>94</td>\n",
       "    </tr>\n",
       "    <tr>\n",
       "      <th>2020-12-09</th>\n",
       "      <td>69</td>\n",
       "    </tr>\n",
       "    <tr>\n",
       "      <th>2020-12-08</th>\n",
       "      <td>68</td>\n",
       "    </tr>\n",
       "    <tr>\n",
       "      <th>2020-12-05</th>\n",
       "      <td>61</td>\n",
       "    </tr>\n",
       "    <tr>\n",
       "      <th>2020-12-03</th>\n",
       "      <td>60</td>\n",
       "    </tr>\n",
       "    <tr>\n",
       "      <th>2020-12-06</th>\n",
       "      <td>15</td>\n",
       "    </tr>\n",
       "  </tbody>\n",
       "</table>\n",
       "</div>"
      ],
      "text/plain": [
       "            quantity\n",
       "date                \n",
       "2020-12-04       113\n",
       "2020-12-07        94\n",
       "2020-12-09        69\n",
       "2020-12-08        68\n",
       "2020-12-05        61\n",
       "2020-12-03        60\n",
       "2020-12-06        15"
      ]
     },
     "execution_count": 15,
     "metadata": {},
     "output_type": "execute_result"
    }
   ],
   "source": [
    "temp = df.groupby(by='date').agg({'quantity': 'sum'}) \\\n",
    "    .sort_values('quantity', ascending=False)\n",
    "temp.head(10)"
   ]
  },
  {
   "cell_type": "code",
   "execution_count": 16,
   "id": "bd92cdc9-842f-4f3a-85b5-b89aa677c994",
   "metadata": {
    "tags": []
   },
   "outputs": [
    {
     "data": {
      "image/png": "[encoded data removed]",
      "text/plain": [
       "<Figure size 1800x600 with 1 Axes>"
      ]
     },
     "metadata": {},
     "output_type": "display_data"
    }
   ],
   "source": [
    "fig, ax = plt.subplots(figsize=(12, 4), dpi=150)\n",
    "ax = sns.barplot(data=temp.head(10), x=temp.head(10).index, y='quantity',\n",
    "                 color='blue', edgecolor='black', linewidth=1.5,\n",
    "                 zorder=2)\n",
    "ax.grid(zorder=1);"
   ]
  },
  {
   "cell_type": "markdown",
   "id": "5ff13371-f8cb-41cd-b284-af09de34fa94",
   "metadata": {},
   "source": [
    "### Задание 5\n",
    "💀 Сложное задание! 💀\n",
    "\n",
    "Сколько пользователей приобрели какой-либо товар повторно (более 1 раза)? Повтором будем считать покупку товара с одинаковым product_id, совершенную в разные дни. \n",
    "\n",
    "Например, пользователь Sasha Tsarev дважды приобрел товар 6. Поскольку покупка была совершена в один и тот же день, повторной в данном случае она считаться не будет. Katya Skriptsova также сделал две покупки товара 7, но в разные дни, поэтому этот случай засчитывается. "
   ]
  },
  {
   "cell_type": "code",
   "execution_count": 17,
   "id": "2da7f257-e113-47d7-9987-a97dce404dd2",
   "metadata": {
    "tags": []
   },
   "outputs": [
    {
     "data": {
      "text/html": [
       "<div>\n",
       "<style scoped>\n",
       "    .dataframe tbody tr th:only-of-type {\n",
       "        vertical-align: middle;\n",
       "    }\n",
       "\n",
       "    .dataframe tbody tr th {\n",
       "        vertical-align: top;\n",
       "    }\n",
       "\n",
       "    .dataframe thead th {\n",
       "        text-align: right;\n",
       "    }\n",
       "</style>\n",
       "<table border=\"1\" class=\"dataframe\">\n",
       "  <thead>\n",
       "    <tr style=\"text-align: right;\">\n",
       "      <th></th>\n",
       "      <th>product_id</th>\n",
       "      <th>quantity</th>\n",
       "      <th>name</th>\n",
       "      <th>date</th>\n",
       "    </tr>\n",
       "  </thead>\n",
       "  <tbody>\n",
       "    <tr>\n",
       "      <th>0</th>\n",
       "      <td>47</td>\n",
       "      <td>1</td>\n",
       "      <td>Alexey_Smirnov</td>\n",
       "      <td>2020-12-03</td>\n",
       "    </tr>\n",
       "    <tr>\n",
       "      <th>1</th>\n",
       "      <td>57</td>\n",
       "      <td>1</td>\n",
       "      <td>Alexey_Smirnov</td>\n",
       "      <td>2020-12-03</td>\n",
       "    </tr>\n",
       "    <tr>\n",
       "      <th>2</th>\n",
       "      <td>14</td>\n",
       "      <td>2</td>\n",
       "      <td>Alexey_Smirnov</td>\n",
       "      <td>2020-12-03</td>\n",
       "    </tr>\n",
       "    <tr>\n",
       "      <th>3</th>\n",
       "      <td>52</td>\n",
       "      <td>1</td>\n",
       "      <td>Alexey_Smirnov</td>\n",
       "      <td>2020-12-03</td>\n",
       "    </tr>\n",
       "    <tr>\n",
       "      <th>4</th>\n",
       "      <td>1</td>\n",
       "      <td>4</td>\n",
       "      <td>Alexey_Smirnov</td>\n",
       "      <td>2020-12-03</td>\n",
       "    </tr>\n",
       "  </tbody>\n",
       "</table>\n",
       "</div>"
      ],
      "text/plain": [
       "   product_id  quantity            name        date\n",
       "0          47         1  Alexey_Smirnov  2020-12-03\n",
       "1          57         1  Alexey_Smirnov  2020-12-03\n",
       "2          14         2  Alexey_Smirnov  2020-12-03\n",
       "3          52         1  Alexey_Smirnov  2020-12-03\n",
       "4           1         4  Alexey_Smirnov  2020-12-03"
      ]
     },
     "execution_count": 17,
     "metadata": {},
     "output_type": "execute_result"
    }
   ],
   "source": [
    "df.head()"
   ]
  },
  {
   "cell_type": "code",
   "execution_count": 18,
   "id": "2dd5c740-6722-4eda-ba9e-f6deb6c551ca",
   "metadata": {
    "tags": []
   },
   "outputs": [
    {
     "data": {
      "text/html": [
       "<div>\n",
       "<style scoped>\n",
       "    .dataframe tbody tr th:only-of-type {\n",
       "        vertical-align: middle;\n",
       "    }\n",
       "\n",
       "    .dataframe tbody tr th {\n",
       "        vertical-align: top;\n",
       "    }\n",
       "\n",
       "    .dataframe thead th {\n",
       "        text-align: right;\n",
       "    }\n",
       "</style>\n",
       "<table border=\"1\" class=\"dataframe\">\n",
       "  <thead>\n",
       "    <tr style=\"text-align: right;\">\n",
       "      <th></th>\n",
       "      <th>name</th>\n",
       "      <th>date</th>\n",
       "      <th>product_id</th>\n",
       "      <th>occurrences_per_day</th>\n",
       "    </tr>\n",
       "  </thead>\n",
       "  <tbody>\n",
       "    <tr>\n",
       "      <th>0</th>\n",
       "      <td>Alexey_Fedorov</td>\n",
       "      <td>2020-12-05</td>\n",
       "      <td>13</td>\n",
       "      <td>1</td>\n",
       "    </tr>\n",
       "    <tr>\n",
       "      <th>1</th>\n",
       "      <td>Alexey_Fedorov</td>\n",
       "      <td>2020-12-05</td>\n",
       "      <td>50</td>\n",
       "      <td>1</td>\n",
       "    </tr>\n",
       "    <tr>\n",
       "      <th>2</th>\n",
       "      <td>Alexey_Fedorov</td>\n",
       "      <td>2020-12-07</td>\n",
       "      <td>15</td>\n",
       "      <td>1</td>\n",
       "    </tr>\n",
       "    <tr>\n",
       "      <th>3</th>\n",
       "      <td>Alexey_Fedorov</td>\n",
       "      <td>2020-12-07</td>\n",
       "      <td>54</td>\n",
       "      <td>1</td>\n",
       "    </tr>\n",
       "    <tr>\n",
       "      <th>4</th>\n",
       "      <td>Alexey_Fedorov</td>\n",
       "      <td>2020-12-07</td>\n",
       "      <td>77</td>\n",
       "      <td>1</td>\n",
       "    </tr>\n",
       "  </tbody>\n",
       "</table>\n",
       "</div>"
      ],
      "text/plain": [
       "             name        date  product_id  occurrences_per_day\n",
       "0  Alexey_Fedorov  2020-12-05          13                    1\n",
       "1  Alexey_Fedorov  2020-12-05          50                    1\n",
       "2  Alexey_Fedorov  2020-12-07          15                    1\n",
       "3  Alexey_Fedorov  2020-12-07          54                    1\n",
       "4  Alexey_Fedorov  2020-12-07          77                    1"
      ]
     },
     "execution_count": 18,
     "metadata": {},
     "output_type": "execute_result"
    }
   ],
   "source": [
    "temp = df.groupby(by=['name', 'date']).agg({\"product_id\": \"value_counts\"})\n",
    "temp.rename(columns={\"product_id\": 'occurrences_per_day'}, inplace=True)\n",
    "temp.reset_index(inplace=True)\n",
    "temp.head()"
   ]
  },
  {
   "cell_type": "code",
   "execution_count": 19,
   "id": "c6e6c5e2-fbc1-486d-b0d8-86c1ff83ccc6",
   "metadata": {
    "tags": []
   },
   "outputs": [
    {
     "data": {
      "text/html": [
       "<div>\n",
       "<style scoped>\n",
       "    .dataframe tbody tr th:only-of-type {\n",
       "        vertical-align: middle;\n",
       "    }\n",
       "\n",
       "    .dataframe tbody tr th {\n",
       "        vertical-align: top;\n",
       "    }\n",
       "\n",
       "    .dataframe thead th {\n",
       "        text-align: right;\n",
       "    }\n",
       "</style>\n",
       "<table border=\"1\" class=\"dataframe\">\n",
       "  <thead>\n",
       "    <tr style=\"text-align: right;\">\n",
       "      <th></th>\n",
       "      <th></th>\n",
       "      <th>occurrences_overall</th>\n",
       "    </tr>\n",
       "    <tr>\n",
       "      <th>name</th>\n",
       "      <th>product_id</th>\n",
       "      <th></th>\n",
       "    </tr>\n",
       "  </thead>\n",
       "  <tbody>\n",
       "    <tr>\n",
       "      <th rowspan=\"8\" valign=\"top\">Vasiliy_Ivanov</th>\n",
       "      <th>4</th>\n",
       "      <td>1</td>\n",
       "    </tr>\n",
       "    <tr>\n",
       "      <th>54</th>\n",
       "      <td>1</td>\n",
       "    </tr>\n",
       "    <tr>\n",
       "      <th>64</th>\n",
       "      <td>1</td>\n",
       "    </tr>\n",
       "    <tr>\n",
       "      <th>74</th>\n",
       "      <td>1</td>\n",
       "    </tr>\n",
       "    <tr>\n",
       "      <th>82</th>\n",
       "      <td>1</td>\n",
       "    </tr>\n",
       "    <tr>\n",
       "      <th>83</th>\n",
       "      <td>1</td>\n",
       "    </tr>\n",
       "    <tr>\n",
       "      <th>94</th>\n",
       "      <td>1</td>\n",
       "    </tr>\n",
       "    <tr>\n",
       "      <th>95</th>\n",
       "      <td>1</td>\n",
       "    </tr>\n",
       "    <tr>\n",
       "      <th rowspan=\"2\" valign=\"top\">Vasiliy_Petrov</th>\n",
       "      <th>27</th>\n",
       "      <td>1</td>\n",
       "    </tr>\n",
       "    <tr>\n",
       "      <th>78</th>\n",
       "      <td>1</td>\n",
       "    </tr>\n",
       "  </tbody>\n",
       "</table>\n",
       "</div>"
      ],
      "text/plain": [
       "                           occurrences_overall\n",
       "name           product_id                     \n",
       "Vasiliy_Ivanov 4                             1\n",
       "               54                            1\n",
       "               64                            1\n",
       "               74                            1\n",
       "               82                            1\n",
       "               83                            1\n",
       "               94                            1\n",
       "               95                            1\n",
       "Vasiliy_Petrov 27                            1\n",
       "               78                            1"
      ]
     },
     "execution_count": 19,
     "metadata": {},
     "output_type": "execute_result"
    }
   ],
   "source": [
    "# Now we know that if a specific product_id appears more than 1 time for a specific user,\n",
    "# the product is bought on some other day:\n",
    "temp = temp.groupby(by='name').agg({'product_id': 'value_counts'})\n",
    "temp.rename(columns={\"product_id\": 'occurrences_overall'}, inplace=True)\n",
    "temp.tail(10)"
   ]
  },
  {
   "cell_type": "code",
   "execution_count": 20,
   "id": "23d55678-ceaa-4eee-b715-dbc545dc3f4f",
   "metadata": {
    "tags": []
   },
   "outputs": [
    {
     "data": {
      "text/html": [
       "<div>\n",
       "<style scoped>\n",
       "    .dataframe tbody tr th:only-of-type {\n",
       "        vertical-align: middle;\n",
       "    }\n",
       "\n",
       "    .dataframe tbody tr th {\n",
       "        vertical-align: top;\n",
       "    }\n",
       "\n",
       "    .dataframe thead th {\n",
       "        text-align: right;\n",
       "    }\n",
       "</style>\n",
       "<table border=\"1\" class=\"dataframe\">\n",
       "  <thead>\n",
       "    <tr style=\"text-align: right;\">\n",
       "      <th></th>\n",
       "      <th></th>\n",
       "      <th>occurrences_overall</th>\n",
       "    </tr>\n",
       "    <tr>\n",
       "      <th>name</th>\n",
       "      <th>product_id</th>\n",
       "      <th></th>\n",
       "    </tr>\n",
       "  </thead>\n",
       "  <tbody>\n",
       "    <tr>\n",
       "      <th>Anton_Ivanov</th>\n",
       "      <th>15</th>\n",
       "      <td>2</td>\n",
       "    </tr>\n",
       "    <tr>\n",
       "      <th>Petr_Fedorov</th>\n",
       "      <th>94</th>\n",
       "      <td>2</td>\n",
       "    </tr>\n",
       "  </tbody>\n",
       "</table>\n",
       "</div>"
      ],
      "text/plain": [
       "                         occurrences_overall\n",
       "name         product_id                     \n",
       "Anton_Ivanov 15                            2\n",
       "Petr_Fedorov 94                            2"
      ]
     },
     "execution_count": 20,
     "metadata": {},
     "output_type": "execute_result"
    }
   ],
   "source": [
    "# So, is there any users who bought same product on different dates?\n",
    "temp[temp['occurrences_overall'] > 1]"
   ]
  },
  {
   "cell_type": "code",
   "execution_count": 21,
   "id": "017dba1b-c439-4d95-9644-1a953db6bd3c",
   "metadata": {},
   "outputs": [
    {
     "name": "stdout",
     "output_type": "stream",
     "text": [
      "2 users have repeated purchases\n"
     ]
    }
   ],
   "source": [
    "print(f\"{temp[temp['occurrences_overall'] > 1].shape[0]} users have repeated purchases\")"
   ]
  },
  {
   "cell_type": "markdown",
   "id": "003d69ab-6eb1-4ed7-9e83-57a5447b47eb",
   "metadata": {
    "tags": []
   },
   "source": [
    "### Дополнительные задания\n",
    "\n",
    "Имеется таблица с записями о компаниях, включая их ИНН, и отдельный текстовый файл с набором ИНН (колонка head_inn), которые хранятся в папке 4_inn.\n",
    "* inn.xls — таблица в формате xls\n",
    "* necessary_inn.txt — перечень необходимых ИНН в текстовом формате\n",
    "#### Задачи\n",
    "1. извлечь из таблицы записи с ИНН, указанными в текстовом файле\n",
    "2. записать результат в файл selected_inn.csv"
   ]
  },
  {
   "cell_type": "code",
   "execution_count": 22,
   "id": "2a97a0e0-1ab5-48ec-b7d0-df6fdba48615",
   "metadata": {
    "scrolled": true,
    "tags": []
   },
   "outputs": [
    {
     "name": "stdout",
     "output_type": "stream",
     "text": [
      "['394609645484', '281578625230', '923769811917', '998694734508', '271011690615']\n",
      "[394609645484, 281578625230, 923769811917, 998694734508, 271011690615]\n"
     ]
    }
   ],
   "source": [
    "necessary_inn = Path('Data/necessary_inn.txt').read_text()  # whole text\n",
    "necessary_inn = necessary_inn.splitlines()  # redefiniton\n",
    "\n",
    "print(necessary_inn[:5])  # this is str!\n",
    "for i in range(len(necessary_inn)):\n",
    "    necessary_inn[i] = int(necessary_inn[i])\n",
    "print(necessary_inn[:5])  # this is int   "
   ]
  },
  {
   "cell_type": "code",
   "execution_count": 23,
   "id": "7f8a9bec-80ca-4ed9-9a2d-02219a27b88d",
   "metadata": {
    "tags": []
   },
   "outputs": [
    {
     "data": {
      "text/html": [
       "<div>\n",
       "<style scoped>\n",
       "    .dataframe tbody tr th:only-of-type {\n",
       "        vertical-align: middle;\n",
       "    }\n",
       "\n",
       "    .dataframe tbody tr th {\n",
       "        vertical-align: top;\n",
       "    }\n",
       "\n",
       "    .dataframe thead th {\n",
       "        text-align: right;\n",
       "    }\n",
       "</style>\n",
       "<table border=\"1\" class=\"dataframe\">\n",
       "  <thead>\n",
       "    <tr style=\"text-align: right;\">\n",
       "      <th></th>\n",
       "      <th>name</th>\n",
       "      <th>reg_number</th>\n",
       "      <th>address</th>\n",
       "      <th>head</th>\n",
       "      <th>head_job</th>\n",
       "      <th>head_inn</th>\n",
       "      <th>phone</th>\n",
       "      <th>email</th>\n",
       "      <th>site</th>\n",
       "      <th>registration_date</th>\n",
       "      <th>nalogoplatelschik_code</th>\n",
       "      <th>oktmo_code</th>\n",
       "      <th>okato_code</th>\n",
       "      <th>registration_region</th>\n",
       "      <th>okato_name</th>\n",
       "      <th>field</th>\n",
       "      <th>capital,RUB</th>\n",
       "      <th>income,RUB</th>\n",
       "    </tr>\n",
       "    <tr>\n",
       "      <th>#</th>\n",
       "      <th></th>\n",
       "      <th></th>\n",
       "      <th></th>\n",
       "      <th></th>\n",
       "      <th></th>\n",
       "      <th></th>\n",
       "      <th></th>\n",
       "      <th></th>\n",
       "      <th></th>\n",
       "      <th></th>\n",
       "      <th></th>\n",
       "      <th></th>\n",
       "      <th></th>\n",
       "      <th></th>\n",
       "      <th></th>\n",
       "      <th></th>\n",
       "      <th></th>\n",
       "      <th></th>\n",
       "    </tr>\n",
       "  </thead>\n",
       "  <tbody>\n",
       "    <tr>\n",
       "      <th>0</th>\n",
       "      <td>ЗАО «Власова, Макаров и Шашков»</td>\n",
       "      <td>1143692580560</td>\n",
       "      <td>д. Кирово-Чепецк, пр. Металлургов, д. 537 к. 3...</td>\n",
       "      <td>Жданов Карл Виленович</td>\n",
       "      <td>Маммолог</td>\n",
       "      <td>109092209811</td>\n",
       "      <td>+7 (559) 338-87-76</td>\n",
       "      <td>bogdanovavtonom@yahoo.com</td>\n",
       "      <td>ooo.info</td>\n",
       "      <td>2015-01-07</td>\n",
       "      <td>2006-10-04</td>\n",
       "      <td>21112877268</td>\n",
       "      <td>73423615032</td>\n",
       "      <td>Ulan-Ude</td>\n",
       "      <td>к. Тосно, ул. Пушкинская, д. 896, 617222</td>\n",
       "      <td>Синхронизация критически важных отношений</td>\n",
       "      <td>54875526078</td>\n",
       "      <td>32205872896</td>\n",
       "    </tr>\n",
       "    <tr>\n",
       "      <th>1</th>\n",
       "      <td>РАО «Тимофеева, Алексеева и Кузнецова»</td>\n",
       "      <td>9342309660697</td>\n",
       "      <td>г. Арзамас, наб. Фестивальная, д. 7 стр. 8/2, ...</td>\n",
       "      <td>Рожков Харлампий Алексеевич</td>\n",
       "      <td>Воспитатель</td>\n",
       "      <td>704229465069</td>\n",
       "      <td>8 (632) 620-8879</td>\n",
       "      <td>safonovantonin@rao.org</td>\n",
       "      <td>ooo.net</td>\n",
       "      <td>1990-05-16</td>\n",
       "      <td>2019-01-18</td>\n",
       "      <td>18393547520</td>\n",
       "      <td>19072454279</td>\n",
       "      <td>Tyoply Stan</td>\n",
       "      <td>ст. Кяхта, бул. Нефтяников, д. 24, 768742</td>\n",
       "      <td>Формирование заказных методик</td>\n",
       "      <td>33876448811</td>\n",
       "      <td>47437574301</td>\n",
       "    </tr>\n",
       "    <tr>\n",
       "      <th>2</th>\n",
       "      <td>РАО «Юдин-Ефимова»</td>\n",
       "      <td>1277485323451</td>\n",
       "      <td>п. Меренга, алл. Достоевского, д. 3/4 к. 497, ...</td>\n",
       "      <td>Филимон Фадеевич Дьячков</td>\n",
       "      <td>Автослесарь</td>\n",
       "      <td>267655036377</td>\n",
       "      <td>+74925330378</td>\n",
       "      <td>kdorofeev@npo.ru</td>\n",
       "      <td>ao.com</td>\n",
       "      <td>1982-11-04</td>\n",
       "      <td>1986-06-19</td>\n",
       "      <td>56104355836</td>\n",
       "      <td>18629292792</td>\n",
       "      <td>Danilov</td>\n",
       "      <td>клх Усолье Сибирское, алл. Шишкина, д. 3/9 к. ...</td>\n",
       "      <td>Максимизация корпоративных метрик</td>\n",
       "      <td>94073834991</td>\n",
       "      <td>7701710065</td>\n",
       "    </tr>\n",
       "  </tbody>\n",
       "</table>\n",
       "</div>"
      ],
      "text/plain": [
       "                                     name     reg_number  \\\n",
       "#                                                          \n",
       "0         ЗАО «Власова, Макаров и Шашков»  1143692580560   \n",
       "1  РАО «Тимофеева, Алексеева и Кузнецова»  9342309660697   \n",
       "2                      РАО «Юдин-Ефимова»  1277485323451   \n",
       "\n",
       "                                             address  \\\n",
       "#                                                      \n",
       "0  д. Кирово-Чепецк, пр. Металлургов, д. 537 к. 3...   \n",
       "1  г. Арзамас, наб. Фестивальная, д. 7 стр. 8/2, ...   \n",
       "2  п. Меренга, алл. Достоевского, д. 3/4 к. 497, ...   \n",
       "\n",
       "                          head     head_job      head_inn               phone  \\\n",
       "#                                                                               \n",
       "0        Жданов Карл Виленович     Маммолог  109092209811  +7 (559) 338-87-76   \n",
       "1  Рожков Харлампий Алексеевич  Воспитатель  704229465069    8 (632) 620-8879   \n",
       "2     Филимон Фадеевич Дьячков  Автослесарь  267655036377        +74925330378   \n",
       "\n",
       "                       email      site registration_date  \\\n",
       "#                                                          \n",
       "0  bogdanovavtonom@yahoo.com  ooo.info        2015-01-07   \n",
       "1     safonovantonin@rao.org   ooo.net        1990-05-16   \n",
       "2           kdorofeev@npo.ru    ao.com        1982-11-04   \n",
       "\n",
       "  nalogoplatelschik_code   oktmo_code   okato_code registration_region  \\\n",
       "#                                                                        \n",
       "0             2006-10-04  21112877268  73423615032            Ulan-Ude   \n",
       "1             2019-01-18  18393547520  19072454279         Tyoply Stan   \n",
       "2             1986-06-19  56104355836  18629292792             Danilov   \n",
       "\n",
       "                                          okato_name  \\\n",
       "#                                                      \n",
       "0           к. Тосно, ул. Пушкинская, д. 896, 617222   \n",
       "1          ст. Кяхта, бул. Нефтяников, д. 24, 768742   \n",
       "2  клх Усолье Сибирское, алл. Шишкина, д. 3/9 к. ...   \n",
       "\n",
       "                                       field  capital,RUB   income,RUB  \n",
       "#                                                                       \n",
       "0  Синхронизация критически важных отношений  54875526078  32205872896  \n",
       "1              Формирование заказных методик  33876448811  47437574301  \n",
       "2          Максимизация корпоративных метрик  94073834991   7701710065  "
      ]
     },
     "execution_count": 23,
     "metadata": {},
     "output_type": "execute_result"
    }
   ],
   "source": [
    "inn = pd.read_excel(io='Data/inn.xls', index_col=\"#\")\n",
    "inn.drop(columns='Unnamed: 0', inplace=True)\n",
    "inn.head(3)"
   ]
  },
  {
   "cell_type": "code",
   "execution_count": 24,
   "id": "08dd84da-51c6-4108-bf76-54b079c27d41",
   "metadata": {
    "tags": []
   },
   "outputs": [
    {
     "data": {
      "text/plain": [
       "#\n",
       "0    False\n",
       "1    False\n",
       "2    False\n",
       "3    False\n",
       "4    False\n",
       "Name: head_inn, dtype: bool"
      ]
     },
     "execution_count": 24,
     "metadata": {},
     "output_type": "execute_result"
    }
   ],
   "source": [
    "(inn['head_inn'].isin(necessary_inn)).head()"
   ]
  },
  {
   "cell_type": "code",
   "execution_count": 25,
   "id": "81c9aa9d-3dc3-44d7-8119-2d328f22c479",
   "metadata": {},
   "outputs": [
    {
     "data": {
      "text/html": [
       "<div>\n",
       "<style scoped>\n",
       "    .dataframe tbody tr th:only-of-type {\n",
       "        vertical-align: middle;\n",
       "    }\n",
       "\n",
       "    .dataframe tbody tr th {\n",
       "        vertical-align: top;\n",
       "    }\n",
       "\n",
       "    .dataframe thead th {\n",
       "        text-align: right;\n",
       "    }\n",
       "</style>\n",
       "<table border=\"1\" class=\"dataframe\">\n",
       "  <thead>\n",
       "    <tr style=\"text-align: right;\">\n",
       "      <th></th>\n",
       "      <th>name</th>\n",
       "      <th>reg_number</th>\n",
       "      <th>address</th>\n",
       "      <th>head</th>\n",
       "      <th>head_job</th>\n",
       "      <th>head_inn</th>\n",
       "      <th>phone</th>\n",
       "      <th>email</th>\n",
       "      <th>site</th>\n",
       "      <th>registration_date</th>\n",
       "      <th>nalogoplatelschik_code</th>\n",
       "      <th>oktmo_code</th>\n",
       "      <th>okato_code</th>\n",
       "      <th>registration_region</th>\n",
       "      <th>okato_name</th>\n",
       "      <th>field</th>\n",
       "      <th>capital,RUB</th>\n",
       "      <th>income,RUB</th>\n",
       "    </tr>\n",
       "    <tr>\n",
       "      <th>#</th>\n",
       "      <th></th>\n",
       "      <th></th>\n",
       "      <th></th>\n",
       "      <th></th>\n",
       "      <th></th>\n",
       "      <th></th>\n",
       "      <th></th>\n",
       "      <th></th>\n",
       "      <th></th>\n",
       "      <th></th>\n",
       "      <th></th>\n",
       "      <th></th>\n",
       "      <th></th>\n",
       "      <th></th>\n",
       "      <th></th>\n",
       "      <th></th>\n",
       "      <th></th>\n",
       "      <th></th>\n",
       "    </tr>\n",
       "  </thead>\n",
       "  <tbody>\n",
       "    <tr>\n",
       "      <th>47</th>\n",
       "      <td>Пермэнергосбыт</td>\n",
       "      <td>6417532956774</td>\n",
       "      <td>ст. Слюдянка, пер. Брянский, д. 378 стр. 634, ...</td>\n",
       "      <td>Емельян Феликсович Зайцев</td>\n",
       "      <td>Релайтер</td>\n",
       "      <td>175482780898</td>\n",
       "      <td>8 833 729 83 14</td>\n",
       "      <td>boleslav28@gmail.com</td>\n",
       "      <td>krilova.net</td>\n",
       "      <td>1986-03-20</td>\n",
       "      <td>1998-02-11</td>\n",
       "      <td>47158105405</td>\n",
       "      <td>10234283083</td>\n",
       "      <td>Novosilikatnyy</td>\n",
       "      <td>г. Кропоткин (Краснод.), пр. Лесный, д. 8/3 к....</td>\n",
       "      <td>Разработка подробных результатов</td>\n",
       "      <td>44637351562</td>\n",
       "      <td>67534335517</td>\n",
       "    </tr>\n",
       "    <tr>\n",
       "      <th>76</th>\n",
       "      <td>ЗАО «Кабанова Ковалев»</td>\n",
       "      <td>9343329412518</td>\n",
       "      <td>с. Нарткала, ул. Верхняя, д. 68 стр. 1, 393309</td>\n",
       "      <td>Геннадий Денисович Григорьев</td>\n",
       "      <td>Бондарь</td>\n",
       "      <td>120708914823</td>\n",
       "      <td>+7 455 632 1053</td>\n",
       "      <td>kapustinjulian@oao.com</td>\n",
       "      <td>ao.ru</td>\n",
       "      <td>2011-09-28</td>\n",
       "      <td>1983-11-10</td>\n",
       "      <td>20653722407</td>\n",
       "      <td>92544205998</td>\n",
       "      <td>Severodvinsk</td>\n",
       "      <td>д. Москва, МГУ, бул. Транспортный, д. 75 стр. ...</td>\n",
       "      <td>Монетизация передовых действий</td>\n",
       "      <td>78570288945</td>\n",
       "      <td>19932336080</td>\n",
       "    </tr>\n",
       "    <tr>\n",
       "      <th>77</th>\n",
       "      <td>Неофарм</td>\n",
       "      <td>3813743111150</td>\n",
       "      <td>г. Долинск, ш. Московское, д. 25 к. 5, 227970</td>\n",
       "      <td>Юрий Архипович Богданов</td>\n",
       "      <td>Полицейский</td>\n",
       "      <td>663119569897</td>\n",
       "      <td>+7 077 854 47 31</td>\n",
       "      <td>bazhen41@matveeva.net</td>\n",
       "      <td>ao.com</td>\n",
       "      <td>2019-01-30</td>\n",
       "      <td>1986-09-01</td>\n",
       "      <td>96067740308</td>\n",
       "      <td>47030638090</td>\n",
       "      <td>Kovylkino</td>\n",
       "      <td>с. Сладково, наб. Вавилова, д. 62 к. 627, 198606</td>\n",
       "      <td>Эксплуатация круглосуточных пользователей</td>\n",
       "      <td>30634104861</td>\n",
       "      <td>3103853229</td>\n",
       "    </tr>\n",
       "  </tbody>\n",
       "</table>\n",
       "</div>"
      ],
      "text/plain": [
       "                      name     reg_number  \\\n",
       "#                                           \n",
       "47          Пермэнергосбыт  6417532956774   \n",
       "76  ЗАО «Кабанова Ковалев»  9343329412518   \n",
       "77                 Неофарм  3813743111150   \n",
       "\n",
       "                                              address  \\\n",
       "#                                                       \n",
       "47  ст. Слюдянка, пер. Брянский, д. 378 стр. 634, ...   \n",
       "76     с. Нарткала, ул. Верхняя, д. 68 стр. 1, 393309   \n",
       "77      г. Долинск, ш. Московское, д. 25 к. 5, 227970   \n",
       "\n",
       "                            head     head_job      head_inn             phone  \\\n",
       "#                                                                               \n",
       "47     Емельян Феликсович Зайцев     Релайтер  175482780898   8 833 729 83 14   \n",
       "76  Геннадий Денисович Григорьев      Бондарь  120708914823   +7 455 632 1053   \n",
       "77       Юрий Архипович Богданов  Полицейский  663119569897  +7 077 854 47 31   \n",
       "\n",
       "                     email         site registration_date  \\\n",
       "#                                                           \n",
       "47    boleslav28@gmail.com  krilova.net        1986-03-20   \n",
       "76  kapustinjulian@oao.com        ao.ru        2011-09-28   \n",
       "77   bazhen41@matveeva.net       ao.com        2019-01-30   \n",
       "\n",
       "   nalogoplatelschik_code   oktmo_code   okato_code registration_region  \\\n",
       "#                                                                         \n",
       "47             1998-02-11  47158105405  10234283083      Novosilikatnyy   \n",
       "76             1983-11-10  20653722407  92544205998        Severodvinsk   \n",
       "77             1986-09-01  96067740308  47030638090           Kovylkino   \n",
       "\n",
       "                                           okato_name  \\\n",
       "#                                                       \n",
       "47  г. Кропоткин (Краснод.), пр. Лесный, д. 8/3 к....   \n",
       "76  д. Москва, МГУ, бул. Транспортный, д. 75 стр. ...   \n",
       "77   с. Сладково, наб. Вавилова, д. 62 к. 627, 198606   \n",
       "\n",
       "                                        field  capital,RUB   income,RUB  \n",
       "#                                                                        \n",
       "47           Разработка подробных результатов  44637351562  67534335517  \n",
       "76             Монетизация передовых действий  78570288945  19932336080  \n",
       "77  Эксплуатация круглосуточных пользователей  30634104861   3103853229  "
      ]
     },
     "execution_count": 25,
     "metadata": {},
     "output_type": "execute_result"
    }
   ],
   "source": [
    "selected_inn = inn[inn['head_inn'].isin(necessary_inn)]\n",
    "selected_inn.head(3)"
   ]
  },
  {
   "cell_type": "code",
   "execution_count": 26,
   "id": "bb5d631a-48ec-45ec-ad4d-30880a89fb7f",
   "metadata": {
    "tags": []
   },
   "outputs": [],
   "source": [
    "selected_inn.to_csv(path_or_buf='selected_inn.csv')"
   ]
  }
 ],
 "metadata": {
  "kernelspec": {
   "display_name": "Python [conda env:sandbox]",
   "language": "python",
   "name": "conda-env-sandbox-py"
  },
  "language_info": {
   "codemirror_mode": {
    "name": "ipython",
    "version": 3
   },
   "file_extension": ".py",
   "mimetype": "text/x-python",
   "name": "python",
   "nbconvert_exporter": "python",
   "pygments_lexer": "ipython3",
   "version": "3.10.13"
  }
 },
 "nbformat": 4,
 "nbformat_minor": 5
}
