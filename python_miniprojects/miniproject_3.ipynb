{
 "cells": [
  {
   "cell_type": "markdown",
   "id": "6cfc47d8-3af7-4c8f-916c-1f09aa664abd",
   "metadata": {
    "tags": []
   },
   "source": [
    "# http://karpov.courses"
   ]
  },
  {
   "cell_type": "code",
   "execution_count": 1,
   "id": "f398efe7-11ee-459c-8ead-331d2b3c8c26",
   "metadata": {
    "tags": []
   },
   "outputs": [],
   "source": [
    "import pandas as pd\n",
    "import matplotlib.pyplot as plt\n",
    "import seaborn as sns"
   ]
  },
  {
   "cell_type": "markdown",
   "id": "b0c04451-e62f-4641-b0cd-2c641c954eb8",
   "metadata": {
    "tags": []
   },
   "source": [
    "### Описание\n",
    "На этот раз данные имеют следующую структуру:\n",
    "\n",
    "* записываются для каждого пользователя, совершившего покупки, каждый день\n",
    "* для каждой даты есть своя папка, внутри неё – папки для каждого пользователя\n",
    "* внутри каждой папки есть файл data.csv, где и хранятся данные\n",
    "\n",
    "Схематично выглядит так:\n",
    "└── data\n",
    "   ├── 2020-12-30\n",
    "   │  ├── FirstName_LastName1\n",
    "   │  │   └── data.csv\n",
    "   │  ├── FirstName_LastName2\n",
    "   │  │   └── data.csv\n",
    "   │  └── FirstName_LastName3\n",
    "   │      └── data.csv\n",
    "   └── 2020-12-31\n",
    "      ├── FirstName_LastName1\n",
    "      │   └── data.csv\n",
    "      └── FirstName_LastName5\n",
    "          └── data.csv\n",
    "          \n",
    "Например, 30 декабря три покупателя сделали покупки, 31 – два \n",
    "(папки 2020-12-30 и 2020-12-31 соответственно). Поскольку клиент FirstName_LastName1 купил товары в оба дня, для него имеется папка в папке для каждой из дат. Для других клиентов – по одной.\n",
    "\n",
    "Note: данные в задании покрывают другой временной период, имена тоже другие. Подробности, примеры и возможные подсказки можно найти в текстах следующих шагов."
   ]
  },
  {
   "cell_type": "markdown",
   "id": "651e2a8a-6f96-44c1-b004-33b14274db99",
   "metadata": {},
   "source": [
    "### Задание 1\n",
    "💀 Сложное задание! 💀\n",
    "\n",
    "Соберите все данные из папки data в один датафрэйм, имеющий следующие столбцы: колонки из самих файлов (product_id, quantity), имя пользователя (name), и дату этих покупок (date), соответствует названию папки, где лежит папка с пользователем).\n",
    "\n",
    "В качестве ответа укажите сумму по колонке quantity."
   ]
  },
  {
   "cell_type": "code",
   "execution_count": 8,
   "id": "1abd1782-8659-4410-a5e8-2446f3a35adf",
   "metadata": {
    "tags": []
   },
   "outputs": [],
   "source": [
    "from pathlib import Path\n",
    "from os import walk"
   ]
  },
  {
   "cell_type": "markdown",
   "id": "de52026b-715d-46a6-90f1-b9a11d702a36",
   "metadata": {},
   "source": [
    "Я знаю два способа считывания содержимого из сложной директории - при помощи библиотек pathlib или os.\n",
    "Они рассмотрены в двух ячейках ниже. Способ с pathlib выглядит менее громоздким. "
   ]
  },
  {
   "cell_type": "code",
   "execution_count": 28,
   "id": "eebcd8cf-8bde-48c4-a4af-8cbf308803e0",
   "metadata": {
    "tags": []
   },
   "outputs": [],
   "source": [
    "files_path_1 = []\n",
    "\n",
    "# Create a Path object for the root directory\n",
    "root_directory = Path('data/')\n",
    "\n",
    "# Use rglob to iterate through all files and directories recursively\n",
    "for file_path in root_directory.rglob('*.csv'):\n",
    "    # print(file_path)\n",
    "    files_path_1.append(file_path)"
   ]
  },
  {
   "cell_type": "code",
   "execution_count": 35,
   "id": "f5eaedab-c6d3-4bf4-afd1-e4f29cd08514",
   "metadata": {
    "tags": []
   },
   "outputs": [
    {
     "data": {
      "text/plain": [
       "('data', '2020-12-06', 'Vasiliy_Fedorov', 'data.csv')"
      ]
     },
     "execution_count": 35,
     "metadata": {},
     "output_type": "execute_result"
    }
   ],
   "source": [
    "files_path_1[0].parts"
   ]
  },
  {
   "cell_type": "code",
   "execution_count": 29,
   "id": "d012a76f-0122-4cde-b34b-668a4019091e",
   "metadata": {
    "tags": []
   },
   "outputs": [],
   "source": [
    "files_path_2 = []\n",
    "\n",
    "for root, dirs, files in walk(top='data'):\n",
    "    # print(files)\n",
    "    if files:\n",
    "        for file in files:\n",
    "            if '.csv' in file:\n",
    "                temp = root + '/' + file\n",
    "                files_path_2.append(temp)"
   ]
  },
  {
   "cell_type": "code",
   "execution_count": 69,
   "id": "e710edc0-f254-40a3-b410-94f149cff70b",
   "metadata": {
    "tags": []
   },
   "outputs": [
    {
     "name": "stdout",
     "output_type": "stream",
     "text": [
      "<class 'pandas.core.frame.DataFrame'>\n",
      "RangeIndex: 0 entries\n",
      "Data columns (total 4 columns):\n",
      " #   Column      Non-Null Count  Dtype \n",
      "---  ------      --------------  ----- \n",
      " 0   product_id  0 non-null      object\n",
      " 1   quantity    0 non-null      object\n",
      " 2   name        0 non-null      object\n",
      " 3   date        0 non-null      object\n",
      "dtypes: object(4)\n",
      "memory usage: 124.0+ bytes\n"
     ]
    }
   ],
   "source": [
    "# Create an empty DataFrame:\n",
    "column_names = ['product_id', 'quantity', 'name', 'date']\n",
    "df = pd.DataFrame(columns=column_names)\n",
    "df.info()"
   ]
  },
  {
   "cell_type": "code",
   "execution_count": 70,
   "id": "89464835-aa5d-48cc-99a1-c1c4f6b55e67",
   "metadata": {
    "tags": []
   },
   "outputs": [
    {
     "name": "stdout",
     "output_type": "stream",
     "text": [
      "<class 'pandas.core.frame.DataFrame'>\n",
      "RangeIndex: 0 entries\n",
      "Data columns (total 4 columns):\n",
      " #   Column      Non-Null Count  Dtype \n",
      "---  ------      --------------  ----- \n",
      " 0   product_id  0 non-null      int64 \n",
      " 1   quantity    0 non-null      int64 \n",
      " 2   name        0 non-null      object\n",
      " 3   date        0 non-null      object\n",
      "dtypes: int64(2), object(2)\n",
      "memory usage: 124.0+ bytes\n"
     ]
    }
   ],
   "source": [
    "# Change to appropriate dtype\n",
    "df = df.astype({'product_id': 'int', 'quantity': 'int',\n",
    "                'name': 'str', 'date': 'str'})\n",
    "df.info()"
   ]
  },
  {
   "cell_type": "code",
   "execution_count": 71,
   "id": "faa5ad87-588f-4cb2-908f-57140e797d70",
   "metadata": {
    "tags": []
   },
   "outputs": [],
   "source": [
    "for file_path in files_path_1:\n",
    "    # read the current file     \n",
    "    temp_df = pd.read_csv(file_path, sep=',', index_col=0)\n",
    "    # create 'name' and 'date' columns\n",
    "    temp_name = file_path.parts[2]\n",
    "    temp_date = file_path.parts[1]\n",
    "    temp_df['name'] = temp_name\n",
    "    temp_df['date'] = temp_date\n",
    "    # concat to the main DataFrame\n",
    "    df = pd.concat([df, temp_df])\n",
    "\n",
    "# print(df)"
   ]
  },
  {
   "cell_type": "code",
   "execution_count": 73,
   "id": "262ed1e0-02c0-4821-b74a-26b359e6bc50",
   "metadata": {},
   "outputs": [
    {
     "name": "stdout",
     "output_type": "stream",
     "text": [
      "480\n"
     ]
    }
   ],
   "source": [
    "quantity_sum = df['quantity'].sum()\n",
    "print(quantity_sum)"
   ]
  },
  {
   "cell_type": "markdown",
   "id": "3e433af1-7607-409b-8684-774cb7ed3b24",
   "metadata": {},
   "source": [
    "### Задание 2\n",
    "Выясните, какой пользователь купил больше всего товаров. Если их несколько, то перечислите имена через запятую с пробелом и в алфавитном порядке. Например:\n",
    "\n",
    "Anatoly_Karpov, Nekto_Ktotovich, Lena_Uhanova, Ignat, Sasha_Tokarev"
   ]
  },
  {
   "cell_type": "code",
   "execution_count": 81,
   "id": "a3c45387-0a73-4156-b942-dc12127411ee",
   "metadata": {
    "tags": []
   },
   "outputs": [
    {
     "data": {
      "text/html": [
       "<div>\n",
       "<style scoped>\n",
       "    .dataframe tbody tr th:only-of-type {\n",
       "        vertical-align: middle;\n",
       "    }\n",
       "\n",
       "    .dataframe tbody tr th {\n",
       "        vertical-align: top;\n",
       "    }\n",
       "\n",
       "    .dataframe thead th {\n",
       "        text-align: right;\n",
       "    }\n",
       "</style>\n",
       "<table border=\"1\" class=\"dataframe\">\n",
       "  <thead>\n",
       "    <tr style=\"text-align: right;\">\n",
       "      <th></th>\n",
       "      <th>quantity</th>\n",
       "    </tr>\n",
       "    <tr>\n",
       "      <th>name</th>\n",
       "      <th></th>\n",
       "    </tr>\n",
       "  </thead>\n",
       "  <tbody>\n",
       "    <tr>\n",
       "      <th>Alexey_Smirnov</th>\n",
       "      <td>52</td>\n",
       "    </tr>\n",
       "    <tr>\n",
       "      <th>Petr_Smirnov</th>\n",
       "      <td>52</td>\n",
       "    </tr>\n",
       "    <tr>\n",
       "      <th>Anton_Smirnov</th>\n",
       "      <td>45</td>\n",
       "    </tr>\n",
       "    <tr>\n",
       "      <th>Petr_Fedorov</th>\n",
       "      <td>34</td>\n",
       "    </tr>\n",
       "    <tr>\n",
       "      <th>Kirill_Fedorov</th>\n",
       "      <td>28</td>\n",
       "    </tr>\n",
       "  </tbody>\n",
       "</table>\n",
       "</div>"
      ],
      "text/plain": [
       "                quantity\n",
       "name                    \n",
       "Alexey_Smirnov        52\n",
       "Petr_Smirnov          52\n",
       "Anton_Smirnov         45\n",
       "Petr_Fedorov          34\n",
       "Kirill_Fedorov        28"
      ]
     },
     "execution_count": 81,
     "metadata": {},
     "output_type": "execute_result"
    }
   ],
   "source": [
    "df.groupby('name').agg({'quantity': 'sum'}) \\\n",
    "    .sort_values(by='quantity', ascending=False).head()"
   ]
  },
  {
   "cell_type": "code",
   "execution_count": 85,
   "id": "c2734253-29c8-4f5d-9618-0a7b566df395",
   "metadata": {
    "tags": []
   },
   "outputs": [
    {
     "name": "stdout",
     "output_type": "stream",
     "text": [
      "Alexey_Smirnov\n",
      "Petr_Smirnov\n"
     ]
    }
   ],
   "source": [
    "# Alternative\n",
    "temp = df.groupby('name').agg({'quantity': 'sum'}) \\\n",
    "    .sort_values(by='quantity', ascending=False)\n",
    "temp = temp[temp['quantity'] == temp['quantity'].max()]\n",
    "\n",
    "for name in temp.index:\n",
    "    print(name)"
   ]
  },
  {
   "cell_type": "code",
   "execution_count": null,
   "id": "0c87cda2-9a00-42c0-82a7-5c7d064b1e7e",
   "metadata": {},
   "outputs": [],
   "source": []
  },
  {
   "cell_type": "markdown",
   "id": "a8df92ff-c549-4b75-9696-69477eac5090",
   "metadata": {},
   "source": [
    "### Задание 3\n",
    "Найдите топ-10 товаров по числу проданных единиц за всё время и постройте барплот (столбчатую диаграмму, sns.barplot), где:\n",
    "* по оси x – идентификаторы товаров (product_id) \n",
    "* по оси y – суммарное число их покупок (сколько товаров с таким product_id было продано)\n",
    "\n",
    "Для практики попробуйте изменить параметры графика: цвет (color), прозрачность (alpha), сортировку значений по оси х (order). \n",
    "\n",
    "В качестве ответа укажите, сколько было продано единиц товара с product_id равным 56."
   ]
  },
  {
   "cell_type": "code",
   "execution_count": 87,
   "id": "8b0e615d-c645-4841-b316-0b93debdb762",
   "metadata": {
    "tags": []
   },
   "outputs": [
    {
     "data": {
      "text/html": [
       "<div>\n",
       "<style scoped>\n",
       "    .dataframe tbody tr th:only-of-type {\n",
       "        vertical-align: middle;\n",
       "    }\n",
       "\n",
       "    .dataframe tbody tr th {\n",
       "        vertical-align: top;\n",
       "    }\n",
       "\n",
       "    .dataframe thead th {\n",
       "        text-align: right;\n",
       "    }\n",
       "</style>\n",
       "<table border=\"1\" class=\"dataframe\">\n",
       "  <thead>\n",
       "    <tr style=\"text-align: right;\">\n",
       "      <th></th>\n",
       "      <th>product_id</th>\n",
       "      <th>quantity</th>\n",
       "      <th>name</th>\n",
       "      <th>date</th>\n",
       "    </tr>\n",
       "  </thead>\n",
       "  <tbody>\n",
       "    <tr>\n",
       "      <th>0</th>\n",
       "      <td>56</td>\n",
       "      <td>4</td>\n",
       "      <td>Vasiliy_Fedorov</td>\n",
       "      <td>2020-12-06</td>\n",
       "    </tr>\n",
       "    <tr>\n",
       "      <th>1</th>\n",
       "      <td>97</td>\n",
       "      <td>3</td>\n",
       "      <td>Vasiliy_Fedorov</td>\n",
       "      <td>2020-12-06</td>\n",
       "    </tr>\n",
       "    <tr>\n",
       "      <th>2</th>\n",
       "      <td>79</td>\n",
       "      <td>3</td>\n",
       "      <td>Vasiliy_Fedorov</td>\n",
       "      <td>2020-12-06</td>\n",
       "    </tr>\n",
       "    <tr>\n",
       "      <th>3</th>\n",
       "      <td>29</td>\n",
       "      <td>5</td>\n",
       "      <td>Vasiliy_Fedorov</td>\n",
       "      <td>2020-12-06</td>\n",
       "    </tr>\n",
       "    <tr>\n",
       "      <th>0</th>\n",
       "      <td>73</td>\n",
       "      <td>5</td>\n",
       "      <td>Alexey_Fedorov</td>\n",
       "      <td>2020-12-08</td>\n",
       "    </tr>\n",
       "  </tbody>\n",
       "</table>\n",
       "</div>"
      ],
      "text/plain": [
       "   product_id  quantity             name        date\n",
       "0          56         4  Vasiliy_Fedorov  2020-12-06\n",
       "1          97         3  Vasiliy_Fedorov  2020-12-06\n",
       "2          79         3  Vasiliy_Fedorov  2020-12-06\n",
       "3          29         5  Vasiliy_Fedorov  2020-12-06\n",
       "0          73         5   Alexey_Fedorov  2020-12-08"
      ]
     },
     "execution_count": 87,
     "metadata": {},
     "output_type": "execute_result"
    }
   ],
   "source": [
    "df.head()"
   ]
  },
  {
   "cell_type": "code",
   "execution_count": 91,
   "id": "440cd9e5-e60b-41a8-ac42-0b79b1a9652d",
   "metadata": {
    "tags": []
   },
   "outputs": [
    {
     "data": {
      "text/html": [
       "<div>\n",
       "<style scoped>\n",
       "    .dataframe tbody tr th:only-of-type {\n",
       "        vertical-align: middle;\n",
       "    }\n",
       "\n",
       "    .dataframe tbody tr th {\n",
       "        vertical-align: top;\n",
       "    }\n",
       "\n",
       "    .dataframe thead th {\n",
       "        text-align: right;\n",
       "    }\n",
       "</style>\n",
       "<table border=\"1\" class=\"dataframe\">\n",
       "  <thead>\n",
       "    <tr style=\"text-align: right;\">\n",
       "      <th></th>\n",
       "      <th>quantity</th>\n",
       "    </tr>\n",
       "    <tr>\n",
       "      <th>product_id</th>\n",
       "      <th></th>\n",
       "    </tr>\n",
       "  </thead>\n",
       "  <tbody>\n",
       "    <tr>\n",
       "      <th>27</th>\n",
       "      <td>20</td>\n",
       "    </tr>\n",
       "    <tr>\n",
       "      <th>56</th>\n",
       "      <td>18</td>\n",
       "    </tr>\n",
       "    <tr>\n",
       "      <th>24</th>\n",
       "      <td>15</td>\n",
       "    </tr>\n",
       "    <tr>\n",
       "      <th>74</th>\n",
       "      <td>15</td>\n",
       "    </tr>\n",
       "    <tr>\n",
       "      <th>41</th>\n",
       "      <td>14</td>\n",
       "    </tr>\n",
       "    <tr>\n",
       "      <th>34</th>\n",
       "      <td>13</td>\n",
       "    </tr>\n",
       "    <tr>\n",
       "      <th>94</th>\n",
       "      <td>13</td>\n",
       "    </tr>\n",
       "    <tr>\n",
       "      <th>66</th>\n",
       "      <td>13</td>\n",
       "    </tr>\n",
       "    <tr>\n",
       "      <th>92</th>\n",
       "      <td>12</td>\n",
       "    </tr>\n",
       "    <tr>\n",
       "      <th>50</th>\n",
       "      <td>12</td>\n",
       "    </tr>\n",
       "  </tbody>\n",
       "</table>\n",
       "</div>"
      ],
      "text/plain": [
       "            quantity\n",
       "product_id          \n",
       "27                20\n",
       "56                18\n",
       "24                15\n",
       "74                15\n",
       "41                14\n",
       "34                13\n",
       "94                13\n",
       "66                13\n",
       "92                12\n",
       "50                12"
      ]
     },
     "execution_count": 91,
     "metadata": {},
     "output_type": "execute_result"
    }
   ],
   "source": [
    "temp = df.groupby(by='product_id').agg({'quantity': 'sum'}) \\\n",
    "    .sort_values('quantity', ascending=False)\n",
    "temp.head(10)"
   ]
  },
  {
   "cell_type": "code",
   "execution_count": 101,
   "id": "95e2febf-1d1e-481f-bab2-f8ffe01babec",
   "metadata": {
    "tags": []
   },
   "outputs": [
    {
     "name": "stderr",
     "output_type": "stream",
     "text": [
      "/Users/igor/miniconda3/envs/sandbox/lib/python3.10/site-packages/seaborn/_oldcore.py:1498: FutureWarning: is_categorical_dtype is deprecated and will be removed in a future version. Use isinstance(dtype, CategoricalDtype) instead\n",
      "  if pd.api.types.is_categorical_dtype(vector):\n",
      "/Users/igor/miniconda3/envs/sandbox/lib/python3.10/site-packages/seaborn/_oldcore.py:1498: FutureWarning: is_categorical_dtype is deprecated and will be removed in a future version. Use isinstance(dtype, CategoricalDtype) instead\n",
      "  if pd.api.types.is_categorical_dtype(vector):\n",
      "/Users/igor/miniconda3/envs/sandbox/lib/python3.10/site-packages/seaborn/_oldcore.py:1498: FutureWarning: is_categorical_dtype is deprecated and will be removed in a future version. Use isinstance(dtype, CategoricalDtype) instead\n",
      "  if pd.api.types.is_categorical_dtype(vector):\n"
     ]
    },
    {
     "data": {
      "image/png": "[encoded data removed]",
      "text/plain": [
       "<Figure size 1800x600 with 1 Axes>"
      ]
     },
     "metadata": {},
     "output_type": "display_data"
    }
   ],
   "source": [
    "fig, ax = plt.subplots(figsize=(12, 4), dpi=150)\n",
    "ax = sns.barplot(data=temp.head(10), x=temp.head(10).index, y='quantity',\n",
    "                palette='flare', zorder=2)\n",
    "ax.grid(zorder=1);"
   ]
  },
  {
   "cell_type": "markdown",
   "id": "e5293a8c-e28a-4e07-abea-e18c4c54019c",
   "metadata": {},
   "source": [
    "### Задание 4\n",
    "Посмотрим на продажи по дням! Для визуализации снова используйте барплот, только теперь по оси x будут дни, по которым у нас есть данные (date). "
   ]
  },
  {
   "cell_type": "code",
   "execution_count": 102,
   "id": "12db1323-652e-4c8e-a7a7-d7fd30ddad9a",
   "metadata": {
    "tags": []
   },
   "outputs": [
    {
     "data": {
      "text/html": [
       "<div>\n",
       "<style scoped>\n",
       "    .dataframe tbody tr th:only-of-type {\n",
       "        vertical-align: middle;\n",
       "    }\n",
       "\n",
       "    .dataframe tbody tr th {\n",
       "        vertical-align: top;\n",
       "    }\n",
       "\n",
       "    .dataframe thead th {\n",
       "        text-align: right;\n",
       "    }\n",
       "</style>\n",
       "<table border=\"1\" class=\"dataframe\">\n",
       "  <thead>\n",
       "    <tr style=\"text-align: right;\">\n",
       "      <th></th>\n",
       "      <th>quantity</th>\n",
       "    </tr>\n",
       "    <tr>\n",
       "      <th>date</th>\n",
       "      <th></th>\n",
       "    </tr>\n",
       "  </thead>\n",
       "  <tbody>\n",
       "    <tr>\n",
       "      <th>2020-12-04</th>\n",
       "      <td>113</td>\n",
       "    </tr>\n",
       "    <tr>\n",
       "      <th>2020-12-07</th>\n",
       "      <td>94</td>\n",
       "    </tr>\n",
       "    <tr>\n",
       "      <th>2020-12-09</th>\n",
       "      <td>69</td>\n",
       "    </tr>\n",
       "    <tr>\n",
       "      <th>2020-12-08</th>\n",
       "      <td>68</td>\n",
       "    </tr>\n",
       "    <tr>\n",
       "      <th>2020-12-05</th>\n",
       "      <td>61</td>\n",
       "    </tr>\n",
       "    <tr>\n",
       "      <th>2020-12-03</th>\n",
       "      <td>60</td>\n",
       "    </tr>\n",
       "    <tr>\n",
       "      <th>2020-12-06</th>\n",
       "      <td>15</td>\n",
       "    </tr>\n",
       "  </tbody>\n",
       "</table>\n",
       "</div>"
      ],
      "text/plain": [
       "            quantity\n",
       "date                \n",
       "2020-12-04       113\n",
       "2020-12-07        94\n",
       "2020-12-09        69\n",
       "2020-12-08        68\n",
       "2020-12-05        61\n",
       "2020-12-03        60\n",
       "2020-12-06        15"
      ]
     },
     "execution_count": 102,
     "metadata": {},
     "output_type": "execute_result"
    }
   ],
   "source": [
    "temp = df.groupby(by='date').agg({'quantity': 'sum'}) \\\n",
    "    .sort_values('quantity', ascending=False)\n",
    "temp.head(10)"
   ]
  },
  {
   "cell_type": "code",
   "execution_count": 103,
   "id": "bd92cdc9-842f-4f3a-85b5-b89aa677c994",
   "metadata": {
    "tags": []
   },
   "outputs": [
    {
     "name": "stderr",
     "output_type": "stream",
     "text": [
      "/Users/igor/miniconda3/envs/sandbox/lib/python3.10/site-packages/seaborn/_oldcore.py:1498: FutureWarning: is_categorical_dtype is deprecated and will be removed in a future version. Use isinstance(dtype, CategoricalDtype) instead\n",
      "  if pd.api.types.is_categorical_dtype(vector):\n",
      "/Users/igor/miniconda3/envs/sandbox/lib/python3.10/site-packages/seaborn/_oldcore.py:1498: FutureWarning: is_categorical_dtype is deprecated and will be removed in a future version. Use isinstance(dtype, CategoricalDtype) instead\n",
      "  if pd.api.types.is_categorical_dtype(vector):\n",
      "/Users/igor/miniconda3/envs/sandbox/lib/python3.10/site-packages/seaborn/_oldcore.py:1498: FutureWarning: is_categorical_dtype is deprecated and will be removed in a future version. Use isinstance(dtype, CategoricalDtype) instead\n",
      "  if pd.api.types.is_categorical_dtype(vector):\n"
     ]
    },
    {
     "data": {
      "image/png": "[encoded data removed]",
      "text/plain": [
       "<Figure size 1800x600 with 1 Axes>"
      ]
     },
     "metadata": {},
     "output_type": "display_data"
    }
   ],
   "source": [
    "fig, ax = plt.subplots(figsize=(12, 4), dpi=150)\n",
    "ax = sns.barplot(data=temp.head(10), x=temp.head(10).index, y='quantity',\n",
    "                palette='flare', zorder=2)\n",
    "ax.grid(zorder=1);"
   ]
  },
  {
   "cell_type": "markdown",
   "id": "5ff13371-f8cb-41cd-b284-af09de34fa94",
   "metadata": {},
   "source": [
    "### Задание 5\n",
    "💀 Сложное задание! 💀\n",
    "\n",
    "Сколько пользователей приобрели какой-либо товар повторно (более 1 раза)? Повтором будем считать покупку товара с одинаковым product_id, совершенную в разные дни. \n",
    "\n",
    "Например, пользователь Sasha Tsarev дважды приобрел товар 6. Поскольку покупка была совершена в один и тот же день, повторной в данном случае она считаться не будет. Katya Skriptsova также сделал две покупки товара 7, но в разные дни, поэтому этот случай засчитывается. "
   ]
  },
  {
   "cell_type": "code",
   "execution_count": 104,
   "id": "2da7f257-e113-47d7-9987-a97dce404dd2",
   "metadata": {
    "tags": []
   },
   "outputs": [
    {
     "data": {
      "text/html": [
       "<div>\n",
       "<style scoped>\n",
       "    .dataframe tbody tr th:only-of-type {\n",
       "        vertical-align: middle;\n",
       "    }\n",
       "\n",
       "    .dataframe tbody tr th {\n",
       "        vertical-align: top;\n",
       "    }\n",
       "\n",
       "    .dataframe thead th {\n",
       "        text-align: right;\n",
       "    }\n",
       "</style>\n",
       "<table border=\"1\" class=\"dataframe\">\n",
       "  <thead>\n",
       "    <tr style=\"text-align: right;\">\n",
       "      <th></th>\n",
       "      <th>product_id</th>\n",
       "      <th>quantity</th>\n",
       "      <th>name</th>\n",
       "      <th>date</th>\n",
       "    </tr>\n",
       "  </thead>\n",
       "  <tbody>\n",
       "    <tr>\n",
       "      <th>0</th>\n",
       "      <td>56</td>\n",
       "      <td>4</td>\n",
       "      <td>Vasiliy_Fedorov</td>\n",
       "      <td>2020-12-06</td>\n",
       "    </tr>\n",
       "    <tr>\n",
       "      <th>1</th>\n",
       "      <td>97</td>\n",
       "      <td>3</td>\n",
       "      <td>Vasiliy_Fedorov</td>\n",
       "      <td>2020-12-06</td>\n",
       "    </tr>\n",
       "    <tr>\n",
       "      <th>2</th>\n",
       "      <td>79</td>\n",
       "      <td>3</td>\n",
       "      <td>Vasiliy_Fedorov</td>\n",
       "      <td>2020-12-06</td>\n",
       "    </tr>\n",
       "    <tr>\n",
       "      <th>3</th>\n",
       "      <td>29</td>\n",
       "      <td>5</td>\n",
       "      <td>Vasiliy_Fedorov</td>\n",
       "      <td>2020-12-06</td>\n",
       "    </tr>\n",
       "    <tr>\n",
       "      <th>0</th>\n",
       "      <td>73</td>\n",
       "      <td>5</td>\n",
       "      <td>Alexey_Fedorov</td>\n",
       "      <td>2020-12-08</td>\n",
       "    </tr>\n",
       "  </tbody>\n",
       "</table>\n",
       "</div>"
      ],
      "text/plain": [
       "   product_id  quantity             name        date\n",
       "0          56         4  Vasiliy_Fedorov  2020-12-06\n",
       "1          97         3  Vasiliy_Fedorov  2020-12-06\n",
       "2          79         3  Vasiliy_Fedorov  2020-12-06\n",
       "3          29         5  Vasiliy_Fedorov  2020-12-06\n",
       "0          73         5   Alexey_Fedorov  2020-12-08"
      ]
     },
     "execution_count": 104,
     "metadata": {},
     "output_type": "execute_result"
    }
   ],
   "source": [
    "df.head()"
   ]
  },
  {
   "cell_type": "code",
   "execution_count": 140,
   "id": "2dd5c740-6722-4eda-ba9e-f6deb6c551ca",
   "metadata": {
    "tags": []
   },
   "outputs": [
    {
     "data": {
      "text/html": [
       "<div>\n",
       "<style scoped>\n",
       "    .dataframe tbody tr th:only-of-type {\n",
       "        vertical-align: middle;\n",
       "    }\n",
       "\n",
       "    .dataframe tbody tr th {\n",
       "        vertical-align: top;\n",
       "    }\n",
       "\n",
       "    .dataframe thead th {\n",
       "        text-align: right;\n",
       "    }\n",
       "</style>\n",
       "<table border=\"1\" class=\"dataframe\">\n",
       "  <thead>\n",
       "    <tr style=\"text-align: right;\">\n",
       "      <th></th>\n",
       "      <th>name</th>\n",
       "      <th>date</th>\n",
       "      <th>product_id</th>\n",
       "      <th>occurrences_per_day</th>\n",
       "    </tr>\n",
       "  </thead>\n",
       "  <tbody>\n",
       "    <tr>\n",
       "      <th>0</th>\n",
       "      <td>Alexey_Fedorov</td>\n",
       "      <td>2020-12-05</td>\n",
       "      <td>13</td>\n",
       "      <td>1</td>\n",
       "    </tr>\n",
       "    <tr>\n",
       "      <th>1</th>\n",
       "      <td>Alexey_Fedorov</td>\n",
       "      <td>2020-12-05</td>\n",
       "      <td>50</td>\n",
       "      <td>1</td>\n",
       "    </tr>\n",
       "    <tr>\n",
       "      <th>2</th>\n",
       "      <td>Alexey_Fedorov</td>\n",
       "      <td>2020-12-07</td>\n",
       "      <td>15</td>\n",
       "      <td>1</td>\n",
       "    </tr>\n",
       "    <tr>\n",
       "      <th>3</th>\n",
       "      <td>Alexey_Fedorov</td>\n",
       "      <td>2020-12-07</td>\n",
       "      <td>54</td>\n",
       "      <td>1</td>\n",
       "    </tr>\n",
       "    <tr>\n",
       "      <th>4</th>\n",
       "      <td>Alexey_Fedorov</td>\n",
       "      <td>2020-12-07</td>\n",
       "      <td>77</td>\n",
       "      <td>1</td>\n",
       "    </tr>\n",
       "    <tr>\n",
       "      <th>...</th>\n",
       "      <td>...</td>\n",
       "      <td>...</td>\n",
       "      <td>...</td>\n",
       "      <td>...</td>\n",
       "    </tr>\n",
       "    <tr>\n",
       "      <th>155</th>\n",
       "      <td>Vasiliy_Ivanov</td>\n",
       "      <td>2020-12-09</td>\n",
       "      <td>54</td>\n",
       "      <td>1</td>\n",
       "    </tr>\n",
       "    <tr>\n",
       "      <th>156</th>\n",
       "      <td>Vasiliy_Ivanov</td>\n",
       "      <td>2020-12-09</td>\n",
       "      <td>74</td>\n",
       "      <td>1</td>\n",
       "    </tr>\n",
       "    <tr>\n",
       "      <th>157</th>\n",
       "      <td>Vasiliy_Ivanov</td>\n",
       "      <td>2020-12-09</td>\n",
       "      <td>82</td>\n",
       "      <td>1</td>\n",
       "    </tr>\n",
       "    <tr>\n",
       "      <th>158</th>\n",
       "      <td>Vasiliy_Petrov</td>\n",
       "      <td>2020-12-03</td>\n",
       "      <td>27</td>\n",
       "      <td>1</td>\n",
       "    </tr>\n",
       "    <tr>\n",
       "      <th>159</th>\n",
       "      <td>Vasiliy_Petrov</td>\n",
       "      <td>2020-12-03</td>\n",
       "      <td>78</td>\n",
       "      <td>1</td>\n",
       "    </tr>\n",
       "  </tbody>\n",
       "</table>\n",
       "<p>160 rows × 4 columns</p>\n",
       "</div>"
      ],
      "text/plain": [
       "               name        date  product_id  occurrences_per_day\n",
       "0    Alexey_Fedorov  2020-12-05          13                    1\n",
       "1    Alexey_Fedorov  2020-12-05          50                    1\n",
       "2    Alexey_Fedorov  2020-12-07          15                    1\n",
       "3    Alexey_Fedorov  2020-12-07          54                    1\n",
       "4    Alexey_Fedorov  2020-12-07          77                    1\n",
       "..              ...         ...         ...                  ...\n",
       "155  Vasiliy_Ivanov  2020-12-09          54                    1\n",
       "156  Vasiliy_Ivanov  2020-12-09          74                    1\n",
       "157  Vasiliy_Ivanov  2020-12-09          82                    1\n",
       "158  Vasiliy_Petrov  2020-12-03          27                    1\n",
       "159  Vasiliy_Petrov  2020-12-03          78                    1\n",
       "\n",
       "[160 rows x 4 columns]"
      ]
     },
     "execution_count": 140,
     "metadata": {},
     "output_type": "execute_result"
    }
   ],
   "source": [
    "temp = df.groupby(by=['name', 'date']).agg({\"product_id\": \"value_counts\"})\n",
    "temp.rename(columns={\"product_id\": 'occurrences_per_day'}, inplace=True)\n",
    "temp.reset_index(inplace=True)\n",
    "temp"
   ]
  },
  {
   "cell_type": "code",
   "execution_count": 141,
   "id": "c6e6c5e2-fbc1-486d-b0d8-86c1ff83ccc6",
   "metadata": {
    "tags": []
   },
   "outputs": [
    {
     "data": {
      "text/html": [
       "<div>\n",
       "<style scoped>\n",
       "    .dataframe tbody tr th:only-of-type {\n",
       "        vertical-align: middle;\n",
       "    }\n",
       "\n",
       "    .dataframe tbody tr th {\n",
       "        vertical-align: top;\n",
       "    }\n",
       "\n",
       "    .dataframe thead th {\n",
       "        text-align: right;\n",
       "    }\n",
       "</style>\n",
       "<table border=\"1\" class=\"dataframe\">\n",
       "  <thead>\n",
       "    <tr style=\"text-align: right;\">\n",
       "      <th></th>\n",
       "      <th></th>\n",
       "      <th>occurrences_overall</th>\n",
       "    </tr>\n",
       "    <tr>\n",
       "      <th>name</th>\n",
       "      <th>product_id</th>\n",
       "      <th></th>\n",
       "    </tr>\n",
       "  </thead>\n",
       "  <tbody>\n",
       "    <tr>\n",
       "      <th rowspan=\"5\" valign=\"top\">Alexey_Fedorov</th>\n",
       "      <th>13</th>\n",
       "      <td>1</td>\n",
       "    </tr>\n",
       "    <tr>\n",
       "      <th>15</th>\n",
       "      <td>1</td>\n",
       "    </tr>\n",
       "    <tr>\n",
       "      <th>77</th>\n",
       "      <td>1</td>\n",
       "    </tr>\n",
       "    <tr>\n",
       "      <th>18</th>\n",
       "      <td>1</td>\n",
       "    </tr>\n",
       "    <tr>\n",
       "      <th>34</th>\n",
       "      <td>1</td>\n",
       "    </tr>\n",
       "    <tr>\n",
       "      <th>...</th>\n",
       "      <th>...</th>\n",
       "      <td>...</td>\n",
       "    </tr>\n",
       "    <tr>\n",
       "      <th rowspan=\"3\" valign=\"top\">Vasiliy_Ivanov</th>\n",
       "      <th>83</th>\n",
       "      <td>1</td>\n",
       "    </tr>\n",
       "    <tr>\n",
       "      <th>94</th>\n",
       "      <td>1</td>\n",
       "    </tr>\n",
       "    <tr>\n",
       "      <th>95</th>\n",
       "      <td>1</td>\n",
       "    </tr>\n",
       "    <tr>\n",
       "      <th rowspan=\"2\" valign=\"top\">Vasiliy_Petrov</th>\n",
       "      <th>27</th>\n",
       "      <td>1</td>\n",
       "    </tr>\n",
       "    <tr>\n",
       "      <th>78</th>\n",
       "      <td>1</td>\n",
       "    </tr>\n",
       "  </tbody>\n",
       "</table>\n",
       "<p>158 rows × 1 columns</p>\n",
       "</div>"
      ],
      "text/plain": [
       "                           occurrences_overall\n",
       "name           product_id                     \n",
       "Alexey_Fedorov 13                            1\n",
       "               15                            1\n",
       "               77                            1\n",
       "               18                            1\n",
       "               34                            1\n",
       "...                                        ...\n",
       "Vasiliy_Ivanov 83                            1\n",
       "               94                            1\n",
       "               95                            1\n",
       "Vasiliy_Petrov 27                            1\n",
       "               78                            1\n",
       "\n",
       "[158 rows x 1 columns]"
      ]
     },
     "execution_count": 141,
     "metadata": {},
     "output_type": "execute_result"
    }
   ],
   "source": [
    "# Now we know that if a specific product_id appears more than 1 time for a specific user,\n",
    "# the product is bought on some other day\n",
    "new_temp = temp.groupby(by='name').agg({'product_id': 'value_counts'})\n",
    "new_temp.rename(columns={\"product_id\": 'occurrences_overall'}, inplace=True)\n",
    "new_temp"
   ]
  },
  {
   "cell_type": "code",
   "execution_count": 137,
   "id": "23d55678-ceaa-4eee-b715-dbc545dc3f4f",
   "metadata": {
    "tags": []
   },
   "outputs": [
    {
     "data": {
      "text/html": [
       "<div>\n",
       "<style scoped>\n",
       "    .dataframe tbody tr th:only-of-type {\n",
       "        vertical-align: middle;\n",
       "    }\n",
       "\n",
       "    .dataframe tbody tr th {\n",
       "        vertical-align: top;\n",
       "    }\n",
       "\n",
       "    .dataframe thead th {\n",
       "        text-align: right;\n",
       "    }\n",
       "</style>\n",
       "<table border=\"1\" class=\"dataframe\">\n",
       "  <thead>\n",
       "    <tr style=\"text-align: right;\">\n",
       "      <th></th>\n",
       "      <th></th>\n",
       "      <th>occurrences_overall</th>\n",
       "    </tr>\n",
       "    <tr>\n",
       "      <th>name</th>\n",
       "      <th>product_id</th>\n",
       "      <th></th>\n",
       "    </tr>\n",
       "  </thead>\n",
       "  <tbody>\n",
       "    <tr>\n",
       "      <th>Anton_Ivanov</th>\n",
       "      <th>15</th>\n",
       "      <td>2</td>\n",
       "    </tr>\n",
       "    <tr>\n",
       "      <th>Petr_Fedorov</th>\n",
       "      <th>94</th>\n",
       "      <td>2</td>\n",
       "    </tr>\n",
       "  </tbody>\n",
       "</table>\n",
       "</div>"
      ],
      "text/plain": [
       "                         occurrences_overall\n",
       "name         product_id                     \n",
       "Anton_Ivanov 15                            2\n",
       "Petr_Fedorov 94                            2"
      ]
     },
     "execution_count": 137,
     "metadata": {},
     "output_type": "execute_result"
    }
   ],
   "source": [
    "new_temp[new_temp['occurrences_overall'] > 1]"
   ]
  },
  {
   "cell_type": "markdown",
   "id": "003d69ab-6eb1-4ed7-9e83-57a5447b47eb",
   "metadata": {
    "tags": []
   },
   "source": [
    "### Дополнительный проект\n",
    "И небольшой минипроект на фильтрацию данных!\n",
    "\n",
    "Имеется таблица с записями о компаниях, включая их ИНН, и отдельный текстовый файл с набором ИНН (колонка head_inn), которые хранятся в папке 4_inn.\n",
    "* inn.xls — таблица в экселевском формате\n",
    "* necessary_inn.txt — перечень необходимых ИНН в текстовом формате"
   ]
  },
  {
   "cell_type": "markdown",
   "id": "f5ba8d1a-d667-4005-98f3-6a7ad99827d8",
   "metadata": {
    "tags": []
   },
   "source": [
    "#### Задачи\n",
    "1. извлечь из таблицы записи с ИНН, указанными в текстовом файле\n",
    "2. записать результат в файл selected_inn.csv\n",
    "\n",
    "В качестве проверки укажите сумму колонки income,RUB в отобранных данных.\n",
    "NB! У набора данных necessary_inn.txt нет заголовка, поэтому вам пригодится аргумент header=None. "
   ]
  },
  {
   "cell_type": "code",
   "execution_count": 167,
   "id": "2a97a0e0-1ab5-48ec-b7d0-df6fdba48615",
   "metadata": {
    "tags": []
   },
   "outputs": [
    {
     "name": "stdout",
     "output_type": "stream",
     "text": [
      "['394609645484', '281578625230', '923769811917', '998694734508', '271011690615']\n",
      "[394609645484, 281578625230, 923769811917, 998694734508, 271011690615]\n"
     ]
    }
   ],
   "source": [
    "necessary_inn = Path('4_necessary_inn.txt').read_text()  # whole text\n",
    "necessary_inn = necessary_inn.splitlines()  # redefiniton\n",
    "print(necessary_inn[:5])  # this is str!\n",
    "\n",
    "for i in range(len(necessary_inn)):\n",
    "    necessary_inn[i] = int(necessary_inn[i])\n",
    "print(necessary_inn[:5])  # this is int   "
   ]
  },
  {
   "cell_type": "code",
   "execution_count": 158,
   "id": "7f8a9bec-80ca-4ed9-9a2d-02219a27b88d",
   "metadata": {
    "tags": []
   },
   "outputs": [
    {
     "data": {
      "text/html": [
       "<div>\n",
       "<style scoped>\n",
       "    .dataframe tbody tr th:only-of-type {\n",
       "        vertical-align: middle;\n",
       "    }\n",
       "\n",
       "    .dataframe tbody tr th {\n",
       "        vertical-align: top;\n",
       "    }\n",
       "\n",
       "    .dataframe thead th {\n",
       "        text-align: right;\n",
       "    }\n",
       "</style>\n",
       "<table border=\"1\" class=\"dataframe\">\n",
       "  <thead>\n",
       "    <tr style=\"text-align: right;\">\n",
       "      <th></th>\n",
       "      <th>name</th>\n",
       "      <th>reg_number</th>\n",
       "      <th>address</th>\n",
       "      <th>head</th>\n",
       "      <th>head_job</th>\n",
       "      <th>head_inn</th>\n",
       "      <th>phone</th>\n",
       "      <th>email</th>\n",
       "      <th>site</th>\n",
       "      <th>registration_date</th>\n",
       "      <th>nalogoplatelschik_code</th>\n",
       "      <th>oktmo_code</th>\n",
       "      <th>okato_code</th>\n",
       "      <th>registration_region</th>\n",
       "      <th>okato_name</th>\n",
       "      <th>field</th>\n",
       "      <th>capital,RUB</th>\n",
       "      <th>income,RUB</th>\n",
       "    </tr>\n",
       "    <tr>\n",
       "      <th>#</th>\n",
       "      <th></th>\n",
       "      <th></th>\n",
       "      <th></th>\n",
       "      <th></th>\n",
       "      <th></th>\n",
       "      <th></th>\n",
       "      <th></th>\n",
       "      <th></th>\n",
       "      <th></th>\n",
       "      <th></th>\n",
       "      <th></th>\n",
       "      <th></th>\n",
       "      <th></th>\n",
       "      <th></th>\n",
       "      <th></th>\n",
       "      <th></th>\n",
       "      <th></th>\n",
       "      <th></th>\n",
       "    </tr>\n",
       "  </thead>\n",
       "  <tbody>\n",
       "    <tr>\n",
       "      <th>0</th>\n",
       "      <td>ЗАО «Власова, Макаров и Шашков»</td>\n",
       "      <td>1143692580560</td>\n",
       "      <td>д. Кирово-Чепецк, пр. Металлургов, д. 537 к. 3...</td>\n",
       "      <td>Жданов Карл Виленович</td>\n",
       "      <td>Маммолог</td>\n",
       "      <td>109092209811</td>\n",
       "      <td>+7 (559) 338-87-76</td>\n",
       "      <td>bogdanovavtonom@yahoo.com</td>\n",
       "      <td>ooo.info</td>\n",
       "      <td>2015-01-07</td>\n",
       "      <td>2006-10-04</td>\n",
       "      <td>21112877268</td>\n",
       "      <td>73423615032</td>\n",
       "      <td>Ulan-Ude</td>\n",
       "      <td>к. Тосно, ул. Пушкинская, д. 896, 617222</td>\n",
       "      <td>Синхронизация критически важных отношений</td>\n",
       "      <td>54875526078</td>\n",
       "      <td>32205872896</td>\n",
       "    </tr>\n",
       "    <tr>\n",
       "      <th>1</th>\n",
       "      <td>РАО «Тимофеева, Алексеева и Кузнецова»</td>\n",
       "      <td>9342309660697</td>\n",
       "      <td>г. Арзамас, наб. Фестивальная, д. 7 стр. 8/2, ...</td>\n",
       "      <td>Рожков Харлампий Алексеевич</td>\n",
       "      <td>Воспитатель</td>\n",
       "      <td>704229465069</td>\n",
       "      <td>8 (632) 620-8879</td>\n",
       "      <td>safonovantonin@rao.org</td>\n",
       "      <td>ooo.net</td>\n",
       "      <td>1990-05-16</td>\n",
       "      <td>2019-01-18</td>\n",
       "      <td>18393547520</td>\n",
       "      <td>19072454279</td>\n",
       "      <td>Tyoply Stan</td>\n",
       "      <td>ст. Кяхта, бул. Нефтяников, д. 24, 768742</td>\n",
       "      <td>Формирование заказных методик</td>\n",
       "      <td>33876448811</td>\n",
       "      <td>47437574301</td>\n",
       "    </tr>\n",
       "    <tr>\n",
       "      <th>2</th>\n",
       "      <td>РАО «Юдин-Ефимова»</td>\n",
       "      <td>1277485323451</td>\n",
       "      <td>п. Меренга, алл. Достоевского, д. 3/4 к. 497, ...</td>\n",
       "      <td>Филимон Фадеевич Дьячков</td>\n",
       "      <td>Автослесарь</td>\n",
       "      <td>267655036377</td>\n",
       "      <td>+74925330378</td>\n",
       "      <td>kdorofeev@npo.ru</td>\n",
       "      <td>ao.com</td>\n",
       "      <td>1982-11-04</td>\n",
       "      <td>1986-06-19</td>\n",
       "      <td>56104355836</td>\n",
       "      <td>18629292792</td>\n",
       "      <td>Danilov</td>\n",
       "      <td>клх Усолье Сибирское, алл. Шишкина, д. 3/9 к. ...</td>\n",
       "      <td>Максимизация корпоративных метрик</td>\n",
       "      <td>94073834991</td>\n",
       "      <td>7701710065</td>\n",
       "    </tr>\n",
       "    <tr>\n",
       "      <th>3</th>\n",
       "      <td>Доронин Инкорпорэйтед</td>\n",
       "      <td>7139161431511</td>\n",
       "      <td>д. Иваново, ул. Красных Партизан, д. 83 к. 4, ...</td>\n",
       "      <td>Крылов Глеб Якубович</td>\n",
       "      <td>Тюремный надзиратель</td>\n",
       "      <td>362024991175</td>\n",
       "      <td>+7 118 643 21 48</td>\n",
       "      <td>nkulakova@mail.ru</td>\n",
       "      <td>ooo.ru</td>\n",
       "      <td>2005-01-02</td>\n",
       "      <td>2004-04-06</td>\n",
       "      <td>10398489351</td>\n",
       "      <td>32502585383</td>\n",
       "      <td>Beryozovsky</td>\n",
       "      <td>г. Заводоуковск, ул. Гражданская, д. 7 к. 8/5,...</td>\n",
       "      <td>Разработка ориентированных на пользователя инт...</td>\n",
       "      <td>86971505490</td>\n",
       "      <td>61148002572</td>\n",
       "    </tr>\n",
       "    <tr>\n",
       "      <th>4</th>\n",
       "      <td>Объединенная энергетическая компания</td>\n",
       "      <td>6114798049639</td>\n",
       "      <td>к. Энгельс, наб. Шишкина, д. 120, 823828</td>\n",
       "      <td>Субботин Вячеслав Федотович</td>\n",
       "      <td>Инженер-электрик</td>\n",
       "      <td>257948948010</td>\n",
       "      <td>8 642 249 2134</td>\n",
       "      <td>evgraf_18@yahoo.com</td>\n",
       "      <td>gerasimova.biz</td>\n",
       "      <td>1983-07-02</td>\n",
       "      <td>1992-06-20</td>\n",
       "      <td>20074507047</td>\n",
       "      <td>40083207999</td>\n",
       "      <td>Bavly</td>\n",
       "      <td>к. Соль-Илецк, пер. Пригородный, д. 804 к. 1/3...</td>\n",
       "      <td>Монетизация интуитивных веб-сервисов</td>\n",
       "      <td>36351136214</td>\n",
       "      <td>34861533393</td>\n",
       "    </tr>\n",
       "  </tbody>\n",
       "</table>\n",
       "</div>"
      ],
      "text/plain": [
       "                                     name     reg_number  \\\n",
       "#                                                          \n",
       "0         ЗАО «Власова, Макаров и Шашков»  1143692580560   \n",
       "1  РАО «Тимофеева, Алексеева и Кузнецова»  9342309660697   \n",
       "2                      РАО «Юдин-Ефимова»  1277485323451   \n",
       "3                   Доронин Инкорпорэйтед  7139161431511   \n",
       "4    Объединенная энергетическая компания  6114798049639   \n",
       "\n",
       "                                             address  \\\n",
       "#                                                      \n",
       "0  д. Кирово-Чепецк, пр. Металлургов, д. 537 к. 3...   \n",
       "1  г. Арзамас, наб. Фестивальная, д. 7 стр. 8/2, ...   \n",
       "2  п. Меренга, алл. Достоевского, д. 3/4 к. 497, ...   \n",
       "3  д. Иваново, ул. Красных Партизан, д. 83 к. 4, ...   \n",
       "4           к. Энгельс, наб. Шишкина, д. 120, 823828   \n",
       "\n",
       "                          head              head_job      head_inn  \\\n",
       "#                                                                    \n",
       "0        Жданов Карл Виленович              Маммолог  109092209811   \n",
       "1  Рожков Харлампий Алексеевич           Воспитатель  704229465069   \n",
       "2     Филимон Фадеевич Дьячков           Автослесарь  267655036377   \n",
       "3         Крылов Глеб Якубович  Тюремный надзиратель  362024991175   \n",
       "4  Субботин Вячеслав Федотович      Инженер-электрик  257948948010   \n",
       "\n",
       "                phone                      email            site  \\\n",
       "#                                                                  \n",
       "0  +7 (559) 338-87-76  bogdanovavtonom@yahoo.com        ooo.info   \n",
       "1    8 (632) 620-8879     safonovantonin@rao.org         ooo.net   \n",
       "2        +74925330378           kdorofeev@npo.ru          ao.com   \n",
       "3    +7 118 643 21 48          nkulakova@mail.ru          ooo.ru   \n",
       "4      8 642 249 2134        evgraf_18@yahoo.com  gerasimova.biz   \n",
       "\n",
       "  registration_date nalogoplatelschik_code   oktmo_code   okato_code  \\\n",
       "#                                                                      \n",
       "0        2015-01-07             2006-10-04  21112877268  73423615032   \n",
       "1        1990-05-16             2019-01-18  18393547520  19072454279   \n",
       "2        1982-11-04             1986-06-19  56104355836  18629292792   \n",
       "3        2005-01-02             2004-04-06  10398489351  32502585383   \n",
       "4        1983-07-02             1992-06-20  20074507047  40083207999   \n",
       "\n",
       "  registration_region                                         okato_name  \\\n",
       "#                                                                          \n",
       "0            Ulan-Ude           к. Тосно, ул. Пушкинская, д. 896, 617222   \n",
       "1         Tyoply Stan          ст. Кяхта, бул. Нефтяников, д. 24, 768742   \n",
       "2             Danilov  клх Усолье Сибирское, алл. Шишкина, д. 3/9 к. ...   \n",
       "3         Beryozovsky  г. Заводоуковск, ул. Гражданская, д. 7 к. 8/5,...   \n",
       "4               Bavly  к. Соль-Илецк, пер. Пригородный, д. 804 к. 1/3...   \n",
       "\n",
       "                                               field  capital,RUB   income,RUB  \n",
       "#                                                                               \n",
       "0          Синхронизация критически важных отношений  54875526078  32205872896  \n",
       "1                      Формирование заказных методик  33876448811  47437574301  \n",
       "2                  Максимизация корпоративных метрик  94073834991   7701710065  \n",
       "3  Разработка ориентированных на пользователя инт...  86971505490  61148002572  \n",
       "4               Монетизация интуитивных веб-сервисов  36351136214  34861533393  "
      ]
     },
     "execution_count": 158,
     "metadata": {},
     "output_type": "execute_result"
    }
   ],
   "source": [
    "inn = pd.read_excel(io='4_inn.xls',index_col=\"#\")# header=None)\n",
    "inn.drop(columns='Unnamed: 0', inplace=True)\n",
    "inn.head()"
   ]
  },
  {
   "cell_type": "code",
   "execution_count": 169,
   "id": "08dd84da-51c6-4108-bf76-54b079c27d41",
   "metadata": {
    "tags": []
   },
   "outputs": [
    {
     "data": {
      "text/plain": [
       "#\n",
       "0    False\n",
       "1    False\n",
       "2    False\n",
       "3    False\n",
       "4    False\n",
       "Name: head_inn, dtype: bool"
      ]
     },
     "execution_count": 169,
     "metadata": {},
     "output_type": "execute_result"
    }
   ],
   "source": [
    "(inn['head_inn'].isin(necessary_inn)).head()"
   ]
  },
  {
   "cell_type": "code",
   "execution_count": 172,
   "id": "81c9aa9d-3dc3-44d7-8119-2d328f22c479",
   "metadata": {},
   "outputs": [
    {
     "data": {
      "text/html": [
       "<div>\n",
       "<style scoped>\n",
       "    .dataframe tbody tr th:only-of-type {\n",
       "        vertical-align: middle;\n",
       "    }\n",
       "\n",
       "    .dataframe tbody tr th {\n",
       "        vertical-align: top;\n",
       "    }\n",
       "\n",
       "    .dataframe thead th {\n",
       "        text-align: right;\n",
       "    }\n",
       "</style>\n",
       "<table border=\"1\" class=\"dataframe\">\n",
       "  <thead>\n",
       "    <tr style=\"text-align: right;\">\n",
       "      <th></th>\n",
       "      <th>name</th>\n",
       "      <th>reg_number</th>\n",
       "      <th>address</th>\n",
       "      <th>head</th>\n",
       "      <th>head_job</th>\n",
       "      <th>head_inn</th>\n",
       "      <th>phone</th>\n",
       "      <th>email</th>\n",
       "      <th>site</th>\n",
       "      <th>registration_date</th>\n",
       "      <th>nalogoplatelschik_code</th>\n",
       "      <th>oktmo_code</th>\n",
       "      <th>okato_code</th>\n",
       "      <th>registration_region</th>\n",
       "      <th>okato_name</th>\n",
       "      <th>field</th>\n",
       "      <th>capital,RUB</th>\n",
       "      <th>income,RUB</th>\n",
       "    </tr>\n",
       "    <tr>\n",
       "      <th>#</th>\n",
       "      <th></th>\n",
       "      <th></th>\n",
       "      <th></th>\n",
       "      <th></th>\n",
       "      <th></th>\n",
       "      <th></th>\n",
       "      <th></th>\n",
       "      <th></th>\n",
       "      <th></th>\n",
       "      <th></th>\n",
       "      <th></th>\n",
       "      <th></th>\n",
       "      <th></th>\n",
       "      <th></th>\n",
       "      <th></th>\n",
       "      <th></th>\n",
       "      <th></th>\n",
       "      <th></th>\n",
       "    </tr>\n",
       "  </thead>\n",
       "  <tbody>\n",
       "    <tr>\n",
       "      <th>47</th>\n",
       "      <td>Пермэнергосбыт</td>\n",
       "      <td>6417532956774</td>\n",
       "      <td>ст. Слюдянка, пер. Брянский, д. 378 стр. 634, ...</td>\n",
       "      <td>Емельян Феликсович Зайцев</td>\n",
       "      <td>Релайтер</td>\n",
       "      <td>175482780898</td>\n",
       "      <td>8 833 729 83 14</td>\n",
       "      <td>boleslav28@gmail.com</td>\n",
       "      <td>krilova.net</td>\n",
       "      <td>1986-03-20</td>\n",
       "      <td>1998-02-11</td>\n",
       "      <td>47158105405</td>\n",
       "      <td>10234283083</td>\n",
       "      <td>Novosilikatnyy</td>\n",
       "      <td>г. Кропоткин (Краснод.), пр. Лесный, д. 8/3 к....</td>\n",
       "      <td>Разработка подробных результатов</td>\n",
       "      <td>44637351562</td>\n",
       "      <td>67534335517</td>\n",
       "    </tr>\n",
       "    <tr>\n",
       "      <th>76</th>\n",
       "      <td>ЗАО «Кабанова Ковалев»</td>\n",
       "      <td>9343329412518</td>\n",
       "      <td>с. Нарткала, ул. Верхняя, д. 68 стр. 1, 393309</td>\n",
       "      <td>Геннадий Денисович Григорьев</td>\n",
       "      <td>Бондарь</td>\n",
       "      <td>120708914823</td>\n",
       "      <td>+7 455 632 1053</td>\n",
       "      <td>kapustinjulian@oao.com</td>\n",
       "      <td>ao.ru</td>\n",
       "      <td>2011-09-28</td>\n",
       "      <td>1983-11-10</td>\n",
       "      <td>20653722407</td>\n",
       "      <td>92544205998</td>\n",
       "      <td>Severodvinsk</td>\n",
       "      <td>д. Москва, МГУ, бул. Транспортный, д. 75 стр. ...</td>\n",
       "      <td>Монетизация передовых действий</td>\n",
       "      <td>78570288945</td>\n",
       "      <td>19932336080</td>\n",
       "    </tr>\n",
       "    <tr>\n",
       "      <th>77</th>\n",
       "      <td>Неофарм</td>\n",
       "      <td>3813743111150</td>\n",
       "      <td>г. Долинск, ш. Московское, д. 25 к. 5, 227970</td>\n",
       "      <td>Юрий Архипович Богданов</td>\n",
       "      <td>Полицейский</td>\n",
       "      <td>663119569897</td>\n",
       "      <td>+7 077 854 47 31</td>\n",
       "      <td>bazhen41@matveeva.net</td>\n",
       "      <td>ao.com</td>\n",
       "      <td>2019-01-30</td>\n",
       "      <td>1986-09-01</td>\n",
       "      <td>96067740308</td>\n",
       "      <td>47030638090</td>\n",
       "      <td>Kovylkino</td>\n",
       "      <td>с. Сладково, наб. Вавилова, д. 62 к. 627, 198606</td>\n",
       "      <td>Эксплуатация круглосуточных пользователей</td>\n",
       "      <td>30634104861</td>\n",
       "      <td>3103853229</td>\n",
       "    </tr>\n",
       "    <tr>\n",
       "      <th>85</th>\n",
       "      <td>Арконик СМЗ</td>\n",
       "      <td>7465966885549</td>\n",
       "      <td>п. Тобольск, ул. Лунная, д. 375 стр. 724, 119588</td>\n",
       "      <td>Аникей Артёмович Павлов</td>\n",
       "      <td>Оперативный работник</td>\n",
       "      <td>722903871682</td>\n",
       "      <td>8 120 448 48 45</td>\n",
       "      <td>emeljan_75@gmail.com</td>\n",
       "      <td>ao.com</td>\n",
       "      <td>2004-08-10</td>\n",
       "      <td>2012-04-01</td>\n",
       "      <td>79166677871</td>\n",
       "      <td>45647356291</td>\n",
       "      <td>Otradnyy</td>\n",
       "      <td>клх Миасс, пер. Тургенева, д. 4/2 к. 8, 505443</td>\n",
       "      <td>Использование серверных диапазонов</td>\n",
       "      <td>85286893329</td>\n",
       "      <td>8607813826</td>\n",
       "    </tr>\n",
       "    <tr>\n",
       "      <th>90</th>\n",
       "      <td>Фармперспектива</td>\n",
       "      <td>6205521489390</td>\n",
       "      <td>к. Горно-Алтайск, ул. Степана Разина, д. 646 с...</td>\n",
       "      <td>Шашков Алексей Богданович</td>\n",
       "      <td>Фортификатор</td>\n",
       "      <td>837771137752</td>\n",
       "      <td>88711723244</td>\n",
       "      <td>ustinovaoksana@gmail.com</td>\n",
       "      <td>npo.biz</td>\n",
       "      <td>1982-05-29</td>\n",
       "      <td>1981-10-10</td>\n",
       "      <td>13185275127</td>\n",
       "      <td>67033649508</td>\n",
       "      <td>Ishim</td>\n",
       "      <td>клх Кунгур, ш. Запрудное, д. 13, 038583</td>\n",
       "      <td>Максимизация мультимедийных интерфейсов</td>\n",
       "      <td>88304638400</td>\n",
       "      <td>29181260019</td>\n",
       "    </tr>\n",
       "  </tbody>\n",
       "</table>\n",
       "</div>"
      ],
      "text/plain": [
       "                      name     reg_number  \\\n",
       "#                                           \n",
       "47          Пермэнергосбыт  6417532956774   \n",
       "76  ЗАО «Кабанова Ковалев»  9343329412518   \n",
       "77                 Неофарм  3813743111150   \n",
       "85             Арконик СМЗ  7465966885549   \n",
       "90         Фармперспектива  6205521489390   \n",
       "\n",
       "                                              address  \\\n",
       "#                                                       \n",
       "47  ст. Слюдянка, пер. Брянский, д. 378 стр. 634, ...   \n",
       "76     с. Нарткала, ул. Верхняя, д. 68 стр. 1, 393309   \n",
       "77      г. Долинск, ш. Московское, д. 25 к. 5, 227970   \n",
       "85   п. Тобольск, ул. Лунная, д. 375 стр. 724, 119588   \n",
       "90  к. Горно-Алтайск, ул. Степана Разина, д. 646 с...   \n",
       "\n",
       "                            head              head_job      head_inn  \\\n",
       "#                                                                      \n",
       "47     Емельян Феликсович Зайцев              Релайтер  175482780898   \n",
       "76  Геннадий Денисович Григорьев               Бондарь  120708914823   \n",
       "77       Юрий Архипович Богданов           Полицейский  663119569897   \n",
       "85       Аникей Артёмович Павлов  Оперативный работник  722903871682   \n",
       "90     Шашков Алексей Богданович          Фортификатор  837771137752   \n",
       "\n",
       "               phone                     email         site registration_date  \\\n",
       "#                                                                               \n",
       "47   8 833 729 83 14      boleslav28@gmail.com  krilova.net        1986-03-20   \n",
       "76   +7 455 632 1053    kapustinjulian@oao.com        ao.ru        2011-09-28   \n",
       "77  +7 077 854 47 31     bazhen41@matveeva.net       ao.com        2019-01-30   \n",
       "85   8 120 448 48 45      emeljan_75@gmail.com       ao.com        2004-08-10   \n",
       "90       88711723244  ustinovaoksana@gmail.com      npo.biz        1982-05-29   \n",
       "\n",
       "   nalogoplatelschik_code   oktmo_code   okato_code registration_region  \\\n",
       "#                                                                         \n",
       "47             1998-02-11  47158105405  10234283083      Novosilikatnyy   \n",
       "76             1983-11-10  20653722407  92544205998        Severodvinsk   \n",
       "77             1986-09-01  96067740308  47030638090           Kovylkino   \n",
       "85             2012-04-01  79166677871  45647356291            Otradnyy   \n",
       "90             1981-10-10  13185275127  67033649508               Ishim   \n",
       "\n",
       "                                           okato_name  \\\n",
       "#                                                       \n",
       "47  г. Кропоткин (Краснод.), пр. Лесный, д. 8/3 к....   \n",
       "76  д. Москва, МГУ, бул. Транспортный, д. 75 стр. ...   \n",
       "77   с. Сладково, наб. Вавилова, д. 62 к. 627, 198606   \n",
       "85     клх Миасс, пер. Тургенева, д. 4/2 к. 8, 505443   \n",
       "90            клх Кунгур, ш. Запрудное, д. 13, 038583   \n",
       "\n",
       "                                        field  capital,RUB   income,RUB  \n",
       "#                                                                        \n",
       "47           Разработка подробных результатов  44637351562  67534335517  \n",
       "76             Монетизация передовых действий  78570288945  19932336080  \n",
       "77  Эксплуатация круглосуточных пользователей  30634104861   3103853229  \n",
       "85         Использование серверных диапазонов  85286893329   8607813826  \n",
       "90    Максимизация мультимедийных интерфейсов  88304638400  29181260019  "
      ]
     },
     "execution_count": 172,
     "metadata": {},
     "output_type": "execute_result"
    }
   ],
   "source": [
    "selected_inn = inn[inn['head_inn'].isin(necessary_inn)]\n",
    "selected_inn.head()"
   ]
  },
  {
   "cell_type": "code",
   "execution_count": 173,
   "id": "bb5d631a-48ec-45ec-ad4d-30880a89fb7f",
   "metadata": {
    "tags": []
   },
   "outputs": [],
   "source": [
    "selected_inn.to_csv(path_or_buf='selected_inn.csv')"
   ]
  },
  {
   "cell_type": "code",
   "execution_count": 174,
   "id": "b94c77bd-c53a-4180-9574-d445b28dc962",
   "metadata": {
    "tags": []
   },
   "outputs": [
    {
     "data": {
      "text/plain": [
       "6104522627393"
      ]
     },
     "execution_count": 174,
     "metadata": {},
     "output_type": "execute_result"
    }
   ],
   "source": [
    "selected_inn['income,RUB'].sum()"
   ]
  }
 ],
 "metadata": {
  "kernelspec": {
   "display_name": "Python [conda env:sandbox]",
   "language": "python",
   "name": "conda-env-sandbox-py"
  },
  "language_info": {
   "codemirror_mode": {
    "name": "ipython",
    "version": 3
   },
   "file_extension": ".py",
   "mimetype": "text/x-python",
   "name": "python",
   "nbconvert_exporter": "python",
   "pygments_lexer": "ipython3",
   "version": "3.10.13"
  }
 },
 "nbformat": 4,
 "nbformat_minor": 5
}
