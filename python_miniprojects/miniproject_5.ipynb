{
 "cells": [
  {
   "cell_type": "markdown",
   "id": "6cfc47d8-3af7-4c8f-916c-1f09aa664abd",
   "metadata": {
    "tags": []
   },
   "source": [
    "# http://karpov.courses"
   ]
  },
  {
   "cell_type": "code",
   "execution_count": 1,
   "id": "f398efe7-11ee-459c-8ead-331d2b3c8c26",
   "metadata": {
    "tags": []
   },
   "outputs": [],
   "source": [
    "# imports for the whole notebook\n",
    "import pandas as pd\n",
    "import numpy as np\n",
    "import plotly.express as px \n",
    "import matplotlib.pyplot as plt\n",
    "import seaborn as sns"
   ]
  },
  {
   "cell_type": "markdown",
   "id": "b0c04451-e62f-4641-b0cd-2c641c954eb8",
   "metadata": {
    "tags": []
   },
   "source": [
    "### Описание данных\n",
    "\n",
    "#### ads_data.csv – данные взаимодействий с рекламными объявлениями\n",
    "* date – дата\n",
    "* time – время\n",
    "* event – действие (просмотр/клик)\n",
    "* platform – платформа\n",
    "* ad_id – id объявления\n",
    "* client_union_id – id рекламного кабинета\n",
    "* campaign_union_id – id рекламной кампании\n",
    "* ad_cost_type – тип оплаты\n",
    "* ad_cost – цена\n",
    "* has_video – есть ли видео\n",
    "* target_audience_count – размер аудитории\n",
    "#### ads_clients_data.csv – характеристики рекламных клиентов\n",
    "* date – дата\n",
    "* client_union_id – id рекламного кабинета\n",
    "* community_id – id сообщества\n",
    "* create_date – дата создания рекламного клиента"
   ]
  },
  {
   "cell_type": "markdown",
   "id": "651e2a8a-6f96-44c1-b004-33b14274db99",
   "metadata": {},
   "source": [
    "### Задание 1\n",
    "Для начала посчитаем среднее количество разных рекламных событий (показы и клики) по объявлениям. <br>Тонкий момент: помните, что некоторые показываемые объявления не кликались, и при группировке в таких случаях не будет строк с кликами, а для подсчёта среднего по объявлениям их нужно учитывать. Округлите ответы до целых чисел."
   ]
  },
  {
   "cell_type": "markdown",
   "id": "804f7afd-d359-43e0-b1fb-8a946a1aa675",
   "metadata": {
    "tags": []
   },
   "source": [
    "Чтение файлов с известными названиями напрямую из архива:"
   ]
  },
  {
   "cell_type": "code",
   "execution_count": 6,
   "id": "1abd1782-8659-4410-a5e8-2446f3a35adf",
   "metadata": {
    "tags": []
   },
   "outputs": [
    {
     "name": "stdout",
     "output_type": "stream",
     "text": [
      "         date                 time event platform   ad_id  client_union_id  \\\n",
      "0  2019-04-01  2019-04-01 00:00:48  view  android   45061            34734   \n",
      "1  2019-04-01  2019-04-01 00:00:48  view      web  121288           121288   \n",
      "2  2019-04-01  2019-04-01 00:01:03  view  android  102737           102535   \n",
      "3  2019-04-01  2019-04-01 00:01:03  view  android  107564           106914   \n",
      "4  2019-04-01  2019-04-01 00:01:09  view  android    4922               37   \n",
      "\n",
      "   campaign_union_id ad_cost_type  ad_cost  has_video  target_audience_count  \n",
      "0              45061          CPM    200.6          0                1955269  \n",
      "1             121288          CPM    187.4          0                 232011  \n",
      "2             102564          CPC     60.7          0                   4410  \n",
      "3             107564          CPM    217.3          0                  62711  \n",
      "4               4400          CPC     60.1          0                1183501  \n",
      "         date  client_union_id  community_id create_date\n",
      "0  2020-05-07                1    -130371893  2018-12-24\n",
      "1  2020-05-07                2    -130304626  2019-02-10\n",
      "2  2020-05-07                3    -130462599  2019-01-25\n",
      "3  2020-05-07                4    -130574300  2018-12-09\n",
      "4  2020-05-07                5    -130292358  2019-01-08\n"
     ]
    }
   ],
   "source": [
    "import zipfile\n",
    "\n",
    "\n",
    "file_names = ['ads_data.csv', 'ads_clients_data.csv']\n",
    "archive_name = 'ads.zip'\n",
    "\n",
    "# Open the zip archive and read the CSV file\n",
    "with zipfile.ZipFile(archive_name, 'r') as archive:\n",
    "    with archive.open(file_names[0]) as csv_file:\n",
    "        df_1 = pd.read_csv(csv_file)\n",
    "    with archive.open(file_names[1]) as csv_file:\n",
    "        df_2 = pd.read_csv(csv_file)"
   ]
  },
  {
   "cell_type": "code",
   "execution_count": 7,
   "id": "a021c74a-856e-4038-a405-588d6cf23c88",
   "metadata": {
    "tags": []
   },
   "outputs": [
    {
     "data": {
      "text/html": [
       "<div>\n",
       "<style scoped>\n",
       "    .dataframe tbody tr th:only-of-type {\n",
       "        vertical-align: middle;\n",
       "    }\n",
       "\n",
       "    .dataframe tbody tr th {\n",
       "        vertical-align: top;\n",
       "    }\n",
       "\n",
       "    .dataframe thead th {\n",
       "        text-align: right;\n",
       "    }\n",
       "</style>\n",
       "<table border=\"1\" class=\"dataframe\">\n",
       "  <thead>\n",
       "    <tr style=\"text-align: right;\">\n",
       "      <th></th>\n",
       "      <th>date</th>\n",
       "      <th>time</th>\n",
       "      <th>event</th>\n",
       "      <th>platform</th>\n",
       "      <th>ad_id</th>\n",
       "      <th>client_union_id</th>\n",
       "      <th>campaign_union_id</th>\n",
       "      <th>ad_cost_type</th>\n",
       "      <th>ad_cost</th>\n",
       "      <th>has_video</th>\n",
       "      <th>target_audience_count</th>\n",
       "    </tr>\n",
       "  </thead>\n",
       "  <tbody>\n",
       "    <tr>\n",
       "      <th>0</th>\n",
       "      <td>2019-04-01</td>\n",
       "      <td>2019-04-01 00:00:48</td>\n",
       "      <td>view</td>\n",
       "      <td>android</td>\n",
       "      <td>45061</td>\n",
       "      <td>34734</td>\n",
       "      <td>45061</td>\n",
       "      <td>CPM</td>\n",
       "      <td>200.6</td>\n",
       "      <td>0</td>\n",
       "      <td>1955269</td>\n",
       "    </tr>\n",
       "    <tr>\n",
       "      <th>1</th>\n",
       "      <td>2019-04-01</td>\n",
       "      <td>2019-04-01 00:00:48</td>\n",
       "      <td>view</td>\n",
       "      <td>web</td>\n",
       "      <td>121288</td>\n",
       "      <td>121288</td>\n",
       "      <td>121288</td>\n",
       "      <td>CPM</td>\n",
       "      <td>187.4</td>\n",
       "      <td>0</td>\n",
       "      <td>232011</td>\n",
       "    </tr>\n",
       "    <tr>\n",
       "      <th>2</th>\n",
       "      <td>2019-04-01</td>\n",
       "      <td>2019-04-01 00:01:03</td>\n",
       "      <td>view</td>\n",
       "      <td>android</td>\n",
       "      <td>102737</td>\n",
       "      <td>102535</td>\n",
       "      <td>102564</td>\n",
       "      <td>CPC</td>\n",
       "      <td>60.7</td>\n",
       "      <td>0</td>\n",
       "      <td>4410</td>\n",
       "    </tr>\n",
       "    <tr>\n",
       "      <th>3</th>\n",
       "      <td>2019-04-01</td>\n",
       "      <td>2019-04-01 00:01:03</td>\n",
       "      <td>view</td>\n",
       "      <td>android</td>\n",
       "      <td>107564</td>\n",
       "      <td>106914</td>\n",
       "      <td>107564</td>\n",
       "      <td>CPM</td>\n",
       "      <td>217.3</td>\n",
       "      <td>0</td>\n",
       "      <td>62711</td>\n",
       "    </tr>\n",
       "    <tr>\n",
       "      <th>4</th>\n",
       "      <td>2019-04-01</td>\n",
       "      <td>2019-04-01 00:01:09</td>\n",
       "      <td>view</td>\n",
       "      <td>android</td>\n",
       "      <td>4922</td>\n",
       "      <td>37</td>\n",
       "      <td>4400</td>\n",
       "      <td>CPC</td>\n",
       "      <td>60.1</td>\n",
       "      <td>0</td>\n",
       "      <td>1183501</td>\n",
       "    </tr>\n",
       "  </tbody>\n",
       "</table>\n",
       "</div>"
      ],
      "text/plain": [
       "         date                 time event platform   ad_id  client_union_id  \\\n",
       "0  2019-04-01  2019-04-01 00:00:48  view  android   45061            34734   \n",
       "1  2019-04-01  2019-04-01 00:00:48  view      web  121288           121288   \n",
       "2  2019-04-01  2019-04-01 00:01:03  view  android  102737           102535   \n",
       "3  2019-04-01  2019-04-01 00:01:03  view  android  107564           106914   \n",
       "4  2019-04-01  2019-04-01 00:01:09  view  android    4922               37   \n",
       "\n",
       "   campaign_union_id ad_cost_type  ad_cost  has_video  target_audience_count  \n",
       "0              45061          CPM    200.6          0                1955269  \n",
       "1             121288          CPM    187.4          0                 232011  \n",
       "2             102564          CPC     60.7          0                   4410  \n",
       "3             107564          CPM    217.3          0                  62711  \n",
       "4               4400          CPC     60.1          0                1183501  "
      ]
     },
     "execution_count": 7,
     "metadata": {},
     "output_type": "execute_result"
    }
   ],
   "source": [
    "df_1.head()"
   ]
  },
  {
   "cell_type": "code",
   "execution_count": 8,
   "id": "8789b842-421a-46ac-b258-493b23e03e6c",
   "metadata": {
    "tags": []
   },
   "outputs": [
    {
     "data": {
      "text/html": [
       "<div>\n",
       "<style scoped>\n",
       "    .dataframe tbody tr th:only-of-type {\n",
       "        vertical-align: middle;\n",
       "    }\n",
       "\n",
       "    .dataframe tbody tr th {\n",
       "        vertical-align: top;\n",
       "    }\n",
       "\n",
       "    .dataframe thead th {\n",
       "        text-align: right;\n",
       "    }\n",
       "</style>\n",
       "<table border=\"1\" class=\"dataframe\">\n",
       "  <thead>\n",
       "    <tr style=\"text-align: right;\">\n",
       "      <th></th>\n",
       "      <th>date</th>\n",
       "      <th>client_union_id</th>\n",
       "      <th>community_id</th>\n",
       "      <th>create_date</th>\n",
       "    </tr>\n",
       "  </thead>\n",
       "  <tbody>\n",
       "    <tr>\n",
       "      <th>0</th>\n",
       "      <td>2020-05-07</td>\n",
       "      <td>1</td>\n",
       "      <td>-130371893</td>\n",
       "      <td>2018-12-24</td>\n",
       "    </tr>\n",
       "    <tr>\n",
       "      <th>1</th>\n",
       "      <td>2020-05-07</td>\n",
       "      <td>2</td>\n",
       "      <td>-130304626</td>\n",
       "      <td>2019-02-10</td>\n",
       "    </tr>\n",
       "    <tr>\n",
       "      <th>2</th>\n",
       "      <td>2020-05-07</td>\n",
       "      <td>3</td>\n",
       "      <td>-130462599</td>\n",
       "      <td>2019-01-25</td>\n",
       "    </tr>\n",
       "    <tr>\n",
       "      <th>3</th>\n",
       "      <td>2020-05-07</td>\n",
       "      <td>4</td>\n",
       "      <td>-130574300</td>\n",
       "      <td>2018-12-09</td>\n",
       "    </tr>\n",
       "    <tr>\n",
       "      <th>4</th>\n",
       "      <td>2020-05-07</td>\n",
       "      <td>5</td>\n",
       "      <td>-130292358</td>\n",
       "      <td>2019-01-08</td>\n",
       "    </tr>\n",
       "  </tbody>\n",
       "</table>\n",
       "</div>"
      ],
      "text/plain": [
       "         date  client_union_id  community_id create_date\n",
       "0  2020-05-07                1    -130371893  2018-12-24\n",
       "1  2020-05-07                2    -130304626  2019-02-10\n",
       "2  2020-05-07                3    -130462599  2019-01-25\n",
       "3  2020-05-07                4    -130574300  2018-12-09\n",
       "4  2020-05-07                5    -130292358  2019-01-08"
      ]
     },
     "execution_count": 8,
     "metadata": {},
     "output_type": "execute_result"
    }
   ],
   "source": [
    "df_2.head()"
   ]
  },
  {
   "cell_type": "code",
   "execution_count": 39,
   "id": "eebcd8cf-8bde-48c4-a4af-8cbf308803e0",
   "metadata": {
    "tags": []
   },
   "outputs": [
    {
     "data": {
      "text/html": [
       "<div>\n",
       "<style scoped>\n",
       "    .dataframe tbody tr th:only-of-type {\n",
       "        vertical-align: middle;\n",
       "    }\n",
       "\n",
       "    .dataframe tbody tr th {\n",
       "        vertical-align: top;\n",
       "    }\n",
       "\n",
       "    .dataframe thead th {\n",
       "        text-align: right;\n",
       "    }\n",
       "</style>\n",
       "<table border=\"1\" class=\"dataframe\">\n",
       "  <thead>\n",
       "    <tr style=\"text-align: right;\">\n",
       "      <th></th>\n",
       "      <th>ad_id</th>\n",
       "      <th>event</th>\n",
       "      <th>value_counts</th>\n",
       "    </tr>\n",
       "  </thead>\n",
       "  <tbody>\n",
       "    <tr>\n",
       "      <th>0</th>\n",
       "      <td>2</td>\n",
       "      <td>view</td>\n",
       "      <td>101</td>\n",
       "    </tr>\n",
       "    <tr>\n",
       "      <th>1</th>\n",
       "      <td>2</td>\n",
       "      <td>click</td>\n",
       "      <td>1</td>\n",
       "    </tr>\n",
       "    <tr>\n",
       "      <th>2</th>\n",
       "      <td>3</td>\n",
       "      <td>view</td>\n",
       "      <td>184</td>\n",
       "    </tr>\n",
       "    <tr>\n",
       "      <th>3</th>\n",
       "      <td>3</td>\n",
       "      <td>click</td>\n",
       "      <td>3</td>\n",
       "    </tr>\n",
       "    <tr>\n",
       "      <th>4</th>\n",
       "      <td>1902</td>\n",
       "      <td>view</td>\n",
       "      <td>41</td>\n",
       "    </tr>\n",
       "  </tbody>\n",
       "</table>\n",
       "</div>"
      ],
      "text/plain": [
       "   ad_id  event  value_counts\n",
       "0      2   view           101\n",
       "1      2  click             1\n",
       "2      3   view           184\n",
       "3      3  click             3\n",
       "4   1902   view            41"
      ]
     },
     "execution_count": 39,
     "metadata": {},
     "output_type": "execute_result"
    }
   ],
   "source": [
    "temp_1 = df_1.groupby(by='ad_id',).agg({'event': 'value_counts'}) \\\n",
    "    .rename(columns={'event': 'value_counts'}).reset_index()\n",
    "temp_1.head()"
   ]
  },
  {
   "cell_type": "code",
   "execution_count": 38,
   "id": "5237a283-6d0b-4e9f-9b9f-76a48b9777e1",
   "metadata": {
    "tags": []
   },
   "outputs": [
    {
     "data": {
      "text/html": [
       "<div>\n",
       "<style scoped>\n",
       "    .dataframe tbody tr th:only-of-type {\n",
       "        vertical-align: middle;\n",
       "    }\n",
       "\n",
       "    .dataframe tbody tr th {\n",
       "        vertical-align: top;\n",
       "    }\n",
       "\n",
       "    .dataframe thead th {\n",
       "        text-align: right;\n",
       "    }\n",
       "</style>\n",
       "<table border=\"1\" class=\"dataframe\">\n",
       "  <thead>\n",
       "    <tr style=\"text-align: right;\">\n",
       "      <th>event</th>\n",
       "      <th>click</th>\n",
       "      <th>view</th>\n",
       "    </tr>\n",
       "    <tr>\n",
       "      <th>ad_id</th>\n",
       "      <th></th>\n",
       "      <th></th>\n",
       "    </tr>\n",
       "  </thead>\n",
       "  <tbody>\n",
       "    <tr>\n",
       "      <th>2</th>\n",
       "      <td>1.0</td>\n",
       "      <td>101.0</td>\n",
       "    </tr>\n",
       "    <tr>\n",
       "      <th>3</th>\n",
       "      <td>3.0</td>\n",
       "      <td>184.0</td>\n",
       "    </tr>\n",
       "    <tr>\n",
       "      <th>1902</th>\n",
       "      <td>1.0</td>\n",
       "      <td>41.0</td>\n",
       "    </tr>\n",
       "    <tr>\n",
       "      <th>2064</th>\n",
       "      <td>0.0</td>\n",
       "      <td>35.0</td>\n",
       "    </tr>\n",
       "    <tr>\n",
       "      <th>2132</th>\n",
       "      <td>1.0</td>\n",
       "      <td>58.0</td>\n",
       "    </tr>\n",
       "  </tbody>\n",
       "</table>\n",
       "</div>"
      ],
      "text/plain": [
       "event  click   view\n",
       "ad_id              \n",
       "2        1.0  101.0\n",
       "3        3.0  184.0\n",
       "1902     1.0   41.0\n",
       "2064     0.0   35.0\n",
       "2132     1.0   58.0"
      ]
     },
     "execution_count": 38,
     "metadata": {},
     "output_type": "execute_result"
    }
   ],
   "source": [
    "temp_2 = pd.pivot(data=temp_1, columns='event', index='ad_id', values='value_counts')\n",
    "temp_2.fillna(value=0, inplace=True)\n",
    "temp_2.head()"
   ]
  },
  {
   "cell_type": "code",
   "execution_count": 37,
   "id": "c36f9ad0-98d2-45d4-b367-98e3b22a5d28",
   "metadata": {
    "tags": []
   },
   "outputs": [
    {
     "data": {
      "text/plain": [
       "event\n",
       "click    113.0\n",
       "view     923.0\n",
       "dtype: float64"
      ]
     },
     "execution_count": 37,
     "metadata": {},
     "output_type": "execute_result"
    }
   ],
   "source": [
    "temp_2.mean(axis=0).round(0)"
   ]
  },
  {
   "cell_type": "markdown",
   "id": "3e433af1-7607-409b-8684-774cb7ed3b24",
   "metadata": {},
   "source": [
    "### Задание 2\n",
    "Давайте посмотрим на распределение показов объявлений!\n",
    "* По оси x – число показов\n",
    "* По оси y – доля объявлений с такими показами\n",
    "\n",
    "Прологарифмируйте число показов, а затем постройте такой график, чтобы можно было понять форму распределения."
   ]
  },
  {
   "cell_type": "code",
   "execution_count": 55,
   "id": "43b465f2-ef24-4cbd-9ce1-fd07dfc00a1f",
   "metadata": {
    "tags": []
   },
   "outputs": [
    {
     "data": {
      "text/plain": [
       "count       965.000000\n",
       "mean        923.131606\n",
       "std       12945.945595\n",
       "min           0.000000\n",
       "25%          35.000000\n",
       "50%          82.000000\n",
       "75%         208.000000\n",
       "max      351802.000000\n",
       "Name: view, dtype: float64"
      ]
     },
     "execution_count": 55,
     "metadata": {},
     "output_type": "execute_result"
    }
   ],
   "source": [
    "temp_2['view'].describe()"
   ]
  },
  {
   "cell_type": "code",
   "execution_count": 64,
   "id": "a3c45387-0a73-4156-b942-dc12127411ee",
   "metadata": {
    "tags": []
   },
   "outputs": [
    {
     "name": "stderr",
     "output_type": "stream",
     "text": [
      "/Users/igor/miniconda3/envs/sandbox/lib/python3.10/site-packages/pandas/core/arraylike.py:396: RuntimeWarning: divide by zero encountered in log\n",
      "  result = getattr(ufunc, method)(*inputs, **kwargs)\n",
      "/Users/igor/miniconda3/envs/sandbox/lib/python3.10/site-packages/seaborn/_oldcore.py:1498: FutureWarning: is_categorical_dtype is deprecated and will be removed in a future version. Use isinstance(dtype, CategoricalDtype) instead\n",
      "  if pd.api.types.is_categorical_dtype(vector):\n",
      "/Users/igor/miniconda3/envs/sandbox/lib/python3.10/site-packages/seaborn/_oldcore.py:1119: FutureWarning: use_inf_as_na option is deprecated and will be removed in a future version. Convert inf values to NaN before operating instead.\n",
      "  with pd.option_context('mode.use_inf_as_na', True):\n"
     ]
    },
    {
     "data": {
      "image/png": "[encoded data removed]",
      "text/plain": [
       "<Figure size 1400x700 with 1 Axes>"
      ]
     },
     "metadata": {},
     "output_type": "display_data"
    }
   ],
   "source": [
    "fig = plt.figure(figsize=(14, 7))\n",
    "#  you can also use the axes_style() function in a with statement\n",
    "# to temporarily set plot parameters.\n",
    "# This also allows you to make figures with differently-styled axes\n",
    "with sns.axes_style(style=\"darkgrid\", rc={'font_scale': 2}):\n",
    "    ax = fig.add_subplot()\n",
    "    sns.histplot(x=np.log(temp_2['view']), stat='probability', ax=ax);"
   ]
  },
  {
   "cell_type": "markdown",
   "id": "a8df92ff-c549-4b75-9696-69477eac5090",
   "metadata": {},
   "source": [
    "### Задание 3\n",
    "Теперь нужно найти среднее количество показов на 1 объявление (ad_id) по дням, не учитывая объявления, у которых не было показов (обычное среднее). После этого посчитайте скользящее среднее по полученному результату с окном в 2 элемента.\n",
    "\n",
    "Вопрос: Какое значение скользящего среднего получим за 6 апреля 2019 года? Округлите ответ до целого числа."
   ]
  },
  {
   "cell_type": "code",
   "execution_count": 75,
   "id": "4b6e5f77-95ca-43fd-9357-d6101b4c6a01",
   "metadata": {
    "tags": []
   },
   "outputs": [
    {
     "data": {
      "text/html": [
       "<div>\n",
       "<style scoped>\n",
       "    .dataframe tbody tr th:only-of-type {\n",
       "        vertical-align: middle;\n",
       "    }\n",
       "\n",
       "    .dataframe tbody tr th {\n",
       "        vertical-align: top;\n",
       "    }\n",
       "\n",
       "    .dataframe thead th {\n",
       "        text-align: right;\n",
       "    }\n",
       "</style>\n",
       "<table border=\"1\" class=\"dataframe\">\n",
       "  <thead>\n",
       "    <tr style=\"text-align: right;\">\n",
       "      <th></th>\n",
       "      <th>date</th>\n",
       "      <th>view_marker</th>\n",
       "      <th>ad_id</th>\n",
       "    </tr>\n",
       "  </thead>\n",
       "  <tbody>\n",
       "    <tr>\n",
       "      <th>0</th>\n",
       "      <td>2019-04-01</td>\n",
       "      <td>1</td>\n",
       "      <td>45061</td>\n",
       "    </tr>\n",
       "    <tr>\n",
       "      <th>1</th>\n",
       "      <td>2019-04-01</td>\n",
       "      <td>1</td>\n",
       "      <td>121288</td>\n",
       "    </tr>\n",
       "    <tr>\n",
       "      <th>2</th>\n",
       "      <td>2019-04-01</td>\n",
       "      <td>1</td>\n",
       "      <td>102737</td>\n",
       "    </tr>\n",
       "    <tr>\n",
       "      <th>3</th>\n",
       "      <td>2019-04-01</td>\n",
       "      <td>1</td>\n",
       "      <td>107564</td>\n",
       "    </tr>\n",
       "    <tr>\n",
       "      <th>4</th>\n",
       "      <td>2019-04-01</td>\n",
       "      <td>1</td>\n",
       "      <td>4922</td>\n",
       "    </tr>\n",
       "  </tbody>\n",
       "</table>\n",
       "</div>"
      ],
      "text/plain": [
       "         date  view_marker   ad_id\n",
       "0  2019-04-01            1   45061\n",
       "1  2019-04-01            1  121288\n",
       "2  2019-04-01            1  102737\n",
       "3  2019-04-01            1  107564\n",
       "4  2019-04-01            1    4922"
      ]
     },
     "execution_count": 75,
     "metadata": {},
     "output_type": "execute_result"
    }
   ],
   "source": [
    "df_1_views = df_1.query(\"event == 'view'\")\n",
    "df_1_views = df_1_views[['date', 'event', 'ad_id']]\n",
    "df_1_views = df_1_views.replace(to_replace='view', value=1) \\\n",
    "    .rename(columns={'event': 'view_marker'})\n",
    "df_1_views.head()\n",
    "# df_1_views.info()"
   ]
  },
  {
   "cell_type": "code",
   "execution_count": 85,
   "id": "c024abef-2b72-4f8b-821a-18e692ba8cfd",
   "metadata": {
    "tags": []
   },
   "outputs": [
    {
     "data": {
      "text/html": [
       "<div>\n",
       "<style scoped>\n",
       "    .dataframe tbody tr th:only-of-type {\n",
       "        vertical-align: middle;\n",
       "    }\n",
       "\n",
       "    .dataframe tbody tr th {\n",
       "        vertical-align: top;\n",
       "    }\n",
       "\n",
       "    .dataframe thead th {\n",
       "        text-align: right;\n",
       "    }\n",
       "</style>\n",
       "<table border=\"1\" class=\"dataframe\">\n",
       "  <thead>\n",
       "    <tr style=\"text-align: right;\">\n",
       "      <th></th>\n",
       "      <th>ad_id</th>\n",
       "      <th>date</th>\n",
       "      <th>view_marker</th>\n",
       "    </tr>\n",
       "  </thead>\n",
       "  <tbody>\n",
       "    <tr>\n",
       "      <th>0</th>\n",
       "      <td>2</td>\n",
       "      <td>2019-04-01</td>\n",
       "      <td>83</td>\n",
       "    </tr>\n",
       "    <tr>\n",
       "      <th>1</th>\n",
       "      <td>2</td>\n",
       "      <td>2019-04-02</td>\n",
       "      <td>18</td>\n",
       "    </tr>\n",
       "    <tr>\n",
       "      <th>2</th>\n",
       "      <td>3</td>\n",
       "      <td>2019-04-01</td>\n",
       "      <td>158</td>\n",
       "    </tr>\n",
       "    <tr>\n",
       "      <th>3</th>\n",
       "      <td>3</td>\n",
       "      <td>2019-04-02</td>\n",
       "      <td>26</td>\n",
       "    </tr>\n",
       "    <tr>\n",
       "      <th>4</th>\n",
       "      <td>1902</td>\n",
       "      <td>2019-04-03</td>\n",
       "      <td>34</td>\n",
       "    </tr>\n",
       "  </tbody>\n",
       "</table>\n",
       "</div>"
      ],
      "text/plain": [
       "   ad_id        date  view_marker\n",
       "0      2  2019-04-01           83\n",
       "1      2  2019-04-02           18\n",
       "2      3  2019-04-01          158\n",
       "3      3  2019-04-02           26\n",
       "4   1902  2019-04-03           34"
      ]
     },
     "execution_count": 85,
     "metadata": {},
     "output_type": "execute_result"
    }
   ],
   "source": [
    "# how many times a specific ad was view on a specific date\n",
    "temp_1 = df_1_views.groupby(by=['ad_id','date',], as_index=False).agg({'view_marker': 'sum'})\n",
    "temp_1.head()"
   ]
  },
  {
   "cell_type": "code",
   "execution_count": 93,
   "id": "30f498f3-3c02-4e23-a68d-64c268d26a60",
   "metadata": {
    "tags": []
   },
   "outputs": [
    {
     "data": {
      "text/plain": [
       "date\n",
       "2019-04-01    154.482270\n",
       "2019-04-02    137.786982\n",
       "2019-04-03    163.952778\n",
       "2019-04-04    675.901720\n",
       "2019-04-05    919.109677\n",
       "2019-04-06    277.122727\n",
       "Name: avg_views, dtype: float64"
      ]
     },
     "execution_count": 93,
     "metadata": {},
     "output_type": "execute_result"
    }
   ],
   "source": [
    "# how many ad views there are per day on average \n",
    "avg_views = temp_1.groupby(by=['date',]).agg({'view_marker': 'mean'}). \\\n",
    "    rename(columns={'view_marker': 'avg_views'})['avg_views']  # to make result a Series\n",
    "avg_views"
   ]
  },
  {
   "cell_type": "code",
   "execution_count": 95,
   "id": "38709f04-f860-4a7b-8b6a-00aac2e5b5e5",
   "metadata": {
    "tags": []
   },
   "outputs": [
    {
     "data": {
      "text/plain": [
       "date\n",
       "2019-04-01           NaN\n",
       "2019-04-02    146.134626\n",
       "2019-04-03    150.869880\n",
       "2019-04-04    419.927249\n",
       "2019-04-05    797.505699\n",
       "2019-04-06    598.116202\n",
       "Name: avg_views, dtype: float64"
      ]
     },
     "execution_count": 95,
     "metadata": {},
     "output_type": "execute_result"
    }
   ],
   "source": [
    "# rolling average of avg_views\n",
    "rolling_views = avg_views.rolling(window=2).mean()\n",
    "rolling_views"
   ]
  },
  {
   "cell_type": "markdown",
   "id": "0db2a455-65a5-47e0-8b39-3f8204135431",
   "metadata": {
    "tags": []
   },
   "source": [
    "### Задание 4\n",
    "Скользящее среднее часто используется для поиска аномалий в данных. Давайте попробуем нанести на один график значения просто среднего количества показов по дням и скользящего среднего на основе этих данных (которое мы получили в прошлом задании).\n",
    "\n",
    "Посчитайте, в какой день наблюдается наибольшая разница по модулю между арифметическим средним и скользящим средним? Дни, в которых скользящее среднее равно NaN, не учитываем. Запишите ответ в формате yyyy-MM-dd\n",
    "\n",
    "Пример ответа:\n",
    "<br>2020-12-31"
   ]
  },
  {
   "cell_type": "code",
   "execution_count": 100,
   "id": "5df62816-471b-4350-a452-e16d0eac1035",
   "metadata": {
    "tags": []
   },
   "outputs": [
    {
     "name": "stderr",
     "output_type": "stream",
     "text": [
      "/Users/igor/miniconda3/envs/sandbox/lib/python3.10/site-packages/seaborn/_oldcore.py:1498: FutureWarning: is_categorical_dtype is deprecated and will be removed in a future version. Use isinstance(dtype, CategoricalDtype) instead\n",
      "  if pd.api.types.is_categorical_dtype(vector):\n",
      "/Users/igor/miniconda3/envs/sandbox/lib/python3.10/site-packages/seaborn/_oldcore.py:1498: FutureWarning: is_categorical_dtype is deprecated and will be removed in a future version. Use isinstance(dtype, CategoricalDtype) instead\n",
      "  if pd.api.types.is_categorical_dtype(vector):\n",
      "/Users/igor/miniconda3/envs/sandbox/lib/python3.10/site-packages/seaborn/_oldcore.py:1498: FutureWarning: is_categorical_dtype is deprecated and will be removed in a future version. Use isinstance(dtype, CategoricalDtype) instead\n",
      "  if pd.api.types.is_categorical_dtype(vector):\n",
      "/Users/igor/miniconda3/envs/sandbox/lib/python3.10/site-packages/seaborn/_oldcore.py:1119: FutureWarning: use_inf_as_na option is deprecated and will be removed in a future version. Convert inf values to NaN before operating instead.\n",
      "  with pd.option_context('mode.use_inf_as_na', True):\n",
      "/Users/igor/miniconda3/envs/sandbox/lib/python3.10/site-packages/seaborn/_oldcore.py:1119: FutureWarning: use_inf_as_na option is deprecated and will be removed in a future version. Convert inf values to NaN before operating instead.\n",
      "  with pd.option_context('mode.use_inf_as_na', True):\n",
      "/Users/igor/miniconda3/envs/sandbox/lib/python3.10/site-packages/seaborn/_oldcore.py:1498: FutureWarning: is_categorical_dtype is deprecated and will be removed in a future version. Use isinstance(dtype, CategoricalDtype) instead\n",
      "  if pd.api.types.is_categorical_dtype(vector):\n",
      "/Users/igor/miniconda3/envs/sandbox/lib/python3.10/site-packages/seaborn/_oldcore.py:1498: FutureWarning: is_categorical_dtype is deprecated and will be removed in a future version. Use isinstance(dtype, CategoricalDtype) instead\n",
      "  if pd.api.types.is_categorical_dtype(vector):\n",
      "/Users/igor/miniconda3/envs/sandbox/lib/python3.10/site-packages/seaborn/_oldcore.py:1498: FutureWarning: is_categorical_dtype is deprecated and will be removed in a future version. Use isinstance(dtype, CategoricalDtype) instead\n",
      "  if pd.api.types.is_categorical_dtype(vector):\n",
      "/Users/igor/miniconda3/envs/sandbox/lib/python3.10/site-packages/seaborn/_oldcore.py:1119: FutureWarning: use_inf_as_na option is deprecated and will be removed in a future version. Convert inf values to NaN before operating instead.\n",
      "  with pd.option_context('mode.use_inf_as_na', True):\n",
      "/Users/igor/miniconda3/envs/sandbox/lib/python3.10/site-packages/seaborn/_oldcore.py:1119: FutureWarning: use_inf_as_na option is deprecated and will be removed in a future version. Convert inf values to NaN before operating instead.\n",
      "  with pd.option_context('mode.use_inf_as_na', True):\n"
     ]
    },
    {
     "data": {
      "image/png": "[encoded data removed]",
      "text/plain": [
       "<Figure size 1400x700 with 1 Axes>"
      ]
     },
     "metadata": {},
     "output_type": "display_data"
    }
   ],
   "source": [
    "fig = plt.figure(figsize=(14, 7))\n",
    "#  you can also use the axes_style() function in a with statement\n",
    "# to temporarily set plot parameters.\n",
    "# This also allows you to make figures with differently-styled axes\n",
    "with sns.axes_style(\"darkgrid\"):\n",
    "    ax = fig.add_subplot()\n",
    "    sns.lineplot(data=avg_views, ax=ax)\n",
    "    sns.lineplot(data=rolling_views, ax=ax)\n",
    "    ax.set_ylabel('N of views');"
   ]
  },
  {
   "cell_type": "code",
   "execution_count": 104,
   "id": "a67aa72f-450d-4726-8355-f62d673fde2a",
   "metadata": {
    "tags": []
   },
   "outputs": [
    {
     "data": {
      "text/plain": [
       "date\n",
       "2019-04-02      8.347644\n",
       "2019-04-03     13.082898\n",
       "2019-04-05    121.603979\n",
       "2019-04-04    255.974471\n",
       "2019-04-06    320.993475\n",
       "2019-04-01           NaN\n",
       "Name: avg_views, dtype: float64"
      ]
     },
     "execution_count": 104,
     "metadata": {},
     "output_type": "execute_result"
    }
   ],
   "source": [
    "# absolute difference between rolling mean and standard arithmetic mean\n",
    "(avg_views - rolling_views).abs().sort_values()"
   ]
  },
  {
   "cell_type": "markdown",
   "id": "639fef67-9153-41c0-8524-eaa0580181aa",
   "metadata": {
    "tags": []
   },
   "source": [
    "### Задание 5\n",
    "Объедините данные рекламы с данными о рекламных клиентах и найдите среднее количество дней от даты создания рекламного клиента (create_date) и первым запуском рекламного объявления этим клиентом (date).\n",
    "\n",
    "В качестве ответа укажите среднее число дней."
   ]
  },
  {
   "cell_type": "code",
   "execution_count": 117,
   "id": "a851cc84-4f23-4e77-9b56-6902a25ef7e5",
   "metadata": {
    "tags": []
   },
   "outputs": [
    {
     "data": {
      "text/html": [
       "<div>\n",
       "<style scoped>\n",
       "    .dataframe tbody tr th:only-of-type {\n",
       "        vertical-align: middle;\n",
       "    }\n",
       "\n",
       "    .dataframe tbody tr th {\n",
       "        vertical-align: top;\n",
       "    }\n",
       "\n",
       "    .dataframe thead th {\n",
       "        text-align: right;\n",
       "    }\n",
       "</style>\n",
       "<table border=\"1\" class=\"dataframe\">\n",
       "  <thead>\n",
       "    <tr style=\"text-align: right;\">\n",
       "      <th></th>\n",
       "      <th>date_x</th>\n",
       "      <th>time</th>\n",
       "      <th>event</th>\n",
       "      <th>platform</th>\n",
       "      <th>ad_id</th>\n",
       "      <th>client_union_id</th>\n",
       "      <th>campaign_union_id</th>\n",
       "      <th>ad_cost_type</th>\n",
       "      <th>ad_cost</th>\n",
       "      <th>has_video</th>\n",
       "      <th>target_audience_count</th>\n",
       "      <th>date_y</th>\n",
       "      <th>community_id</th>\n",
       "      <th>create_date</th>\n",
       "    </tr>\n",
       "  </thead>\n",
       "  <tbody>\n",
       "    <tr>\n",
       "      <th>0</th>\n",
       "      <td>2019-04-01</td>\n",
       "      <td>2019-04-01 00:00:48</td>\n",
       "      <td>view</td>\n",
       "      <td>android</td>\n",
       "      <td>45061</td>\n",
       "      <td>34734</td>\n",
       "      <td>45061</td>\n",
       "      <td>CPM</td>\n",
       "      <td>200.6</td>\n",
       "      <td>0</td>\n",
       "      <td>1955269</td>\n",
       "      <td>2020-05-07</td>\n",
       "      <td>-130129582</td>\n",
       "      <td>2018-12-04</td>\n",
       "    </tr>\n",
       "    <tr>\n",
       "      <th>1</th>\n",
       "      <td>2019-04-01</td>\n",
       "      <td>2019-04-01 00:03:28</td>\n",
       "      <td>view</td>\n",
       "      <td>android</td>\n",
       "      <td>45061</td>\n",
       "      <td>34734</td>\n",
       "      <td>45061</td>\n",
       "      <td>CPM</td>\n",
       "      <td>200.6</td>\n",
       "      <td>0</td>\n",
       "      <td>1955269</td>\n",
       "      <td>2020-05-07</td>\n",
       "      <td>-130129582</td>\n",
       "      <td>2018-12-04</td>\n",
       "    </tr>\n",
       "    <tr>\n",
       "      <th>2</th>\n",
       "      <td>2019-04-01</td>\n",
       "      <td>2019-04-01 00:04:58</td>\n",
       "      <td>view</td>\n",
       "      <td>ios</td>\n",
       "      <td>45061</td>\n",
       "      <td>34734</td>\n",
       "      <td>45061</td>\n",
       "      <td>CPM</td>\n",
       "      <td>200.6</td>\n",
       "      <td>0</td>\n",
       "      <td>1955269</td>\n",
       "      <td>2020-05-07</td>\n",
       "      <td>-130129582</td>\n",
       "      <td>2018-12-04</td>\n",
       "    </tr>\n",
       "    <tr>\n",
       "      <th>3</th>\n",
       "      <td>2019-04-01</td>\n",
       "      <td>2019-04-01 00:10:23</td>\n",
       "      <td>view</td>\n",
       "      <td>ios</td>\n",
       "      <td>45061</td>\n",
       "      <td>34734</td>\n",
       "      <td>45061</td>\n",
       "      <td>CPM</td>\n",
       "      <td>200.6</td>\n",
       "      <td>0</td>\n",
       "      <td>1955269</td>\n",
       "      <td>2020-05-07</td>\n",
       "      <td>-130129582</td>\n",
       "      <td>2018-12-04</td>\n",
       "    </tr>\n",
       "    <tr>\n",
       "      <th>4</th>\n",
       "      <td>2019-04-01</td>\n",
       "      <td>2019-04-01 00:15:42</td>\n",
       "      <td>view</td>\n",
       "      <td>android</td>\n",
       "      <td>45061</td>\n",
       "      <td>34734</td>\n",
       "      <td>45061</td>\n",
       "      <td>CPM</td>\n",
       "      <td>200.6</td>\n",
       "      <td>0</td>\n",
       "      <td>1955269</td>\n",
       "      <td>2020-05-07</td>\n",
       "      <td>-130129582</td>\n",
       "      <td>2018-12-04</td>\n",
       "    </tr>\n",
       "  </tbody>\n",
       "</table>\n",
       "</div>"
      ],
      "text/plain": [
       "      date_x                 time event platform  ad_id  client_union_id  \\\n",
       "0 2019-04-01  2019-04-01 00:00:48  view  android  45061            34734   \n",
       "1 2019-04-01  2019-04-01 00:03:28  view  android  45061            34734   \n",
       "2 2019-04-01  2019-04-01 00:04:58  view      ios  45061            34734   \n",
       "3 2019-04-01  2019-04-01 00:10:23  view      ios  45061            34734   \n",
       "4 2019-04-01  2019-04-01 00:15:42  view  android  45061            34734   \n",
       "\n",
       "   campaign_union_id ad_cost_type  ad_cost  has_video  target_audience_count  \\\n",
       "0              45061          CPM    200.6          0                1955269   \n",
       "1              45061          CPM    200.6          0                1955269   \n",
       "2              45061          CPM    200.6          0                1955269   \n",
       "3              45061          CPM    200.6          0                1955269   \n",
       "4              45061          CPM    200.6          0                1955269   \n",
       "\n",
       "       date_y  community_id create_date  \n",
       "0  2020-05-07    -130129582  2018-12-04  \n",
       "1  2020-05-07    -130129582  2018-12-04  \n",
       "2  2020-05-07    -130129582  2018-12-04  \n",
       "3  2020-05-07    -130129582  2018-12-04  \n",
       "4  2020-05-07    -130129582  2018-12-04  "
      ]
     },
     "execution_count": 117,
     "metadata": {},
     "output_type": "execute_result"
    }
   ],
   "source": [
    "df_merged = pd.merge(left=df_1, right=df_2, how='inner', on= 'client_union_id')\n",
    "df_merged['date_x'] = pd.to_datetime(arg=df_merged['date_x'])\n",
    "df_merged['create_date'] = pd.to_datetime(arg=df_merged['create_date'])\n",
    "df_merged.head()"
   ]
  },
  {
   "cell_type": "code",
   "execution_count": 160,
   "id": "4c32b94e-c1e9-4fa7-aae9-c2e511b167dd",
   "metadata": {
    "tags": []
   },
   "outputs": [
    {
     "name": "stdout",
     "output_type": "stream",
     "text": [
      "<class 'pandas.core.frame.DataFrame'>\n",
      "RangeIndex: 1000000 entries, 0 to 999999\n",
      "Data columns (total 15 columns):\n",
      " #   Column                 Non-Null Count    Dtype          \n",
      "---  ------                 --------------    -----          \n",
      " 0   date_x                 1000000 non-null  datetime64[ns] \n",
      " 1   time                   1000000 non-null  object         \n",
      " 2   event                  1000000 non-null  object         \n",
      " 3   platform               1000000 non-null  object         \n",
      " 4   ad_id                  1000000 non-null  int64          \n",
      " 5   client_union_id        1000000 non-null  int64          \n",
      " 6   campaign_union_id      1000000 non-null  int64          \n",
      " 7   ad_cost_type           1000000 non-null  object         \n",
      " 8   ad_cost                1000000 non-null  float64        \n",
      " 9   has_video              1000000 non-null  int64          \n",
      " 10  target_audience_count  1000000 non-null  int64          \n",
      " 11  date_y                 1000000 non-null  object         \n",
      " 12  community_id           1000000 non-null  int64          \n",
      " 13  create_date            1000000 non-null  datetime64[ns] \n",
      " 14  diff                   1000000 non-null  timedelta64[ns]\n",
      "dtypes: datetime64[ns](2), float64(1), int64(6), object(5), timedelta64[ns](1)\n",
      "memory usage: 114.4+ MB\n"
     ]
    }
   ],
   "source": [
    "# Timedelta between registration of an user and his ad\n",
    "df_merged['diff'] = df_merged['date_x'] - df_merged['create_date']\n",
    "df_merged.info()  # no NaN"
   ]
  },
  {
   "cell_type": "code",
   "execution_count": 135,
   "id": "1dbd8c24-10e4-41f7-89ea-83b83a6ce800",
   "metadata": {
    "tags": []
   },
   "outputs": [
    {
     "data": {
      "text/plain": [
       "min_diff   124 days 09:04:43.532219570\n",
       "dtype: timedelta64[ns]"
      ]
     },
     "execution_count": 135,
     "metadata": {},
     "output_type": "execute_result"
    }
   ],
   "source": [
    "# Timedelta between registration of an user and his first ad\n",
    "df_merged.groupby(by='client_union_id').agg({'diff':'min'}) \\\n",
    "    .rename(columns={'diff': 'min_diff'}) \\\n",
    "    .mean()\n",
    "# ^ Mean time between user's registation and publication of his first ad "
   ]
  },
  {
   "cell_type": "markdown",
   "id": "126828f0-968e-4973-8d07-f1b9b455af70",
   "metadata": {
    "tags": []
   },
   "source": [
    "### Задание 6\n",
    "💀 Сложное задание! 💀\n",
    "\n",
    "Давайте вычислим конверсию из создания рекламного кабинета в запуск первой рекламы в течение не более 365 дней.\n",
    "\n",
    "Конверсия – отношение числа клиентов, которые совершили целевое действие (создали рекламу), к общему числу клиентов. Например, 1000 клиентов создали кабинет, но лишь 50 из них запустили рекламу.\n",
    "Чтобы отобрать данные за нужный промежуток, можно воспользоваться сравнением времени до создания первой рекламы с pd.Timedelta(365, unit='day')\n",
    "\n",
    "Ответ дайте в процентах и округлите до сотых. Пример ответа:\n",
    "<br>34.69\n",
    "\n",
    "\n",
    "NB! У нас могут быть люди, которые не сделали рекламу вообще. Не забудьте их учесть :)"
   ]
  },
  {
   "cell_type": "code",
   "execution_count": 161,
   "id": "029760e4-164a-4ab4-9295-ada9f5449aaa",
   "metadata": {
    "tags": []
   },
   "outputs": [
    {
     "data": {
      "text/plain": [
       "array([False])"
      ]
     },
     "execution_count": 161,
     "metadata": {},
     "output_type": "execute_result"
    }
   ],
   "source": [
    "# Every user in df_merged posted an add in less than a year after registation\n",
    "(df_merged['diff'] > pd.Timedelta(365, unit='day')).unique()"
   ]
  },
  {
   "cell_type": "markdown",
   "id": "81859b1f-1853-496d-8be1-17b4a770075b",
   "metadata": {},
   "source": [
    "df_merged получается внутреним соединением DataFrame, содержащего только пользователей, взаимодействующих с рекламов (df_1) с DataFrame, в котором хранится информация о всех без исключения клиентах (df_1).\n",
    "Таким образом, чтобы посчитать уникальных пользователей, разметивших рекламу, достаточно:"
   ]
  },
  {
   "cell_type": "code",
   "execution_count": 154,
   "id": "089ed47f-b715-4f67-9a62-7d437238cb27",
   "metadata": {
    "tags": []
   },
   "outputs": [
    {
     "data": {
      "text/plain": [
       "838"
      ]
     },
     "execution_count": 154,
     "metadata": {},
     "output_type": "execute_result"
    }
   ],
   "source": [
    "users_with_ads = df_merged['client_union_id'].nunique()\n",
    "users_with_ads"
   ]
  },
  {
   "cell_type": "markdown",
   "id": "8b49771c-d6ee-449e-b4e6-7acdf4d9e001",
   "metadata": {},
   "source": [
    "С другой стороны, для нахождения числа всех без исключения пользователей:"
   ]
  },
  {
   "cell_type": "code",
   "execution_count": 163,
   "id": "eff945f5-e6d9-424d-a862-1d11bf37e927",
   "metadata": {
    "tags": []
   },
   "outputs": [
    {
     "data": {
      "text/plain": [
       "122078"
      ]
     },
     "execution_count": 163,
     "metadata": {},
     "output_type": "execute_result"
    }
   ],
   "source": [
    "all_users = df_2['client_union_id'].nunique()\n",
    "all_users"
   ]
  },
  {
   "cell_type": "markdown",
   "id": "9d04d817-14e7-4375-bf49-c5534794dbd4",
   "metadata": {},
   "source": [
    "Конверсия - отношение числа пользователей, не использовавших некую услугу, к общему число пользователей. "
   ]
  },
  {
   "cell_type": "code",
   "execution_count": 164,
   "id": "e4cbbe56-a063-4d3c-84ac-9f95cb63e82e",
   "metadata": {
    "tags": []
   },
   "outputs": [
    {
     "data": {
      "text/plain": [
       "0.69"
      ]
     },
     "execution_count": 164,
     "metadata": {},
     "output_type": "execute_result"
    }
   ],
   "source": [
    "conversion =  np.round((100*users_with_ads / all_users), decimals=2)\n",
    "conversion  # in %"
   ]
  },
  {
   "cell_type": "markdown",
   "id": "571186c6-7c4c-420a-a81c-a895024ca5be",
   "metadata": {
    "tags": []
   },
   "source": [
    "### Задание 7\n",
    "Давайте разобъем наших клиентов по промежуткам от создания рекламного кабинета до запуска первого рекламного объявления.\n",
    "\n",
    "Определите, сколько уникальных клиентов запустили свое первое объявление в первый месяц своего существования (от 0 до 30 дней). Список промежутков дней для метода pd.cut() – [0, 30, 90, 180, 365]. Создать временные промежутки можно с помощью pd.to_timedelta()."
   ]
  },
  {
   "cell_type": "code",
   "execution_count": 171,
   "id": "29fd54f5-b710-4b0c-9dc1-7868a6713d32",
   "metadata": {
    "tags": []
   },
   "outputs": [
    {
     "data": {
      "text/html": [
       "<div>\n",
       "<style scoped>\n",
       "    .dataframe tbody tr th:only-of-type {\n",
       "        vertical-align: middle;\n",
       "    }\n",
       "\n",
       "    .dataframe tbody tr th {\n",
       "        vertical-align: top;\n",
       "    }\n",
       "\n",
       "    .dataframe thead th {\n",
       "        text-align: right;\n",
       "    }\n",
       "</style>\n",
       "<table border=\"1\" class=\"dataframe\">\n",
       "  <thead>\n",
       "    <tr style=\"text-align: right;\">\n",
       "      <th></th>\n",
       "      <th>client_union_id</th>\n",
       "      <th>diff</th>\n",
       "    </tr>\n",
       "  </thead>\n",
       "  <tbody>\n",
       "    <tr>\n",
       "      <th>665</th>\n",
       "      <td>108678</td>\n",
       "      <td>26 days</td>\n",
       "    </tr>\n",
       "    <tr>\n",
       "      <th>196</th>\n",
       "      <td>21194</td>\n",
       "      <td>28 days</td>\n",
       "    </tr>\n",
       "    <tr>\n",
       "      <th>520</th>\n",
       "      <td>38094</td>\n",
       "      <td>28 days</td>\n",
       "    </tr>\n",
       "    <tr>\n",
       "      <th>353</th>\n",
       "      <td>24853</td>\n",
       "      <td>28 days</td>\n",
       "    </tr>\n",
       "    <tr>\n",
       "      <th>745</th>\n",
       "      <td>116173</td>\n",
       "      <td>29 days</td>\n",
       "    </tr>\n",
       "    <tr>\n",
       "      <th>603</th>\n",
       "      <td>98415</td>\n",
       "      <td>29 days</td>\n",
       "    </tr>\n",
       "    <tr>\n",
       "      <th>95</th>\n",
       "      <td>2137</td>\n",
       "      <td>29 days</td>\n",
       "    </tr>\n",
       "    <tr>\n",
       "      <th>400</th>\n",
       "      <td>27420</td>\n",
       "      <td>29 days</td>\n",
       "    </tr>\n",
       "    <tr>\n",
       "      <th>677</th>\n",
       "      <td>110442</td>\n",
       "      <td>29 days</td>\n",
       "    </tr>\n",
       "    <tr>\n",
       "      <th>164</th>\n",
       "      <td>14606</td>\n",
       "      <td>29 days</td>\n",
       "    </tr>\n",
       "  </tbody>\n",
       "</table>\n",
       "</div>"
      ],
      "text/plain": [
       "     client_union_id    diff\n",
       "665           108678 26 days\n",
       "196            21194 28 days\n",
       "520            38094 28 days\n",
       "353            24853 28 days\n",
       "745           116173 29 days\n",
       "603            98415 29 days\n",
       "95              2137 29 days\n",
       "400            27420 29 days\n",
       "677           110442 29 days\n",
       "164            14606 29 days"
      ]
     },
     "execution_count": 171,
     "metadata": {},
     "output_type": "execute_result"
    }
   ],
   "source": [
    "# Shortest time between registration and posting an ad for all unique users\n",
    "users_with_ads = df_merged.groupby(by='client_union_id', as_index=False) \\\n",
    "    .agg({'diff': 'min'}).sort_values(by='diff', ascending=True)\n",
    "users_with_ads.head(10)"
   ]
  },
  {
   "cell_type": "code",
   "execution_count": 175,
   "id": "e9192e73-108f-4b04-b886-98360940db71",
   "metadata": {
    "tags": []
   },
   "outputs": [
    {
     "data": {
      "text/html": [
       "<div>\n",
       "<style scoped>\n",
       "    .dataframe tbody tr th:only-of-type {\n",
       "        vertical-align: middle;\n",
       "    }\n",
       "\n",
       "    .dataframe tbody tr th {\n",
       "        vertical-align: top;\n",
       "    }\n",
       "\n",
       "    .dataframe thead th {\n",
       "        text-align: right;\n",
       "    }\n",
       "</style>\n",
       "<table border=\"1\" class=\"dataframe\">\n",
       "  <thead>\n",
       "    <tr style=\"text-align: right;\">\n",
       "      <th></th>\n",
       "      <th>client_union_id</th>\n",
       "      <th>diff</th>\n",
       "      <th>diff_categorical</th>\n",
       "    </tr>\n",
       "  </thead>\n",
       "  <tbody>\n",
       "    <tr>\n",
       "      <th>665</th>\n",
       "      <td>108678</td>\n",
       "      <td>26 days</td>\n",
       "      <td>less than 30 days</td>\n",
       "    </tr>\n",
       "    <tr>\n",
       "      <th>196</th>\n",
       "      <td>21194</td>\n",
       "      <td>28 days</td>\n",
       "      <td>less than 30 days</td>\n",
       "    </tr>\n",
       "    <tr>\n",
       "      <th>520</th>\n",
       "      <td>38094</td>\n",
       "      <td>28 days</td>\n",
       "      <td>less than 30 days</td>\n",
       "    </tr>\n",
       "    <tr>\n",
       "      <th>353</th>\n",
       "      <td>24853</td>\n",
       "      <td>28 days</td>\n",
       "      <td>less than 30 days</td>\n",
       "    </tr>\n",
       "    <tr>\n",
       "      <th>745</th>\n",
       "      <td>116173</td>\n",
       "      <td>29 days</td>\n",
       "      <td>less than 30 days</td>\n",
       "    </tr>\n",
       "  </tbody>\n",
       "</table>\n",
       "</div>"
      ],
      "text/plain": [
       "     client_union_id    diff   diff_categorical\n",
       "665           108678 26 days  less than 30 days\n",
       "196            21194 28 days  less than 30 days\n",
       "520            38094 28 days  less than 30 days\n",
       "353            24853 28 days  less than 30 days\n",
       "745           116173 29 days  less than 30 days"
      ]
     },
     "execution_count": 175,
     "metadata": {},
     "output_type": "execute_result"
    }
   ],
   "source": [
    "users_with_ads['diff_categorical'] = pd.cut(\n",
    "    x=users_with_ads['diff'],\n",
    "    bins=pd.to_timedelta([0, 30, 90, 180, 365], unit='day'),\n",
    "    labels=['less than 30 days', '30-90 days', '90-180 days', '180-365 days']\n",
    ")\n",
    "users_with_ads.head()"
   ]
  },
  {
   "cell_type": "code",
   "execution_count": 178,
   "id": "c88ca779-c4da-49a2-b235-907d98ce4bb2",
   "metadata": {
    "tags": []
   },
   "outputs": [
    {
     "data": {
      "text/plain": [
       "diff_categorical\n",
       "90-180 days          396\n",
       "30-90 days           263\n",
       "180-365 days         168\n",
       "less than 30 days     11\n",
       "Name: count, dtype: int64"
      ]
     },
     "execution_count": 178,
     "metadata": {},
     "output_type": "execute_result"
    }
   ],
   "source": [
    "# How many users posted an ad in less than 1 month?\n",
    "users_with_ads['diff_categorical'].value_counts()"
   ]
  },
  {
   "cell_type": "markdown",
   "id": "5be2d948-67ef-4f6c-bf68-519c6907fe68",
   "metadata": {
    "tags": []
   },
   "source": [
    "### Задание 8\n",
    "Постройте интерактивный барплот, на котором будут показаны категории с количеством уникальных клиентов в них (то, что у вас получилось на прошлом степе, по запуску первого рекламного объявления). Расположите их так, чтобы внизу была самая малочисленная, а наверху – самая большая."
   ]
  },
  {
   "cell_type": "code",
   "execution_count": 187,
   "id": "a897194a-26eb-4a7d-b9b1-255f2207f2c2",
   "metadata": {
    "tags": []
   },
   "outputs": [
    {
     "data": {
      "application/vnd.plotly.v1+json": {
       "config": {
        "plotlyServerURL": "https://plot.ly"
       },
       "data": [
        {
         "alignmentgroup": "True",
         "bingroup": "x",
         "hovertemplate": "diff_categorical=%{x}<br>count=%{y}<extra></extra>",
         "legendgroup": "",
         "marker": {
          "color": "#636efa",
          "pattern": {
           "shape": ""
          }
         },
         "name": "",
         "offsetgroup": "",
         "orientation": "v",
         "showlegend": false,
         "type": "histogram",
         "x": [
          "less than 30 days",
          "less than 30 days",
          "less than 30 days",
          "less than 30 days",
          "less than 30 days",
          "less than 30 days",
          "less than 30 days",
          "less than 30 days",
          "less than 30 days",
          "less than 30 days",
          "less than 30 days",
          "30-90 days",
          "30-90 days",
          "30-90 days",
          "30-90 days",
          "30-90 days",
          "30-90 days",
          "30-90 days",
          "30-90 days",
          "30-90 days",
          "30-90 days",
          "30-90 days",
          "30-90 days",
          "30-90 days",
          "30-90 days",
          "30-90 days",
          "30-90 days",
          "30-90 days",
          "30-90 days",
          "30-90 days",
          "30-90 days",
          "30-90 days",
          "30-90 days",
          "30-90 days",
          "30-90 days",
          "30-90 days",
          "30-90 days",
          "30-90 days",
          "30-90 days",
          "30-90 days",
          "30-90 days",
          "30-90 days",
          "30-90 days",
          "30-90 days",
          "30-90 days",
          "30-90 days",
          "30-90 days",
          "30-90 days",
          "30-90 days",
          "30-90 days",
          "30-90 days",
          "30-90 days",
          "30-90 days",
          "30-90 days",
          "30-90 days",
          "30-90 days",
          "30-90 days",
          "30-90 days",
          "30-90 days",
          "30-90 days",
          "30-90 days",
          "30-90 days",
          "30-90 days",
          "30-90 days",
          "30-90 days",
          "30-90 days",
          "30-90 days",
          "30-90 days",
          "30-90 days",
          "30-90 days",
          "30-90 days",
          "30-90 days",
          "30-90 days",
          "30-90 days",
          "30-90 days",
          "30-90 days",
          "30-90 days",
          "30-90 days",
          "30-90 days",
          "30-90 days",
          "30-90 days",
          "30-90 days",
          "30-90 days",
          "30-90 days",
          "30-90 days",
          "30-90 days",
          "30-90 days",
          "30-90 days",
          "30-90 days",
          "30-90 days",
          "30-90 days",
          "30-90 days",
          "30-90 days",
          "30-90 days",
          "30-90 days",
          "30-90 days",
          "30-90 days",
          "30-90 days",
          "30-90 days",
          "30-90 days",
          "30-90 days",
          "30-90 days",
          "30-90 days",
          "30-90 days",
          "30-90 days",
          "30-90 days",
          "30-90 days",
          "30-90 days",
          "30-90 days",
          "30-90 days",
          "30-90 days",
          "30-90 days",
          "30-90 days",
          "30-90 days",
          "30-90 days",
          "30-90 days",
          "30-90 days",
          "30-90 days",
          "30-90 days",
          "30-90 days",
          "30-90 days",
          "30-90 days",
          "30-90 days",
          "30-90 days",
          "30-90 days",
          "30-90 days",
          "30-90 days",
          "30-90 days",
          "30-90 days",
          "30-90 days",
          "30-90 days",
          "30-90 days",
          "30-90 days",
          "30-90 days",
          "30-90 days",
          "30-90 days",
          "30-90 days",
          "30-90 days",
          "30-90 days",
          "30-90 days",
          "30-90 days",
          "30-90 days",
          "30-90 days",
          "30-90 days",
          "30-90 days",
          "30-90 days",
          "30-90 days",
          "30-90 days",
          "30-90 days",
          "30-90 days",
          "30-90 days",
          "30-90 days",
          "30-90 days",
          "30-90 days",
          "30-90 days",
          "30-90 days",
          "30-90 days",
          "30-90 days",
          "30-90 days",
          "30-90 days",
          "30-90 days",
          "30-90 days",
          "30-90 days",
          "30-90 days",
          "30-90 days",
          "30-90 days",
          "30-90 days",
          "30-90 days",
          "30-90 days",
          "30-90 days",
          "30-90 days",
          "30-90 days",
          "30-90 days",
          "30-90 days",
          "30-90 days",
          "30-90 days",
          "30-90 days",
          "30-90 days",
          "30-90 days",
          "30-90 days",
          "30-90 days",
          "30-90 days",
          "30-90 days",
          "30-90 days",
          "30-90 days",
          "30-90 days",
          "30-90 days",
          "30-90 days",
          "30-90 days",
          "30-90 days",
          "30-90 days",
          "30-90 days",
          "30-90 days",
          "30-90 days",
          "30-90 days",
          "30-90 days",
          "30-90 days",
          "30-90 days",
          "30-90 days",
          "30-90 days",
          "30-90 days",
          "30-90 days",
          "30-90 days",
          "30-90 days",
          "30-90 days",
          "30-90 days",
          "30-90 days",
          "30-90 days",
          "30-90 days",
          "30-90 days",
          "30-90 days",
          "30-90 days",
          "30-90 days",
          "30-90 days",
          "30-90 days",
          "30-90 days",
          "30-90 days",
          "30-90 days",
          "30-90 days",
          "30-90 days",
          "30-90 days",
          "30-90 days",
          "30-90 days",
          "30-90 days",
          "30-90 days",
          "30-90 days",
          "30-90 days",
          "30-90 days",
          "30-90 days",
          "30-90 days",
          "30-90 days",
          "30-90 days",
          "30-90 days",
          "30-90 days",
          "30-90 days",
          "30-90 days",
          "30-90 days",
          "30-90 days",
          "30-90 days",
          "30-90 days",
          "30-90 days",
          "30-90 days",
          "30-90 days",
          "30-90 days",
          "30-90 days",
          "30-90 days",
          "30-90 days",
          "30-90 days",
          "30-90 days",
          "30-90 days",
          "30-90 days",
          "30-90 days",
          "30-90 days",
          "30-90 days",
          "30-90 days",
          "30-90 days",
          "30-90 days",
          "30-90 days",
          "30-90 days",
          "30-90 days",
          "30-90 days",
          "30-90 days",
          "30-90 days",
          "30-90 days",
          "30-90 days",
          "30-90 days",
          "30-90 days",
          "30-90 days",
          "30-90 days",
          "30-90 days",
          "30-90 days",
          "30-90 days",
          "30-90 days",
          "30-90 days",
          "90-180 days",
          "90-180 days",
          "90-180 days",
          "90-180 days",
          "90-180 days",
          "90-180 days",
          "90-180 days",
          "90-180 days",
          "90-180 days",
          "90-180 days",
          "90-180 days",
          "90-180 days",
          "90-180 days",
          "90-180 days",
          "90-180 days",
          "90-180 days",
          "90-180 days",
          "90-180 days",
          "90-180 days",
          "90-180 days",
          "90-180 days",
          "90-180 days",
          "90-180 days",
          "90-180 days",
          "90-180 days",
          "90-180 days",
          "90-180 days",
          "90-180 days",
          "90-180 days",
          "90-180 days",
          "90-180 days",
          "90-180 days",
          "90-180 days",
          "90-180 days",
          "90-180 days",
          "90-180 days",
          "90-180 days",
          "90-180 days",
          "90-180 days",
          "90-180 days",
          "90-180 days",
          "90-180 days",
          "90-180 days",
          "90-180 days",
          "90-180 days",
          "90-180 days",
          "90-180 days",
          "90-180 days",
          "90-180 days",
          "90-180 days",
          "90-180 days",
          "90-180 days",
          "90-180 days",
          "90-180 days",
          "90-180 days",
          "90-180 days",
          "90-180 days",
          "90-180 days",
          "90-180 days",
          "90-180 days",
          "90-180 days",
          "90-180 days",
          "90-180 days",
          "90-180 days",
          "90-180 days",
          "90-180 days",
          "90-180 days",
          "90-180 days",
          "90-180 days",
          "90-180 days",
          "90-180 days",
          "90-180 days",
          "90-180 days",
          "90-180 days",
          "90-180 days",
          "90-180 days",
          "90-180 days",
          "90-180 days",
          "90-180 days",
          "90-180 days",
          "90-180 days",
          "90-180 days",
          "90-180 days",
          "90-180 days",
          "90-180 days",
          "90-180 days",
          "90-180 days",
          "90-180 days",
          "90-180 days",
          "90-180 days",
          "90-180 days",
          "90-180 days",
          "90-180 days",
          "90-180 days",
          "90-180 days",
          "90-180 days",
          "90-180 days",
          "90-180 days",
          "90-180 days",
          "90-180 days",
          "90-180 days",
          "90-180 days",
          "90-180 days",
          "90-180 days",
          "90-180 days",
          "90-180 days",
          "90-180 days",
          "90-180 days",
          "90-180 days",
          "90-180 days",
          "90-180 days",
          "90-180 days",
          "90-180 days",
          "90-180 days",
          "90-180 days",
          "90-180 days",
          "90-180 days",
          "90-180 days",
          "90-180 days",
          "90-180 days",
          "90-180 days",
          "90-180 days",
          "90-180 days",
          "90-180 days",
          "90-180 days",
          "90-180 days",
          "90-180 days",
          "90-180 days",
          "90-180 days",
          "90-180 days",
          "90-180 days",
          "90-180 days",
          "90-180 days",
          "90-180 days",
          "90-180 days",
          "90-180 days",
          "90-180 days",
          "90-180 days",
          "90-180 days",
          "90-180 days",
          "90-180 days",
          "90-180 days",
          "90-180 days",
          "90-180 days",
          "90-180 days",
          "90-180 days",
          "90-180 days",
          "90-180 days",
          "90-180 days",
          "90-180 days",
          "90-180 days",
          "90-180 days",
          "90-180 days",
          "90-180 days",
          "90-180 days",
          "90-180 days",
          "90-180 days",
          "90-180 days",
          "90-180 days",
          "90-180 days",
          "90-180 days",
          "90-180 days",
          "90-180 days",
          "90-180 days",
          "90-180 days",
          "90-180 days",
          "90-180 days",
          "90-180 days",
          "90-180 days",
          "90-180 days",
          "90-180 days",
          "90-180 days",
          "90-180 days",
          "90-180 days",
          "90-180 days",
          "90-180 days",
          "90-180 days",
          "90-180 days",
          "90-180 days",
          "90-180 days",
          "90-180 days",
          "90-180 days",
          "90-180 days",
          "90-180 days",
          "90-180 days",
          "90-180 days",
          "90-180 days",
          "90-180 days",
          "90-180 days",
          "90-180 days",
          "90-180 days",
          "90-180 days",
          "90-180 days",
          "90-180 days",
          "90-180 days",
          "90-180 days",
          "90-180 days",
          "90-180 days",
          "90-180 days",
          "90-180 days",
          "90-180 days",
          "90-180 days",
          "90-180 days",
          "90-180 days",
          "90-180 days",
          "90-180 days",
          "90-180 days",
          "90-180 days",
          "90-180 days",
          "90-180 days",
          "90-180 days",
          "90-180 days",
          "90-180 days",
          "90-180 days",
          "90-180 days",
          "90-180 days",
          "90-180 days",
          "90-180 days",
          "90-180 days",
          "90-180 days",
          "90-180 days",
          "90-180 days",
          "90-180 days",
          "90-180 days",
          "90-180 days",
          "90-180 days",
          "90-180 days",
          "90-180 days",
          "90-180 days",
          "90-180 days",
          "90-180 days",
          "90-180 days",
          "90-180 days",
          "90-180 days",
          "90-180 days",
          "90-180 days",
          "90-180 days",
          "90-180 days",
          "90-180 days",
          "90-180 days",
          "90-180 days",
          "90-180 days",
          "90-180 days",
          "90-180 days",
          "90-180 days",
          "90-180 days",
          "90-180 days",
          "90-180 days",
          "90-180 days",
          "90-180 days",
          "90-180 days",
          "90-180 days",
          "90-180 days",
          "90-180 days",
          "90-180 days",
          "90-180 days",
          "90-180 days",
          "90-180 days",
          "90-180 days",
          "90-180 days",
          "90-180 days",
          "90-180 days",
          "90-180 days",
          "90-180 days",
          "90-180 days",
          "90-180 days",
          "90-180 days",
          "90-180 days",
          "90-180 days",
          "90-180 days",
          "90-180 days",
          "90-180 days",
          "90-180 days",
          "90-180 days",
          "90-180 days",
          "90-180 days",
          "90-180 days",
          "90-180 days",
          "90-180 days",
          "90-180 days",
          "90-180 days",
          "90-180 days",
          "90-180 days",
          "90-180 days",
          "90-180 days",
          "90-180 days",
          "90-180 days",
          "90-180 days",
          "90-180 days",
          "90-180 days",
          "90-180 days",
          "90-180 days",
          "90-180 days",
          "90-180 days",
          "90-180 days",
          "90-180 days",
          "90-180 days",
          "90-180 days",
          "90-180 days",
          "90-180 days",
          "90-180 days",
          "90-180 days",
          "90-180 days",
          "90-180 days",
          "90-180 days",
          "90-180 days",
          "90-180 days",
          "90-180 days",
          "90-180 days",
          "90-180 days",
          "90-180 days",
          "90-180 days",
          "90-180 days",
          "90-180 days",
          "90-180 days",
          "90-180 days",
          "90-180 days",
          "90-180 days",
          "90-180 days",
          "90-180 days",
          "90-180 days",
          "90-180 days",
          "90-180 days",
          "90-180 days",
          "90-180 days",
          "90-180 days",
          "90-180 days",
          "90-180 days",
          "90-180 days",
          "90-180 days",
          "90-180 days",
          "90-180 days",
          "90-180 days",
          "90-180 days",
          "90-180 days",
          "90-180 days",
          "90-180 days",
          "90-180 days",
          "90-180 days",
          "90-180 days",
          "90-180 days",
          "90-180 days",
          "90-180 days",
          "90-180 days",
          "90-180 days",
          "90-180 days",
          "90-180 days",
          "90-180 days",
          "90-180 days",
          "90-180 days",
          "90-180 days",
          "90-180 days",
          "90-180 days",
          "90-180 days",
          "90-180 days",
          "90-180 days",
          "90-180 days",
          "90-180 days",
          "90-180 days",
          "90-180 days",
          "90-180 days",
          "90-180 days",
          "90-180 days",
          "90-180 days",
          "90-180 days",
          "90-180 days",
          "90-180 days",
          "90-180 days",
          "90-180 days",
          "90-180 days",
          "90-180 days",
          "90-180 days",
          "90-180 days",
          "90-180 days",
          "90-180 days",
          "90-180 days",
          "90-180 days",
          "90-180 days",
          "90-180 days",
          "90-180 days",
          "90-180 days",
          "90-180 days",
          "90-180 days",
          "90-180 days",
          "90-180 days",
          "90-180 days",
          "90-180 days",
          "90-180 days",
          "90-180 days",
          "90-180 days",
          "90-180 days",
          "90-180 days",
          "90-180 days",
          "90-180 days",
          "90-180 days",
          "90-180 days",
          "180-365 days",
          "180-365 days",
          "180-365 days",
          "180-365 days",
          "180-365 days",
          "180-365 days",
          "180-365 days",
          "180-365 days",
          "180-365 days",
          "180-365 days",
          "180-365 days",
          "180-365 days",
          "180-365 days",
          "180-365 days",
          "180-365 days",
          "180-365 days",
          "180-365 days",
          "180-365 days",
          "180-365 days",
          "180-365 days",
          "180-365 days",
          "180-365 days",
          "180-365 days",
          "180-365 days",
          "180-365 days",
          "180-365 days",
          "180-365 days",
          "180-365 days",
          "180-365 days",
          "180-365 days",
          "180-365 days",
          "180-365 days",
          "180-365 days",
          "180-365 days",
          "180-365 days",
          "180-365 days",
          "180-365 days",
          "180-365 days",
          "180-365 days",
          "180-365 days",
          "180-365 days",
          "180-365 days",
          "180-365 days",
          "180-365 days",
          "180-365 days",
          "180-365 days",
          "180-365 days",
          "180-365 days",
          "180-365 days",
          "180-365 days",
          "180-365 days",
          "180-365 days",
          "180-365 days",
          "180-365 days",
          "180-365 days",
          "180-365 days",
          "180-365 days",
          "180-365 days",
          "180-365 days",
          "180-365 days",
          "180-365 days",
          "180-365 days",
          "180-365 days",
          "180-365 days",
          "180-365 days",
          "180-365 days",
          "180-365 days",
          "180-365 days",
          "180-365 days",
          "180-365 days",
          "180-365 days",
          "180-365 days",
          "180-365 days",
          "180-365 days",
          "180-365 days",
          "180-365 days",
          "180-365 days",
          "180-365 days",
          "180-365 days",
          "180-365 days",
          "180-365 days",
          "180-365 days",
          "180-365 days",
          "180-365 days",
          "180-365 days",
          "180-365 days",
          "180-365 days",
          "180-365 days",
          "180-365 days",
          "180-365 days",
          "180-365 days",
          "180-365 days",
          "180-365 days",
          "180-365 days",
          "180-365 days",
          "180-365 days",
          "180-365 days",
          "180-365 days",
          "180-365 days",
          "180-365 days",
          "180-365 days",
          "180-365 days",
          "180-365 days",
          "180-365 days",
          "180-365 days",
          "180-365 days",
          "180-365 days",
          "180-365 days",
          "180-365 days",
          "180-365 days",
          "180-365 days",
          "180-365 days",
          "180-365 days",
          "180-365 days",
          "180-365 days",
          "180-365 days",
          "180-365 days",
          "180-365 days",
          "180-365 days",
          "180-365 days",
          "180-365 days",
          "180-365 days",
          "180-365 days",
          "180-365 days",
          "180-365 days",
          "180-365 days",
          "180-365 days",
          "180-365 days",
          "180-365 days",
          "180-365 days",
          "180-365 days",
          "180-365 days",
          "180-365 days",
          "180-365 days",
          "180-365 days",
          "180-365 days",
          "180-365 days",
          "180-365 days",
          "180-365 days",
          "180-365 days",
          "180-365 days",
          "180-365 days",
          "180-365 days",
          "180-365 days",
          "180-365 days",
          "180-365 days",
          "180-365 days",
          "180-365 days",
          "180-365 days",
          "180-365 days",
          "180-365 days",
          "180-365 days",
          "180-365 days",
          "180-365 days",
          "180-365 days",
          "180-365 days",
          "180-365 days",
          "180-365 days",
          "180-365 days",
          "180-365 days",
          "180-365 days",
          "180-365 days",
          "180-365 days",
          "180-365 days",
          "180-365 days",
          "180-365 days",
          "180-365 days",
          "180-365 days"
         ],
         "xaxis": "x",
         "yaxis": "y"
        }
       ],
       "layout": {
        "autosize": true,
        "barmode": "relative",
        "legend": {
         "tracegroupgap": 0
        },
        "margin": {
         "t": 60
        },
        "template": {
         "data": {
          "bar": [
           {
            "error_x": {
             "color": "#2a3f5f"
            },
            "error_y": {
             "color": "#2a3f5f"
            },
            "marker": {
             "line": {
              "color": "#E5ECF6",
              "width": 0.5
             },
             "pattern": {
              "fillmode": "overlay",
              "size": 10,
              "solidity": 0.2
             }
            },
            "type": "bar"
           }
          ],
          "barpolar": [
           {
            "marker": {
             "line": {
              "color": "#E5ECF6",
              "width": 0.5
             },
             "pattern": {
              "fillmode": "overlay",
              "size": 10,
              "solidity": 0.2
             }
            },
            "type": "barpolar"
           }
          ],
          "carpet": [
           {
            "aaxis": {
             "endlinecolor": "#2a3f5f",
             "gridcolor": "white",
             "linecolor": "white",
             "minorgridcolor": "white",
             "startlinecolor": "#2a3f5f"
            },
            "baxis": {
             "endlinecolor": "#2a3f5f",
             "gridcolor": "white",
             "linecolor": "white",
             "minorgridcolor": "white",
             "startlinecolor": "#2a3f5f"
            },
            "type": "carpet"
           }
          ],
          "choropleth": [
           {
            "colorbar": {
             "outlinewidth": 0,
             "ticks": ""
            },
            "type": "choropleth"
           }
          ],
          "contour": [
           {
            "colorbar": {
             "outlinewidth": 0,
             "ticks": ""
            },
            "colorscale": [
             [
              0,
              "#0d0887"
             ],
             [
              0.1111111111111111,
              "#46039f"
             ],
             [
              0.2222222222222222,
              "#7201a8"
             ],
             [
              0.3333333333333333,
              "#9c179e"
             ],
             [
              0.4444444444444444,
              "#bd3786"
             ],
             [
              0.5555555555555556,
              "#d8576b"
             ],
             [
              0.6666666666666666,
              "#ed7953"
             ],
             [
              0.7777777777777778,
              "#fb9f3a"
             ],
             [
              0.8888888888888888,
              "#fdca26"
             ],
             [
              1,
              "#f0f921"
             ]
            ],
            "type": "contour"
           }
          ],
          "contourcarpet": [
           {
            "colorbar": {
             "outlinewidth": 0,
             "ticks": ""
            },
            "type": "contourcarpet"
           }
          ],
          "heatmap": [
           {
            "colorbar": {
             "outlinewidth": 0,
             "ticks": ""
            },
            "colorscale": [
             [
              0,
              "#0d0887"
             ],
             [
              0.1111111111111111,
              "#46039f"
             ],
             [
              0.2222222222222222,
              "#7201a8"
             ],
             [
              0.3333333333333333,
              "#9c179e"
             ],
             [
              0.4444444444444444,
              "#bd3786"
             ],
             [
              0.5555555555555556,
              "#d8576b"
             ],
             [
              0.6666666666666666,
              "#ed7953"
             ],
             [
              0.7777777777777778,
              "#fb9f3a"
             ],
             [
              0.8888888888888888,
              "#fdca26"
             ],
             [
              1,
              "#f0f921"
             ]
            ],
            "type": "heatmap"
           }
          ],
          "heatmapgl": [
           {
            "colorbar": {
             "outlinewidth": 0,
             "ticks": ""
            },
            "colorscale": [
             [
              0,
              "#0d0887"
             ],
             [
              0.1111111111111111,
              "#46039f"
             ],
             [
              0.2222222222222222,
              "#7201a8"
             ],
             [
              0.3333333333333333,
              "#9c179e"
             ],
             [
              0.4444444444444444,
              "#bd3786"
             ],
             [
              0.5555555555555556,
              "#d8576b"
             ],
             [
              0.6666666666666666,
              "#ed7953"
             ],
             [
              0.7777777777777778,
              "#fb9f3a"
             ],
             [
              0.8888888888888888,
              "#fdca26"
             ],
             [
              1,
              "#f0f921"
             ]
            ],
            "type": "heatmapgl"
           }
          ],
          "histogram": [
           {
            "marker": {
             "pattern": {
              "fillmode": "overlay",
              "size": 10,
              "solidity": 0.2
             }
            },
            "type": "histogram"
           }
          ],
          "histogram2d": [
           {
            "colorbar": {
             "outlinewidth": 0,
             "ticks": ""
            },
            "colorscale": [
             [
              0,
              "#0d0887"
             ],
             [
              0.1111111111111111,
              "#46039f"
             ],
             [
              0.2222222222222222,
              "#7201a8"
             ],
             [
              0.3333333333333333,
              "#9c179e"
             ],
             [
              0.4444444444444444,
              "#bd3786"
             ],
             [
              0.5555555555555556,
              "#d8576b"
             ],
             [
              0.6666666666666666,
              "#ed7953"
             ],
             [
              0.7777777777777778,
              "#fb9f3a"
             ],
             [
              0.8888888888888888,
              "#fdca26"
             ],
             [
              1,
              "#f0f921"
             ]
            ],
            "type": "histogram2d"
           }
          ],
          "histogram2dcontour": [
           {
            "colorbar": {
             "outlinewidth": 0,
             "ticks": ""
            },
            "colorscale": [
             [
              0,
              "#0d0887"
             ],
             [
              0.1111111111111111,
              "#46039f"
             ],
             [
              0.2222222222222222,
              "#7201a8"
             ],
             [
              0.3333333333333333,
              "#9c179e"
             ],
             [
              0.4444444444444444,
              "#bd3786"
             ],
             [
              0.5555555555555556,
              "#d8576b"
             ],
             [
              0.6666666666666666,
              "#ed7953"
             ],
             [
              0.7777777777777778,
              "#fb9f3a"
             ],
             [
              0.8888888888888888,
              "#fdca26"
             ],
             [
              1,
              "#f0f921"
             ]
            ],
            "type": "histogram2dcontour"
           }
          ],
          "mesh3d": [
           {
            "colorbar": {
             "outlinewidth": 0,
             "ticks": ""
            },
            "type": "mesh3d"
           }
          ],
          "parcoords": [
           {
            "line": {
             "colorbar": {
              "outlinewidth": 0,
              "ticks": ""
             }
            },
            "type": "parcoords"
           }
          ],
          "pie": [
           {
            "automargin": true,
            "type": "pie"
           }
          ],
          "scatter": [
           {
            "fillpattern": {
             "fillmode": "overlay",
             "size": 10,
             "solidity": 0.2
            },
            "type": "scatter"
           }
          ],
          "scatter3d": [
           {
            "line": {
             "colorbar": {
              "outlinewidth": 0,
              "ticks": ""
             }
            },
            "marker": {
             "colorbar": {
              "outlinewidth": 0,
              "ticks": ""
             }
            },
            "type": "scatter3d"
           }
          ],
          "scattercarpet": [
           {
            "marker": {
             "colorbar": {
              "outlinewidth": 0,
              "ticks": ""
             }
            },
            "type": "scattercarpet"
           }
          ],
          "scattergeo": [
           {
            "marker": {
             "colorbar": {
              "outlinewidth": 0,
              "ticks": ""
             }
            },
            "type": "scattergeo"
           }
          ],
          "scattergl": [
           {
            "marker": {
             "colorbar": {
              "outlinewidth": 0,
              "ticks": ""
             }
            },
            "type": "scattergl"
           }
          ],
          "scattermapbox": [
           {
            "marker": {
             "colorbar": {
              "outlinewidth": 0,
              "ticks": ""
             }
            },
            "type": "scattermapbox"
           }
          ],
          "scatterpolar": [
           {
            "marker": {
             "colorbar": {
              "outlinewidth": 0,
              "ticks": ""
             }
            },
            "type": "scatterpolar"
           }
          ],
          "scatterpolargl": [
           {
            "marker": {
             "colorbar": {
              "outlinewidth": 0,
              "ticks": ""
             }
            },
            "type": "scatterpolargl"
           }
          ],
          "scatterternary": [
           {
            "marker": {
             "colorbar": {
              "outlinewidth": 0,
              "ticks": ""
             }
            },
            "type": "scatterternary"
           }
          ],
          "surface": [
           {
            "colorbar": {
             "outlinewidth": 0,
             "ticks": ""
            },
            "colorscale": [
             [
              0,
              "#0d0887"
             ],
             [
              0.1111111111111111,
              "#46039f"
             ],
             [
              0.2222222222222222,
              "#7201a8"
             ],
             [
              0.3333333333333333,
              "#9c179e"
             ],
             [
              0.4444444444444444,
              "#bd3786"
             ],
             [
              0.5555555555555556,
              "#d8576b"
             ],
             [
              0.6666666666666666,
              "#ed7953"
             ],
             [
              0.7777777777777778,
              "#fb9f3a"
             ],
             [
              0.8888888888888888,
              "#fdca26"
             ],
             [
              1,
              "#f0f921"
             ]
            ],
            "type": "surface"
           }
          ],
          "table": [
           {
            "cells": {
             "fill": {
              "color": "#EBF0F8"
             },
             "line": {
              "color": "white"
             }
            },
            "header": {
             "fill": {
              "color": "#C8D4E3"
             },
             "line": {
              "color": "white"
             }
            },
            "type": "table"
           }
          ]
         },
         "layout": {
          "annotationdefaults": {
           "arrowcolor": "#2a3f5f",
           "arrowhead": 0,
           "arrowwidth": 1
          },
          "autotypenumbers": "strict",
          "coloraxis": {
           "colorbar": {
            "outlinewidth": 0,
            "ticks": ""
           }
          },
          "colorscale": {
           "diverging": [
            [
             0,
             "#8e0152"
            ],
            [
             0.1,
             "#c51b7d"
            ],
            [
             0.2,
             "#de77ae"
            ],
            [
             0.3,
             "#f1b6da"
            ],
            [
             0.4,
             "#fde0ef"
            ],
            [
             0.5,
             "#f7f7f7"
            ],
            [
             0.6,
             "#e6f5d0"
            ],
            [
             0.7,
             "#b8e186"
            ],
            [
             0.8,
             "#7fbc41"
            ],
            [
             0.9,
             "#4d9221"
            ],
            [
             1,
             "#276419"
            ]
           ],
           "sequential": [
            [
             0,
             "#0d0887"
            ],
            [
             0.1111111111111111,
             "#46039f"
            ],
            [
             0.2222222222222222,
             "#7201a8"
            ],
            [
             0.3333333333333333,
             "#9c179e"
            ],
            [
             0.4444444444444444,
             "#bd3786"
            ],
            [
             0.5555555555555556,
             "#d8576b"
            ],
            [
             0.6666666666666666,
             "#ed7953"
            ],
            [
             0.7777777777777778,
             "#fb9f3a"
            ],
            [
             0.8888888888888888,
             "#fdca26"
            ],
            [
             1,
             "#f0f921"
            ]
           ],
           "sequentialminus": [
            [
             0,
             "#0d0887"
            ],
            [
             0.1111111111111111,
             "#46039f"
            ],
            [
             0.2222222222222222,
             "#7201a8"
            ],
            [
             0.3333333333333333,
             "#9c179e"
            ],
            [
             0.4444444444444444,
             "#bd3786"
            ],
            [
             0.5555555555555556,
             "#d8576b"
            ],
            [
             0.6666666666666666,
             "#ed7953"
            ],
            [
             0.7777777777777778,
             "#fb9f3a"
            ],
            [
             0.8888888888888888,
             "#fdca26"
            ],
            [
             1,
             "#f0f921"
            ]
           ]
          },
          "colorway": [
           "#636efa",
           "#EF553B",
           "#00cc96",
           "#ab63fa",
           "#FFA15A",
           "#19d3f3",
           "#FF6692",
           "#B6E880",
           "#FF97FF",
           "#FECB52"
          ],
          "font": {
           "color": "#2a3f5f"
          },
          "geo": {
           "bgcolor": "white",
           "lakecolor": "white",
           "landcolor": "#E5ECF6",
           "showlakes": true,
           "showland": true,
           "subunitcolor": "white"
          },
          "hoverlabel": {
           "align": "left"
          },
          "hovermode": "closest",
          "mapbox": {
           "style": "light"
          },
          "paper_bgcolor": "white",
          "plot_bgcolor": "#E5ECF6",
          "polar": {
           "angularaxis": {
            "gridcolor": "white",
            "linecolor": "white",
            "ticks": ""
           },
           "bgcolor": "#E5ECF6",
           "radialaxis": {
            "gridcolor": "white",
            "linecolor": "white",
            "ticks": ""
           }
          },
          "scene": {
           "xaxis": {
            "backgroundcolor": "#E5ECF6",
            "gridcolor": "white",
            "gridwidth": 2,
            "linecolor": "white",
            "showbackground": true,
            "ticks": "",
            "zerolinecolor": "white"
           },
           "yaxis": {
            "backgroundcolor": "#E5ECF6",
            "gridcolor": "white",
            "gridwidth": 2,
            "linecolor": "white",
            "showbackground": true,
            "ticks": "",
            "zerolinecolor": "white"
           },
           "zaxis": {
            "backgroundcolor": "#E5ECF6",
            "gridcolor": "white",
            "gridwidth": 2,
            "linecolor": "white",
            "showbackground": true,
            "ticks": "",
            "zerolinecolor": "white"
           }
          },
          "shapedefaults": {
           "line": {
            "color": "#2a3f5f"
           }
          },
          "ternary": {
           "aaxis": {
            "gridcolor": "white",
            "linecolor": "white",
            "ticks": ""
           },
           "baxis": {
            "gridcolor": "white",
            "linecolor": "white",
            "ticks": ""
           },
           "bgcolor": "#E5ECF6",
           "caxis": {
            "gridcolor": "white",
            "linecolor": "white",
            "ticks": ""
           }
          },
          "title": {
           "x": 0.05
          },
          "xaxis": {
           "automargin": true,
           "gridcolor": "white",
           "linecolor": "white",
           "ticks": "",
           "title": {
            "standoff": 15
           },
           "zerolinecolor": "white",
           "zerolinewidth": 2
          },
          "yaxis": {
           "automargin": true,
           "gridcolor": "white",
           "linecolor": "white",
           "ticks": "",
           "title": {
            "standoff": 15
           },
           "zerolinecolor": "white",
           "zerolinewidth": 2
          }
         }
        },
        "xaxis": {
         "anchor": "y",
         "autorange": true,
         "domain": [
          0,
          1
         ],
         "range": [
          -0.5,
          3.5
         ],
         "title": {
          "text": "diff_categorical"
         },
         "type": "category"
        },
        "yaxis": {
         "anchor": "x",
         "autorange": true,
         "domain": [
          0,
          1
         ],
         "range": [
          0,
          416.8421052631579
         ],
         "title": {
          "text": "count"
         }
        }
       }
      },
      "image/png": "[encoded data removed]",
      "text/html": [
       "<div>                            <div id=\"b68fa0c8-b143-4099-8ec8-a25bd0ae154d\" class=\"plotly-graph-div\" style=\"height:525px; width:100%;\"></div>            <script type=\"text/javascript\">                require([\"plotly\"], function(Plotly) {                    window.PLOTLYENV=window.PLOTLYENV || {};                                    if (document.getElementById(\"b68fa0c8-b143-4099-8ec8-a25bd0ae154d\")) {                    Plotly.newPlot(                        \"b68fa0c8-b143-4099-8ec8-a25bd0ae154d\",                        [{\"alignmentgroup\":\"True\",\"bingroup\":\"x\",\"hovertemplate\":\"diff_categorical=%{x}<br>count=%{y}<extra></extra>\",\"legendgroup\":\"\",\"marker\":{\"color\":\"#636efa\",\"pattern\":{\"shape\":\"\"}},\"name\":\"\",\"offsetgroup\":\"\",\"orientation\":\"v\",\"showlegend\":false,\"x\":[\"less than 30 days\",\"less than 30 days\",\"less than 30 days\",\"less than 30 days\",\"less than 30 days\",\"less than 30 days\",\"less than 30 days\",\"less than 30 days\",\"less than 30 days\",\"less than 30 days\",\"less than 30 days\",\"30-90 days\",\"30-90 days\",\"30-90 days\",\"30-90 days\",\"30-90 days\",\"30-90 days\",\"30-90 days\",\"30-90 days\",\"30-90 days\",\"30-90 days\",\"30-90 days\",\"30-90 days\",\"30-90 days\",\"30-90 days\",\"30-90 days\",\"30-90 days\",\"30-90 days\",\"30-90 days\",\"30-90 days\",\"30-90 days\",\"30-90 days\",\"30-90 days\",\"30-90 days\",\"30-90 days\",\"30-90 days\",\"30-90 days\",\"30-90 days\",\"30-90 days\",\"30-90 days\",\"30-90 days\",\"30-90 days\",\"30-90 days\",\"30-90 days\",\"30-90 days\",\"30-90 days\",\"30-90 days\",\"30-90 days\",\"30-90 days\",\"30-90 days\",\"30-90 days\",\"30-90 days\",\"30-90 days\",\"30-90 days\",\"30-90 days\",\"30-90 days\",\"30-90 days\",\"30-90 days\",\"30-90 days\",\"30-90 days\",\"30-90 days\",\"30-90 days\",\"30-90 days\",\"30-90 days\",\"30-90 days\",\"30-90 days\",\"30-90 days\",\"30-90 days\",\"30-90 days\",\"30-90 days\",\"30-90 days\",\"30-90 days\",\"30-90 days\",\"30-90 days\",\"30-90 days\",\"30-90 days\",\"30-90 days\",\"30-90 days\",\"30-90 days\",\"30-90 days\",\"30-90 days\",\"30-90 days\",\"30-90 days\",\"30-90 days\",\"30-90 days\",\"30-90 days\",\"30-90 days\",\"30-90 days\",\"30-90 days\",\"30-90 days\",\"30-90 days\",\"30-90 days\",\"30-90 days\",\"30-90 days\",\"30-90 days\",\"30-90 days\",\"30-90 days\",\"30-90 days\",\"30-90 days\",\"30-90 days\",\"30-90 days\",\"30-90 days\",\"30-90 days\",\"30-90 days\",\"30-90 days\",\"30-90 days\",\"30-90 days\",\"30-90 days\",\"30-90 days\",\"30-90 days\",\"30-90 days\",\"30-90 days\",\"30-90 days\",\"30-90 days\",\"30-90 days\",\"30-90 days\",\"30-90 days\",\"30-90 days\",\"30-90 days\",\"30-90 days\",\"30-90 days\",\"30-90 days\",\"30-90 days\",\"30-90 days\",\"30-90 days\",\"30-90 days\",\"30-90 days\",\"30-90 days\",\"30-90 days\",\"30-90 days\",\"30-90 days\",\"30-90 days\",\"30-90 days\",\"30-90 days\",\"30-90 days\",\"30-90 days\",\"30-90 days\",\"30-90 days\",\"30-90 days\",\"30-90 days\",\"30-90 days\",\"30-90 days\",\"30-90 days\",\"30-90 days\",\"30-90 days\",\"30-90 days\",\"30-90 days\",\"30-90 days\",\"30-90 days\",\"30-90 days\",\"30-90 days\",\"30-90 days\",\"30-90 days\",\"30-90 days\",\"30-90 days\",\"30-90 days\",\"30-90 days\",\"30-90 days\",\"30-90 days\",\"30-90 days\",\"30-90 days\",\"30-90 days\",\"30-90 days\",\"30-90 days\",\"30-90 days\",\"30-90 days\",\"30-90 days\",\"30-90 days\",\"30-90 days\",\"30-90 days\",\"30-90 days\",\"30-90 days\",\"30-90 days\",\"30-90 days\",\"30-90 days\",\"30-90 days\",\"30-90 days\",\"30-90 days\",\"30-90 days\",\"30-90 days\",\"30-90 days\",\"30-90 days\",\"30-90 days\",\"30-90 days\",\"30-90 days\",\"30-90 days\",\"30-90 days\",\"30-90 days\",\"30-90 days\",\"30-90 days\",\"30-90 days\",\"30-90 days\",\"30-90 days\",\"30-90 days\",\"30-90 days\",\"30-90 days\",\"30-90 days\",\"30-90 days\",\"30-90 days\",\"30-90 days\",\"30-90 days\",\"30-90 days\",\"30-90 days\",\"30-90 days\",\"30-90 days\",\"30-90 days\",\"30-90 days\",\"30-90 days\",\"30-90 days\",\"30-90 days\",\"30-90 days\",\"30-90 days\",\"30-90 days\",\"30-90 days\",\"30-90 days\",\"30-90 days\",\"30-90 days\",\"30-90 days\",\"30-90 days\",\"30-90 days\",\"30-90 days\",\"30-90 days\",\"30-90 days\",\"30-90 days\",\"30-90 days\",\"30-90 days\",\"30-90 days\",\"30-90 days\",\"30-90 days\",\"30-90 days\",\"30-90 days\",\"30-90 days\",\"30-90 days\",\"30-90 days\",\"30-90 days\",\"30-90 days\",\"30-90 days\",\"30-90 days\",\"30-90 days\",\"30-90 days\",\"30-90 days\",\"30-90 days\",\"30-90 days\",\"30-90 days\",\"30-90 days\",\"30-90 days\",\"30-90 days\",\"30-90 days\",\"30-90 days\",\"30-90 days\",\"30-90 days\",\"30-90 days\",\"30-90 days\",\"30-90 days\",\"30-90 days\",\"30-90 days\",\"30-90 days\",\"30-90 days\",\"30-90 days\",\"30-90 days\",\"30-90 days\",\"30-90 days\",\"30-90 days\",\"30-90 days\",\"30-90 days\",\"30-90 days\",\"30-90 days\",\"30-90 days\",\"30-90 days\",\"30-90 days\",\"30-90 days\",\"30-90 days\",\"30-90 days\",\"30-90 days\",\"90-180 days\",\"90-180 days\",\"90-180 days\",\"90-180 days\",\"90-180 days\",\"90-180 days\",\"90-180 days\",\"90-180 days\",\"90-180 days\",\"90-180 days\",\"90-180 days\",\"90-180 days\",\"90-180 days\",\"90-180 days\",\"90-180 days\",\"90-180 days\",\"90-180 days\",\"90-180 days\",\"90-180 days\",\"90-180 days\",\"90-180 days\",\"90-180 days\",\"90-180 days\",\"90-180 days\",\"90-180 days\",\"90-180 days\",\"90-180 days\",\"90-180 days\",\"90-180 days\",\"90-180 days\",\"90-180 days\",\"90-180 days\",\"90-180 days\",\"90-180 days\",\"90-180 days\",\"90-180 days\",\"90-180 days\",\"90-180 days\",\"90-180 days\",\"90-180 days\",\"90-180 days\",\"90-180 days\",\"90-180 days\",\"90-180 days\",\"90-180 days\",\"90-180 days\",\"90-180 days\",\"90-180 days\",\"90-180 days\",\"90-180 days\",\"90-180 days\",\"90-180 days\",\"90-180 days\",\"90-180 days\",\"90-180 days\",\"90-180 days\",\"90-180 days\",\"90-180 days\",\"90-180 days\",\"90-180 days\",\"90-180 days\",\"90-180 days\",\"90-180 days\",\"90-180 days\",\"90-180 days\",\"90-180 days\",\"90-180 days\",\"90-180 days\",\"90-180 days\",\"90-180 days\",\"90-180 days\",\"90-180 days\",\"90-180 days\",\"90-180 days\",\"90-180 days\",\"90-180 days\",\"90-180 days\",\"90-180 days\",\"90-180 days\",\"90-180 days\",\"90-180 days\",\"90-180 days\",\"90-180 days\",\"90-180 days\",\"90-180 days\",\"90-180 days\",\"90-180 days\",\"90-180 days\",\"90-180 days\",\"90-180 days\",\"90-180 days\",\"90-180 days\",\"90-180 days\",\"90-180 days\",\"90-180 days\",\"90-180 days\",\"90-180 days\",\"90-180 days\",\"90-180 days\",\"90-180 days\",\"90-180 days\",\"90-180 days\",\"90-180 days\",\"90-180 days\",\"90-180 days\",\"90-180 days\",\"90-180 days\",\"90-180 days\",\"90-180 days\",\"90-180 days\",\"90-180 days\",\"90-180 days\",\"90-180 days\",\"90-180 days\",\"90-180 days\",\"90-180 days\",\"90-180 days\",\"90-180 days\",\"90-180 days\",\"90-180 days\",\"90-180 days\",\"90-180 days\",\"90-180 days\",\"90-180 days\",\"90-180 days\",\"90-180 days\",\"90-180 days\",\"90-180 days\",\"90-180 days\",\"90-180 days\",\"90-180 days\",\"90-180 days\",\"90-180 days\",\"90-180 days\",\"90-180 days\",\"90-180 days\",\"90-180 days\",\"90-180 days\",\"90-180 days\",\"90-180 days\",\"90-180 days\",\"90-180 days\",\"90-180 days\",\"90-180 days\",\"90-180 days\",\"90-180 days\",\"90-180 days\",\"90-180 days\",\"90-180 days\",\"90-180 days\",\"90-180 days\",\"90-180 days\",\"90-180 days\",\"90-180 days\",\"90-180 days\",\"90-180 days\",\"90-180 days\",\"90-180 days\",\"90-180 days\",\"90-180 days\",\"90-180 days\",\"90-180 days\",\"90-180 days\",\"90-180 days\",\"90-180 days\",\"90-180 days\",\"90-180 days\",\"90-180 days\",\"90-180 days\",\"90-180 days\",\"90-180 days\",\"90-180 days\",\"90-180 days\",\"90-180 days\",\"90-180 days\",\"90-180 days\",\"90-180 days\",\"90-180 days\",\"90-180 days\",\"90-180 days\",\"90-180 days\",\"90-180 days\",\"90-180 days\",\"90-180 days\",\"90-180 days\",\"90-180 days\",\"90-180 days\",\"90-180 days\",\"90-180 days\",\"90-180 days\",\"90-180 days\",\"90-180 days\",\"90-180 days\",\"90-180 days\",\"90-180 days\",\"90-180 days\",\"90-180 days\",\"90-180 days\",\"90-180 days\",\"90-180 days\",\"90-180 days\",\"90-180 days\",\"90-180 days\",\"90-180 days\",\"90-180 days\",\"90-180 days\",\"90-180 days\",\"90-180 days\",\"90-180 days\",\"90-180 days\",\"90-180 days\",\"90-180 days\",\"90-180 days\",\"90-180 days\",\"90-180 days\",\"90-180 days\",\"90-180 days\",\"90-180 days\",\"90-180 days\",\"90-180 days\",\"90-180 days\",\"90-180 days\",\"90-180 days\",\"90-180 days\",\"90-180 days\",\"90-180 days\",\"90-180 days\",\"90-180 days\",\"90-180 days\",\"90-180 days\",\"90-180 days\",\"90-180 days\",\"90-180 days\",\"90-180 days\",\"90-180 days\",\"90-180 days\",\"90-180 days\",\"90-180 days\",\"90-180 days\",\"90-180 days\",\"90-180 days\",\"90-180 days\",\"90-180 days\",\"90-180 days\",\"90-180 days\",\"90-180 days\",\"90-180 days\",\"90-180 days\",\"90-180 days\",\"90-180 days\",\"90-180 days\",\"90-180 days\",\"90-180 days\",\"90-180 days\",\"90-180 days\",\"90-180 days\",\"90-180 days\",\"90-180 days\",\"90-180 days\",\"90-180 days\",\"90-180 days\",\"90-180 days\",\"90-180 days\",\"90-180 days\",\"90-180 days\",\"90-180 days\",\"90-180 days\",\"90-180 days\",\"90-180 days\",\"90-180 days\",\"90-180 days\",\"90-180 days\",\"90-180 days\",\"90-180 days\",\"90-180 days\",\"90-180 days\",\"90-180 days\",\"90-180 days\",\"90-180 days\",\"90-180 days\",\"90-180 days\",\"90-180 days\",\"90-180 days\",\"90-180 days\",\"90-180 days\",\"90-180 days\",\"90-180 days\",\"90-180 days\",\"90-180 days\",\"90-180 days\",\"90-180 days\",\"90-180 days\",\"90-180 days\",\"90-180 days\",\"90-180 days\",\"90-180 days\",\"90-180 days\",\"90-180 days\",\"90-180 days\",\"90-180 days\",\"90-180 days\",\"90-180 days\",\"90-180 days\",\"90-180 days\",\"90-180 days\",\"90-180 days\",\"90-180 days\",\"90-180 days\",\"90-180 days\",\"90-180 days\",\"90-180 days\",\"90-180 days\",\"90-180 days\",\"90-180 days\",\"90-180 days\",\"90-180 days\",\"90-180 days\",\"90-180 days\",\"90-180 days\",\"90-180 days\",\"90-180 days\",\"90-180 days\",\"90-180 days\",\"90-180 days\",\"90-180 days\",\"90-180 days\",\"90-180 days\",\"90-180 days\",\"90-180 days\",\"90-180 days\",\"90-180 days\",\"90-180 days\",\"90-180 days\",\"90-180 days\",\"90-180 days\",\"90-180 days\",\"90-180 days\",\"90-180 days\",\"90-180 days\",\"90-180 days\",\"90-180 days\",\"90-180 days\",\"90-180 days\",\"90-180 days\",\"90-180 days\",\"90-180 days\",\"90-180 days\",\"90-180 days\",\"90-180 days\",\"90-180 days\",\"90-180 days\",\"90-180 days\",\"90-180 days\",\"90-180 days\",\"90-180 days\",\"90-180 days\",\"90-180 days\",\"90-180 days\",\"90-180 days\",\"90-180 days\",\"90-180 days\",\"90-180 days\",\"90-180 days\",\"90-180 days\",\"90-180 days\",\"90-180 days\",\"90-180 days\",\"90-180 days\",\"90-180 days\",\"90-180 days\",\"90-180 days\",\"90-180 days\",\"90-180 days\",\"90-180 days\",\"90-180 days\",\"90-180 days\",\"90-180 days\",\"90-180 days\",\"90-180 days\",\"90-180 days\",\"90-180 days\",\"90-180 days\",\"90-180 days\",\"90-180 days\",\"90-180 days\",\"90-180 days\",\"90-180 days\",\"90-180 days\",\"90-180 days\",\"90-180 days\",\"90-180 days\",\"90-180 days\",\"90-180 days\",\"90-180 days\",\"90-180 days\",\"90-180 days\",\"180-365 days\",\"180-365 days\",\"180-365 days\",\"180-365 days\",\"180-365 days\",\"180-365 days\",\"180-365 days\",\"180-365 days\",\"180-365 days\",\"180-365 days\",\"180-365 days\",\"180-365 days\",\"180-365 days\",\"180-365 days\",\"180-365 days\",\"180-365 days\",\"180-365 days\",\"180-365 days\",\"180-365 days\",\"180-365 days\",\"180-365 days\",\"180-365 days\",\"180-365 days\",\"180-365 days\",\"180-365 days\",\"180-365 days\",\"180-365 days\",\"180-365 days\",\"180-365 days\",\"180-365 days\",\"180-365 days\",\"180-365 days\",\"180-365 days\",\"180-365 days\",\"180-365 days\",\"180-365 days\",\"180-365 days\",\"180-365 days\",\"180-365 days\",\"180-365 days\",\"180-365 days\",\"180-365 days\",\"180-365 days\",\"180-365 days\",\"180-365 days\",\"180-365 days\",\"180-365 days\",\"180-365 days\",\"180-365 days\",\"180-365 days\",\"180-365 days\",\"180-365 days\",\"180-365 days\",\"180-365 days\",\"180-365 days\",\"180-365 days\",\"180-365 days\",\"180-365 days\",\"180-365 days\",\"180-365 days\",\"180-365 days\",\"180-365 days\",\"180-365 days\",\"180-365 days\",\"180-365 days\",\"180-365 days\",\"180-365 days\",\"180-365 days\",\"180-365 days\",\"180-365 days\",\"180-365 days\",\"180-365 days\",\"180-365 days\",\"180-365 days\",\"180-365 days\",\"180-365 days\",\"180-365 days\",\"180-365 days\",\"180-365 days\",\"180-365 days\",\"180-365 days\",\"180-365 days\",\"180-365 days\",\"180-365 days\",\"180-365 days\",\"180-365 days\",\"180-365 days\",\"180-365 days\",\"180-365 days\",\"180-365 days\",\"180-365 days\",\"180-365 days\",\"180-365 days\",\"180-365 days\",\"180-365 days\",\"180-365 days\",\"180-365 days\",\"180-365 days\",\"180-365 days\",\"180-365 days\",\"180-365 days\",\"180-365 days\",\"180-365 days\",\"180-365 days\",\"180-365 days\",\"180-365 days\",\"180-365 days\",\"180-365 days\",\"180-365 days\",\"180-365 days\",\"180-365 days\",\"180-365 days\",\"180-365 days\",\"180-365 days\",\"180-365 days\",\"180-365 days\",\"180-365 days\",\"180-365 days\",\"180-365 days\",\"180-365 days\",\"180-365 days\",\"180-365 days\",\"180-365 days\",\"180-365 days\",\"180-365 days\",\"180-365 days\",\"180-365 days\",\"180-365 days\",\"180-365 days\",\"180-365 days\",\"180-365 days\",\"180-365 days\",\"180-365 days\",\"180-365 days\",\"180-365 days\",\"180-365 days\",\"180-365 days\",\"180-365 days\",\"180-365 days\",\"180-365 days\",\"180-365 days\",\"180-365 days\",\"180-365 days\",\"180-365 days\",\"180-365 days\",\"180-365 days\",\"180-365 days\",\"180-365 days\",\"180-365 days\",\"180-365 days\",\"180-365 days\",\"180-365 days\",\"180-365 days\",\"180-365 days\",\"180-365 days\",\"180-365 days\",\"180-365 days\",\"180-365 days\",\"180-365 days\",\"180-365 days\",\"180-365 days\",\"180-365 days\",\"180-365 days\",\"180-365 days\",\"180-365 days\",\"180-365 days\",\"180-365 days\",\"180-365 days\"],\"xaxis\":\"x\",\"yaxis\":\"y\",\"type\":\"histogram\"}],                        {\"template\":{\"data\":{\"histogram2dcontour\":[{\"type\":\"histogram2dcontour\",\"colorbar\":{\"outlinewidth\":0,\"ticks\":\"\"},\"colorscale\":[[0.0,\"#0d0887\"],[0.1111111111111111,\"#46039f\"],[0.2222222222222222,\"#7201a8\"],[0.3333333333333333,\"#9c179e\"],[0.4444444444444444,\"#bd3786\"],[0.5555555555555556,\"#d8576b\"],[0.6666666666666666,\"#ed7953\"],[0.7777777777777778,\"#fb9f3a\"],[0.8888888888888888,\"#fdca26\"],[1.0,\"#f0f921\"]]}],\"choropleth\":[{\"type\":\"choropleth\",\"colorbar\":{\"outlinewidth\":0,\"ticks\":\"\"}}],\"histogram2d\":[{\"type\":\"histogram2d\",\"colorbar\":{\"outlinewidth\":0,\"ticks\":\"\"},\"colorscale\":[[0.0,\"#0d0887\"],[0.1111111111111111,\"#46039f\"],[0.2222222222222222,\"#7201a8\"],[0.3333333333333333,\"#9c179e\"],[0.4444444444444444,\"#bd3786\"],[0.5555555555555556,\"#d8576b\"],[0.6666666666666666,\"#ed7953\"],[0.7777777777777778,\"#fb9f3a\"],[0.8888888888888888,\"#fdca26\"],[1.0,\"#f0f921\"]]}],\"heatmap\":[{\"type\":\"heatmap\",\"colorbar\":{\"outlinewidth\":0,\"ticks\":\"\"},\"colorscale\":[[0.0,\"#0d0887\"],[0.1111111111111111,\"#46039f\"],[0.2222222222222222,\"#7201a8\"],[0.3333333333333333,\"#9c179e\"],[0.4444444444444444,\"#bd3786\"],[0.5555555555555556,\"#d8576b\"],[0.6666666666666666,\"#ed7953\"],[0.7777777777777778,\"#fb9f3a\"],[0.8888888888888888,\"#fdca26\"],[1.0,\"#f0f921\"]]}],\"heatmapgl\":[{\"type\":\"heatmapgl\",\"colorbar\":{\"outlinewidth\":0,\"ticks\":\"\"},\"colorscale\":[[0.0,\"#0d0887\"],[0.1111111111111111,\"#46039f\"],[0.2222222222222222,\"#7201a8\"],[0.3333333333333333,\"#9c179e\"],[0.4444444444444444,\"#bd3786\"],[0.5555555555555556,\"#d8576b\"],[0.6666666666666666,\"#ed7953\"],[0.7777777777777778,\"#fb9f3a\"],[0.8888888888888888,\"#fdca26\"],[1.0,\"#f0f921\"]]}],\"contourcarpet\":[{\"type\":\"contourcarpet\",\"colorbar\":{\"outlinewidth\":0,\"ticks\":\"\"}}],\"contour\":[{\"type\":\"contour\",\"colorbar\":{\"outlinewidth\":0,\"ticks\":\"\"},\"colorscale\":[[0.0,\"#0d0887\"],[0.1111111111111111,\"#46039f\"],[0.2222222222222222,\"#7201a8\"],[0.3333333333333333,\"#9c179e\"],[0.4444444444444444,\"#bd3786\"],[0.5555555555555556,\"#d8576b\"],[0.6666666666666666,\"#ed7953\"],[0.7777777777777778,\"#fb9f3a\"],[0.8888888888888888,\"#fdca26\"],[1.0,\"#f0f921\"]]}],\"surface\":[{\"type\":\"surface\",\"colorbar\":{\"outlinewidth\":0,\"ticks\":\"\"},\"colorscale\":[[0.0,\"#0d0887\"],[0.1111111111111111,\"#46039f\"],[0.2222222222222222,\"#7201a8\"],[0.3333333333333333,\"#9c179e\"],[0.4444444444444444,\"#bd3786\"],[0.5555555555555556,\"#d8576b\"],[0.6666666666666666,\"#ed7953\"],[0.7777777777777778,\"#fb9f3a\"],[0.8888888888888888,\"#fdca26\"],[1.0,\"#f0f921\"]]}],\"mesh3d\":[{\"type\":\"mesh3d\",\"colorbar\":{\"outlinewidth\":0,\"ticks\":\"\"}}],\"scatter\":[{\"fillpattern\":{\"fillmode\":\"overlay\",\"size\":10,\"solidity\":0.2},\"type\":\"scatter\"}],\"parcoords\":[{\"type\":\"parcoords\",\"line\":{\"colorbar\":{\"outlinewidth\":0,\"ticks\":\"\"}}}],\"scatterpolargl\":[{\"type\":\"scatterpolargl\",\"marker\":{\"colorbar\":{\"outlinewidth\":0,\"ticks\":\"\"}}}],\"bar\":[{\"error_x\":{\"color\":\"#2a3f5f\"},\"error_y\":{\"color\":\"#2a3f5f\"},\"marker\":{\"line\":{\"color\":\"#E5ECF6\",\"width\":0.5},\"pattern\":{\"fillmode\":\"overlay\",\"size\":10,\"solidity\":0.2}},\"type\":\"bar\"}],\"scattergeo\":[{\"type\":\"scattergeo\",\"marker\":{\"colorbar\":{\"outlinewidth\":0,\"ticks\":\"\"}}}],\"scatterpolar\":[{\"type\":\"scatterpolar\",\"marker\":{\"colorbar\":{\"outlinewidth\":0,\"ticks\":\"\"}}}],\"histogram\":[{\"marker\":{\"pattern\":{\"fillmode\":\"overlay\",\"size\":10,\"solidity\":0.2}},\"type\":\"histogram\"}],\"scattergl\":[{\"type\":\"scattergl\",\"marker\":{\"colorbar\":{\"outlinewidth\":0,\"ticks\":\"\"}}}],\"scatter3d\":[{\"type\":\"scatter3d\",\"line\":{\"colorbar\":{\"outlinewidth\":0,\"ticks\":\"\"}},\"marker\":{\"colorbar\":{\"outlinewidth\":0,\"ticks\":\"\"}}}],\"scattermapbox\":[{\"type\":\"scattermapbox\",\"marker\":{\"colorbar\":{\"outlinewidth\":0,\"ticks\":\"\"}}}],\"scatterternary\":[{\"type\":\"scatterternary\",\"marker\":{\"colorbar\":{\"outlinewidth\":0,\"ticks\":\"\"}}}],\"scattercarpet\":[{\"type\":\"scattercarpet\",\"marker\":{\"colorbar\":{\"outlinewidth\":0,\"ticks\":\"\"}}}],\"carpet\":[{\"aaxis\":{\"endlinecolor\":\"#2a3f5f\",\"gridcolor\":\"white\",\"linecolor\":\"white\",\"minorgridcolor\":\"white\",\"startlinecolor\":\"#2a3f5f\"},\"baxis\":{\"endlinecolor\":\"#2a3f5f\",\"gridcolor\":\"white\",\"linecolor\":\"white\",\"minorgridcolor\":\"white\",\"startlinecolor\":\"#2a3f5f\"},\"type\":\"carpet\"}],\"table\":[{\"cells\":{\"fill\":{\"color\":\"#EBF0F8\"},\"line\":{\"color\":\"white\"}},\"header\":{\"fill\":{\"color\":\"#C8D4E3\"},\"line\":{\"color\":\"white\"}},\"type\":\"table\"}],\"barpolar\":[{\"marker\":{\"line\":{\"color\":\"#E5ECF6\",\"width\":0.5},\"pattern\":{\"fillmode\":\"overlay\",\"size\":10,\"solidity\":0.2}},\"type\":\"barpolar\"}],\"pie\":[{\"automargin\":true,\"type\":\"pie\"}]},\"layout\":{\"autotypenumbers\":\"strict\",\"colorway\":[\"#636efa\",\"#EF553B\",\"#00cc96\",\"#ab63fa\",\"#FFA15A\",\"#19d3f3\",\"#FF6692\",\"#B6E880\",\"#FF97FF\",\"#FECB52\"],\"font\":{\"color\":\"#2a3f5f\"},\"hovermode\":\"closest\",\"hoverlabel\":{\"align\":\"left\"},\"paper_bgcolor\":\"white\",\"plot_bgcolor\":\"#E5ECF6\",\"polar\":{\"bgcolor\":\"#E5ECF6\",\"angularaxis\":{\"gridcolor\":\"white\",\"linecolor\":\"white\",\"ticks\":\"\"},\"radialaxis\":{\"gridcolor\":\"white\",\"linecolor\":\"white\",\"ticks\":\"\"}},\"ternary\":{\"bgcolor\":\"#E5ECF6\",\"aaxis\":{\"gridcolor\":\"white\",\"linecolor\":\"white\",\"ticks\":\"\"},\"baxis\":{\"gridcolor\":\"white\",\"linecolor\":\"white\",\"ticks\":\"\"},\"caxis\":{\"gridcolor\":\"white\",\"linecolor\":\"white\",\"ticks\":\"\"}},\"coloraxis\":{\"colorbar\":{\"outlinewidth\":0,\"ticks\":\"\"}},\"colorscale\":{\"sequential\":[[0.0,\"#0d0887\"],[0.1111111111111111,\"#46039f\"],[0.2222222222222222,\"#7201a8\"],[0.3333333333333333,\"#9c179e\"],[0.4444444444444444,\"#bd3786\"],[0.5555555555555556,\"#d8576b\"],[0.6666666666666666,\"#ed7953\"],[0.7777777777777778,\"#fb9f3a\"],[0.8888888888888888,\"#fdca26\"],[1.0,\"#f0f921\"]],\"sequentialminus\":[[0.0,\"#0d0887\"],[0.1111111111111111,\"#46039f\"],[0.2222222222222222,\"#7201a8\"],[0.3333333333333333,\"#9c179e\"],[0.4444444444444444,\"#bd3786\"],[0.5555555555555556,\"#d8576b\"],[0.6666666666666666,\"#ed7953\"],[0.7777777777777778,\"#fb9f3a\"],[0.8888888888888888,\"#fdca26\"],[1.0,\"#f0f921\"]],\"diverging\":[[0,\"#8e0152\"],[0.1,\"#c51b7d\"],[0.2,\"#de77ae\"],[0.3,\"#f1b6da\"],[0.4,\"#fde0ef\"],[0.5,\"#f7f7f7\"],[0.6,\"#e6f5d0\"],[0.7,\"#b8e186\"],[0.8,\"#7fbc41\"],[0.9,\"#4d9221\"],[1,\"#276419\"]]},\"xaxis\":{\"gridcolor\":\"white\",\"linecolor\":\"white\",\"ticks\":\"\",\"title\":{\"standoff\":15},\"zerolinecolor\":\"white\",\"automargin\":true,\"zerolinewidth\":2},\"yaxis\":{\"gridcolor\":\"white\",\"linecolor\":\"white\",\"ticks\":\"\",\"title\":{\"standoff\":15},\"zerolinecolor\":\"white\",\"automargin\":true,\"zerolinewidth\":2},\"scene\":{\"xaxis\":{\"backgroundcolor\":\"#E5ECF6\",\"gridcolor\":\"white\",\"linecolor\":\"white\",\"showbackground\":true,\"ticks\":\"\",\"zerolinecolor\":\"white\",\"gridwidth\":2},\"yaxis\":{\"backgroundcolor\":\"#E5ECF6\",\"gridcolor\":\"white\",\"linecolor\":\"white\",\"showbackground\":true,\"ticks\":\"\",\"zerolinecolor\":\"white\",\"gridwidth\":2},\"zaxis\":{\"backgroundcolor\":\"#E5ECF6\",\"gridcolor\":\"white\",\"linecolor\":\"white\",\"showbackground\":true,\"ticks\":\"\",\"zerolinecolor\":\"white\",\"gridwidth\":2}},\"shapedefaults\":{\"line\":{\"color\":\"#2a3f5f\"}},\"annotationdefaults\":{\"arrowcolor\":\"#2a3f5f\",\"arrowhead\":0,\"arrowwidth\":1},\"geo\":{\"bgcolor\":\"white\",\"landcolor\":\"#E5ECF6\",\"subunitcolor\":\"white\",\"showland\":true,\"showlakes\":true,\"lakecolor\":\"white\"},\"title\":{\"x\":0.05},\"mapbox\":{\"style\":\"light\"}}},\"xaxis\":{\"anchor\":\"y\",\"domain\":[0.0,1.0],\"title\":{\"text\":\"diff_categorical\"}},\"yaxis\":{\"anchor\":\"x\",\"domain\":[0.0,1.0],\"title\":{\"text\":\"count\"}},\"legend\":{\"tracegroupgap\":0},\"margin\":{\"t\":60},\"barmode\":\"relative\"},                        {\"responsive\": true}                    ).then(function(){\n",
       "                            \n",
       "var gd = document.getElementById('b68fa0c8-b143-4099-8ec8-a25bd0ae154d');\n",
       "var x = new MutationObserver(function (mutations, observer) {{\n",
       "        var display = window.getComputedStyle(gd).display;\n",
       "        if (!display || display === 'none') {{\n",
       "            console.log([gd, 'removed!']);\n",
       "            Plotly.purge(gd);\n",
       "            observer.disconnect();\n",
       "        }}\n",
       "}});\n",
       "\n",
       "// Listen for the removal of the full notebook cells\n",
       "var notebookContainer = gd.closest('#notebook-container');\n",
       "if (notebookContainer) {{\n",
       "    x.observe(notebookContainer, {childList: true});\n",
       "}}\n",
       "\n",
       "// Listen for the clearing of the current output cell\n",
       "var outputEl = gd.closest('.output');\n",
       "if (outputEl) {{\n",
       "    x.observe(outputEl, {childList: true});\n",
       "}}\n",
       "\n",
       "                        })                };                });            </script>        </div>"
      ]
     },
     "metadata": {},
     "output_type": "display_data"
    }
   ],
   "source": [
    "fig = px.histogram(data_frame=users_with_ads, x='diff_categorical',)\n",
    "\n",
    "fig.show()"
   ]
  },
  {
   "cell_type": "markdown",
   "id": "003d69ab-6eb1-4ed7-9e83-57a5447b47eb",
   "metadata": {
    "tags": []
   },
   "source": [
    "### Дополнительный проект\n",
    "В данном проекте вы поработаете с довольно нетипичными для аналитика данными: gff файлом, который описывает геном мухи (описание формата - http://gmod.org/wiki/GFF3). При его выполнении вам может понадобиться часть конспекта про работу со строковыми данными, а именно – про строковые методы серий."
   ]
  },
  {
   "cell_type": "code",
   "execution_count": 2,
   "id": "798fe6e9-8ee6-4f73-8bb6-db8d5fe722c0",
   "metadata": {
    "tags": []
   },
   "outputs": [
    {
     "data": {
      "text/html": [
       "<div>\n",
       "<style scoped>\n",
       "    .dataframe tbody tr th:only-of-type {\n",
       "        vertical-align: middle;\n",
       "    }\n",
       "\n",
       "    .dataframe tbody tr th {\n",
       "        vertical-align: top;\n",
       "    }\n",
       "\n",
       "    .dataframe thead th {\n",
       "        text-align: right;\n",
       "    }\n",
       "</style>\n",
       "<table border=\"1\" class=\"dataframe\">\n",
       "  <thead>\n",
       "    <tr style=\"text-align: right;\">\n",
       "      <th></th>\n",
       "      <th>seq_id</th>\n",
       "      <th>source</th>\n",
       "      <th>type</th>\n",
       "      <th>start</th>\n",
       "      <th>end</th>\n",
       "      <th>score</th>\n",
       "      <th>strand</th>\n",
       "      <th>phase</th>\n",
       "      <th>attributes</th>\n",
       "    </tr>\n",
       "  </thead>\n",
       "  <tbody>\n",
       "    <tr>\n",
       "      <th>0</th>\n",
       "      <td>chr17</td>\n",
       "      <td>RefSeq</td>\n",
       "      <td>exon</td>\n",
       "      <td>6811330</td>\n",
       "      <td>6811453</td>\n",
       "      <td>.</td>\n",
       "      <td>+</td>\n",
       "      <td>.</td>\n",
       "      <td>Parent=XM_001475631.1</td>\n",
       "    </tr>\n",
       "    <tr>\n",
       "      <th>1</th>\n",
       "      <td>chr17</td>\n",
       "      <td>RefSeq</td>\n",
       "      <td>CDS</td>\n",
       "      <td>6808204</td>\n",
       "      <td>6808245</td>\n",
       "      <td>.</td>\n",
       "      <td>+</td>\n",
       "      <td>0</td>\n",
       "      <td>Name=CDS:NC_000083.5:LOC100040603;Parent=XM_00...</td>\n",
       "    </tr>\n",
       "    <tr>\n",
       "      <th>2</th>\n",
       "      <td>chr17</td>\n",
       "      <td>RefSeq</td>\n",
       "      <td>CDS</td>\n",
       "      <td>6811792</td>\n",
       "      <td>6811869</td>\n",
       "      <td>.</td>\n",
       "      <td>+</td>\n",
       "      <td>2</td>\n",
       "      <td>Name=CDS:NC_000083.5:LOC100040603;Parent=XM_00...</td>\n",
       "    </tr>\n",
       "    <tr>\n",
       "      <th>3</th>\n",
       "      <td>chr17</td>\n",
       "      <td>RefSeq</td>\n",
       "      <td>exon</td>\n",
       "      <td>6806513</td>\n",
       "      <td>6806553</td>\n",
       "      <td>.</td>\n",
       "      <td>+</td>\n",
       "      <td>.</td>\n",
       "      <td>Parent=XM_001475631.1</td>\n",
       "    </tr>\n",
       "    <tr>\n",
       "      <th>4</th>\n",
       "      <td>chr17</td>\n",
       "      <td>RefSeq</td>\n",
       "      <td>five_prime_UTR</td>\n",
       "      <td>6806513</td>\n",
       "      <td>6806526</td>\n",
       "      <td>.</td>\n",
       "      <td>+</td>\n",
       "      <td>.</td>\n",
       "      <td>Parent=XM_001475631.1</td>\n",
       "    </tr>\n",
       "  </tbody>\n",
       "</table>\n",
       "</div>"
      ],
      "text/plain": [
       "  seq_id  source            type    start      end score strand phase  \\\n",
       "0  chr17  RefSeq            exon  6811330  6811453     .      +     .   \n",
       "1  chr17  RefSeq             CDS  6808204  6808245     .      +     0   \n",
       "2  chr17  RefSeq             CDS  6811792  6811869     .      +     2   \n",
       "3  chr17  RefSeq            exon  6806513  6806553     .      +     .   \n",
       "4  chr17  RefSeq  five_prime_UTR  6806513  6806526     .      +     .   \n",
       "\n",
       "                                          attributes  \n",
       "0                              Parent=XM_001475631.1  \n",
       "1  Name=CDS:NC_000083.5:LOC100040603;Parent=XM_00...  \n",
       "2  Name=CDS:NC_000083.5:LOC100040603;Parent=XM_00...  \n",
       "3                              Parent=XM_001475631.1  \n",
       "4                              Parent=XM_001475631.1  "
      ]
     },
     "execution_count": 2,
     "metadata": {},
     "output_type": "execute_result"
    }
   ],
   "source": [
    "# GFF is a standard file format for storing genomic features in a text file.\n",
    "# GFF stands for Generic Feature Format.\n",
    "# GFF files are plain text, 9 column, tab-delimited files. \n",
    "df = pd.read_csv('gff.tsv', sep='\\t')\n",
    "df.head()"
   ]
  },
  {
   "cell_type": "markdown",
   "id": "085e95e5-49a4-4fbb-95f0-21a0038c4c13",
   "metadata": {
    "tags": []
   },
   "source": [
    "#### Задание 1\n",
    "Какое значение атрибута Parent самое частое?"
   ]
  },
  {
   "cell_type": "code",
   "execution_count": 196,
   "id": "36dafa7a-a626-4130-8f40-959f073779e0",
   "metadata": {
    "tags": []
   },
   "outputs": [
    {
     "data": {
      "text/plain": [
       "'Name=CDS:NC_000083.5:LOC100040603;Parent=XM_001475631.1,'"
      ]
     },
     "execution_count": 196,
     "metadata": {},
     "output_type": "execute_result"
    }
   ],
   "source": [
    "# How does the required str look like?\n",
    "df['attributes'][55]"
   ]
  },
  {
   "cell_type": "markdown",
   "id": "a9aeb4d6-5051-4410-a6fc-dba8df7f0865",
   "metadata": {},
   "source": [
    "##### How to create a pattern to extract the required strings?\n",
    "(XM_\\d+\\.\\d+): This part is enclosed in parentheses to capture the desired pattern. Let's break it down further:\n",
    "- XM_: This matches the literal characters 'XM_' exactly as they appear in the text.\n",
    "- \\d+: This matches one or more digits. \\d represents any digit (0-9), and + indicates that there can be one or more occurrences of digits.\n",
    "- \\.: This matches a literal dot character. Since dot has a special meaning in regular expressions, it needs to be escaped with a backslash \\ to match it literally.\n",
    "- \\d+: This again matches one or more digits."
   ]
  },
  {
   "cell_type": "code",
   "execution_count": 4,
   "id": "e96617fb-8085-4dcd-a35c-57f91e882a84",
   "metadata": {
    "tags": []
   },
   "outputs": [],
   "source": [
    "pattern = r'(XM_\\d+\\.\\d+)'\n",
    "df['Parent_extracted'] = df['attributes'].str.extract(pat=pattern)"
   ]
  },
  {
   "cell_type": "code",
   "execution_count": 211,
   "id": "8a97652e-b466-4d94-8b6b-a6ccde76c986",
   "metadata": {
    "tags": []
   },
   "outputs": [
    {
     "data": {
      "text/plain": [
       "Parent_extracted\n",
       "XM_001475631.1    512\n",
       "Name: count, dtype: int64"
      ]
     },
     "execution_count": 211,
     "metadata": {},
     "output_type": "execute_result"
    }
   ],
   "source": [
    "df['Parent_extracted'].value_counts()"
   ]
  },
  {
   "cell_type": "markdown",
   "id": "8b5f7249-94b8-4475-aa37-319d294ff944",
   "metadata": {},
   "source": [
    "#### Задание 2\n",
    "Какое самое частое значение в колонке type?"
   ]
  },
  {
   "cell_type": "code",
   "execution_count": 212,
   "id": "bc206ee3-12cb-4392-8208-674df6b5bc82",
   "metadata": {
    "tags": []
   },
   "outputs": [
    {
     "data": {
      "text/plain": [
       "type\n",
       "exon               201\n",
       "CDS                170\n",
       "five_prime_UTR      47\n",
       "mRNA                33\n",
       "three_prime_UTR     32\n",
       "protein             29\n",
       "Name: count, dtype: int64"
      ]
     },
     "execution_count": 212,
     "metadata": {},
     "output_type": "execute_result"
    }
   ],
   "source": [
    "df['type'].value_counts(ascending=False)"
   ]
  }
 ],
 "metadata": {
  "kernelspec": {
   "display_name": "Python [conda env:sandbox]",
   "language": "python",
   "name": "conda-env-sandbox-py"
  },
  "language_info": {
   "codemirror_mode": {
    "name": "ipython",
    "version": 3
   },
   "file_extension": ".py",
   "mimetype": "text/x-python",
   "name": "python",
   "nbconvert_exporter": "python",
   "pygments_lexer": "ipython3",
   "version": "3.10.13"
  }
 },
 "nbformat": 4,
 "nbformat_minor": 5
}
