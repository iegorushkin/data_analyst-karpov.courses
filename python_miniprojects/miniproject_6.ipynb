{
 "cells": [
  {
   "cell_type": "markdown",
   "id": "6cfc47d8-3af7-4c8f-916c-1f09aa664abd",
   "metadata": {
    "tags": []
   },
   "source": [
    "# http://karpov.courses"
   ]
  },
  {
   "cell_type": "code",
   "execution_count": 11,
   "id": "f398efe7-11ee-459c-8ead-331d2b3c8c26",
   "metadata": {
    "tags": []
   },
   "outputs": [],
   "source": [
    "# imports for the whole notebook\n",
    "import requests\n",
    "import numpy as np\n",
    "import pandas as pd\n",
    "import seaborn as sns\n",
    "import matplotlib.pyplot as plt\n",
    "\n",
    "from io import BytesIO"
   ]
  },
  {
   "cell_type": "markdown",
   "id": "b0c04451-e62f-4641-b0cd-2c641c954eb8",
   "metadata": {
    "tags": []
   },
   "source": [
    "Настало время последнего мини-проекта в блоке Python! В нём вы поработаете с API и узнаете, как ведут себя пользователи на сайте Яндекс.Метрики.\n",
    "\n",
    "Так как мы работаем с демо данными Яндекс.Метрики, нам позволено видеть данные только за последнюю неделю. Это требует обновления заданий и ответов на них каждую неделю, что не очень удобно и вам, и нам. Поэтому для удобства проверки мы решили немного модифицировать степы: теперь для того, чтобы ответить на вопросы, вам необходимо поработать с уже выгруженными датасетами из Яндекс.Метрики. Но вы можете самостоятельно повторить каждый из запросов в задании к реальному API Яндекс.Метрики, чтобы потренироваться и получить данные в таком же формате, как в прикрепленном к задаче датасете.\n",
    "\n",
    "Удачи!"
   ]
  },
  {
   "cell_type": "markdown",
   "id": "651e2a8a-6f96-44c1-b004-33b14274db99",
   "metadata": {},
   "source": [
    "### Задание 1\n",
    "Для начала, давайте посмотрим на распределение посещений сайта по дням. Постройте график с распределением количества посещений от ботов и обычных пользователей сайта Яндекс.Метрика. \n",
    "\n",
    "Данные - step_1_lesson_7.csv"
   ]
  },
  {
   "cell_type": "code",
   "execution_count": 32,
   "id": "1abd1782-8659-4410-a5e8-2446f3a35adf",
   "metadata": {
    "tags": []
   },
   "outputs": [
    {
     "data": {
      "text/html": [
       "<div>\n",
       "<style scoped>\n",
       "    .dataframe tbody tr th:only-of-type {\n",
       "        vertical-align: middle;\n",
       "    }\n",
       "\n",
       "    .dataframe tbody tr th {\n",
       "        vertical-align: top;\n",
       "    }\n",
       "\n",
       "    .dataframe thead th {\n",
       "        text-align: right;\n",
       "    }\n",
       "</style>\n",
       "<table border=\"1\" class=\"dataframe\">\n",
       "  <thead>\n",
       "    <tr style=\"text-align: right;\">\n",
       "      <th></th>\n",
       "      <th>date</th>\n",
       "      <th>user_type</th>\n",
       "      <th>visits</th>\n",
       "    </tr>\n",
       "  </thead>\n",
       "  <tbody>\n",
       "    <tr>\n",
       "      <th>0</th>\n",
       "      <td>2020-06-15</td>\n",
       "      <td>People</td>\n",
       "      <td>417.0</td>\n",
       "    </tr>\n",
       "    <tr>\n",
       "      <th>1</th>\n",
       "      <td>2020-06-15</td>\n",
       "      <td>Robots</td>\n",
       "      <td>177.0</td>\n",
       "    </tr>\n",
       "    <tr>\n",
       "      <th>2</th>\n",
       "      <td>2020-06-16</td>\n",
       "      <td>People</td>\n",
       "      <td>472.0</td>\n",
       "    </tr>\n",
       "    <tr>\n",
       "      <th>3</th>\n",
       "      <td>2020-06-16</td>\n",
       "      <td>Robots</td>\n",
       "      <td>91.0</td>\n",
       "    </tr>\n",
       "    <tr>\n",
       "      <th>4</th>\n",
       "      <td>2020-06-17</td>\n",
       "      <td>People</td>\n",
       "      <td>475.0</td>\n",
       "    </tr>\n",
       "  </tbody>\n",
       "</table>\n",
       "</div>"
      ],
      "text/plain": [
       "         date user_type  visits\n",
       "0  2020-06-15    People   417.0\n",
       "1  2020-06-15    Robots   177.0\n",
       "2  2020-06-16    People   472.0\n",
       "3  2020-06-16    Robots    91.0\n",
       "4  2020-06-17    People   475.0"
      ]
     },
     "execution_count": 32,
     "metadata": {},
     "output_type": "execute_result"
    }
   ],
   "source": [
    "df = pd.read_csv('miniproject_data/step_1_lesson_7.csv')\n",
    "df.head()"
   ]
  },
  {
   "cell_type": "code",
   "execution_count": 10,
   "id": "a021c74a-856e-4038-a405-588d6cf23c88",
   "metadata": {
    "tags": []
   },
   "outputs": [
    {
     "name": "stderr",
     "output_type": "stream",
     "text": [
      "/Users/igor/miniconda3/envs/sandbox/lib/python3.10/site-packages/seaborn/_oldcore.py:1498: FutureWarning: is_categorical_dtype is deprecated and will be removed in a future version. Use isinstance(dtype, CategoricalDtype) instead\n",
      "  if pd.api.types.is_categorical_dtype(vector):\n",
      "/Users/igor/miniconda3/envs/sandbox/lib/python3.10/site-packages/seaborn/_oldcore.py:1498: FutureWarning: is_categorical_dtype is deprecated and will be removed in a future version. Use isinstance(dtype, CategoricalDtype) instead\n",
      "  if pd.api.types.is_categorical_dtype(vector):\n",
      "/Users/igor/miniconda3/envs/sandbox/lib/python3.10/site-packages/seaborn/_oldcore.py:1498: FutureWarning: is_categorical_dtype is deprecated and will be removed in a future version. Use isinstance(dtype, CategoricalDtype) instead\n",
      "  if pd.api.types.is_categorical_dtype(vector):\n",
      "/Users/igor/miniconda3/envs/sandbox/lib/python3.10/site-packages/seaborn/_oldcore.py:1498: FutureWarning: is_categorical_dtype is deprecated and will be removed in a future version. Use isinstance(dtype, CategoricalDtype) instead\n",
      "  if pd.api.types.is_categorical_dtype(vector):\n"
     ]
    },
    {
     "data": {
      "image/png": "[encoded data removed]",
      "text/plain": [
       "<Figure size 960x720 with 1 Axes>"
      ]
     },
     "metadata": {},
     "output_type": "display_data"
    }
   ],
   "source": [
    "fig = plt.figure(dpi=150)\n",
    "# You can also use the axes_style() function in a with statement\n",
    "# to temporarily set plot parameters.\n",
    "# This also allows you to make figures with differently-styled axes\n",
    "with sns.axes_style(style=\"darkgrid\"):\n",
    "    ax = fig.add_subplot()\n",
    "    sns.barplot(data=df, x='date', y='visits', hue='user_type', errorbar=None, ax=ax);"
   ]
  },
  {
   "cell_type": "markdown",
   "id": "3e433af1-7607-409b-8684-774cb7ed3b24",
   "metadata": {},
   "source": [
    "### Задание 2\n",
    "Определите процент посещений сайта Яндекс.Метрики с бразузера Google Chrome. Данные - step_2_lesson_7.csv.\n",
    "\n",
    "Ответ округлите до целого."
   ]
  },
  {
   "cell_type": "code",
   "execution_count": 12,
   "id": "43b465f2-ef24-4cbd-9ce1-fd07dfc00a1f",
   "metadata": {
    "tags": []
   },
   "outputs": [
    {
     "data": {
      "text/html": [
       "<div>\n",
       "<style scoped>\n",
       "    .dataframe tbody tr th:only-of-type {\n",
       "        vertical-align: middle;\n",
       "    }\n",
       "\n",
       "    .dataframe tbody tr th {\n",
       "        vertical-align: top;\n",
       "    }\n",
       "\n",
       "    .dataframe thead th {\n",
       "        text-align: right;\n",
       "    }\n",
       "</style>\n",
       "<table border=\"1\" class=\"dataframe\">\n",
       "  <thead>\n",
       "    <tr style=\"text-align: right;\">\n",
       "      <th></th>\n",
       "      <th>date</th>\n",
       "      <th>browser</th>\n",
       "      <th>visits</th>\n",
       "    </tr>\n",
       "  </thead>\n",
       "  <tbody>\n",
       "    <tr>\n",
       "      <th>0</th>\n",
       "      <td>2020-06-15</td>\n",
       "      <td>Google Chrome</td>\n",
       "      <td>354.0</td>\n",
       "    </tr>\n",
       "    <tr>\n",
       "      <th>1</th>\n",
       "      <td>2020-06-15</td>\n",
       "      <td>Firefox</td>\n",
       "      <td>58.0</td>\n",
       "    </tr>\n",
       "    <tr>\n",
       "      <th>2</th>\n",
       "      <td>2020-06-15</td>\n",
       "      <td>Yandex Browser</td>\n",
       "      <td>54.0</td>\n",
       "    </tr>\n",
       "    <tr>\n",
       "      <th>3</th>\n",
       "      <td>2020-06-15</td>\n",
       "      <td>Safari</td>\n",
       "      <td>41.0</td>\n",
       "    </tr>\n",
       "    <tr>\n",
       "      <th>4</th>\n",
       "      <td>2020-06-15</td>\n",
       "      <td>Chrome Mobile</td>\n",
       "      <td>31.0</td>\n",
       "    </tr>\n",
       "  </tbody>\n",
       "</table>\n",
       "</div>"
      ],
      "text/plain": [
       "         date         browser  visits\n",
       "0  2020-06-15   Google Chrome   354.0\n",
       "1  2020-06-15         Firefox    58.0\n",
       "2  2020-06-15  Yandex Browser    54.0\n",
       "3  2020-06-15          Safari    41.0\n",
       "4  2020-06-15   Chrome Mobile    31.0"
      ]
     },
     "execution_count": 12,
     "metadata": {},
     "output_type": "execute_result"
    }
   ],
   "source": [
    "df = pd.read_csv('miniproject_data/step_2_lesson_7.csv')\n",
    "df.head()"
   ]
  },
  {
   "cell_type": "code",
   "execution_count": 25,
   "id": "fc978ade-3f3a-4410-ad42-96586ea2e655",
   "metadata": {
    "tags": []
   },
   "outputs": [
    {
     "data": {
      "text/html": [
       "<div>\n",
       "<style scoped>\n",
       "    .dataframe tbody tr th:only-of-type {\n",
       "        vertical-align: middle;\n",
       "    }\n",
       "\n",
       "    .dataframe tbody tr th {\n",
       "        vertical-align: top;\n",
       "    }\n",
       "\n",
       "    .dataframe thead th {\n",
       "        text-align: right;\n",
       "    }\n",
       "</style>\n",
       "<table border=\"1\" class=\"dataframe\">\n",
       "  <thead>\n",
       "    <tr style=\"text-align: right;\">\n",
       "      <th></th>\n",
       "      <th>date</th>\n",
       "      <th>browser</th>\n",
       "      <th>visits</th>\n",
       "      <th>%_of_all_visits</th>\n",
       "    </tr>\n",
       "  </thead>\n",
       "  <tbody>\n",
       "    <tr>\n",
       "      <th>0</th>\n",
       "      <td>2020-06-15</td>\n",
       "      <td>Google Chrome</td>\n",
       "      <td>354.0</td>\n",
       "      <td>60.0</td>\n",
       "    </tr>\n",
       "    <tr>\n",
       "      <th>1</th>\n",
       "      <td>2020-06-15</td>\n",
       "      <td>Firefox</td>\n",
       "      <td>58.0</td>\n",
       "      <td>10.0</td>\n",
       "    </tr>\n",
       "    <tr>\n",
       "      <th>2</th>\n",
       "      <td>2020-06-15</td>\n",
       "      <td>Yandex Browser</td>\n",
       "      <td>54.0</td>\n",
       "      <td>9.0</td>\n",
       "    </tr>\n",
       "    <tr>\n",
       "      <th>3</th>\n",
       "      <td>2020-06-15</td>\n",
       "      <td>Safari</td>\n",
       "      <td>41.0</td>\n",
       "      <td>7.0</td>\n",
       "    </tr>\n",
       "    <tr>\n",
       "      <th>4</th>\n",
       "      <td>2020-06-15</td>\n",
       "      <td>Chrome Mobile</td>\n",
       "      <td>31.0</td>\n",
       "      <td>5.0</td>\n",
       "    </tr>\n",
       "  </tbody>\n",
       "</table>\n",
       "</div>"
      ],
      "text/plain": [
       "         date         browser  visits  %_of_all_visits\n",
       "0  2020-06-15   Google Chrome   354.0             60.0\n",
       "1  2020-06-15         Firefox    58.0             10.0\n",
       "2  2020-06-15  Yandex Browser    54.0              9.0\n",
       "3  2020-06-15          Safari    41.0              7.0\n",
       "4  2020-06-15   Chrome Mobile    31.0              5.0"
      ]
     },
     "execution_count": 25,
     "metadata": {},
     "output_type": "execute_result"
    }
   ],
   "source": [
    "df['%_of_all_visits'] = np.round(100*df['visits'] / df['visits'].sum())\n",
    "df.head()"
   ]
  },
  {
   "cell_type": "code",
   "execution_count": 30,
   "id": "54ba9379-371a-4016-a55f-38f8105f7ce7",
   "metadata": {
    "tags": []
   },
   "outputs": [
    {
     "data": {
      "text/plain": [
       "60.0"
      ]
     },
     "execution_count": 30,
     "metadata": {},
     "output_type": "execute_result"
    }
   ],
   "source": [
    "# weird looking, but works\n",
    "google_chrome_percent = df[df['browser'] ==\n",
    "                           'Google Chrome']['%_of_all_visits'].sum()\n",
    "google_chrome_percent"
   ]
  },
  {
   "cell_type": "markdown",
   "id": "a8df92ff-c549-4b75-9696-69477eac5090",
   "metadata": {},
   "source": [
    "### Задание 3\n",
    "Давайте выясним, с какого браузера приходит больше всего ботов. Посмотрите на данные и определите, у какого браузера самая большая доля посещений сайта ботами от общего числа посещений в этом браузере?\n"
   ]
  },
  {
   "cell_type": "code",
   "execution_count": 53,
   "id": "74bf47c3-9632-4768-841b-49a26d87cc80",
   "metadata": {
    "tags": []
   },
   "outputs": [
    {
     "data": {
      "text/html": [
       "<div>\n",
       "<style scoped>\n",
       "    .dataframe tbody tr th:only-of-type {\n",
       "        vertical-align: middle;\n",
       "    }\n",
       "\n",
       "    .dataframe tbody tr th {\n",
       "        vertical-align: top;\n",
       "    }\n",
       "\n",
       "    .dataframe thead th {\n",
       "        text-align: right;\n",
       "    }\n",
       "</style>\n",
       "<table border=\"1\" class=\"dataframe\">\n",
       "  <thead>\n",
       "    <tr style=\"text-align: right;\">\n",
       "      <th></th>\n",
       "      <th>date</th>\n",
       "      <th>browser</th>\n",
       "      <th>user_type</th>\n",
       "      <th>visits</th>\n",
       "    </tr>\n",
       "  </thead>\n",
       "  <tbody>\n",
       "    <tr>\n",
       "      <th>0</th>\n",
       "      <td>2020-06-15</td>\n",
       "      <td>Google Chrome</td>\n",
       "      <td>People</td>\n",
       "      <td>250.0</td>\n",
       "    </tr>\n",
       "    <tr>\n",
       "      <th>1</th>\n",
       "      <td>2020-06-15</td>\n",
       "      <td>Google Chrome</td>\n",
       "      <td>Robots</td>\n",
       "      <td>104.0</td>\n",
       "    </tr>\n",
       "    <tr>\n",
       "      <th>2</th>\n",
       "      <td>2020-06-15</td>\n",
       "      <td>Yandex Browser</td>\n",
       "      <td>People</td>\n",
       "      <td>47.0</td>\n",
       "    </tr>\n",
       "    <tr>\n",
       "      <th>3</th>\n",
       "      <td>2020-06-15</td>\n",
       "      <td>Firefox</td>\n",
       "      <td>Robots</td>\n",
       "      <td>31.0</td>\n",
       "    </tr>\n",
       "    <tr>\n",
       "      <th>4</th>\n",
       "      <td>2020-06-15</td>\n",
       "      <td>Chrome Mobile</td>\n",
       "      <td>People</td>\n",
       "      <td>31.0</td>\n",
       "    </tr>\n",
       "  </tbody>\n",
       "</table>\n",
       "</div>"
      ],
      "text/plain": [
       "         date         browser user_type  visits\n",
       "0  2020-06-15   Google Chrome    People   250.0\n",
       "1  2020-06-15   Google Chrome    Robots   104.0\n",
       "2  2020-06-15  Yandex Browser    People    47.0\n",
       "3  2020-06-15         Firefox    Robots    31.0\n",
       "4  2020-06-15   Chrome Mobile    People    31.0"
      ]
     },
     "execution_count": 53,
     "metadata": {},
     "output_type": "execute_result"
    }
   ],
   "source": [
    "df = pd.read_csv('miniproject_data/step_3_lesson_7.csv')\n",
    "df.head()"
   ]
  },
  {
   "cell_type": "code",
   "execution_count": 54,
   "id": "4b6e5f77-95ca-43fd-9357-d6101b4c6a01",
   "metadata": {
    "tags": []
   },
   "outputs": [
    {
     "data": {
      "text/html": [
       "<div>\n",
       "<style scoped>\n",
       "    .dataframe tbody tr th:only-of-type {\n",
       "        vertical-align: middle;\n",
       "    }\n",
       "\n",
       "    .dataframe tbody tr th {\n",
       "        vertical-align: top;\n",
       "    }\n",
       "\n",
       "    .dataframe thead th {\n",
       "        text-align: right;\n",
       "    }\n",
       "</style>\n",
       "<table border=\"1\" class=\"dataframe\">\n",
       "  <thead>\n",
       "    <tr style=\"text-align: right;\">\n",
       "      <th></th>\n",
       "      <th>browser</th>\n",
       "      <th>user_type</th>\n",
       "      <th>visits</th>\n",
       "    </tr>\n",
       "  </thead>\n",
       "  <tbody>\n",
       "    <tr>\n",
       "      <th>0</th>\n",
       "      <td>Android Browser</td>\n",
       "      <td>People</td>\n",
       "      <td>1.0</td>\n",
       "    </tr>\n",
       "    <tr>\n",
       "      <th>1</th>\n",
       "      <td>Chrome Mobile</td>\n",
       "      <td>People</td>\n",
       "      <td>31.0</td>\n",
       "    </tr>\n",
       "    <tr>\n",
       "      <th>2</th>\n",
       "      <td>Chromium</td>\n",
       "      <td>People</td>\n",
       "      <td>1.0</td>\n",
       "    </tr>\n",
       "    <tr>\n",
       "      <th>3</th>\n",
       "      <td>Chromium</td>\n",
       "      <td>Robots</td>\n",
       "      <td>1.0</td>\n",
       "    </tr>\n",
       "    <tr>\n",
       "      <th>4</th>\n",
       "      <td>CocCoc</td>\n",
       "      <td>People</td>\n",
       "      <td>1.0</td>\n",
       "    </tr>\n",
       "  </tbody>\n",
       "</table>\n",
       "</div>"
      ],
      "text/plain": [
       "           browser user_type  visits\n",
       "0  Android Browser    People     1.0\n",
       "1    Chrome Mobile    People    31.0\n",
       "2         Chromium    People     1.0\n",
       "3         Chromium    Robots     1.0\n",
       "4           CocCoc    People     1.0"
      ]
     },
     "execution_count": 54,
     "metadata": {},
     "output_type": "execute_result"
    }
   ],
   "source": [
    "temp = df.groupby(by=['browser', 'user_type'], as_index=False) \\\n",
    "    .agg({'visits': 'sum'})\n",
    "temp.head()"
   ]
  },
  {
   "cell_type": "code",
   "execution_count": 61,
   "id": "c024abef-2b72-4f8b-821a-18e692ba8cfd",
   "metadata": {
    "tags": []
   },
   "outputs": [
    {
     "data": {
      "text/html": [
       "<div>\n",
       "<style scoped>\n",
       "    .dataframe tbody tr th:only-of-type {\n",
       "        vertical-align: middle;\n",
       "    }\n",
       "\n",
       "    .dataframe tbody tr th {\n",
       "        vertical-align: top;\n",
       "    }\n",
       "\n",
       "    .dataframe thead th {\n",
       "        text-align: right;\n",
       "    }\n",
       "</style>\n",
       "<table border=\"1\" class=\"dataframe\">\n",
       "  <thead>\n",
       "    <tr style=\"text-align: right;\">\n",
       "      <th>user_type</th>\n",
       "      <th>People</th>\n",
       "      <th>Robots</th>\n",
       "      <th>Robots_2_total</th>\n",
       "    </tr>\n",
       "    <tr>\n",
       "      <th>browser</th>\n",
       "      <th></th>\n",
       "      <th></th>\n",
       "      <th></th>\n",
       "    </tr>\n",
       "  </thead>\n",
       "  <tbody>\n",
       "    <tr>\n",
       "      <th>UCWEB</th>\n",
       "      <td>0.0</td>\n",
       "      <td>4.0</td>\n",
       "      <td>1.000000</td>\n",
       "    </tr>\n",
       "    <tr>\n",
       "      <th>Safari</th>\n",
       "      <td>19.0</td>\n",
       "      <td>22.0</td>\n",
       "      <td>0.536585</td>\n",
       "    </tr>\n",
       "    <tr>\n",
       "      <th>Firefox</th>\n",
       "      <td>27.0</td>\n",
       "      <td>31.0</td>\n",
       "      <td>0.534483</td>\n",
       "    </tr>\n",
       "  </tbody>\n",
       "</table>\n",
       "</div>"
      ],
      "text/plain": [
       "user_type  People  Robots  Robots_2_total\n",
       "browser                                  \n",
       "UCWEB         0.0     4.0        1.000000\n",
       "Safari       19.0    22.0        0.536585\n",
       "Firefox      27.0    31.0        0.534483"
      ]
     },
     "execution_count": 61,
     "metadata": {},
     "output_type": "execute_result"
    }
   ],
   "source": [
    "user_browser = pd.pivot(data=temp, columns='user_type',\n",
    "                        index='browser', values='visits').fillna(0)\n",
    "# create column with ratio of bots to total N of users (per browser)\n",
    "user_browser['Robots_2_total'] = user_browser['Robots'] / \\\n",
    "    (user_browser['People'] + user_browser['Robots'])\n",
    "# sort by this result\n",
    "user_browser = user_browser.sort_values(\n",
    "    by='Robots_2_total', ascending=False)\n",
    "user_browser.head(3)"
   ]
  },
  {
   "cell_type": "markdown",
   "id": "0db2a455-65a5-47e0-8b39-3f8204135431",
   "metadata": {
    "tags": []
   },
   "source": [
    "### Задание 4\n",
    "Выгрузите данные step_4_lesson_7.csv, содержащие информацию о дне, типе пользователя, браузере. Создайте колонку с метрикой доли заходов на сайт для каждого из этих разрезов.\n",
    "\n",
    "В ответе укажите процент открытий сайта настоящими пользователями Safari (не ботами) с точностью до 1 знака после точки.\n",
    "\n",
    "Hint: обратите внимание, здесь вам нужно найти долю заходов конкретных типов пользователей с конкретного браузера от вообще всех-всех заходов на сайт за этот день."
   ]
  },
  {
   "cell_type": "code",
   "execution_count": 2,
   "id": "e9b92529-4746-4228-8520-2895941bf57a",
   "metadata": {
    "tags": []
   },
   "outputs": [
    {
     "data": {
      "text/html": [
       "<div>\n",
       "<style scoped>\n",
       "    .dataframe tbody tr th:only-of-type {\n",
       "        vertical-align: middle;\n",
       "    }\n",
       "\n",
       "    .dataframe tbody tr th {\n",
       "        vertical-align: top;\n",
       "    }\n",
       "\n",
       "    .dataframe thead th {\n",
       "        text-align: right;\n",
       "    }\n",
       "</style>\n",
       "<table border=\"1\" class=\"dataframe\">\n",
       "  <thead>\n",
       "    <tr style=\"text-align: right;\">\n",
       "      <th></th>\n",
       "      <th>date</th>\n",
       "      <th>browser</th>\n",
       "      <th>user_type</th>\n",
       "      <th>visits</th>\n",
       "    </tr>\n",
       "  </thead>\n",
       "  <tbody>\n",
       "    <tr>\n",
       "      <th>0</th>\n",
       "      <td>2020-06-15</td>\n",
       "      <td>Google Chrome</td>\n",
       "      <td>People</td>\n",
       "      <td>250.0</td>\n",
       "    </tr>\n",
       "    <tr>\n",
       "      <th>1</th>\n",
       "      <td>2020-06-15</td>\n",
       "      <td>Google Chrome</td>\n",
       "      <td>Robots</td>\n",
       "      <td>104.0</td>\n",
       "    </tr>\n",
       "    <tr>\n",
       "      <th>2</th>\n",
       "      <td>2020-06-15</td>\n",
       "      <td>Yandex Browser</td>\n",
       "      <td>People</td>\n",
       "      <td>47.0</td>\n",
       "    </tr>\n",
       "    <tr>\n",
       "      <th>3</th>\n",
       "      <td>2020-06-15</td>\n",
       "      <td>Firefox</td>\n",
       "      <td>Robots</td>\n",
       "      <td>31.0</td>\n",
       "    </tr>\n",
       "    <tr>\n",
       "      <th>4</th>\n",
       "      <td>2020-06-15</td>\n",
       "      <td>Chrome Mobile</td>\n",
       "      <td>People</td>\n",
       "      <td>31.0</td>\n",
       "    </tr>\n",
       "  </tbody>\n",
       "</table>\n",
       "</div>"
      ],
      "text/plain": [
       "         date         browser user_type  visits\n",
       "0  2020-06-15   Google Chrome    People   250.0\n",
       "1  2020-06-15   Google Chrome    Robots   104.0\n",
       "2  2020-06-15  Yandex Browser    People    47.0\n",
       "3  2020-06-15         Firefox    Robots    31.0\n",
       "4  2020-06-15   Chrome Mobile    People    31.0"
      ]
     },
     "execution_count": 2,
     "metadata": {},
     "output_type": "execute_result"
    }
   ],
   "source": [
    "df = pd.read_csv('miniproject_data/step_4_lesson_7.csv')\n",
    "df.head()"
   ]
  },
  {
   "cell_type": "code",
   "execution_count": 7,
   "id": "867db60b-a468-4d65-8fe9-c5c8325a994b",
   "metadata": {
    "tags": []
   },
   "outputs": [
    {
     "data": {
      "text/html": [
       "<div>\n",
       "<style scoped>\n",
       "    .dataframe tbody tr th:only-of-type {\n",
       "        vertical-align: middle;\n",
       "    }\n",
       "\n",
       "    .dataframe tbody tr th {\n",
       "        vertical-align: top;\n",
       "    }\n",
       "\n",
       "    .dataframe thead th {\n",
       "        text-align: right;\n",
       "    }\n",
       "</style>\n",
       "<table border=\"1\" class=\"dataframe\">\n",
       "  <thead>\n",
       "    <tr style=\"text-align: right;\">\n",
       "      <th></th>\n",
       "      <th>browser</th>\n",
       "      <th>user_type</th>\n",
       "      <th>visits</th>\n",
       "      <th>% of total visits</th>\n",
       "    </tr>\n",
       "  </thead>\n",
       "  <tbody>\n",
       "    <tr>\n",
       "      <th>0</th>\n",
       "      <td>Android Browser</td>\n",
       "      <td>People</td>\n",
       "      <td>1.0</td>\n",
       "      <td>0.2</td>\n",
       "    </tr>\n",
       "    <tr>\n",
       "      <th>1</th>\n",
       "      <td>Chrome Mobile</td>\n",
       "      <td>People</td>\n",
       "      <td>31.0</td>\n",
       "      <td>5.2</td>\n",
       "    </tr>\n",
       "    <tr>\n",
       "      <th>2</th>\n",
       "      <td>Chromium</td>\n",
       "      <td>People</td>\n",
       "      <td>1.0</td>\n",
       "      <td>0.2</td>\n",
       "    </tr>\n",
       "    <tr>\n",
       "      <th>3</th>\n",
       "      <td>Chromium</td>\n",
       "      <td>Robots</td>\n",
       "      <td>1.0</td>\n",
       "      <td>0.2</td>\n",
       "    </tr>\n",
       "    <tr>\n",
       "      <th>4</th>\n",
       "      <td>CocCoc</td>\n",
       "      <td>People</td>\n",
       "      <td>1.0</td>\n",
       "      <td>0.2</td>\n",
       "    </tr>\n",
       "  </tbody>\n",
       "</table>\n",
       "</div>"
      ],
      "text/plain": [
       "           browser user_type  visits  % of total visits\n",
       "0  Android Browser    People     1.0                0.2\n",
       "1    Chrome Mobile    People    31.0                5.2\n",
       "2         Chromium    People     1.0                0.2\n",
       "3         Chromium    Robots     1.0                0.2\n",
       "4           CocCoc    People     1.0                0.2"
      ]
     },
     "execution_count": 7,
     "metadata": {},
     "output_type": "execute_result"
    }
   ],
   "source": [
    "temp = df.groupby(by=['browser', 'user_type'], as_index=False) \\\n",
    "    .agg({'visits': 'sum'})\n",
    "temp['% of total visits'] = (100*temp['visits'] / temp['visits'].sum()).round(1)\n",
    "temp.head()"
   ]
  },
  {
   "cell_type": "code",
   "execution_count": 10,
   "id": "ae41d183-0009-4198-b301-753d74be3f8a",
   "metadata": {
    "tags": []
   },
   "outputs": [
    {
     "data": {
      "text/html": [
       "<div>\n",
       "<style scoped>\n",
       "    .dataframe tbody tr th:only-of-type {\n",
       "        vertical-align: middle;\n",
       "    }\n",
       "\n",
       "    .dataframe tbody tr th {\n",
       "        vertical-align: top;\n",
       "    }\n",
       "\n",
       "    .dataframe thead th {\n",
       "        text-align: right;\n",
       "    }\n",
       "</style>\n",
       "<table border=\"1\" class=\"dataframe\">\n",
       "  <thead>\n",
       "    <tr style=\"text-align: right;\">\n",
       "      <th></th>\n",
       "      <th>browser</th>\n",
       "      <th>user_type</th>\n",
       "      <th>visits</th>\n",
       "      <th>% of total visits</th>\n",
       "    </tr>\n",
       "  </thead>\n",
       "  <tbody>\n",
       "    <tr>\n",
       "      <th>15</th>\n",
       "      <td>Safari</td>\n",
       "      <td>People</td>\n",
       "      <td>19.0</td>\n",
       "      <td>3.2</td>\n",
       "    </tr>\n",
       "  </tbody>\n",
       "</table>\n",
       "</div>"
      ],
      "text/plain": [
       "   browser user_type  visits  % of total visits\n",
       "15  Safari    People    19.0                3.2"
      ]
     },
     "execution_count": 10,
     "metadata": {},
     "output_type": "execute_result"
    }
   ],
   "source": [
    "temp.query(\"browser=='Safari' & user_type=='People'\")"
   ]
  },
  {
   "cell_type": "markdown",
   "id": "639fef67-9153-41c0-8524-eaa0580181aa",
   "metadata": {
    "tags": []
   },
   "source": [
    "### Задание 5\n",
    "⭐️Задание со звёздочкой!⭐️\n",
    "\n",
    "Другой аналитик уже агрегировал часть данных из метрики. Вам нужно объединить усилия, чтобы получить финальный отчет. Прочитайте дополнительные данные из Google SpreadSheet, объедините вашу таблицу из предыдущего шага с таблицей аналитика и посчитайте количество визитов на человека (отношение visits к users) в разрезе по браузеру и значениям Robots/People.\n",
    "\n",
    "В ответе укажите, сколько визитов на уникального пользователя совершается ботами с браузера Google Chrome (округлите до целого)"
   ]
  },
  {
   "cell_type": "code",
   "execution_count": 18,
   "id": "7e44ad44-0c23-4a5f-b943-549a5f0d0936",
   "metadata": {
    "tags": []
   },
   "outputs": [
    {
     "data": {
      "text/html": [
       "<div>\n",
       "<style scoped>\n",
       "    .dataframe tbody tr th:only-of-type {\n",
       "        vertical-align: middle;\n",
       "    }\n",
       "\n",
       "    .dataframe tbody tr th {\n",
       "        vertical-align: top;\n",
       "    }\n",
       "\n",
       "    .dataframe thead th {\n",
       "        text-align: right;\n",
       "    }\n",
       "</style>\n",
       "<table border=\"1\" class=\"dataframe\">\n",
       "  <thead>\n",
       "    <tr style=\"text-align: right;\">\n",
       "      <th></th>\n",
       "      <th>date</th>\n",
       "      <th>browser</th>\n",
       "      <th>user_type</th>\n",
       "      <th>users</th>\n",
       "    </tr>\n",
       "  </thead>\n",
       "  <tbody>\n",
       "    <tr>\n",
       "      <th>0</th>\n",
       "      <td>2020-06-15</td>\n",
       "      <td>Google Chrome</td>\n",
       "      <td>People</td>\n",
       "      <td>240.0</td>\n",
       "    </tr>\n",
       "    <tr>\n",
       "      <th>1</th>\n",
       "      <td>2020-06-15</td>\n",
       "      <td>Google Chrome</td>\n",
       "      <td>Robots</td>\n",
       "      <td>104.0</td>\n",
       "    </tr>\n",
       "    <tr>\n",
       "      <th>2</th>\n",
       "      <td>2020-06-15</td>\n",
       "      <td>Yandex Browser</td>\n",
       "      <td>People</td>\n",
       "      <td>44.0</td>\n",
       "    </tr>\n",
       "    <tr>\n",
       "      <th>3</th>\n",
       "      <td>2020-06-15</td>\n",
       "      <td>Chrome Mobile</td>\n",
       "      <td>People</td>\n",
       "      <td>30.0</td>\n",
       "    </tr>\n",
       "    <tr>\n",
       "      <th>4</th>\n",
       "      <td>2020-06-15</td>\n",
       "      <td>Firefox</td>\n",
       "      <td>Robots</td>\n",
       "      <td>29.0</td>\n",
       "    </tr>\n",
       "  </tbody>\n",
       "</table>\n",
       "</div>"
      ],
      "text/plain": [
       "         date         browser user_type  users\n",
       "0  2020-06-15   Google Chrome    People  240.0\n",
       "1  2020-06-15   Google Chrome    Robots  104.0\n",
       "2  2020-06-15  Yandex Browser    People   44.0\n",
       "3  2020-06-15   Chrome Mobile    People   30.0\n",
       "4  2020-06-15         Firefox    Robots   29.0"
      ]
     },
     "execution_count": 18,
     "metadata": {},
     "output_type": "execute_result"
    }
   ],
   "source": [
    "my_req = requests.get('https://docs.google.com/spreadsheets/d/e/2PACX-1vQWMsvBTVio9C7IOOxfFO9C15BRHyME-_ENHqBodDOjuiHwk9fCuF5hUVmDs497PZOqPYK3exdSikOK/pub?gid=1006633900&single=true&output=csv')\n",
    "data = my_req.content\n",
    "\n",
    "df_external = pd.read_csv(BytesIO(data))\n",
    "df_external.head()"
   ]
  },
  {
   "cell_type": "code",
   "execution_count": 19,
   "id": "cc9c137a-36b2-4986-83a0-7c62dc6c39a7",
   "metadata": {
    "tags": []
   },
   "outputs": [
    {
     "data": {
      "text/html": [
       "<div>\n",
       "<style scoped>\n",
       "    .dataframe tbody tr th:only-of-type {\n",
       "        vertical-align: middle;\n",
       "    }\n",
       "\n",
       "    .dataframe tbody tr th {\n",
       "        vertical-align: top;\n",
       "    }\n",
       "\n",
       "    .dataframe thead th {\n",
       "        text-align: right;\n",
       "    }\n",
       "</style>\n",
       "<table border=\"1\" class=\"dataframe\">\n",
       "  <thead>\n",
       "    <tr style=\"text-align: right;\">\n",
       "      <th></th>\n",
       "      <th>date</th>\n",
       "      <th>browser</th>\n",
       "      <th>user_type</th>\n",
       "      <th>visits</th>\n",
       "    </tr>\n",
       "  </thead>\n",
       "  <tbody>\n",
       "    <tr>\n",
       "      <th>0</th>\n",
       "      <td>2020-06-15</td>\n",
       "      <td>Google Chrome</td>\n",
       "      <td>People</td>\n",
       "      <td>250.0</td>\n",
       "    </tr>\n",
       "    <tr>\n",
       "      <th>1</th>\n",
       "      <td>2020-06-15</td>\n",
       "      <td>Google Chrome</td>\n",
       "      <td>Robots</td>\n",
       "      <td>104.0</td>\n",
       "    </tr>\n",
       "    <tr>\n",
       "      <th>2</th>\n",
       "      <td>2020-06-15</td>\n",
       "      <td>Yandex Browser</td>\n",
       "      <td>People</td>\n",
       "      <td>47.0</td>\n",
       "    </tr>\n",
       "    <tr>\n",
       "      <th>3</th>\n",
       "      <td>2020-06-15</td>\n",
       "      <td>Firefox</td>\n",
       "      <td>Robots</td>\n",
       "      <td>31.0</td>\n",
       "    </tr>\n",
       "    <tr>\n",
       "      <th>4</th>\n",
       "      <td>2020-06-15</td>\n",
       "      <td>Chrome Mobile</td>\n",
       "      <td>People</td>\n",
       "      <td>31.0</td>\n",
       "    </tr>\n",
       "  </tbody>\n",
       "</table>\n",
       "</div>"
      ],
      "text/plain": [
       "         date         browser user_type  visits\n",
       "0  2020-06-15   Google Chrome    People   250.0\n",
       "1  2020-06-15   Google Chrome    Robots   104.0\n",
       "2  2020-06-15  Yandex Browser    People    47.0\n",
       "3  2020-06-15         Firefox    Robots    31.0\n",
       "4  2020-06-15   Chrome Mobile    People    31.0"
      ]
     },
     "execution_count": 19,
     "metadata": {},
     "output_type": "execute_result"
    }
   ],
   "source": [
    "df_internal = pd.read_csv('miniproject_data/step_3_lesson_7.csv')\n",
    "df_internal.head()\n",
    "# Note: different last comlumns (users and visits)"
   ]
  },
  {
   "cell_type": "code",
   "execution_count": 20,
   "id": "38b10dd4-1dd8-4dfe-a5ff-61942709ca6d",
   "metadata": {
    "tags": []
   },
   "outputs": [
    {
     "data": {
      "text/html": [
       "<div>\n",
       "<style scoped>\n",
       "    .dataframe tbody tr th:only-of-type {\n",
       "        vertical-align: middle;\n",
       "    }\n",
       "\n",
       "    .dataframe tbody tr th {\n",
       "        vertical-align: top;\n",
       "    }\n",
       "\n",
       "    .dataframe thead th {\n",
       "        text-align: right;\n",
       "    }\n",
       "</style>\n",
       "<table border=\"1\" class=\"dataframe\">\n",
       "  <thead>\n",
       "    <tr style=\"text-align: right;\">\n",
       "      <th></th>\n",
       "      <th>date</th>\n",
       "      <th>browser</th>\n",
       "      <th>user_type</th>\n",
       "      <th>visits</th>\n",
       "      <th>users</th>\n",
       "    </tr>\n",
       "  </thead>\n",
       "  <tbody>\n",
       "    <tr>\n",
       "      <th>0</th>\n",
       "      <td>2020-06-15</td>\n",
       "      <td>Google Chrome</td>\n",
       "      <td>People</td>\n",
       "      <td>250.0</td>\n",
       "      <td>240.0</td>\n",
       "    </tr>\n",
       "    <tr>\n",
       "      <th>1</th>\n",
       "      <td>2020-06-15</td>\n",
       "      <td>Google Chrome</td>\n",
       "      <td>Robots</td>\n",
       "      <td>104.0</td>\n",
       "      <td>104.0</td>\n",
       "    </tr>\n",
       "    <tr>\n",
       "      <th>2</th>\n",
       "      <td>2020-06-15</td>\n",
       "      <td>Yandex Browser</td>\n",
       "      <td>People</td>\n",
       "      <td>47.0</td>\n",
       "      <td>44.0</td>\n",
       "    </tr>\n",
       "    <tr>\n",
       "      <th>3</th>\n",
       "      <td>2020-06-15</td>\n",
       "      <td>Firefox</td>\n",
       "      <td>Robots</td>\n",
       "      <td>31.0</td>\n",
       "      <td>29.0</td>\n",
       "    </tr>\n",
       "    <tr>\n",
       "      <th>4</th>\n",
       "      <td>2020-06-15</td>\n",
       "      <td>Chrome Mobile</td>\n",
       "      <td>People</td>\n",
       "      <td>31.0</td>\n",
       "      <td>30.0</td>\n",
       "    </tr>\n",
       "  </tbody>\n",
       "</table>\n",
       "</div>"
      ],
      "text/plain": [
       "         date         browser user_type  visits  users\n",
       "0  2020-06-15   Google Chrome    People   250.0  240.0\n",
       "1  2020-06-15   Google Chrome    Robots   104.0  104.0\n",
       "2  2020-06-15  Yandex Browser    People    47.0   44.0\n",
       "3  2020-06-15         Firefox    Robots    31.0   29.0\n",
       "4  2020-06-15   Chrome Mobile    People    31.0   30.0"
      ]
     },
     "execution_count": 20,
     "metadata": {},
     "output_type": "execute_result"
    }
   ],
   "source": [
    "df_merged = pd.merge(left=df_internal, right=df_external, how='inner',\n",
    "                     on=['date', 'browser', 'user_type'])\n",
    "df_merged.head()"
   ]
  },
  {
   "cell_type": "code",
   "execution_count": 25,
   "id": "8b634012-ee53-4d5e-a6dd-e90acae3e071",
   "metadata": {
    "tags": []
   },
   "outputs": [
    {
     "data": {
      "text/html": [
       "<div>\n",
       "<style scoped>\n",
       "    .dataframe tbody tr th:only-of-type {\n",
       "        vertical-align: middle;\n",
       "    }\n",
       "\n",
       "    .dataframe tbody tr th {\n",
       "        vertical-align: top;\n",
       "    }\n",
       "\n",
       "    .dataframe thead th {\n",
       "        text-align: right;\n",
       "    }\n",
       "</style>\n",
       "<table border=\"1\" class=\"dataframe\">\n",
       "  <thead>\n",
       "    <tr style=\"text-align: right;\">\n",
       "      <th></th>\n",
       "      <th>date</th>\n",
       "      <th>browser</th>\n",
       "      <th>user_type</th>\n",
       "      <th>visits</th>\n",
       "      <th>users</th>\n",
       "      <th>visits_to_users</th>\n",
       "    </tr>\n",
       "  </thead>\n",
       "  <tbody>\n",
       "    <tr>\n",
       "      <th>0</th>\n",
       "      <td>2020-06-15</td>\n",
       "      <td>Google Chrome</td>\n",
       "      <td>People</td>\n",
       "      <td>250.0</td>\n",
       "      <td>240.0</td>\n",
       "      <td>1.0</td>\n",
       "    </tr>\n",
       "    <tr>\n",
       "      <th>1</th>\n",
       "      <td>2020-06-15</td>\n",
       "      <td>Google Chrome</td>\n",
       "      <td>Robots</td>\n",
       "      <td>104.0</td>\n",
       "      <td>104.0</td>\n",
       "      <td>1.0</td>\n",
       "    </tr>\n",
       "    <tr>\n",
       "      <th>2</th>\n",
       "      <td>2020-06-15</td>\n",
       "      <td>Yandex Browser</td>\n",
       "      <td>People</td>\n",
       "      <td>47.0</td>\n",
       "      <td>44.0</td>\n",
       "      <td>1.0</td>\n",
       "    </tr>\n",
       "    <tr>\n",
       "      <th>3</th>\n",
       "      <td>2020-06-15</td>\n",
       "      <td>Firefox</td>\n",
       "      <td>Robots</td>\n",
       "      <td>31.0</td>\n",
       "      <td>29.0</td>\n",
       "      <td>1.0</td>\n",
       "    </tr>\n",
       "    <tr>\n",
       "      <th>4</th>\n",
       "      <td>2020-06-15</td>\n",
       "      <td>Chrome Mobile</td>\n",
       "      <td>People</td>\n",
       "      <td>31.0</td>\n",
       "      <td>30.0</td>\n",
       "      <td>1.0</td>\n",
       "    </tr>\n",
       "  </tbody>\n",
       "</table>\n",
       "</div>"
      ],
      "text/plain": [
       "         date         browser user_type  visits  users  visits_to_users\n",
       "0  2020-06-15   Google Chrome    People   250.0  240.0              1.0\n",
       "1  2020-06-15   Google Chrome    Robots   104.0  104.0              1.0\n",
       "2  2020-06-15  Yandex Browser    People    47.0   44.0              1.0\n",
       "3  2020-06-15         Firefox    Robots    31.0   29.0              1.0\n",
       "4  2020-06-15   Chrome Mobile    People    31.0   30.0              1.0"
      ]
     },
     "execution_count": 25,
     "metadata": {},
     "output_type": "execute_result"
    }
   ],
   "source": [
    "df_merged = df_merged.assign(\n",
    "    visits_to_users = (df_merged['visits'] / df_merged['users']).round(),)\n",
    "df_merged.head()"
   ]
  },
  {
   "cell_type": "code",
   "execution_count": 27,
   "id": "0afcc45b-52df-4dd8-9c87-9ed012a5d0a6",
   "metadata": {
    "tags": []
   },
   "outputs": [
    {
     "data": {
      "text/html": [
       "<div>\n",
       "<style scoped>\n",
       "    .dataframe tbody tr th:only-of-type {\n",
       "        vertical-align: middle;\n",
       "    }\n",
       "\n",
       "    .dataframe tbody tr th {\n",
       "        vertical-align: top;\n",
       "    }\n",
       "\n",
       "    .dataframe thead th {\n",
       "        text-align: right;\n",
       "    }\n",
       "</style>\n",
       "<table border=\"1\" class=\"dataframe\">\n",
       "  <thead>\n",
       "    <tr style=\"text-align: right;\">\n",
       "      <th></th>\n",
       "      <th>date</th>\n",
       "      <th>browser</th>\n",
       "      <th>user_type</th>\n",
       "      <th>visits</th>\n",
       "      <th>users</th>\n",
       "      <th>visits_to_users</th>\n",
       "    </tr>\n",
       "  </thead>\n",
       "  <tbody>\n",
       "    <tr>\n",
       "      <th>1</th>\n",
       "      <td>2020-06-15</td>\n",
       "      <td>Google Chrome</td>\n",
       "      <td>Robots</td>\n",
       "      <td>104.0</td>\n",
       "      <td>104.0</td>\n",
       "      <td>1.0</td>\n",
       "    </tr>\n",
       "  </tbody>\n",
       "</table>\n",
       "</div>"
      ],
      "text/plain": [
       "         date        browser user_type  visits  users  visits_to_users\n",
       "1  2020-06-15  Google Chrome    Robots   104.0  104.0              1.0"
      ]
     },
     "execution_count": 27,
     "metadata": {},
     "output_type": "execute_result"
    }
   ],
   "source": [
    "df_merged.query(\"browser=='Google Chrome' and user_type=='Robots'\")"
   ]
  },
  {
   "cell_type": "markdown",
   "id": "003d69ab-6eb1-4ed7-9e83-57a5447b47eb",
   "metadata": {
    "tags": []
   },
   "source": [
    "### Дополнительный проект\n",
    "В рамках дополнительного проекта попробуем освоить API, позволяющий получать данные о музейных коллекциях. Это задание может пригодиться для большего понимания того, какими способами можно собирать и обрабатывать данные, например, для собственного проекта или другой рабочей задачи."
   ]
  },
  {
   "cell_type": "markdown",
   "id": "5bcefdbf-0358-451c-a9d2-59f50e84477a",
   "metadata": {},
   "source": [
    "#### Описание API\n",
    "Документация: https://metmuseum.github.io\n",
    "\n",
    "Ключ: для использования выбранного API ключ не требуется.\n",
    "\n",
    "Всего есть 4 основных раздела:\n",
    "* Objects: A listing of all valid Object IDs available for access.\n",
    "* Object: A record for an object, containing all open access data about that object, including its image (if the image is available under Open Access)\n",
    "* Departments: A listing of all valid departments, with their department ID and the department display name\n",
    "* Search: A listing of all Object IDs for objects that contain the search query within the object’s data"
   ]
  },
  {
   "cell_type": "code",
   "execution_count": 41,
   "id": "4b4f3b16-4cb0-4f89-9483-5ba137c240eb",
   "metadata": {
    "tags": []
   },
   "outputs": [],
   "source": [
    "base_url = r'https://collectionapi.metmuseum.org/public/collection/v1/'\n",
    "search_endpoint = r'search?'\n",
    "object_endpoint = r'objects/'"
   ]
  },
  {
   "cell_type": "markdown",
   "id": "e40560fb-4ca9-48c9-97d2-9dce1e24cb25",
   "metadata": {},
   "source": [
    "#### Задание 1\n",
    "Найти все произведения, связанные с подсолнухами. Выполните поиск по слову \"sunflowers\". Внимательно посмотрите на формат ответа и сохраните id полученных объектов в список sunflower_ids."
   ]
  },
  {
   "cell_type": "code",
   "execution_count": 33,
   "id": "b40fe509-e1a2-4285-9a37-0c6e329701d6",
   "metadata": {
    "tags": []
   },
   "outputs": [
    {
     "data": {
      "text/plain": [
       "<Response [200]>"
      ]
     },
     "execution_count": 33,
     "metadata": {},
     "output_type": "execute_result"
    }
   ],
   "source": [
    "my_req = requests.get(url=base_url+search_endpoint, params={'q': 'sunflowers'})\n",
    "my_req"
   ]
  },
  {
   "cell_type": "code",
   "execution_count": 35,
   "id": "79b3d964-2013-4c7d-bbe3-7289b0adbd9a",
   "metadata": {
    "tags": []
   },
   "outputs": [
    {
     "data": {
      "text/plain": [
       "'{\"total\":93,\"objectIDs\":[436524,484935,437112,210191,431264,397949,656530,480725,486590,485308,375281,705155,11922,343052,20141,347980,208554,403496,360837,207869,437115,400581,423400,707887,223828,682927,57922,79739,193938,649813,339347,208218,202228,437984,761604,696949,704667,822589,822590,437329,363282,207753,822570,816522,487043,436252,203893,436580,367434,190739,2032,423237,262423,839296,437526,367817,13644,18362,820022,648617,761731,814626,892559,207967,626832,2019,701016,262430,262428,841928,262378,707697,205386,426804,436535,633526,369073,747779,436529,436121,852414,427872,895564,436144,436530,436534,724844,437980,396836,631808,834765,834580,834585]}'"
      ]
     },
     "execution_count": 35,
     "metadata": {},
     "output_type": "execute_result"
    }
   ],
   "source": [
    "# Content of the response, in unicode.\n",
    "my_req.text"
   ]
  },
  {
   "cell_type": "code",
   "execution_count": 36,
   "id": "7f8b7576-97f1-41a4-bbe7-0cff4a5e3da2",
   "metadata": {
    "tags": []
   },
   "outputs": [],
   "source": [
    "# Returns the json-encoded content of a response, if any\n",
    "data = my_req.json()"
   ]
  },
  {
   "cell_type": "code",
   "execution_count": 38,
   "id": "dacd1706-84e5-4b42-84ab-5c32cb8e3d5b",
   "metadata": {
    "tags": []
   },
   "outputs": [
    {
     "data": {
      "text/plain": [
       "list"
      ]
     },
     "execution_count": 38,
     "metadata": {},
     "output_type": "execute_result"
    }
   ],
   "source": [
    "sunflower_ids = data['objectIDs']\n",
    "type(sunflower_ids)"
   ]
  },
  {
   "cell_type": "code",
   "execution_count": 40,
   "id": "c42297c4-1b52-4ffe-89ff-8ec15310a050",
   "metadata": {
    "tags": []
   },
   "outputs": [
    {
     "name": "stdout",
     "output_type": "stream",
     "text": [
      "Is 20149 is in the list? False\n",
      "Is 437329 is in the list? True\n",
      "Is 16822570 is in the list? False\n",
      "Is 2032 is in the list? True\n",
      "Is 436524 is in the list? True\n"
     ]
    }
   ],
   "source": [
    "required_ids = [20149, 437329, 16822570, 2032, 436524]\n",
    "for id in required_ids:\n",
    "    print(f\"Is {id} is in the list? {id in sunflower_ids}\")"
   ]
  },
  {
   "cell_type": "markdown",
   "id": "8b5f7249-94b8-4475-aa37-319d294ff944",
   "metadata": {},
   "source": [
    "#### Задание 2\n",
    "Отлично! На предыдущем шаге мы получили результаты поиска. Следущий этап – собрать информацию об этих объектах.\n",
    "\n",
    "Выполните запрос для объекта 437980."
   ]
  },
  {
   "cell_type": "code",
   "execution_count": 43,
   "id": "dab241c3-d2ba-4d77-bc65-51d1f516aef1",
   "metadata": {
    "tags": []
   },
   "outputs": [
    {
     "data": {
      "text/plain": [
       "<Response [200]>"
      ]
     },
     "execution_count": 43,
     "metadata": {},
     "output_type": "execute_result"
    }
   ],
   "source": [
    "my_req = requests.get(url=base_url+object_endpoint+'437980')\n",
    "my_req"
   ]
  },
  {
   "cell_type": "code",
   "execution_count": null,
   "id": "340b4bc9-d2dc-404f-8b9d-934f83704d98",
   "metadata": {
    "tags": []
   },
   "outputs": [],
   "source": [
    "# Returns the json-encoded content of a response, if any\n",
    "data = my_req.json()\n",
    "data"
   ]
  },
  {
   "cell_type": "code",
   "execution_count": 45,
   "id": "75d0ed25-34ca-4f3a-8b20-560ea29f0127",
   "metadata": {
    "tags": []
   },
   "outputs": [
    {
     "name": "stdout",
     "output_type": "stream",
     "text": [
      "artistDisplayName: Vincent van Gogh\n",
      "title: Cypresses\n",
      "culture: \n",
      "objectName: Painting\n",
      "objectID: 437980\n",
      "department: European Paintings\n"
     ]
    }
   ],
   "source": [
    "required_fields = ['artistDisplayName', 'title', 'culture', 'objectName',\n",
    "                   'objectID', 'department']\n",
    "\n",
    "for field in required_fields:\n",
    "        print(f'{field}: {data[field]}')"
   ]
  },
  {
   "cell_type": "markdown",
   "id": "f1e9cd56-62fe-4e7a-971b-45fb06c858a4",
   "metadata": {},
   "source": [
    "#### Задание 3\n",
    "Теперь напишите цикл, с помощью которого будет собрана информация об объектах, которые были получены на 2 шаге. Запишите в DataFrame следующие параметры:\n",
    "* objectID – id объекта\n",
    "* title – название\n",
    "* artistDisplayName – автор\n",
    "* department – департамент\n",
    "* objectBeginDate – дата (начало)\n",
    "* objectEndDate – дата (конец)\n",
    "* period – название периода\n",
    "* objectName – название/категория объекта\n",
    "* culture – культура\n",
    "\n",
    "Сколько объектов относятся к японской культуре? (culture – Japan)"
   ]
  },
  {
   "cell_type": "code",
   "execution_count": 64,
   "id": "7f222b28-ed61-4098-87a6-66d4821e86c8",
   "metadata": {
    "tags": []
   },
   "outputs": [
    {
     "data": {
      "text/plain": [
       "{'objectID': [],\n",
       " 'title': [],\n",
       " 'artistDisplayName': [],\n",
       " 'department': [],\n",
       " 'objectBeginDate': [],\n",
       " 'objectEndDate': [],\n",
       " 'period': [],\n",
       " 'objectName': [],\n",
       " 'culture': []}"
      ]
     },
     "execution_count": 64,
     "metadata": {},
     "output_type": "execute_result"
    }
   ],
   "source": [
    "sunflower_dict = {'objectID':[], 'title':[], 'artistDisplayName': [],\n",
    "                  'department': [], 'objectBeginDate': [], 'objectEndDate': [],\n",
    "                  'period': [], 'objectName': [], 'culture': []}\n",
    "sunflower_dict"
   ]
  },
  {
   "cell_type": "code",
   "execution_count": 65,
   "id": "f7efe29b-258f-474e-b702-bdf19937deb5",
   "metadata": {
    "collapsed": true,
    "jupyter": {
     "outputs_hidden": true
    },
    "tags": []
   },
   "outputs": [
    {
     "name": "stdout",
     "output_type": "stream",
     "text": [
      "Somethings is wrong with 696949!\n",
      "Somethings is wrong with 696949!\n",
      "Somethings is wrong with 696949!\n",
      "Somethings is wrong with 696949!\n",
      "Somethings is wrong with 696949!\n",
      "Somethings is wrong with 696949!\n",
      "Somethings is wrong with 696949!\n",
      "Somethings is wrong with 696949!\n",
      "Somethings is wrong with 696949!\n",
      "Somethings is wrong with 704667!\n",
      "Somethings is wrong with 704667!\n",
      "Somethings is wrong with 704667!\n",
      "Somethings is wrong with 704667!\n",
      "Somethings is wrong with 704667!\n",
      "Somethings is wrong with 704667!\n",
      "Somethings is wrong with 704667!\n",
      "Somethings is wrong with 704667!\n",
      "Somethings is wrong with 704667!\n",
      "Somethings is wrong with 839296!\n",
      "Somethings is wrong with 839296!\n",
      "Somethings is wrong with 839296!\n",
      "Somethings is wrong with 839296!\n",
      "Somethings is wrong with 839296!\n",
      "Somethings is wrong with 839296!\n",
      "Somethings is wrong with 839296!\n",
      "Somethings is wrong with 839296!\n",
      "Somethings is wrong with 839296!\n",
      "Somethings is wrong with 841928!\n",
      "Somethings is wrong with 841928!\n",
      "Somethings is wrong with 841928!\n",
      "Somethings is wrong with 841928!\n",
      "Somethings is wrong with 841928!\n",
      "Somethings is wrong with 841928!\n",
      "Somethings is wrong with 841928!\n",
      "Somethings is wrong with 841928!\n",
      "Somethings is wrong with 841928!\n",
      "Somethings is wrong with 631808!\n",
      "Somethings is wrong with 631808!\n",
      "Somethings is wrong with 631808!\n",
      "Somethings is wrong with 631808!\n",
      "Somethings is wrong with 631808!\n",
      "Somethings is wrong with 631808!\n",
      "Somethings is wrong with 631808!\n",
      "Somethings is wrong with 631808!\n",
      "Somethings is wrong with 631808!\n"
     ]
    }
   ],
   "source": [
    "for sun_id in sunflower_ids:\n",
    "    cur_req = requests.get(url=base_url+object_endpoint+str(sun_id))\n",
    "    cur_data = cur_req.json()\n",
    "    for key in sunflower_dict.keys():\n",
    "        try:\n",
    "            sunflower_dict[key].append(cur_data[key])\n",
    "        except KeyError:\n",
    "            print('Somethings is wrong with {}!'.format(sun_id))\n",
    "            # continue\n",
    "\n",
    "# sunflower_dict"
   ]
  },
  {
   "cell_type": "code",
   "execution_count": 66,
   "id": "47824624-94fa-46b5-a65d-f09c58a05984",
   "metadata": {
    "tags": []
   },
   "outputs": [
    {
     "data": {
      "text/html": [
       "<div>\n",
       "<style scoped>\n",
       "    .dataframe tbody tr th:only-of-type {\n",
       "        vertical-align: middle;\n",
       "    }\n",
       "\n",
       "    .dataframe tbody tr th {\n",
       "        vertical-align: top;\n",
       "    }\n",
       "\n",
       "    .dataframe thead th {\n",
       "        text-align: right;\n",
       "    }\n",
       "</style>\n",
       "<table border=\"1\" class=\"dataframe\">\n",
       "  <thead>\n",
       "    <tr style=\"text-align: right;\">\n",
       "      <th></th>\n",
       "      <th>objectID</th>\n",
       "      <th>title</th>\n",
       "      <th>artistDisplayName</th>\n",
       "      <th>department</th>\n",
       "      <th>objectBeginDate</th>\n",
       "      <th>objectEndDate</th>\n",
       "      <th>period</th>\n",
       "      <th>objectName</th>\n",
       "      <th>culture</th>\n",
       "    </tr>\n",
       "  </thead>\n",
       "  <tbody>\n",
       "    <tr>\n",
       "      <th>0</th>\n",
       "      <td>436524</td>\n",
       "      <td>Sunflowers</td>\n",
       "      <td>Vincent van Gogh</td>\n",
       "      <td>European Paintings</td>\n",
       "      <td>1887</td>\n",
       "      <td>1887</td>\n",
       "      <td></td>\n",
       "      <td>Painting</td>\n",
       "      <td></td>\n",
       "    </tr>\n",
       "    <tr>\n",
       "      <th>1</th>\n",
       "      <td>484935</td>\n",
       "      <td>Sunflowers</td>\n",
       "      <td>Edward McKnight Kauffer</td>\n",
       "      <td>Modern and Contemporary Art</td>\n",
       "      <td>1921</td>\n",
       "      <td>1921</td>\n",
       "      <td></td>\n",
       "      <td>Painting</td>\n",
       "      <td></td>\n",
       "    </tr>\n",
       "    <tr>\n",
       "      <th>2</th>\n",
       "      <td>437112</td>\n",
       "      <td>Bouquet of Sunflowers</td>\n",
       "      <td>Claude Monet</td>\n",
       "      <td>European Paintings</td>\n",
       "      <td>1881</td>\n",
       "      <td>1881</td>\n",
       "      <td></td>\n",
       "      <td>Painting</td>\n",
       "      <td></td>\n",
       "    </tr>\n",
       "    <tr>\n",
       "      <th>3</th>\n",
       "      <td>210191</td>\n",
       "      <td>Vase with sunflowers</td>\n",
       "      <td>Rozenburg Plateelfabriek</td>\n",
       "      <td>European Sculpture and Decorative Arts</td>\n",
       "      <td>1896</td>\n",
       "      <td>1896</td>\n",
       "      <td></td>\n",
       "      <td>Vase</td>\n",
       "      <td></td>\n",
       "    </tr>\n",
       "    <tr>\n",
       "      <th>4</th>\n",
       "      <td>431264</td>\n",
       "      <td>Sunflowers</td>\n",
       "      <td>Lily Converse</td>\n",
       "      <td>Drawings and Prints</td>\n",
       "      <td>1941</td>\n",
       "      <td>1941</td>\n",
       "      <td></td>\n",
       "      <td>Print</td>\n",
       "      <td></td>\n",
       "    </tr>\n",
       "    <tr>\n",
       "      <th>...</th>\n",
       "      <td>...</td>\n",
       "      <td>...</td>\n",
       "      <td>...</td>\n",
       "      <td>...</td>\n",
       "      <td>...</td>\n",
       "      <td>...</td>\n",
       "      <td>...</td>\n",
       "      <td>...</td>\n",
       "      <td>...</td>\n",
       "    </tr>\n",
       "    <tr>\n",
       "      <th>83</th>\n",
       "      <td>437980</td>\n",
       "      <td>Cypresses</td>\n",
       "      <td>Vincent van Gogh</td>\n",
       "      <td>European Paintings</td>\n",
       "      <td>1889</td>\n",
       "      <td>1889</td>\n",
       "      <td></td>\n",
       "      <td>Painting</td>\n",
       "      <td></td>\n",
       "    </tr>\n",
       "    <tr>\n",
       "      <th>84</th>\n",
       "      <td>396836</td>\n",
       "      <td>The Aesthetic Craze</td>\n",
       "      <td>Currier &amp; Ives</td>\n",
       "      <td>Drawings and Prints</td>\n",
       "      <td>1882</td>\n",
       "      <td>1882</td>\n",
       "      <td></td>\n",
       "      <td>Print</td>\n",
       "      <td></td>\n",
       "    </tr>\n",
       "    <tr>\n",
       "      <th>85</th>\n",
       "      <td>834765</td>\n",
       "      <td>A Child's Garden, from \"Picture Poesies\"</td>\n",
       "      <td>Arthur Boyd Houghton</td>\n",
       "      <td>Drawings and Prints</td>\n",
       "      <td>1865</td>\n",
       "      <td>1874</td>\n",
       "      <td></td>\n",
       "      <td>Print</td>\n",
       "      <td></td>\n",
       "    </tr>\n",
       "    <tr>\n",
       "      <th>86</th>\n",
       "      <td>834580</td>\n",
       "      <td>A Life in a Year–The Garden–Noon, from \"Pictur...</td>\n",
       "      <td>Arthur Boyd Houghton</td>\n",
       "      <td>Drawings and Prints</td>\n",
       "      <td>1866</td>\n",
       "      <td>1874</td>\n",
       "      <td></td>\n",
       "      <td>Print</td>\n",
       "      <td></td>\n",
       "    </tr>\n",
       "    <tr>\n",
       "      <th>87</th>\n",
       "      <td>834585</td>\n",
       "      <td>A Life in a Year–The Garden–Noon, from \"Pictur...</td>\n",
       "      <td>Arthur Boyd Houghton</td>\n",
       "      <td>Drawings and Prints</td>\n",
       "      <td>1866</td>\n",
       "      <td>1874</td>\n",
       "      <td></td>\n",
       "      <td>Print</td>\n",
       "      <td></td>\n",
       "    </tr>\n",
       "  </tbody>\n",
       "</table>\n",
       "<p>88 rows × 9 columns</p>\n",
       "</div>"
      ],
      "text/plain": [
       "    objectID                                              title  \\\n",
       "0     436524                                         Sunflowers   \n",
       "1     484935                                         Sunflowers   \n",
       "2     437112                              Bouquet of Sunflowers   \n",
       "3     210191                               Vase with sunflowers   \n",
       "4     431264                                         Sunflowers   \n",
       "..       ...                                                ...   \n",
       "83    437980                                          Cypresses   \n",
       "84    396836                                The Aesthetic Craze   \n",
       "85    834765           A Child's Garden, from \"Picture Poesies\"   \n",
       "86    834580  A Life in a Year–The Garden–Noon, from \"Pictur...   \n",
       "87    834585  A Life in a Year–The Garden–Noon, from \"Pictur...   \n",
       "\n",
       "           artistDisplayName                              department  \\\n",
       "0           Vincent van Gogh                      European Paintings   \n",
       "1    Edward McKnight Kauffer             Modern and Contemporary Art   \n",
       "2               Claude Monet                      European Paintings   \n",
       "3   Rozenburg Plateelfabriek  European Sculpture and Decorative Arts   \n",
       "4              Lily Converse                     Drawings and Prints   \n",
       "..                       ...                                     ...   \n",
       "83          Vincent van Gogh                      European Paintings   \n",
       "84            Currier & Ives                     Drawings and Prints   \n",
       "85      Arthur Boyd Houghton                     Drawings and Prints   \n",
       "86      Arthur Boyd Houghton                     Drawings and Prints   \n",
       "87      Arthur Boyd Houghton                     Drawings and Prints   \n",
       "\n",
       "    objectBeginDate  objectEndDate period objectName culture  \n",
       "0              1887           1887          Painting          \n",
       "1              1921           1921          Painting          \n",
       "2              1881           1881          Painting          \n",
       "3              1896           1896              Vase          \n",
       "4              1941           1941             Print          \n",
       "..              ...            ...    ...        ...     ...  \n",
       "83             1889           1889          Painting          \n",
       "84             1882           1882             Print          \n",
       "85             1865           1874             Print          \n",
       "86             1866           1874             Print          \n",
       "87             1866           1874             Print          \n",
       "\n",
       "[88 rows x 9 columns]"
      ]
     },
     "execution_count": 66,
     "metadata": {},
     "output_type": "execute_result"
    }
   ],
   "source": [
    "sunflower_df = pd.DataFrame(data=sunflower_dict)\n",
    "sunflower_df.head()"
   ]
  },
  {
   "cell_type": "code",
   "execution_count": 68,
   "id": "17bf9d31-f189-4500-9ca1-6656347433c9",
   "metadata": {
    "tags": []
   },
   "outputs": [
    {
     "data": {
      "text/plain": [
       "1"
      ]
     },
     "execution_count": 68,
     "metadata": {},
     "output_type": "execute_result"
    }
   ],
   "source": [
    "n_japan = ((sunflower_df['culture']=='Japan').sum())\n",
    "n_japan"
   ]
  },
  {
   "cell_type": "markdown",
   "id": "4d62e603-e04b-4554-a829-41676aeaaa76",
   "metadata": {
    "tags": []
   },
   "source": [
    "#### Задание 4\n",
    "Теперь попробуем построить более сложный запрос с помощью секции \"Search\"! На этот раз параметры необходимо передать через \"&\", например, departmentId (id департамента – 1) и q (ключевое слово – cat):\n",
    "\n",
    "r =requests.get('https://collectionapi.metmuseum.org/public/collection/v1/search?departmentId=1&q=cat')\n",
    "<br>cats = r.json()\n",
    "\n",
    "\n",
    "Выполните поисковый запрос для департамента \"Asian art\" (departmentId = 6) с тегом \"cat\" и запишите id объектов в cat_ids. Используйте цикл из шага 4, чтобы получить данные о первой 1000 объектов из списка.\n",
    "\n",
    "Note: выполнение цикла может занять некоторое время (~5 минут), поэтому проверять его работоспособность лучше на более маленькой выборке!\n",
    "\n",
    "В качестве ответа укажите, в каком периоде (period) было выполнено наибольшее количество работ, представленных в музее?"
   ]
  },
  {
   "cell_type": "code",
   "execution_count": 81,
   "id": "8d2216e2-1790-4f46-92a7-3379eb2ad2e0",
   "metadata": {
    "tags": []
   },
   "outputs": [
    {
     "data": {
      "text/plain": [
       "<Response [200]>"
      ]
     },
     "execution_count": 81,
     "metadata": {},
     "output_type": "execute_result"
    }
   ],
   "source": [
    "my_req = requests.get(url=base_url+search_endpoint, params={'departmentId': 6,\n",
    "                                                            'q': 'cat'})\n",
    "my_req"
   ]
  },
  {
   "cell_type": "code",
   "execution_count": 82,
   "id": "2b306e9a-e399-4043-aab2-4de9747e192e",
   "metadata": {
    "tags": []
   },
   "outputs": [
    {
     "data": {
      "text/plain": [
       "{'objectID': [],\n",
       " 'title': [],\n",
       " 'artistDisplayName': [],\n",
       " 'department': [],\n",
       " 'objectBeginDate': [],\n",
       " 'objectEndDate': [],\n",
       " 'period': [],\n",
       " 'objectName': [],\n",
       " 'culture': []}"
      ]
     },
     "execution_count": 82,
     "metadata": {},
     "output_type": "execute_result"
    }
   ],
   "source": [
    "cats_ids = my_req.json()['objectIDs']\n",
    "# cats_ids\n",
    "\n",
    "cats_dict = {'objectID': [], 'title': [], 'artistDisplayName': [],\n",
    "             'department': [], 'objectBeginDate': [], 'objectEndDate': [],\n",
    "             'period': [], 'objectName': [], 'culture': []}\n",
    "cats_dict"
   ]
  },
  {
   "cell_type": "code",
   "execution_count": 83,
   "id": "75353cae-e7d2-4a47-9d73-a089761bcd16",
   "metadata": {
    "tags": []
   },
   "outputs": [],
   "source": [
    "for i in range(1000):\n",
    "    cur_req = requests.get(url=base_url+object_endpoint+str(cats_ids[i]))\n",
    "    cur_data = cur_req.json()\n",
    "    for key in cats_dict.keys():\n",
    "        try:\n",
    "            cats_dict[key].append(cur_data[key])\n",
    "        except KeyError:\n",
    "            print('Somethings is wrong with {}!'.format(cats_ids[i]))"
   ]
  },
  {
   "cell_type": "code",
   "execution_count": 84,
   "id": "d84b166e-64fa-43c2-ace8-4bbf88ba1454",
   "metadata": {
    "tags": []
   },
   "outputs": [
    {
     "data": {
      "text/html": [
       "<div>\n",
       "<style scoped>\n",
       "    .dataframe tbody tr th:only-of-type {\n",
       "        vertical-align: middle;\n",
       "    }\n",
       "\n",
       "    .dataframe tbody tr th {\n",
       "        vertical-align: top;\n",
       "    }\n",
       "\n",
       "    .dataframe thead th {\n",
       "        text-align: right;\n",
       "    }\n",
       "</style>\n",
       "<table border=\"1\" class=\"dataframe\">\n",
       "  <thead>\n",
       "    <tr style=\"text-align: right;\">\n",
       "      <th></th>\n",
       "      <th>objectID</th>\n",
       "      <th>title</th>\n",
       "      <th>artistDisplayName</th>\n",
       "      <th>department</th>\n",
       "      <th>objectBeginDate</th>\n",
       "      <th>objectEndDate</th>\n",
       "      <th>period</th>\n",
       "      <th>objectName</th>\n",
       "      <th>culture</th>\n",
       "    </tr>\n",
       "  </thead>\n",
       "  <tbody>\n",
       "    <tr>\n",
       "      <th>0</th>\n",
       "      <td>49698</td>\n",
       "      <td>Cat</td>\n",
       "      <td>Zhang Yuguang</td>\n",
       "      <td>Asian Art</td>\n",
       "      <td>1900</td>\n",
       "      <td>1968</td>\n",
       "      <td></td>\n",
       "      <td>Folding fan mounted as an album leaf</td>\n",
       "      <td>China</td>\n",
       "    </tr>\n",
       "    <tr>\n",
       "      <th>1</th>\n",
       "      <td>49470</td>\n",
       "      <td>Cat</td>\n",
       "      <td>Wang Li</td>\n",
       "      <td>Asian Art</td>\n",
       "      <td>1813</td>\n",
       "      <td>1879</td>\n",
       "      <td>Qing dynasty (1644–1911)</td>\n",
       "      <td>Hanging scroll</td>\n",
       "      <td>China</td>\n",
       "    </tr>\n",
       "    <tr>\n",
       "      <th>2</th>\n",
       "      <td>36221</td>\n",
       "      <td>Cat</td>\n",
       "      <td>Wang Yun</td>\n",
       "      <td>Asian Art</td>\n",
       "      <td>1900</td>\n",
       "      <td>1933</td>\n",
       "      <td></td>\n",
       "      <td>Hanging scroll</td>\n",
       "      <td>China</td>\n",
       "    </tr>\n",
       "    <tr>\n",
       "      <th>3</th>\n",
       "      <td>53222</td>\n",
       "      <td>Musk Cat</td>\n",
       "      <td>Uto Gyoshi</td>\n",
       "      <td>Asian Art</td>\n",
       "      <td>1550</td>\n",
       "      <td>1599</td>\n",
       "      <td>Muromachi period (1392–1573)</td>\n",
       "      <td>Hanging scroll</td>\n",
       "      <td>Japan</td>\n",
       "    </tr>\n",
       "    <tr>\n",
       "      <th>4</th>\n",
       "      <td>60873</td>\n",
       "      <td>Head ornament</td>\n",
       "      <td></td>\n",
       "      <td>Asian Art</td>\n",
       "      <td>960</td>\n",
       "      <td>1279</td>\n",
       "      <td>Song dynasty (960–1279) or later</td>\n",
       "      <td>Head ornament</td>\n",
       "      <td>China</td>\n",
       "    </tr>\n",
       "  </tbody>\n",
       "</table>\n",
       "</div>"
      ],
      "text/plain": [
       "   objectID          title artistDisplayName department  objectBeginDate  \\\n",
       "0     49698            Cat     Zhang Yuguang  Asian Art             1900   \n",
       "1     49470            Cat           Wang Li  Asian Art             1813   \n",
       "2     36221            Cat          Wang Yun  Asian Art             1900   \n",
       "3     53222       Musk Cat        Uto Gyoshi  Asian Art             1550   \n",
       "4     60873  Head ornament                    Asian Art              960   \n",
       "\n",
       "   objectEndDate                            period  \\\n",
       "0           1968                                     \n",
       "1           1879          Qing dynasty (1644–1911)   \n",
       "2           1933                                     \n",
       "3           1599      Muromachi period (1392–1573)   \n",
       "4           1279  Song dynasty (960–1279) or later   \n",
       "\n",
       "                             objectName culture  \n",
       "0  Folding fan mounted as an album leaf   China  \n",
       "1                        Hanging scroll   China  \n",
       "2                        Hanging scroll   China  \n",
       "3                        Hanging scroll   Japan  \n",
       "4                         Head ornament   China  "
      ]
     },
     "execution_count": 84,
     "metadata": {},
     "output_type": "execute_result"
    }
   ],
   "source": [
    "cats_df = pd.DataFrame(data=cats_dict)\n",
    "cats_df.head()"
   ]
  },
  {
   "cell_type": "code",
   "execution_count": 90,
   "id": "c41401bf-ba40-4d5d-9407-02b54d0b7a11",
   "metadata": {
    "tags": []
   },
   "outputs": [
    {
     "data": {
      "text/plain": [
       "period\n",
       "Edo period (1615–1868)    275\n",
       "Name: count, dtype: int64"
      ]
     },
     "execution_count": 90,
     "metadata": {},
     "output_type": "execute_result"
    }
   ],
   "source": [
    "cats_df['period'].value_counts().head(1)"
   ]
  }
 ],
 "metadata": {
  "kernelspec": {
   "display_name": "Python [conda env:sandbox]",
   "language": "python",
   "name": "conda-env-sandbox-py"
  },
  "language_info": {
   "codemirror_mode": {
    "name": "ipython",
    "version": 3
   },
   "file_extension": ".py",
   "mimetype": "text/x-python",
   "name": "python",
   "nbconvert_exporter": "python",
   "pygments_lexer": "ipython3",
   "version": "3.10.13"
  }
 },
 "nbformat": 4,
 "nbformat_minor": 5
}
